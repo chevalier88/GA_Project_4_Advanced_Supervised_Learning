{
 "cells": [
  {
   "cell_type": "markdown",
   "metadata": {},
   "source": [
    "<img src=\"http://imgur.com/1ZcRyrc.png\" style=\"float: left; margin: 20px; height: 55px\">\n",
    "\n",
    "# Insert Project Title Here\n",
    "\n",
    "_Author: Evonne Tham_\n",
    "\n",
    "---\n"
   ]
  },
  {
   "cell_type": "markdown",
   "metadata": {},
   "source": [
    "## Problem Statement"
   ]
  },
  {
   "cell_type": "markdown",
   "metadata": {},
   "source": [
    "## Executive Summary\n",
    "\n",
    "#### - The opener\n",
    "\n",
    "#### - The need\n",
    "\n",
    "#### - Findings\n",
    "\n",
    "#### - The Evidence \n",
    "\n",
    "#### - Call to Action"
   ]
  },
  {
   "cell_type": "markdown",
   "metadata": {},
   "source": [
    "## Data Dictionary\n",
    "\n",
    "------\n",
    "\n",
    "|Feature|Type|Dataset|Description|\n",
    "|---|---|---|---|\n",
    "|column_name|*object/float/int*|df_name|Lorem ipsum dolor sit amet, consectetur adipisicing elit. |\n",
    "|column_name|*object/float/int*|df_name|Lorem ipsum dolor sit amet, consectetur adipisicing elit. |\n",
    "|column_name|*object/float/int*|df_name|Lorem ipsum dolor sit amet, consectetur adipisicing elit. |\n",
    "|column_name|*object/float/int*|df_name|Lorem ipsum dolor sit amet, consectetur adipisicing elit. |\n",
    "|column_name|*object/float/int*|df_name|Lorem ipsum dolor sit amet, consectetur adipisicing elit. |\n",
    "|column_name|*object/float/int*|df_name|Lorem ipsum dolor sit amet, consectetur adipisicing elit. |\n",
    "|column_name|*object/float/int*|df_name|Lorem ipsum dolor sit amet, consectetur adipisicing elit. |\n",
    "|column_name|*object/float/int*|df_name|Lorem ipsum dolor sit amet, consectetur adipisicing elit. |\n",
    "|column_name|*object/float/int*|df_name|Lorem ipsum dolor sit amet, consectetur adipisicing elit. |\n",
    "|column_name|*object/float/int*|df_name|Lorem ipsum dolor sit amet, consectetur adipisicing elit. |\n",
    "|column_name|*object/float/int*|df_name|Lorem ipsum dolor sit amet, consectetur adipisicing elit. |\n",
    "|column_name|*object/float/int*|df_name|Lorem ipsum dolor sit amet, consectetur adipisicing elit. |\n",
    "|column_name|*object/float/int*|df_name|Lorem ipsum dolor sit amet, consectetur adipisicing elit. |\n",
    "|column_name|*object/float/int*|df_name|Lorem ipsum dolor sit amet, consectetur adipisicing elit. |\n",
    "|column_name|*object/float/int*|df_name|Lorem ipsum dolor sit amet, consectetur adipisicing elit. |"
   ]
  },
  {
   "cell_type": "markdown",
   "metadata": {},
   "source": [
    "## Conclusion and Recommendation \n"
   ]
  },
  {
   "cell_type": "code",
   "execution_count": null,
   "metadata": {},
   "outputs": [],
   "source": []
  }
 ],
 "metadata": {
  "kernelspec": {
   "display_name": "Python 3",
   "language": "python",
   "name": "python3"
  },
  "language_info": {
   "codemirror_mode": {
    "name": "ipython",
    "version": 3
   },
   "file_extension": ".py",
   "mimetype": "text/x-python",
   "name": "python",
   "nbconvert_exporter": "python",
   "pygments_lexer": "ipython3",
   "version": "3.7.4"
  }
 },
 "nbformat": 4,
 "nbformat_minor": 2
}
