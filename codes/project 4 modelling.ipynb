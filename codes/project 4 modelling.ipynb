{
 "cells": [
  {
   "cell_type": "markdown",
   "metadata": {},
   "source": [
    "#### Model Selection - fixed learning method\n",
    "\n",
    "1. Split the data into train, test, and validation.\n",
    "2. Train as many models as there are hyperparameter combinations on the train set. \n",
    "3. Evaluate each of these models on the validation set.\n",
    "4. Select the model with the best performance on the validation set. \n",
    "5. Retrain the model on the combined train + validation sets using 'winning' hyperparameter combination.\n",
    "6. Estimate generalisation performance on the test set. If the test error is similar to the validation error then we have belief that this model will generalise well to unseen data.\n",
    "7. Finally retrain the model with the choosen hyperparameters on the entire set before production. "
   ]
  },
  {
   "cell_type": "markdown",
   "metadata": {},
   "source": [
    "The following code and comments have been taken from: https://github.com/esentri/datascience_blog_resources/blob/master/model_selection.ipynb"
   ]
  },
  {
   "cell_type": "markdown",
   "metadata": {},
   "source": [
    "# Imports"
   ]
  },
  {
   "cell_type": "code",
   "execution_count": 4,
   "metadata": {},
   "outputs": [],
   "source": [
    "#usual imports for sklearn modelling \n",
    "import numpy as np\n",
    "import pandas as pd\n",
    "import matplotlib.pyplot as plt\n",
    "import seaborn as sns\n",
    "\n",
    "from sklearn.model_selection import GridSearchCV\n",
    "from sklearn.model_selection import train_test_split\n",
    "from sklearn.pipeline import Pipeline\n",
    "from sklearn.preprocessing import RobustScaler\n",
    "from sklearn.model_selection import cross_val_score\n",
    "\n",
    "#advanced supervised classification models for wnv virus detection\n",
    "from sklearn.neighbors import KNeighborsClassifier\n",
    "from sklearn.ensemble import RandomForestClassifier, GradientBoostingClassifier, AdaBoostClassifier\n",
    "from sklearn.tree import DecisionTreeClassifier\n",
    "from sklearn import svm\n",
    "from sklearn.svm import SVC\n",
    "from xgboost import XGBClassifier\n",
    "\n",
    "#classification metrics imports \n",
    "from sklearn.metrics import accuracy_score\n",
    "from sklearn.metrics import confusion_matrix, classification_report,roc_auc_score\n",
    "from sklearn.metrics import f1_score\n",
    "from sklearn import metrics"
   ]
  },
  {
   "cell_type": "markdown",
   "metadata": {},
   "source": [
    "**Please also type `pip install plotly` in command line and import the following below;\n",
    "For XGBoost, please also type in terminal: `brew install libomp` AND `pip install xgboost`.**"
   ]
  },
  {
   "cell_type": "code",
   "execution_count": 5,
   "metadata": {},
   "outputs": [
    {
     "name": "stdout",
     "output_type": "stream",
     "text": [
      "4.8.1\n"
     ]
    },
    {
     "data": {
      "text/html": [
       "        <script type=\"text/javascript\">\n",
       "        window.PlotlyConfig = {MathJaxConfig: 'local'};\n",
       "        if (window.MathJax) {MathJax.Hub.Config({SVG: {font: \"STIX-Web\"}});}\n",
       "        if (typeof require !== 'undefined') {\n",
       "        require.undef(\"plotly\");\n",
       "        requirejs.config({\n",
       "            paths: {\n",
       "                'plotly': ['https://cdn.plot.ly/plotly-latest.min']\n",
       "            }\n",
       "        });\n",
       "        require(['plotly'], function(Plotly) {\n",
       "            window._Plotly = Plotly;\n",
       "        });\n",
       "        }\n",
       "        </script>\n",
       "        "
      ]
     },
     "metadata": {},
     "output_type": "display_data"
    },
    {
     "data": {
      "text/html": [
       "        <script type=\"text/javascript\">\n",
       "        window.PlotlyConfig = {MathJaxConfig: 'local'};\n",
       "        if (window.MathJax) {MathJax.Hub.Config({SVG: {font: \"STIX-Web\"}});}\n",
       "        if (typeof require !== 'undefined') {\n",
       "        require.undef(\"plotly\");\n",
       "        requirejs.config({\n",
       "            paths: {\n",
       "                'plotly': ['https://cdn.plot.ly/plotly-latest.min']\n",
       "            }\n",
       "        });\n",
       "        require(['plotly'], function(Plotly) {\n",
       "            window._Plotly = Plotly;\n",
       "        });\n",
       "        }\n",
       "        </script>\n",
       "        "
      ]
     },
     "metadata": {},
     "output_type": "display_data"
    }
   ],
   "source": [
    "#We will then be importing these libraries: \n",
    "\n",
    "from plotly import __version__\n",
    "from plotly.offline import download_plotlyjs, init_notebook_mode, plot, iplot\n",
    "import plotly.express as px\n",
    "\n",
    "print(__version__)\n",
    "#learnt this from \n",
    "#https://towardsdatascience.com/interactive-distribution-plots-with-plotly-ea58efc78885\n",
    "\n",
    "import cufflinks as cf\n",
    "#we have to make sure this code is run for Jupyter Notebooks otherwise the plots may not happen:\n",
    "\n",
    "init_notebook_mode(connected=True)\n",
    "\n",
    "#we have to make sure this code is run otherwise the visualizations won't run offline:\n",
    "cf.go_offline()"
   ]
  },
  {
   "cell_type": "markdown",
   "metadata": {},
   "source": [
    "# Data Importing and Final Clean"
   ]
  },
  {
   "cell_type": "code",
   "execution_count": 6,
   "metadata": {},
   "outputs": [],
   "source": [
    "#reading in our train set\n",
    "train = pd.read_csv(\"../assets/final_train.csv\", index_col=0)\n",
    "test = pd.read_csv(\"../assets/final_test.csv\")"
   ]
  },
  {
   "cell_type": "code",
   "execution_count": 7,
   "metadata": {},
   "outputs": [
    {
     "name": "stdout",
     "output_type": "stream",
     "text": [
      "number of null values: 0\n"
     ]
    },
    {
     "data": {
      "image/png": "[encoded data removed]",
      "text/plain": [
       "<Figure size 432x288 with 1 Axes>"
      ]
     },
     "metadata": {
      "needs_background": "light"
     },
     "output_type": "display_data"
    }
   ],
   "source": [
    "#double checking no null values in train visually and numerically - pure purple means 0 nulls\n",
    "\n",
    "sns.heatmap(train.isnull(),yticklabels=False,cbar=False,cmap='viridis');\n",
    "\n",
    "print(f\"number of null values: {train.isnull().sum().sum()}\")"
   ]
  },
  {
   "cell_type": "code",
   "execution_count": 8,
   "metadata": {},
   "outputs": [
    {
     "data": {
      "text/plain": [
       "0"
      ]
     },
     "execution_count": 8,
     "metadata": {},
     "output_type": "execute_result"
    }
   ],
   "source": [
    "#checking for nulls in test\n",
    "test.isnull().sum().sum()"
   ]
  },
  {
   "cell_type": "code",
   "execution_count": 9,
   "metadata": {},
   "outputs": [
    {
     "name": "stdout",
     "output_type": "stream",
     "text": [
      "214\n",
      "214\n"
     ]
    }
   ],
   "source": [
    "#checking both column lengths\n",
    "print(len(train.columns))\n",
    "print(len(test.columns))"
   ]
  },
  {
   "cell_type": "code",
   "execution_count": 10,
   "metadata": {},
   "outputs": [],
   "source": [
    "#the column lengths are identical but there shouldn't be \"wnvpresent\" in test. Dropping this:\n",
    "\n",
    "test.drop([\"wnvpresent\"], axis=1, inplace=True)"
   ]
  },
  {
   "cell_type": "code",
   "execution_count": 11,
   "metadata": {},
   "outputs": [
    {
     "data": {
      "text/plain": [
       "(10506, 214)"
      ]
     },
     "execution_count": 11,
     "metadata": {},
     "output_type": "execute_result"
    }
   ],
   "source": [
    "train.shape\n",
    "#we have a large file with 10,506 rows and 214 columns. \n",
    "#this means we can do carve out a validation set to help measure generalization"
   ]
  },
  {
   "cell_type": "code",
   "execution_count": 12,
   "metadata": {},
   "outputs": [
    {
     "data": {
      "text/html": [
       "<div>\n",
       "<style scoped>\n",
       "    .dataframe tbody tr th:only-of-type {\n",
       "        vertical-align: middle;\n",
       "    }\n",
       "\n",
       "    .dataframe tbody tr th {\n",
       "        vertical-align: top;\n",
       "    }\n",
       "\n",
       "    .dataframe thead th {\n",
       "        text-align: right;\n",
       "    }\n",
       "</style>\n",
       "<table border=\"1\" class=\"dataframe\">\n",
       "  <thead>\n",
       "    <tr style=\"text-align: right;\">\n",
       "      <th></th>\n",
       "      <th>date</th>\n",
       "      <th>address</th>\n",
       "      <th>block</th>\n",
       "      <th>street</th>\n",
       "      <th>addressnumberandstreet</th>\n",
       "      <th>latitude</th>\n",
       "      <th>longitude</th>\n",
       "      <th>addressaccuracy</th>\n",
       "      <th>tmax_1</th>\n",
       "      <th>tmin_1</th>\n",
       "      <th>...</th>\n",
       "      <th>month_5</th>\n",
       "      <th>month_6</th>\n",
       "      <th>month_7</th>\n",
       "      <th>month_8</th>\n",
       "      <th>month_9</th>\n",
       "      <th>month_10</th>\n",
       "      <th>year_2007</th>\n",
       "      <th>year_2009</th>\n",
       "      <th>year_2011</th>\n",
       "      <th>year_2013</th>\n",
       "    </tr>\n",
       "  </thead>\n",
       "  <tbody>\n",
       "    <tr>\n",
       "      <th>0</th>\n",
       "      <td>2008-06-11</td>\n",
       "      <td>4100 North Oak Park Avenue, Chicago, IL 60634,...</td>\n",
       "      <td>41</td>\n",
       "      <td>N OAK PARK AVE</td>\n",
       "      <td>4100  N OAK PARK AVE, Chicago, IL</td>\n",
       "      <td>41.95469</td>\n",
       "      <td>-87.800991</td>\n",
       "      <td>9</td>\n",
       "      <td>0</td>\n",
       "      <td>0</td>\n",
       "      <td>...</td>\n",
       "      <td>0</td>\n",
       "      <td>0</td>\n",
       "      <td>0</td>\n",
       "      <td>0</td>\n",
       "      <td>0</td>\n",
       "      <td>0</td>\n",
       "      <td>0</td>\n",
       "      <td>0</td>\n",
       "      <td>0</td>\n",
       "      <td>0</td>\n",
       "    </tr>\n",
       "    <tr>\n",
       "      <th>1</th>\n",
       "      <td>2008-06-11</td>\n",
       "      <td>4100 North Oak Park Avenue, Chicago, IL 60634,...</td>\n",
       "      <td>41</td>\n",
       "      <td>N OAK PARK AVE</td>\n",
       "      <td>4100  N OAK PARK AVE, Chicago, IL</td>\n",
       "      <td>41.95469</td>\n",
       "      <td>-87.800991</td>\n",
       "      <td>9</td>\n",
       "      <td>0</td>\n",
       "      <td>0</td>\n",
       "      <td>...</td>\n",
       "      <td>0</td>\n",
       "      <td>0</td>\n",
       "      <td>0</td>\n",
       "      <td>0</td>\n",
       "      <td>0</td>\n",
       "      <td>0</td>\n",
       "      <td>0</td>\n",
       "      <td>0</td>\n",
       "      <td>0</td>\n",
       "      <td>0</td>\n",
       "    </tr>\n",
       "    <tr>\n",
       "      <th>2</th>\n",
       "      <td>2008-06-11</td>\n",
       "      <td>4100 North Oak Park Avenue, Chicago, IL 60634,...</td>\n",
       "      <td>41</td>\n",
       "      <td>N OAK PARK AVE</td>\n",
       "      <td>4100  N OAK PARK AVE, Chicago, IL</td>\n",
       "      <td>41.95469</td>\n",
       "      <td>-87.800991</td>\n",
       "      <td>9</td>\n",
       "      <td>0</td>\n",
       "      <td>0</td>\n",
       "      <td>...</td>\n",
       "      <td>0</td>\n",
       "      <td>0</td>\n",
       "      <td>0</td>\n",
       "      <td>0</td>\n",
       "      <td>0</td>\n",
       "      <td>0</td>\n",
       "      <td>0</td>\n",
       "      <td>0</td>\n",
       "      <td>0</td>\n",
       "      <td>0</td>\n",
       "    </tr>\n",
       "    <tr>\n",
       "      <th>3</th>\n",
       "      <td>2008-06-11</td>\n",
       "      <td>4100 North Oak Park Avenue, Chicago, IL 60634,...</td>\n",
       "      <td>41</td>\n",
       "      <td>N OAK PARK AVE</td>\n",
       "      <td>4100  N OAK PARK AVE, Chicago, IL</td>\n",
       "      <td>41.95469</td>\n",
       "      <td>-87.800991</td>\n",
       "      <td>9</td>\n",
       "      <td>0</td>\n",
       "      <td>0</td>\n",
       "      <td>...</td>\n",
       "      <td>0</td>\n",
       "      <td>0</td>\n",
       "      <td>0</td>\n",
       "      <td>0</td>\n",
       "      <td>0</td>\n",
       "      <td>0</td>\n",
       "      <td>0</td>\n",
       "      <td>0</td>\n",
       "      <td>0</td>\n",
       "      <td>0</td>\n",
       "    </tr>\n",
       "    <tr>\n",
       "      <th>4</th>\n",
       "      <td>2008-06-11</td>\n",
       "      <td>4100 North Oak Park Avenue, Chicago, IL 60634,...</td>\n",
       "      <td>41</td>\n",
       "      <td>N OAK PARK AVE</td>\n",
       "      <td>4100  N OAK PARK AVE, Chicago, IL</td>\n",
       "      <td>41.95469</td>\n",
       "      <td>-87.800991</td>\n",
       "      <td>9</td>\n",
       "      <td>0</td>\n",
       "      <td>0</td>\n",
       "      <td>...</td>\n",
       "      <td>0</td>\n",
       "      <td>0</td>\n",
       "      <td>0</td>\n",
       "      <td>0</td>\n",
       "      <td>0</td>\n",
       "      <td>0</td>\n",
       "      <td>0</td>\n",
       "      <td>0</td>\n",
       "      <td>0</td>\n",
       "      <td>0</td>\n",
       "    </tr>\n",
       "  </tbody>\n",
       "</table>\n",
       "<p>5 rows × 213 columns</p>\n",
       "</div>"
      ],
      "text/plain": [
       "         date                                            address  block  \\\n",
       "0  2008-06-11  4100 North Oak Park Avenue, Chicago, IL 60634,...     41   \n",
       "1  2008-06-11  4100 North Oak Park Avenue, Chicago, IL 60634,...     41   \n",
       "2  2008-06-11  4100 North Oak Park Avenue, Chicago, IL 60634,...     41   \n",
       "3  2008-06-11  4100 North Oak Park Avenue, Chicago, IL 60634,...     41   \n",
       "4  2008-06-11  4100 North Oak Park Avenue, Chicago, IL 60634,...     41   \n",
       "\n",
       "            street             addressnumberandstreet  latitude  longitude  \\\n",
       "0   N OAK PARK AVE  4100  N OAK PARK AVE, Chicago, IL  41.95469 -87.800991   \n",
       "1   N OAK PARK AVE  4100  N OAK PARK AVE, Chicago, IL  41.95469 -87.800991   \n",
       "2   N OAK PARK AVE  4100  N OAK PARK AVE, Chicago, IL  41.95469 -87.800991   \n",
       "3   N OAK PARK AVE  4100  N OAK PARK AVE, Chicago, IL  41.95469 -87.800991   \n",
       "4   N OAK PARK AVE  4100  N OAK PARK AVE, Chicago, IL  41.95469 -87.800991   \n",
       "\n",
       "   addressaccuracy  tmax_1  tmin_1  ...  month_5  month_6  month_7  month_8  \\\n",
       "0                9       0       0  ...        0        0        0        0   \n",
       "1                9       0       0  ...        0        0        0        0   \n",
       "2                9       0       0  ...        0        0        0        0   \n",
       "3                9       0       0  ...        0        0        0        0   \n",
       "4                9       0       0  ...        0        0        0        0   \n",
       "\n",
       "   month_9  month_10  year_2007  year_2009  year_2011  year_2013  \n",
       "0        0         0          0          0          0          0  \n",
       "1        0         0          0          0          0          0  \n",
       "2        0         0          0          0          0          0  \n",
       "3        0         0          0          0          0          0  \n",
       "4        0         0          0          0          0          0  \n",
       "\n",
       "[5 rows x 213 columns]"
      ]
     },
     "execution_count": 12,
     "metadata": {},
     "output_type": "execute_result"
    }
   ],
   "source": [
    "#all looks good now\n",
    "test.head()"
   ]
  },
  {
   "cell_type": "markdown",
   "metadata": {},
   "source": [
    "**We'll now compile all of the features that we *already* uncovered and explored in EDA to be meaningful in predicting WNV.**"
   ]
  },
  {
   "cell_type": "markdown",
   "metadata": {},
   "source": [
    "## Feature Selection: Species"
   ]
  },
  {
   "cell_type": "code",
   "execution_count": 13,
   "metadata": {},
   "outputs": [
    {
     "data": {
      "text/plain": [
       "['species_CULEX PIPIENS',\n",
       " 'species_CULEX PIPIENS/RESTUANS',\n",
       " 'species_CULEX RESTUANS']"
      ]
     },
     "execution_count": 13,
     "metadata": {},
     "output_type": "execute_result"
    }
   ],
   "source": [
    "#From EDA, top mosquito species that are carriers of WNV are appended to a master feature list\n",
    "\n",
    "key_species = [col for col in train if \"PIPIENS\" in col or \"RESTUANS\" in col]\n",
    "\n",
    "key_species"
   ]
  },
  {
   "cell_type": "markdown",
   "metadata": {},
   "source": [
    "## Feature Selection: Month and Year"
   ]
  },
  {
   "cell_type": "code",
   "execution_count": 14,
   "metadata": {},
   "outputs": [
    {
     "data": {
      "text/plain": [
       "['month_6',\n",
       " 'month_7',\n",
       " 'month_8',\n",
       " 'month_9',\n",
       " 'month_10',\n",
       " 'year_2007',\n",
       " 'year_2009',\n",
       " 'year_2011',\n",
       " 'year_2013']"
      ]
     },
     "execution_count": 14,
     "metadata": {},
     "output_type": "execute_result"
    }
   ],
   "source": [
    "#our EDA showed no WNV in May - but the virus was present in June, July, Aug, Sep and Oct\n",
    "#and our previous EDA showed that the virus was most widespread in 2007 and 2013.\n",
    "#so we append that to our feature list\n",
    "\n",
    "key_periods = [col for col in train if \"month\" in col or \"year\" in col]\n",
    "\n",
    "key_periods.pop(0) #dropping May because the virus wasn't present\n",
    "\n",
    "key_periods"
   ]
  },
  {
   "cell_type": "markdown",
   "metadata": {},
   "source": [
    "## Feature Selection: Weather Features"
   ]
  },
  {
   "cell_type": "code",
   "execution_count": 15,
   "metadata": {},
   "outputs": [],
   "source": [
    "#our earlier EDA found that there was a positive correlation between average temperature \n",
    "#as well as wet bulb average temperature.\n",
    "#there were also skewed distributions/highly variable distributions \n",
    "#with station pressure average.\n",
    "#there did not appear to be much relationship between WNV and precipitation, though, so omitting.\n",
    "\n",
    "#we add this to our rolling list:\n",
    "\n",
    "key_weather = [\"temp_avg\", \"wetbulb_avg\", \"dewpoint_avg\", \n",
    "               \"stnpressure_avg\", \"relative_humidity\"]"
   ]
  },
  {
   "cell_type": "markdown",
   "metadata": {},
   "source": [
    "## Feature Selection: Traps"
   ]
  },
  {
   "cell_type": "code",
   "execution_count": 16,
   "metadata": {},
   "outputs": [
    {
     "data": {
      "text/plain": [
       "136"
      ]
     },
     "execution_count": 16,
     "metadata": {},
     "output_type": "execute_result"
    }
   ],
   "source": [
    "traps = [col for col in train if \"trap\" in col]\n",
    "\n",
    "len(traps)"
   ]
  },
  {
   "cell_type": "code",
   "execution_count": 17,
   "metadata": {},
   "outputs": [
    {
     "data": {
      "application/vnd.plotly.v1+json": {
       "config": {
        "plotlyServerURL": "https://plot.ly"
       },
       "data": [
        {
         "alignmentgroup": "True",
         "hovertemplate": "variable=0<br>trap number=%{x}<br>value=%{y}<extra></extra>",
         "legendgroup": "0",
         "marker": {
          "color": "#636efa"
         },
         "name": "0",
         "offsetgroup": "0",
         "orientation": "v",
         "showlegend": true,
         "textposition": "auto",
         "type": "bar",
         "x": [
          "trap_T900",
          "trap_T115",
          "trap_T002",
          "trap_T138",
          "trap_T003",
          "trap_T011",
          "trap_T128",
          "trap_T225",
          "trap_T013",
          "trap_T903",
          "trap_T008",
          "trap_T028",
          "trap_T009",
          "trap_T223",
          "trap_T114",
          "trap_T221",
          "trap_T086",
          "trap_T082",
          "trap_T061",
          "trap_T030",
          "trap_T135",
          "trap_T027",
          "trap_T016",
          "trap_T235",
          "trap_T233",
          "trap_T090",
          "trap_T230",
          "trap_T143",
          "trap_T103",
          "trap_T096",
          "trap_T151",
          "trap_T228",
          "trap_T155",
          "trap_T158",
          "trap_T066",
          "trap_T054"
         ],
         "xaxis": "x",
         "y": [
          66,
          41,
          18,
          16,
          14,
          11,
          11,
          11,
          10,
          10,
          10,
          9,
          9,
          9,
          9,
          9,
          8,
          8,
          8,
          8,
          8,
          7,
          7,
          7,
          7,
          7,
          7,
          6,
          6,
          6,
          6,
          6,
          6,
          6,
          6,
          6
         ],
         "yaxis": "y"
        }
       ],
       "layout": {
        "barmode": "relative",
        "legend": {
         "title": {
          "text": "variable"
         },
         "tracegroupgap": 0
        },
        "template": {
         "data": {
          "bar": [
           {
            "error_x": {
             "color": "#2a3f5f"
            },
            "error_y": {
             "color": "#2a3f5f"
            },
            "marker": {
             "line": {
              "color": "#E5ECF6",
              "width": 0.5
             }
            },
            "type": "bar"
           }
          ],
          "barpolar": [
           {
            "marker": {
             "line": {
              "color": "#E5ECF6",
              "width": 0.5
             }
            },
            "type": "barpolar"
           }
          ],
          "carpet": [
           {
            "aaxis": {
             "endlinecolor": "#2a3f5f",
             "gridcolor": "white",
             "linecolor": "white",
             "minorgridcolor": "white",
             "startlinecolor": "#2a3f5f"
            },
            "baxis": {
             "endlinecolor": "#2a3f5f",
             "gridcolor": "white",
             "linecolor": "white",
             "minorgridcolor": "white",
             "startlinecolor": "#2a3f5f"
            },
            "type": "carpet"
           }
          ],
          "choropleth": [
           {
            "colorbar": {
             "outlinewidth": 0,
             "ticks": ""
            },
            "type": "choropleth"
           }
          ],
          "contour": [
           {
            "colorbar": {
             "outlinewidth": 0,
             "ticks": ""
            },
            "colorscale": [
             [
              0,
              "#0d0887"
             ],
             [
              0.1111111111111111,
              "#46039f"
             ],
             [
              0.2222222222222222,
              "#7201a8"
             ],
             [
              0.3333333333333333,
              "#9c179e"
             ],
             [
              0.4444444444444444,
              "#bd3786"
             ],
             [
              0.5555555555555556,
              "#d8576b"
             ],
             [
              0.6666666666666666,
              "#ed7953"
             ],
             [
              0.7777777777777778,
              "#fb9f3a"
             ],
             [
              0.8888888888888888,
              "#fdca26"
             ],
             [
              1,
              "#f0f921"
             ]
            ],
            "type": "contour"
           }
          ],
          "contourcarpet": [
           {
            "colorbar": {
             "outlinewidth": 0,
             "ticks": ""
            },
            "type": "contourcarpet"
           }
          ],
          "heatmap": [
           {
            "colorbar": {
             "outlinewidth": 0,
             "ticks": ""
            },
            "colorscale": [
             [
              0,
              "#0d0887"
             ],
             [
              0.1111111111111111,
              "#46039f"
             ],
             [
              0.2222222222222222,
              "#7201a8"
             ],
             [
              0.3333333333333333,
              "#9c179e"
             ],
             [
              0.4444444444444444,
              "#bd3786"
             ],
             [
              0.5555555555555556,
              "#d8576b"
             ],
             [
              0.6666666666666666,
              "#ed7953"
             ],
             [
              0.7777777777777778,
              "#fb9f3a"
             ],
             [
              0.8888888888888888,
              "#fdca26"
             ],
             [
              1,
              "#f0f921"
             ]
            ],
            "type": "heatmap"
           }
          ],
          "heatmapgl": [
           {
            "colorbar": {
             "outlinewidth": 0,
             "ticks": ""
            },
            "colorscale": [
             [
              0,
              "#0d0887"
             ],
             [
              0.1111111111111111,
              "#46039f"
             ],
             [
              0.2222222222222222,
              "#7201a8"
             ],
             [
              0.3333333333333333,
              "#9c179e"
             ],
             [
              0.4444444444444444,
              "#bd3786"
             ],
             [
              0.5555555555555556,
              "#d8576b"
             ],
             [
              0.6666666666666666,
              "#ed7953"
             ],
             [
              0.7777777777777778,
              "#fb9f3a"
             ],
             [
              0.8888888888888888,
              "#fdca26"
             ],
             [
              1,
              "#f0f921"
             ]
            ],
            "type": "heatmapgl"
           }
          ],
          "histogram": [
           {
            "marker": {
             "colorbar": {
              "outlinewidth": 0,
              "ticks": ""
             }
            },
            "type": "histogram"
           }
          ],
          "histogram2d": [
           {
            "colorbar": {
             "outlinewidth": 0,
             "ticks": ""
            },
            "colorscale": [
             [
              0,
              "#0d0887"
             ],
             [
              0.1111111111111111,
              "#46039f"
             ],
             [
              0.2222222222222222,
              "#7201a8"
             ],
             [
              0.3333333333333333,
              "#9c179e"
             ],
             [
              0.4444444444444444,
              "#bd3786"
             ],
             [
              0.5555555555555556,
              "#d8576b"
             ],
             [
              0.6666666666666666,
              "#ed7953"
             ],
             [
              0.7777777777777778,
              "#fb9f3a"
             ],
             [
              0.8888888888888888,
              "#fdca26"
             ],
             [
              1,
              "#f0f921"
             ]
            ],
            "type": "histogram2d"
           }
          ],
          "histogram2dcontour": [
           {
            "colorbar": {
             "outlinewidth": 0,
             "ticks": ""
            },
            "colorscale": [
             [
              0,
              "#0d0887"
             ],
             [
              0.1111111111111111,
              "#46039f"
             ],
             [
              0.2222222222222222,
              "#7201a8"
             ],
             [
              0.3333333333333333,
              "#9c179e"
             ],
             [
              0.4444444444444444,
              "#bd3786"
             ],
             [
              0.5555555555555556,
              "#d8576b"
             ],
             [
              0.6666666666666666,
              "#ed7953"
             ],
             [
              0.7777777777777778,
              "#fb9f3a"
             ],
             [
              0.8888888888888888,
              "#fdca26"
             ],
             [
              1,
              "#f0f921"
             ]
            ],
            "type": "histogram2dcontour"
           }
          ],
          "mesh3d": [
           {
            "colorbar": {
             "outlinewidth": 0,
             "ticks": ""
            },
            "type": "mesh3d"
           }
          ],
          "parcoords": [
           {
            "line": {
             "colorbar": {
              "outlinewidth": 0,
              "ticks": ""
             }
            },
            "type": "parcoords"
           }
          ],
          "pie": [
           {
            "automargin": true,
            "type": "pie"
           }
          ],
          "scatter": [
           {
            "marker": {
             "colorbar": {
              "outlinewidth": 0,
              "ticks": ""
             }
            },
            "type": "scatter"
           }
          ],
          "scatter3d": [
           {
            "line": {
             "colorbar": {
              "outlinewidth": 0,
              "ticks": ""
             }
            },
            "marker": {
             "colorbar": {
              "outlinewidth": 0,
              "ticks": ""
             }
            },
            "type": "scatter3d"
           }
          ],
          "scattercarpet": [
           {
            "marker": {
             "colorbar": {
              "outlinewidth": 0,
              "ticks": ""
             }
            },
            "type": "scattercarpet"
           }
          ],
          "scattergeo": [
           {
            "marker": {
             "colorbar": {
              "outlinewidth": 0,
              "ticks": ""
             }
            },
            "type": "scattergeo"
           }
          ],
          "scattergl": [
           {
            "marker": {
             "colorbar": {
              "outlinewidth": 0,
              "ticks": ""
             }
            },
            "type": "scattergl"
           }
          ],
          "scattermapbox": [
           {
            "marker": {
             "colorbar": {
              "outlinewidth": 0,
              "ticks": ""
             }
            },
            "type": "scattermapbox"
           }
          ],
          "scatterpolar": [
           {
            "marker": {
             "colorbar": {
              "outlinewidth": 0,
              "ticks": ""
             }
            },
            "type": "scatterpolar"
           }
          ],
          "scatterpolargl": [
           {
            "marker": {
             "colorbar": {
              "outlinewidth": 0,
              "ticks": ""
             }
            },
            "type": "scatterpolargl"
           }
          ],
          "scatterternary": [
           {
            "marker": {
             "colorbar": {
              "outlinewidth": 0,
              "ticks": ""
             }
            },
            "type": "scatterternary"
           }
          ],
          "surface": [
           {
            "colorbar": {
             "outlinewidth": 0,
             "ticks": ""
            },
            "colorscale": [
             [
              0,
              "#0d0887"
             ],
             [
              0.1111111111111111,
              "#46039f"
             ],
             [
              0.2222222222222222,
              "#7201a8"
             ],
             [
              0.3333333333333333,
              "#9c179e"
             ],
             [
              0.4444444444444444,
              "#bd3786"
             ],
             [
              0.5555555555555556,
              "#d8576b"
             ],
             [
              0.6666666666666666,
              "#ed7953"
             ],
             [
              0.7777777777777778,
              "#fb9f3a"
             ],
             [
              0.8888888888888888,
              "#fdca26"
             ],
             [
              1,
              "#f0f921"
             ]
            ],
            "type": "surface"
           }
          ],
          "table": [
           {
            "cells": {
             "fill": {
              "color": "#EBF0F8"
             },
             "line": {
              "color": "white"
             }
            },
            "header": {
             "fill": {
              "color": "#C8D4E3"
             },
             "line": {
              "color": "white"
             }
            },
            "type": "table"
           }
          ]
         },
         "layout": {
          "annotationdefaults": {
           "arrowcolor": "#2a3f5f",
           "arrowhead": 0,
           "arrowwidth": 1
          },
          "coloraxis": {
           "colorbar": {
            "outlinewidth": 0,
            "ticks": ""
           }
          },
          "colorscale": {
           "diverging": [
            [
             0,
             "#8e0152"
            ],
            [
             0.1,
             "#c51b7d"
            ],
            [
             0.2,
             "#de77ae"
            ],
            [
             0.3,
             "#f1b6da"
            ],
            [
             0.4,
             "#fde0ef"
            ],
            [
             0.5,
             "#f7f7f7"
            ],
            [
             0.6,
             "#e6f5d0"
            ],
            [
             0.7,
             "#b8e186"
            ],
            [
             0.8,
             "#7fbc41"
            ],
            [
             0.9,
             "#4d9221"
            ],
            [
             1,
             "#276419"
            ]
           ],
           "sequential": [
            [
             0,
             "#0d0887"
            ],
            [
             0.1111111111111111,
             "#46039f"
            ],
            [
             0.2222222222222222,
             "#7201a8"
            ],
            [
             0.3333333333333333,
             "#9c179e"
            ],
            [
             0.4444444444444444,
             "#bd3786"
            ],
            [
             0.5555555555555556,
             "#d8576b"
            ],
            [
             0.6666666666666666,
             "#ed7953"
            ],
            [
             0.7777777777777778,
             "#fb9f3a"
            ],
            [
             0.8888888888888888,
             "#fdca26"
            ],
            [
             1,
             "#f0f921"
            ]
           ],
           "sequentialminus": [
            [
             0,
             "#0d0887"
            ],
            [
             0.1111111111111111,
             "#46039f"
            ],
            [
             0.2222222222222222,
             "#7201a8"
            ],
            [
             0.3333333333333333,
             "#9c179e"
            ],
            [
             0.4444444444444444,
             "#bd3786"
            ],
            [
             0.5555555555555556,
             "#d8576b"
            ],
            [
             0.6666666666666666,
             "#ed7953"
            ],
            [
             0.7777777777777778,
             "#fb9f3a"
            ],
            [
             0.8888888888888888,
             "#fdca26"
            ],
            [
             1,
             "#f0f921"
            ]
           ]
          },
          "colorway": [
           "#636efa",
           "#EF553B",
           "#00cc96",
           "#ab63fa",
           "#FFA15A",
           "#19d3f3",
           "#FF6692",
           "#B6E880",
           "#FF97FF",
           "#FECB52"
          ],
          "font": {
           "color": "#2a3f5f"
          },
          "geo": {
           "bgcolor": "white",
           "lakecolor": "white",
           "landcolor": "#E5ECF6",
           "showlakes": true,
           "showland": true,
           "subunitcolor": "white"
          },
          "hoverlabel": {
           "align": "left"
          },
          "hovermode": "closest",
          "mapbox": {
           "style": "light"
          },
          "paper_bgcolor": "white",
          "plot_bgcolor": "#E5ECF6",
          "polar": {
           "angularaxis": {
            "gridcolor": "white",
            "linecolor": "white",
            "ticks": ""
           },
           "bgcolor": "#E5ECF6",
           "radialaxis": {
            "gridcolor": "white",
            "linecolor": "white",
            "ticks": ""
           }
          },
          "scene": {
           "xaxis": {
            "backgroundcolor": "#E5ECF6",
            "gridcolor": "white",
            "gridwidth": 2,
            "linecolor": "white",
            "showbackground": true,
            "ticks": "",
            "zerolinecolor": "white"
           },
           "yaxis": {
            "backgroundcolor": "#E5ECF6",
            "gridcolor": "white",
            "gridwidth": 2,
            "linecolor": "white",
            "showbackground": true,
            "ticks": "",
            "zerolinecolor": "white"
           },
           "zaxis": {
            "backgroundcolor": "#E5ECF6",
            "gridcolor": "white",
            "gridwidth": 2,
            "linecolor": "white",
            "showbackground": true,
            "ticks": "",
            "zerolinecolor": "white"
           }
          },
          "shapedefaults": {
           "line": {
            "color": "#2a3f5f"
           }
          },
          "ternary": {
           "aaxis": {
            "gridcolor": "white",
            "linecolor": "white",
            "ticks": ""
           },
           "baxis": {
            "gridcolor": "white",
            "linecolor": "white",
            "ticks": ""
           },
           "bgcolor": "#E5ECF6",
           "caxis": {
            "gridcolor": "white",
            "linecolor": "white",
            "ticks": ""
           }
          },
          "title": {
           "x": 0.05
          },
          "xaxis": {
           "automargin": true,
           "gridcolor": "white",
           "linecolor": "white",
           "ticks": "",
           "title": {
            "standoff": 15
           },
           "zerolinecolor": "white",
           "zerolinewidth": 2
          },
          "yaxis": {
           "automargin": true,
           "gridcolor": "white",
           "linecolor": "white",
           "ticks": "",
           "title": {
            "standoff": 15
           },
           "zerolinecolor": "white",
           "zerolinewidth": 2
          }
         }
        },
        "title": {
         "text": "Top Traps that are WNV Positive"
        },
        "xaxis": {
         "anchor": "y",
         "domain": [
          0,
          1
         ],
         "title": {
          "text": "trap number"
         }
        },
        "yaxis": {
         "anchor": "x",
         "domain": [
          0,
          1
         ],
         "title": {
          "text": "value"
         }
        }
       }
      },
      "text/html": [
       "<div>\n",
       "        \n",
       "        \n",
       "            <div id=\"2027d190-6f8f-4bcd-a3bb-b4b633c58408\" class=\"plotly-graph-div\" style=\"height:525px; width:100%;\"></div>\n",
       "            <script type=\"text/javascript\">\n",
       "                require([\"plotly\"], function(Plotly) {\n",
       "                    window.PLOTLYENV=window.PLOTLYENV || {};\n",
       "                    \n",
       "                if (document.getElementById(\"2027d190-6f8f-4bcd-a3bb-b4b633c58408\")) {\n",
       "                    Plotly.newPlot(\n",
       "                        '2027d190-6f8f-4bcd-a3bb-b4b633c58408',\n",
       "                        [{\"alignmentgroup\": \"True\", \"hovertemplate\": \"variable=0<br>trap number=%{x}<br>value=%{y}<extra></extra>\", \"legendgroup\": \"0\", \"marker\": {\"color\": \"#636efa\"}, \"name\": \"0\", \"offsetgroup\": \"0\", \"orientation\": \"v\", \"showlegend\": true, \"textposition\": \"auto\", \"type\": \"bar\", \"x\": [\"trap_T900\", \"trap_T115\", \"trap_T002\", \"trap_T138\", \"trap_T003\", \"trap_T011\", \"trap_T128\", \"trap_T225\", \"trap_T013\", \"trap_T903\", \"trap_T008\", \"trap_T028\", \"trap_T009\", \"trap_T223\", \"trap_T114\", \"trap_T221\", \"trap_T086\", \"trap_T082\", \"trap_T061\", \"trap_T030\", \"trap_T135\", \"trap_T027\", \"trap_T016\", \"trap_T235\", \"trap_T233\", \"trap_T090\", \"trap_T230\", \"trap_T143\", \"trap_T103\", \"trap_T096\", \"trap_T151\", \"trap_T228\", \"trap_T155\", \"trap_T158\", \"trap_T066\", \"trap_T054\"], \"xaxis\": \"x\", \"y\": [66, 41, 18, 16, 14, 11, 11, 11, 10, 10, 10, 9, 9, 9, 9, 9, 8, 8, 8, 8, 8, 7, 7, 7, 7, 7, 7, 6, 6, 6, 6, 6, 6, 6, 6, 6], \"yaxis\": \"y\"}],\n",
       "                        {\"barmode\": \"relative\", \"legend\": {\"title\": {\"text\": \"variable\"}, \"tracegroupgap\": 0}, \"template\": {\"data\": {\"bar\": [{\"error_x\": {\"color\": \"#2a3f5f\"}, \"error_y\": {\"color\": \"#2a3f5f\"}, \"marker\": {\"line\": {\"color\": \"#E5ECF6\", \"width\": 0.5}}, \"type\": \"bar\"}], \"barpolar\": [{\"marker\": {\"line\": {\"color\": \"#E5ECF6\", \"width\": 0.5}}, \"type\": \"barpolar\"}], \"carpet\": [{\"aaxis\": {\"endlinecolor\": \"#2a3f5f\", \"gridcolor\": \"white\", \"linecolor\": \"white\", \"minorgridcolor\": \"white\", \"startlinecolor\": \"#2a3f5f\"}, \"baxis\": {\"endlinecolor\": \"#2a3f5f\", \"gridcolor\": \"white\", \"linecolor\": \"white\", \"minorgridcolor\": \"white\", \"startlinecolor\": \"#2a3f5f\"}, \"type\": \"carpet\"}], \"choropleth\": [{\"colorbar\": {\"outlinewidth\": 0, \"ticks\": \"\"}, \"type\": \"choropleth\"}], \"contour\": [{\"colorbar\": {\"outlinewidth\": 0, \"ticks\": \"\"}, \"colorscale\": [[0.0, \"#0d0887\"], [0.1111111111111111, \"#46039f\"], [0.2222222222222222, \"#7201a8\"], [0.3333333333333333, \"#9c179e\"], [0.4444444444444444, \"#bd3786\"], [0.5555555555555556, \"#d8576b\"], [0.6666666666666666, \"#ed7953\"], [0.7777777777777778, \"#fb9f3a\"], [0.8888888888888888, \"#fdca26\"], [1.0, \"#f0f921\"]], \"type\": \"contour\"}], \"contourcarpet\": [{\"colorbar\": {\"outlinewidth\": 0, \"ticks\": \"\"}, \"type\": \"contourcarpet\"}], \"heatmap\": [{\"colorbar\": {\"outlinewidth\": 0, \"ticks\": \"\"}, \"colorscale\": [[0.0, \"#0d0887\"], [0.1111111111111111, \"#46039f\"], [0.2222222222222222, \"#7201a8\"], [0.3333333333333333, \"#9c179e\"], [0.4444444444444444, \"#bd3786\"], [0.5555555555555556, \"#d8576b\"], [0.6666666666666666, \"#ed7953\"], [0.7777777777777778, \"#fb9f3a\"], [0.8888888888888888, \"#fdca26\"], [1.0, \"#f0f921\"]], \"type\": \"heatmap\"}], \"heatmapgl\": [{\"colorbar\": {\"outlinewidth\": 0, \"ticks\": \"\"}, \"colorscale\": [[0.0, \"#0d0887\"], [0.1111111111111111, \"#46039f\"], [0.2222222222222222, \"#7201a8\"], [0.3333333333333333, \"#9c179e\"], [0.4444444444444444, \"#bd3786\"], [0.5555555555555556, \"#d8576b\"], [0.6666666666666666, \"#ed7953\"], [0.7777777777777778, \"#fb9f3a\"], [0.8888888888888888, \"#fdca26\"], [1.0, \"#f0f921\"]], \"type\": \"heatmapgl\"}], \"histogram\": [{\"marker\": {\"colorbar\": {\"outlinewidth\": 0, \"ticks\": \"\"}}, \"type\": \"histogram\"}], \"histogram2d\": [{\"colorbar\": {\"outlinewidth\": 0, \"ticks\": \"\"}, \"colorscale\": [[0.0, \"#0d0887\"], [0.1111111111111111, \"#46039f\"], [0.2222222222222222, \"#7201a8\"], [0.3333333333333333, \"#9c179e\"], [0.4444444444444444, \"#bd3786\"], [0.5555555555555556, \"#d8576b\"], [0.6666666666666666, \"#ed7953\"], [0.7777777777777778, \"#fb9f3a\"], [0.8888888888888888, \"#fdca26\"], [1.0, \"#f0f921\"]], \"type\": \"histogram2d\"}], \"histogram2dcontour\": [{\"colorbar\": {\"outlinewidth\": 0, \"ticks\": \"\"}, \"colorscale\": [[0.0, \"#0d0887\"], [0.1111111111111111, \"#46039f\"], [0.2222222222222222, \"#7201a8\"], [0.3333333333333333, \"#9c179e\"], [0.4444444444444444, \"#bd3786\"], [0.5555555555555556, \"#d8576b\"], [0.6666666666666666, \"#ed7953\"], [0.7777777777777778, \"#fb9f3a\"], [0.8888888888888888, \"#fdca26\"], [1.0, \"#f0f921\"]], \"type\": \"histogram2dcontour\"}], \"mesh3d\": [{\"colorbar\": {\"outlinewidth\": 0, \"ticks\": \"\"}, \"type\": \"mesh3d\"}], \"parcoords\": [{\"line\": {\"colorbar\": {\"outlinewidth\": 0, \"ticks\": \"\"}}, \"type\": \"parcoords\"}], \"pie\": [{\"automargin\": true, \"type\": \"pie\"}], \"scatter\": [{\"marker\": {\"colorbar\": {\"outlinewidth\": 0, \"ticks\": \"\"}}, \"type\": \"scatter\"}], \"scatter3d\": [{\"line\": {\"colorbar\": {\"outlinewidth\": 0, \"ticks\": \"\"}}, \"marker\": {\"colorbar\": {\"outlinewidth\": 0, \"ticks\": \"\"}}, \"type\": \"scatter3d\"}], \"scattercarpet\": [{\"marker\": {\"colorbar\": {\"outlinewidth\": 0, \"ticks\": \"\"}}, \"type\": \"scattercarpet\"}], \"scattergeo\": [{\"marker\": {\"colorbar\": {\"outlinewidth\": 0, \"ticks\": \"\"}}, \"type\": \"scattergeo\"}], \"scattergl\": [{\"marker\": {\"colorbar\": {\"outlinewidth\": 0, \"ticks\": \"\"}}, \"type\": \"scattergl\"}], \"scattermapbox\": [{\"marker\": {\"colorbar\": {\"outlinewidth\": 0, \"ticks\": \"\"}}, \"type\": \"scattermapbox\"}], \"scatterpolar\": [{\"marker\": {\"colorbar\": {\"outlinewidth\": 0, \"ticks\": \"\"}}, \"type\": \"scatterpolar\"}], \"scatterpolargl\": [{\"marker\": {\"colorbar\": {\"outlinewidth\": 0, \"ticks\": \"\"}}, \"type\": \"scatterpolargl\"}], \"scatterternary\": [{\"marker\": {\"colorbar\": {\"outlinewidth\": 0, \"ticks\": \"\"}}, \"type\": \"scatterternary\"}], \"surface\": [{\"colorbar\": {\"outlinewidth\": 0, \"ticks\": \"\"}, \"colorscale\": [[0.0, \"#0d0887\"], [0.1111111111111111, \"#46039f\"], [0.2222222222222222, \"#7201a8\"], [0.3333333333333333, \"#9c179e\"], [0.4444444444444444, \"#bd3786\"], [0.5555555555555556, \"#d8576b\"], [0.6666666666666666, \"#ed7953\"], [0.7777777777777778, \"#fb9f3a\"], [0.8888888888888888, \"#fdca26\"], [1.0, \"#f0f921\"]], \"type\": \"surface\"}], \"table\": [{\"cells\": {\"fill\": {\"color\": \"#EBF0F8\"}, \"line\": {\"color\": \"white\"}}, \"header\": {\"fill\": {\"color\": \"#C8D4E3\"}, \"line\": {\"color\": \"white\"}}, \"type\": \"table\"}]}, \"layout\": {\"annotationdefaults\": {\"arrowcolor\": \"#2a3f5f\", \"arrowhead\": 0, \"arrowwidth\": 1}, \"coloraxis\": {\"colorbar\": {\"outlinewidth\": 0, \"ticks\": \"\"}}, \"colorscale\": {\"diverging\": [[0, \"#8e0152\"], [0.1, \"#c51b7d\"], [0.2, \"#de77ae\"], [0.3, \"#f1b6da\"], [0.4, \"#fde0ef\"], [0.5, \"#f7f7f7\"], [0.6, \"#e6f5d0\"], [0.7, \"#b8e186\"], [0.8, \"#7fbc41\"], [0.9, \"#4d9221\"], [1, \"#276419\"]], \"sequential\": [[0.0, \"#0d0887\"], [0.1111111111111111, \"#46039f\"], [0.2222222222222222, \"#7201a8\"], [0.3333333333333333, \"#9c179e\"], [0.4444444444444444, \"#bd3786\"], [0.5555555555555556, \"#d8576b\"], [0.6666666666666666, \"#ed7953\"], [0.7777777777777778, \"#fb9f3a\"], [0.8888888888888888, \"#fdca26\"], [1.0, \"#f0f921\"]], \"sequentialminus\": [[0.0, \"#0d0887\"], [0.1111111111111111, \"#46039f\"], [0.2222222222222222, \"#7201a8\"], [0.3333333333333333, \"#9c179e\"], [0.4444444444444444, \"#bd3786\"], [0.5555555555555556, \"#d8576b\"], [0.6666666666666666, \"#ed7953\"], [0.7777777777777778, \"#fb9f3a\"], [0.8888888888888888, \"#fdca26\"], [1.0, \"#f0f921\"]]}, \"colorway\": [\"#636efa\", \"#EF553B\", \"#00cc96\", \"#ab63fa\", \"#FFA15A\", \"#19d3f3\", \"#FF6692\", \"#B6E880\", \"#FF97FF\", \"#FECB52\"], \"font\": {\"color\": \"#2a3f5f\"}, \"geo\": {\"bgcolor\": \"white\", \"lakecolor\": \"white\", \"landcolor\": \"#E5ECF6\", \"showlakes\": true, \"showland\": true, \"subunitcolor\": \"white\"}, \"hoverlabel\": {\"align\": \"left\"}, \"hovermode\": \"closest\", \"mapbox\": {\"style\": \"light\"}, \"paper_bgcolor\": \"white\", \"plot_bgcolor\": \"#E5ECF6\", \"polar\": {\"angularaxis\": {\"gridcolor\": \"white\", \"linecolor\": \"white\", \"ticks\": \"\"}, \"bgcolor\": \"#E5ECF6\", \"radialaxis\": {\"gridcolor\": \"white\", \"linecolor\": \"white\", \"ticks\": \"\"}}, \"scene\": {\"xaxis\": {\"backgroundcolor\": \"#E5ECF6\", \"gridcolor\": \"white\", \"gridwidth\": 2, \"linecolor\": \"white\", \"showbackground\": true, \"ticks\": \"\", \"zerolinecolor\": \"white\"}, \"yaxis\": {\"backgroundcolor\": \"#E5ECF6\", \"gridcolor\": \"white\", \"gridwidth\": 2, \"linecolor\": \"white\", \"showbackground\": true, \"ticks\": \"\", \"zerolinecolor\": \"white\"}, \"zaxis\": {\"backgroundcolor\": \"#E5ECF6\", \"gridcolor\": \"white\", \"gridwidth\": 2, \"linecolor\": \"white\", \"showbackground\": true, \"ticks\": \"\", \"zerolinecolor\": \"white\"}}, \"shapedefaults\": {\"line\": {\"color\": \"#2a3f5f\"}}, \"ternary\": {\"aaxis\": {\"gridcolor\": \"white\", \"linecolor\": \"white\", \"ticks\": \"\"}, \"baxis\": {\"gridcolor\": \"white\", \"linecolor\": \"white\", \"ticks\": \"\"}, \"bgcolor\": \"#E5ECF6\", \"caxis\": {\"gridcolor\": \"white\", \"linecolor\": \"white\", \"ticks\": \"\"}}, \"title\": {\"x\": 0.05}, \"xaxis\": {\"automargin\": true, \"gridcolor\": \"white\", \"linecolor\": \"white\", \"ticks\": \"\", \"title\": {\"standoff\": 15}, \"zerolinecolor\": \"white\", \"zerolinewidth\": 2}, \"yaxis\": {\"automargin\": true, \"gridcolor\": \"white\", \"linecolor\": \"white\", \"ticks\": \"\", \"title\": {\"standoff\": 15}, \"zerolinecolor\": \"white\", \"zerolinewidth\": 2}}}, \"title\": {\"text\": \"Top Traps that are WNV Positive\"}, \"xaxis\": {\"anchor\": \"y\", \"domain\": [0.0, 1.0], \"title\": {\"text\": \"trap number\"}}, \"yaxis\": {\"anchor\": \"x\", \"domain\": [0.0, 1.0], \"title\": {\"text\": \"value\"}}},\n",
       "                        {\"responsive\": true}\n",
       "                    ).then(function(){\n",
       "                            \n",
       "var gd = document.getElementById('2027d190-6f8f-4bcd-a3bb-b4b633c58408');\n",
       "var x = new MutationObserver(function (mutations, observer) {{\n",
       "        var display = window.getComputedStyle(gd).display;\n",
       "        if (!display || display === 'none') {{\n",
       "            console.log([gd, 'removed!']);\n",
       "            Plotly.purge(gd);\n",
       "            observer.disconnect();\n",
       "        }}\n",
       "}});\n",
       "\n",
       "// Listen for the removal of the full notebook cells\n",
       "var notebookContainer = gd.closest('#notebook-container');\n",
       "if (notebookContainer) {{\n",
       "    x.observe(notebookContainer, {childList: true});\n",
       "}}\n",
       "\n",
       "// Listen for the clearing of the current output cell\n",
       "var outputEl = gd.closest('.output');\n",
       "if (outputEl) {{\n",
       "    x.observe(outputEl, {childList: true});\n",
       "}}\n",
       "\n",
       "                        })\n",
       "                };\n",
       "                });\n",
       "            </script>\n",
       "        </div>"
      ]
     },
     "metadata": {},
     "output_type": "display_data"
    }
   ],
   "source": [
    "#let's see the top virulent traps\n",
    "\n",
    "\n",
    "top_wnv_traps = train[traps][train[\"wnvpresent\"]==1].sum().sort_values(ascending=False).head(36)\n",
    "\n",
    "fig = px.bar(top_wnv_traps, orientation='v', \n",
    "             title = \"Top Traps that are WNV Positive\", \n",
    "             labels={\"index\":\"trap number\"})\n",
    "fig.show()\n",
    "\n",
    "#our cut off point for the top traps is till top 36 only because WNV traps decline sharply after"
   ]
  },
  {
   "cell_type": "markdown",
   "metadata": {},
   "source": [
    "We choose traps rather than longitude/latitude to determine from a classification problem standpoint where WNV woud be present, because the traps correspond to specific geographical points already that are classified as single distinct categorical variables, some of which are particularly virulent.\n",
    "\n",
    "We'll extract the top virulent traps as part of our features."
   ]
  },
  {
   "cell_type": "code",
   "execution_count": 25,
   "metadata": {},
   "outputs": [],
   "source": [
    "#re-extract top traps as a list\n",
    "\n",
    "trap_temp = pd.DataFrame(top_wnv_traps).T\n",
    "\n",
    "key_traps = [col for col in trap_temp.columns if \"trap\" in col]"
   ]
  },
  {
   "cell_type": "code",
   "execution_count": 26,
   "metadata": {},
   "outputs": [
    {
     "data": {
      "text/plain": [
       "['species_CULEX PIPIENS',\n",
       " 'species_CULEX PIPIENS/RESTUANS',\n",
       " 'species_CULEX RESTUANS',\n",
       " 'month_6',\n",
       " 'month_7',\n",
       " 'month_8',\n",
       " 'month_9',\n",
       " 'month_10',\n",
       " 'year_2007',\n",
       " 'year_2009',\n",
       " 'year_2011',\n",
       " 'year_2013',\n",
       " 'temp_avg',\n",
       " 'wetbulb_avg',\n",
       " 'dewpoint_avg',\n",
       " 'stnpressure_avg',\n",
       " 'relative_humidity',\n",
       " 'trap_T900',\n",
       " 'trap_T115',\n",
       " 'trap_T002',\n",
       " 'trap_T138',\n",
       " 'trap_T003',\n",
       " 'trap_T011',\n",
       " 'trap_T128',\n",
       " 'trap_T225',\n",
       " 'trap_T013',\n",
       " 'trap_T903',\n",
       " 'trap_T008',\n",
       " 'trap_T028',\n",
       " 'trap_T009',\n",
       " 'trap_T223',\n",
       " 'trap_T114',\n",
       " 'trap_T221',\n",
       " 'trap_T086',\n",
       " 'trap_T082',\n",
       " 'trap_T061',\n",
       " 'trap_T030',\n",
       " 'trap_T135',\n",
       " 'trap_T027',\n",
       " 'trap_T016',\n",
       " 'trap_T235',\n",
       " 'trap_T233',\n",
       " 'trap_T090',\n",
       " 'trap_T230',\n",
       " 'trap_T143',\n",
       " 'trap_T103',\n",
       " 'trap_T096',\n",
       " 'trap_T151',\n",
       " 'trap_T228',\n",
       " 'trap_T155',\n",
       " 'trap_T158',\n",
       " 'trap_T066',\n",
       " 'trap_T054']"
      ]
     },
     "execution_count": 26,
     "metadata": {},
     "output_type": "execute_result"
    }
   ],
   "source": [
    "#combine all our chosen features into one\n",
    "\n",
    "features = key_species + key_periods + key_weather + key_traps\n",
    "\n",
    "features"
   ]
  },
  {
   "cell_type": "code",
   "execution_count": 27,
   "metadata": {},
   "outputs": [],
   "source": [
    "X = train[features]\n",
    "y = train[\"wnvpresent\"]"
   ]
  },
  {
   "cell_type": "markdown",
   "metadata": {},
   "source": [
    "## Baseline Score: ROC AUC of 0.5"
   ]
  },
  {
   "cell_type": "markdown",
   "metadata": {},
   "source": [
    "Let's calculate what the baseline is:"
   ]
  },
  {
   "cell_type": "code",
   "execution_count": 28,
   "metadata": {},
   "outputs": [
    {
     "data": {
      "text/plain": [
       "0    9955\n",
       "1     551\n",
       "Name: wnvpresent, dtype: int64"
      ]
     },
     "execution_count": 28,
     "metadata": {},
     "output_type": "execute_result"
    }
   ],
   "source": [
    "train['wnvpresent'].value_counts()"
   ]
  },
  {
   "cell_type": "markdown",
   "metadata": {},
   "source": [
    "If we take the baseline score as the majority class at `0.947554` accuracy, it's quite a tough benchmark to score better against thanks to the skewed distribution of our target columns.\n",
    "\n",
    "However, because this is a binary classification model that has a severely imbalanced class (9955 negative in majority vs minority class at 551 observations), it makes more sense to compare the baseline against its ROC AUC. This baseline being a \"no-skill classifier\". This is one that cannot discriminate between the classes and would predict a random class or a constant class in all cases. A model with no skill is represented as with an **ROC AUC score of `0.5`, and thus is the baseline score**: https://machinelearningmastery.com/roc-curves-and-precision-recall-curves-for-classification-in-python/\n",
    "\n",
    "* I will have to focus on tight feature selection to ensure our modelling has a chance to beat this high baseline.\n",
    "\n",
    "* I'll also have to readjust scaling of weightage of majority vs minority class where possible in my models. \n",
    "\n",
    "For example, using XGBoost, it has a class weightage parameter called `scale_pos_weight`. I set this that weightage to 18, whcih is the factor resulting from dividing 9955 no wnv cases divided the mere 551 wnv present. \n",
    "\n",
    "That weight is a penalty that will give classification errors made by the model on the minority class (WNV positive class) 18 times more impactful, and in turn causing 18 times more corrections over errors made on the majority class, based on what I learnt here: https://machinelearningmastery.com/xgboost-for-imbalanced-classification/."
   ]
  },
  {
   "cell_type": "markdown",
   "metadata": {},
   "source": [
    "## Train, Validation and Test Splits\n",
    "\n",
    "Because we have a large dataset, we're creating a **validation set separate from train and test set**.  "
   ]
  },
  {
   "cell_type": "code",
   "execution_count": 29,
   "metadata": {},
   "outputs": [],
   "source": [
    "X_train, X_test, y_train, y_test = train_test_split(X, y, test_size=0.2, random_state=42)\n",
    "\n",
    "X_train, X_val, y_train, y_val = train_test_split(X_train, y_train, test_size=0.25, random_state=42)"
   ]
  },
  {
   "cell_type": "markdown",
   "metadata": {},
   "source": [
    "## Modelling and Scoring Function"
   ]
  },
  {
   "cell_type": "markdown",
   "metadata": {},
   "source": [
    "We write a gigantic function that will model 4 major training models for our classification problem as to whether an observation has WNV, and then compare that with the validation set. \n",
    "\n",
    "This function will return the classification metrics, the best paramaters, and even a dataframed confusion matrix - and we can also use this to evaluate our metrics against the validation set. \n",
    "\n",
    "The 4 models are:\n",
    "1. K-Nearest Neighbors\n",
    "2. Random Forest Classifier\n",
    "3. Gradient Boosting Classifier\n",
    "5. XGBoosting Classifier\n",
    "5. Support Vector Machine Classifier\n",
    "\n",
    "We'll use `RobustScaler()` to standardize our data's scaling (except when using Random Forest). This is because we saw a fair number of outliers in the distributions that were already explored in the EDA notebook. Robust Scaler is so named because it handles outliers better."
   ]
  },
  {
   "cell_type": "code",
   "execution_count": 21,
   "metadata": {},
   "outputs": [],
   "source": [
    "def grid_modeller_val_scorer(classifier): #takes arguments \"knn\", \"rf\", \"gb\", \"xgb\" \"svc\"\n",
    "    \n",
    "    #all 5 classifier models correspond respectively to these 5 instantiated models:\n",
    "    clf_knn = KNeighborsClassifier()\n",
    "    clf_rf  = RandomForestClassifier()\n",
    "    clf_gb = GradientBoostingClassifier()\n",
    "    clf_svc = svm.SVC(class_weight=\"balanced\") #i did this to account for the uneven classes\n",
    "    clf_xgb = XGBClassifier()\n",
    "    \n",
    "    if classifier == \"knn\":\n",
    "        pipe_knn = Pipeline([('scaler', RobustScaler()), \n",
    "                             ('clf_knn', clf_knn),])\n",
    "        \n",
    "        param_grid_knn = {'clf_knn__n_neighbors': [1, 2, 3, 4, 5, 6, 7, 8, 9],\n",
    "                      'clf_knn__p': [1, 2],\n",
    "                      'clf_knn__leaf_size': [10, 20, 30, 40, 50]}\n",
    "\n",
    "        gs = GridSearchCV(pipe_knn, param_grid_knn, cv=5, n_jobs=-1, verbose=1, \n",
    "                          scoring = \"roc_auc\") \n",
    "        gs.fit(X_train, y_train)\n",
    "    \n",
    "    elif classifier == \"rf\":\n",
    "        \n",
    "        #run grid search on Random Forest params:\n",
    "        param_grid_rf  = [{'n_estimators': [10, 50, 100, 250, 500, 1000],\n",
    "                           'min_samples_leaf': [1, 3, 5],\n",
    "                           'max_features': ['sqrt', 'log2'], \n",
    "                           'class_weight':[{0: w} for w in [1, 2, 4, 6, 10]]}] \n",
    "                            #another class re-weighting attempt\n",
    "    \n",
    "        gs = GridSearchCV(clf_rf, param_grid_rf, cv=5, n_jobs=-1, verbose=1,\n",
    "                         scoring = \"roc_auc\") \n",
    "        gs.fit(X_train, y_train)\n",
    "                            \n",
    "    elif classifier == \"gb\":\n",
    "        #create Gradient Boosting pipeline:\n",
    "        pipe_gb = Pipeline([('scaler', RobustScaler()),\n",
    "                            (\"clf_gb\",clf_gb),\n",
    "                           ])\n",
    "        #run grid search on Gradient Boosting Params\n",
    "        param_grid_gb = [{'clf_gb__max_depth': [2,3,4,5],\n",
    "                         'clf_gb__n_estimators': [100, 125, 150, 200],\n",
    "                         'clf_gb__learning_rate': [.08, .1, .12]}]\n",
    "    \n",
    "        gs = GridSearchCV(pipe_gb, param_grid_gb, cv=5, n_jobs=-1, verbose=1,\n",
    "                         scoring = \"roc_auc\") \n",
    "        gs.fit(X_train, y_train)\n",
    "    \n",
    "    elif classifier == \"xgb\":\n",
    "        #create Gradient Boosting pipeline:\n",
    "        pipe_xgb = Pipeline([('scaler', RobustScaler()),\n",
    "                            (\"clf_xgb\",clf_xgb),\n",
    "                           ])\n",
    "        #run grid search on Xtreme Gradient Boosting Params\n",
    "        param_grid_xgb = [{'clf_xgb__max_depth': [2,3,4,5,6,7,8,9,10],\n",
    "                         'clf_xgb__n_estimators': [100, 125, 150, 200, 250],\n",
    "                         'clf_xgb__learning_rate': [.1, .01, .05],\n",
    "                           'clf_xgb__scale_pos_weight':list(range(18,52,2))\n",
    "                          }]\n",
    "                        \n",
    "        gs = GridSearchCV(pipe_xgb, param_grid_xgb, cv=5, n_jobs=-1, verbose=1,\n",
    "                         scoring = \"roc_auc\") \n",
    "        gs.fit(X_train, y_train)\n",
    "                            \n",
    "    elif classifier == \"svc\":\n",
    "        #create SVM pipeline for classification and scaling\n",
    "        pipe_svm = Pipeline([('scaler', RobustScaler()),\n",
    "                             (\"clf_svc\", clf_svc), \n",
    "                            ])\n",
    "        #run grid search on SVC paramaters\n",
    "        param_grid_svm = {\"clf_svc__C\":[1,10], \"clf_svc__gamma\":[0.001, 0.01, 0.1, 1], \n",
    "                          \"clf_svc__kernel\":('linear', 'rbf','sigmoid','poly')}  \n",
    "        \n",
    "        gs = GridSearchCV(pipe_svm, param_grid_svm, cv=5, n_jobs=-1, verbose=1,\n",
    "                         scoring = \"roc_auc\") \n",
    "        gs.fit(X_train, y_train)\n",
    "    \n",
    "    #get scores\n",
    "    train_score = gs.score(X_train, y_train)\n",
    "    val_score = gs.score(X_val, y_val)\n",
    "        \n",
    "    #get confusion matrix and classification metrics\n",
    "    y_pred = gs.predict(X_val)\n",
    "    cm = confusion_matrix(y_val, y_pred)\n",
    "    cm_df = pd.DataFrame(cm, columns=[\"pred_WNV\",\"pred_no_WNV\"], index=[\"actual_WNV\",\"actual_no_WNV\"])\n",
    "        \n",
    "    #get ROC AUC and F1 Score\n",
    "    auc = roc_auc_score(y_val, y_pred)\n",
    "    f1_score = metrics.f1_score(y_val, y_pred)\n",
    "    precision = metrics.precision_score(y_val, y_pred)\n",
    "    recall = metrics.recall_score(y_val, y_pred)\n",
    "    \n",
    "    metrics_list= [train_score, val_score, gs.best_score_, auc, f1_score, precision, recall]\n",
    "\n",
    "    \n",
    "    #print out accuracy, estimator and parameters from GridSearchCV\n",
    "    print(f'best train accuracy score = {train_score}')\n",
    "    print(f'best validation accuracy score = {val_score}')\n",
    "    print(f'best grid search score = {gs.best_score_}')\n",
    "    print(f'ROC AUC score = {auc}')\n",
    "    print(f'f1_score={f1_score}')\n",
    "    print(f\"Precision - ability not to label as positive a sample that is negative = {precision}\")\n",
    "    print(f\"Sensitivity or Recall - ability to find all the positive samples = {recall}\")\n",
    "    print(f'best estimator = {gs.best_estimator_}')\n",
    "    print(f'best parameters = {gs.best_params_}')\n",
    "    print(f\"metrics list for {classifier}:\", metrics_list)\n",
    "\n",
    "    #prints confusion matrix\n",
    "    return cm_df  "
   ]
  },
  {
   "cell_type": "code",
   "execution_count": 22,
   "metadata": {},
   "outputs": [
    {
     "name": "stdout",
     "output_type": "stream",
     "text": [
      "Fitting 5 folds for each of 90 candidates, totalling 450 fits\n"
     ]
    },
    {
     "name": "stderr",
     "output_type": "stream",
     "text": [
      "[Parallel(n_jobs=-1)]: Using backend LokyBackend with 8 concurrent workers.\n",
      "[Parallel(n_jobs=-1)]: Done  52 tasks      | elapsed:    1.2s\n",
      "[Parallel(n_jobs=-1)]: Done 352 tasks      | elapsed:    6.6s\n",
      "[Parallel(n_jobs=-1)]: Done 450 out of 450 | elapsed:    8.6s finished\n"
     ]
    },
    {
     "name": "stdout",
     "output_type": "stream",
     "text": [
      "best train accuracy score = 0.8823361609223698\n",
      "best validation accuracy score = 0.6691099259423012\n",
      "best grid search score = 0.717590175522107\n",
      "ROC AUC score = 0.5043361519472385\n",
      "f1_score=0.01801801801801802\n",
      "Precision - ability not to label as positive a sample that is negative = 0.5\n",
      "Sensitivity or Recall - ability to find all the positive samples = 0.009174311926605505\n",
      "best estimator = Pipeline(memory=None,\n",
      "         steps=[('scaler',\n",
      "                 RobustScaler(copy=True, quantile_range=(25.0, 75.0),\n",
      "                              with_centering=True, with_scaling=True)),\n",
      "                ('clf_knn',\n",
      "                 KNeighborsClassifier(algorithm='auto', leaf_size=10,\n",
      "                                      metric='minkowski', metric_params=None,\n",
      "                                      n_jobs=None, n_neighbors=8, p=2,\n",
      "                                      weights='uniform'))],\n",
      "         verbose=False)\n",
      "best parameters = {'clf_knn__leaf_size': 10, 'clf_knn__n_neighbors': 8, 'clf_knn__p': 2}\n",
      "metrics list for knn: [0.8823361609223698, 0.6691099259423012, 0.717590175522107, 0.5043361519472385, 0.01801801801801802, 0.5, 0.009174311926605505]\n"
     ]
    },
    {
     "data": {
      "text/html": [
       "<div>\n",
       "<style scoped>\n",
       "    .dataframe tbody tr th:only-of-type {\n",
       "        vertical-align: middle;\n",
       "    }\n",
       "\n",
       "    .dataframe tbody tr th {\n",
       "        vertical-align: top;\n",
       "    }\n",
       "\n",
       "    .dataframe thead th {\n",
       "        text-align: right;\n",
       "    }\n",
       "</style>\n",
       "<table border=\"1\" class=\"dataframe\">\n",
       "  <thead>\n",
       "    <tr style=\"text-align: right;\">\n",
       "      <th></th>\n",
       "      <th>pred_WNV</th>\n",
       "      <th>pred_no_WNV</th>\n",
       "    </tr>\n",
       "  </thead>\n",
       "  <tbody>\n",
       "    <tr>\n",
       "      <th>actual_WNV</th>\n",
       "      <td>1991</td>\n",
       "      <td>1</td>\n",
       "    </tr>\n",
       "    <tr>\n",
       "      <th>actual_no_WNV</th>\n",
       "      <td>108</td>\n",
       "      <td>1</td>\n",
       "    </tr>\n",
       "  </tbody>\n",
       "</table>\n",
       "</div>"
      ],
      "text/plain": [
       "               pred_WNV  pred_no_WNV\n",
       "actual_WNV         1991            1\n",
       "actual_no_WNV       108            1"
      ]
     },
     "execution_count": 22,
     "metadata": {},
     "output_type": "execute_result"
    }
   ],
   "source": [
    "grid_modeller_val_scorer(\"knn\")"
   ]
  },
  {
   "cell_type": "code",
   "execution_count": 23,
   "metadata": {},
   "outputs": [
    {
     "name": "stdout",
     "output_type": "stream",
     "text": [
      "Fitting 5 folds for each of 180 candidates, totalling 900 fits\n"
     ]
    },
    {
     "name": "stderr",
     "output_type": "stream",
     "text": [
      "[Parallel(n_jobs=-1)]: Using backend LokyBackend with 8 concurrent workers.\n",
      "[Parallel(n_jobs=-1)]: Done  34 tasks      | elapsed:    6.9s\n",
      "[Parallel(n_jobs=-1)]: Done 184 tasks      | elapsed:   46.6s\n",
      "[Parallel(n_jobs=-1)]: Done 434 tasks      | elapsed:  2.0min\n",
      "[Parallel(n_jobs=-1)]: Done 784 tasks      | elapsed:  3.6min\n",
      "[Parallel(n_jobs=-1)]: Done 900 out of 900 | elapsed:  4.2min finished\n"
     ]
    },
    {
     "name": "stdout",
     "output_type": "stream",
     "text": [
      "best train accuracy score = 0.9051126630117858\n",
      "best validation accuracy score = 0.8094902545963671\n",
      "best grid search score = 0.8373981064056842\n",
      "ROC AUC score = 0.5\n",
      "f1_score=0.0\n",
      "Precision - ability not to label as positive a sample that is negative = 0.0\n",
      "Sensitivity or Recall - ability to find all the positive samples = 0.0\n",
      "best estimator = RandomForestClassifier(bootstrap=True, ccp_alpha=0.0, class_weight={0: 6},\n",
      "                       criterion='gini', max_depth=None, max_features='log2',\n",
      "                       max_leaf_nodes=None, max_samples=None,\n",
      "                       min_impurity_decrease=0.0, min_impurity_split=None,\n",
      "                       min_samples_leaf=5, min_samples_split=2,\n",
      "                       min_weight_fraction_leaf=0.0, n_estimators=1000,\n",
      "                       n_jobs=None, oob_score=False, random_state=None,\n",
      "                       verbose=0, warm_start=False)\n",
      "best parameters = {'class_weight': {0: 6}, 'max_features': 'log2', 'min_samples_leaf': 5, 'n_estimators': 1000}\n",
      "metrics list for rf: [0.9051126630117858, 0.8094902545963671, 0.8373981064056842, 0.5, 0.0, 0.0, 0.0]\n"
     ]
    },
    {
     "name": "stderr",
     "output_type": "stream",
     "text": [
      "/Users/grahamlim/opt/anaconda3/lib/python3.7/site-packages/sklearn/metrics/_classification.py:1272: UndefinedMetricWarning:\n",
      "\n",
      "Precision is ill-defined and being set to 0.0 due to no predicted samples. Use `zero_division` parameter to control this behavior.\n",
      "\n"
     ]
    },
    {
     "data": {
      "text/html": [
       "<div>\n",
       "<style scoped>\n",
       "    .dataframe tbody tr th:only-of-type {\n",
       "        vertical-align: middle;\n",
       "    }\n",
       "\n",
       "    .dataframe tbody tr th {\n",
       "        vertical-align: top;\n",
       "    }\n",
       "\n",
       "    .dataframe thead th {\n",
       "        text-align: right;\n",
       "    }\n",
       "</style>\n",
       "<table border=\"1\" class=\"dataframe\">\n",
       "  <thead>\n",
       "    <tr style=\"text-align: right;\">\n",
       "      <th></th>\n",
       "      <th>pred_WNV</th>\n",
       "      <th>pred_no_WNV</th>\n",
       "    </tr>\n",
       "  </thead>\n",
       "  <tbody>\n",
       "    <tr>\n",
       "      <th>actual_WNV</th>\n",
       "      <td>1992</td>\n",
       "      <td>0</td>\n",
       "    </tr>\n",
       "    <tr>\n",
       "      <th>actual_no_WNV</th>\n",
       "      <td>109</td>\n",
       "      <td>0</td>\n",
       "    </tr>\n",
       "  </tbody>\n",
       "</table>\n",
       "</div>"
      ],
      "text/plain": [
       "               pred_WNV  pred_no_WNV\n",
       "actual_WNV         1992            0\n",
       "actual_no_WNV       109            0"
      ]
     },
     "execution_count": 23,
     "metadata": {},
     "output_type": "execute_result"
    }
   ],
   "source": [
    "grid_modeller_val_scorer(\"rf\")"
   ]
  },
  {
   "cell_type": "code",
   "execution_count": 24,
   "metadata": {},
   "outputs": [
    {
     "name": "stdout",
     "output_type": "stream",
     "text": [
      "Fitting 5 folds for each of 48 candidates, totalling 240 fits\n"
     ]
    },
    {
     "name": "stderr",
     "output_type": "stream",
     "text": [
      "[Parallel(n_jobs=-1)]: Using backend LokyBackend with 8 concurrent workers.\n",
      "[Parallel(n_jobs=-1)]: Done  34 tasks      | elapsed:    5.4s\n",
      "[Parallel(n_jobs=-1)]: Done 184 tasks      | elapsed:   40.4s\n",
      "[Parallel(n_jobs=-1)]: Done 240 out of 240 | elapsed:   55.1s finished\n"
     ]
    },
    {
     "name": "stdout",
     "output_type": "stream",
     "text": [
      "best train accuracy score = 0.8930059544828115\n",
      "best validation accuracy score = 0.8029203971850706\n",
      "best grid search score = 0.8355334598307268\n",
      "ROC AUC score = 0.517344607788954\n",
      "f1_score=0.06837606837606838\n",
      "Precision - ability not to label as positive a sample that is negative = 0.5\n",
      "Sensitivity or Recall - ability to find all the positive samples = 0.03669724770642202\n",
      "best estimator = Pipeline(memory=None,\n",
      "         steps=[('scaler',\n",
      "                 RobustScaler(copy=True, quantile_range=(25.0, 75.0),\n",
      "                              with_centering=True, with_scaling=True)),\n",
      "                ('clf_gb',\n",
      "                 GradientBoostingClassifier(ccp_alpha=0.0,\n",
      "                                            criterion='friedman_mse', init=None,\n",
      "                                            learning_rate=0.12, loss='deviance',\n",
      "                                            max_depth=2, max_features=None,\n",
      "                                            max_leaf_nodes=None,\n",
      "                                            min_impurity_decrease=0.0,\n",
      "                                            min_impurity_split=None,\n",
      "                                            min_samples_leaf=1,\n",
      "                                            min_samples_split=2,\n",
      "                                            min_weight_fraction_leaf=0.0,\n",
      "                                            n_estimators=200,\n",
      "                                            n_iter_no_change=None,\n",
      "                                            presort='deprecated',\n",
      "                                            random_state=None, subsample=1.0,\n",
      "                                            tol=0.0001, validation_fraction=0.1,\n",
      "                                            verbose=0, warm_start=False))],\n",
      "         verbose=False)\n",
      "best parameters = {'clf_gb__learning_rate': 0.12, 'clf_gb__max_depth': 2, 'clf_gb__n_estimators': 200}\n",
      "metrics list for gb: [0.8930059544828115, 0.8029203971850706, 0.8355334598307268, 0.517344607788954, 0.06837606837606838, 0.5, 0.03669724770642202]\n"
     ]
    },
    {
     "data": {
      "text/html": [
       "<div>\n",
       "<style scoped>\n",
       "    .dataframe tbody tr th:only-of-type {\n",
       "        vertical-align: middle;\n",
       "    }\n",
       "\n",
       "    .dataframe tbody tr th {\n",
       "        vertical-align: top;\n",
       "    }\n",
       "\n",
       "    .dataframe thead th {\n",
       "        text-align: right;\n",
       "    }\n",
       "</style>\n",
       "<table border=\"1\" class=\"dataframe\">\n",
       "  <thead>\n",
       "    <tr style=\"text-align: right;\">\n",
       "      <th></th>\n",
       "      <th>pred_WNV</th>\n",
       "      <th>pred_no_WNV</th>\n",
       "    </tr>\n",
       "  </thead>\n",
       "  <tbody>\n",
       "    <tr>\n",
       "      <th>actual_WNV</th>\n",
       "      <td>1988</td>\n",
       "      <td>4</td>\n",
       "    </tr>\n",
       "    <tr>\n",
       "      <th>actual_no_WNV</th>\n",
       "      <td>105</td>\n",
       "      <td>4</td>\n",
       "    </tr>\n",
       "  </tbody>\n",
       "</table>\n",
       "</div>"
      ],
      "text/plain": [
       "               pred_WNV  pred_no_WNV\n",
       "actual_WNV         1988            4\n",
       "actual_no_WNV       105            4"
      ]
     },
     "execution_count": 24,
     "metadata": {},
     "output_type": "execute_result"
    }
   ],
   "source": [
    "grid_modeller_val_scorer(\"gb\")"
   ]
  },
  {
   "cell_type": "code",
   "execution_count": 25,
   "metadata": {},
   "outputs": [
    {
     "name": "stdout",
     "output_type": "stream",
     "text": [
      "Fitting 5 folds for each of 2295 candidates, totalling 11475 fits\n"
     ]
    },
    {
     "name": "stderr",
     "output_type": "stream",
     "text": [
      "[Parallel(n_jobs=-1)]: Using backend LokyBackend with 8 concurrent workers.\n",
      "[Parallel(n_jobs=-1)]: Done  34 tasks      | elapsed:    5.7s\n",
      "[Parallel(n_jobs=-1)]: Done 184 tasks      | elapsed:   29.4s\n",
      "[Parallel(n_jobs=-1)]: Done 434 tasks      | elapsed:  1.7min\n",
      "[Parallel(n_jobs=-1)]: Done 784 tasks      | elapsed:  3.5min\n",
      "[Parallel(n_jobs=-1)]: Done 1234 tasks      | elapsed:  6.8min\n",
      "[Parallel(n_jobs=-1)]: Done 1784 tasks      | elapsed: 11.6min\n",
      "[Parallel(n_jobs=-1)]: Done 2434 tasks      | elapsed: 19.0min\n",
      "[Parallel(n_jobs=-1)]: Done 3184 tasks      | elapsed: 29.8min\n",
      "[Parallel(n_jobs=-1)]: Done 4034 tasks      | elapsed: 42.5min\n",
      "[Parallel(n_jobs=-1)]: Done 4984 tasks      | elapsed: 48.4min\n",
      "[Parallel(n_jobs=-1)]: Done 6034 tasks      | elapsed: 59.3min\n",
      "[Parallel(n_jobs=-1)]: Done 7184 tasks      | elapsed: 76.8min\n",
      "[Parallel(n_jobs=-1)]: Done 8434 tasks      | elapsed: 91.0min\n",
      "[Parallel(n_jobs=-1)]: Done 9784 tasks      | elapsed: 105.8min\n",
      "[Parallel(n_jobs=-1)]: Done 11234 tasks      | elapsed: 129.1min\n",
      "[Parallel(n_jobs=-1)]: Done 11475 out of 11475 | elapsed: 135.4min finished\n"
     ]
    },
    {
     "name": "stdout",
     "output_type": "stream",
     "text": [
      "best train accuracy score = 0.8657540058071845\n",
      "best validation accuracy score = 0.8056376883681515\n",
      "best grid search score = 0.8345674484863264\n",
      "ROC AUC score = 0.7328925794922811\n",
      "f1_score=0.21254801536491677\n",
      "Precision - ability not to label as positive a sample that is negative = 0.12351190476190477\n",
      "Sensitivity or Recall - ability to find all the positive samples = 0.7614678899082569\n",
      "best estimator = Pipeline(memory=None,\n",
      "         steps=[('scaler',\n",
      "                 RobustScaler(copy=True, quantile_range=(25.0, 75.0),\n",
      "                              with_centering=True, with_scaling=True)),\n",
      "                ('clf_xgb',\n",
      "                 XGBClassifier(base_score=0.5, booster='gbtree',\n",
      "                               colsample_bylevel=1, colsample_bynode=1,\n",
      "                               colsample_bytree=1, gamma=0, gpu_id=-1,\n",
      "                               importance_type='gain',\n",
      "                               interaction_constraints='', learning_rate=0.01,\n",
      "                               max_delta_step=0, max_depth=4,\n",
      "                               min_child_weight=1, missing=nan,\n",
      "                               monotone_constraints='()', n_estimators=250,\n",
      "                               n_jobs=0, num_parallel_tree=1,\n",
      "                               objective='binary:logistic', random_state=0,\n",
      "                               reg_alpha=0, reg_lambda=1, scale_pos_weight=20,\n",
      "                               subsample=1, tree_method='exact',\n",
      "                               validate_parameters=1, verbosity=None))],\n",
      "         verbose=False)\n",
      "best parameters = {'clf_xgb__learning_rate': 0.01, 'clf_xgb__max_depth': 4, 'clf_xgb__n_estimators': 250, 'clf_xgb__scale_pos_weight': 20}\n",
      "metrics list for xgb: [0.8657540058071845, 0.8056376883681515, 0.8345674484863264, 0.7328925794922811, 0.21254801536491677, 0.12351190476190477, 0.7614678899082569]\n"
     ]
    },
    {
     "data": {
      "text/html": [
       "<div>\n",
       "<style scoped>\n",
       "    .dataframe tbody tr th:only-of-type {\n",
       "        vertical-align: middle;\n",
       "    }\n",
       "\n",
       "    .dataframe tbody tr th {\n",
       "        vertical-align: top;\n",
       "    }\n",
       "\n",
       "    .dataframe thead th {\n",
       "        text-align: right;\n",
       "    }\n",
       "</style>\n",
       "<table border=\"1\" class=\"dataframe\">\n",
       "  <thead>\n",
       "    <tr style=\"text-align: right;\">\n",
       "      <th></th>\n",
       "      <th>pred_WNV</th>\n",
       "      <th>pred_no_WNV</th>\n",
       "    </tr>\n",
       "  </thead>\n",
       "  <tbody>\n",
       "    <tr>\n",
       "      <th>actual_WNV</th>\n",
       "      <td>1403</td>\n",
       "      <td>589</td>\n",
       "    </tr>\n",
       "    <tr>\n",
       "      <th>actual_no_WNV</th>\n",
       "      <td>26</td>\n",
       "      <td>83</td>\n",
       "    </tr>\n",
       "  </tbody>\n",
       "</table>\n",
       "</div>"
      ],
      "text/plain": [
       "               pred_WNV  pred_no_WNV\n",
       "actual_WNV         1403          589\n",
       "actual_no_WNV        26           83"
      ]
     },
     "execution_count": 25,
     "metadata": {},
     "output_type": "execute_result"
    }
   ],
   "source": [
    "grid_modeller_val_scorer(\"xgb\")"
   ]
  },
  {
   "cell_type": "code",
   "execution_count": 26,
   "metadata": {},
   "outputs": [
    {
     "name": "stdout",
     "output_type": "stream",
     "text": [
      "Fitting 5 folds for each of 32 candidates, totalling 160 fits\n"
     ]
    },
    {
     "name": "stderr",
     "output_type": "stream",
     "text": [
      "[Parallel(n_jobs=-1)]: Using backend LokyBackend with 8 concurrent workers.\n",
      "[Parallel(n_jobs=-1)]: Done  34 tasks      | elapsed:   16.5s\n",
      "[Parallel(n_jobs=-1)]: Done 160 out of 160 | elapsed:  1.0min finished\n"
     ]
    },
    {
     "name": "stdout",
     "output_type": "stream",
     "text": [
      "best train accuracy score = 0.8734031755896472\n",
      "best validation accuracy score = 0.802835193986957\n",
      "best grid search score = 0.8379137570552869\n",
      "ROC AUC score = 0.7181961792122618\n",
      "f1_score=0.20224719101123595\n",
      "Precision - ability not to label as positive a sample that is negative = 0.11705202312138728\n",
      "Sensitivity or Recall - ability to find all the positive samples = 0.7431192660550459\n",
      "best estimator = Pipeline(memory=None,\n",
      "         steps=[('scaler',\n",
      "                 RobustScaler(copy=True, quantile_range=(25.0, 75.0),\n",
      "                              with_centering=True, with_scaling=True)),\n",
      "                ('clf_svc',\n",
      "                 SVC(C=10, break_ties=False, cache_size=200,\n",
      "                     class_weight='balanced', coef0=0.0,\n",
      "                     decision_function_shape='ovr', degree=3, gamma=0.01,\n",
      "                     kernel='rbf', max_iter=-1, probability=False,\n",
      "                     random_state=None, shrinking=True, tol=0.001,\n",
      "                     verbose=False))],\n",
      "         verbose=False)\n",
      "best parameters = {'clf_svc__C': 10, 'clf_svc__gamma': 0.01, 'clf_svc__kernel': 'rbf'}\n",
      "metrics list for svc: [0.8734031755896472, 0.802835193986957, 0.8379137570552869, 0.7181961792122618, 0.20224719101123595, 0.11705202312138728, 0.7431192660550459]\n"
     ]
    },
    {
     "data": {
      "text/html": [
       "<div>\n",
       "<style scoped>\n",
       "    .dataframe tbody tr th:only-of-type {\n",
       "        vertical-align: middle;\n",
       "    }\n",
       "\n",
       "    .dataframe tbody tr th {\n",
       "        vertical-align: top;\n",
       "    }\n",
       "\n",
       "    .dataframe thead th {\n",
       "        text-align: right;\n",
       "    }\n",
       "</style>\n",
       "<table border=\"1\" class=\"dataframe\">\n",
       "  <thead>\n",
       "    <tr style=\"text-align: right;\">\n",
       "      <th></th>\n",
       "      <th>pred_WNV</th>\n",
       "      <th>pred_no_WNV</th>\n",
       "    </tr>\n",
       "  </thead>\n",
       "  <tbody>\n",
       "    <tr>\n",
       "      <th>actual_WNV</th>\n",
       "      <td>1381</td>\n",
       "      <td>611</td>\n",
       "    </tr>\n",
       "    <tr>\n",
       "      <th>actual_no_WNV</th>\n",
       "      <td>28</td>\n",
       "      <td>81</td>\n",
       "    </tr>\n",
       "  </tbody>\n",
       "</table>\n",
       "</div>"
      ],
      "text/plain": [
       "               pred_WNV  pred_no_WNV\n",
       "actual_WNV         1381          611\n",
       "actual_no_WNV        28           81"
      ]
     },
     "execution_count": 26,
     "metadata": {},
     "output_type": "execute_result"
    }
   ],
   "source": [
    "grid_modeller_val_scorer(\"svc\")"
   ]
  },
  {
   "cell_type": "code",
   "execution_count": 30,
   "metadata": {},
   "outputs": [
    {
     "data": {
      "text/html": [
       "<div>\n",
       "<style scoped>\n",
       "    .dataframe tbody tr th:only-of-type {\n",
       "        vertical-align: middle;\n",
       "    }\n",
       "\n",
       "    .dataframe tbody tr th {\n",
       "        vertical-align: top;\n",
       "    }\n",
       "\n",
       "    .dataframe thead th {\n",
       "        text-align: right;\n",
       "    }\n",
       "</style>\n",
       "<table border=\"1\" class=\"dataframe\">\n",
       "  <thead>\n",
       "    <tr style=\"text-align: right;\">\n",
       "      <th></th>\n",
       "      <th>train_score</th>\n",
       "      <th>val_score</th>\n",
       "      <th>gs.best_score_</th>\n",
       "      <th>auc</th>\n",
       "      <th>f1_score</th>\n",
       "      <th>precision</th>\n",
       "      <th>recall</th>\n",
       "    </tr>\n",
       "  </thead>\n",
       "  <tbody>\n",
       "    <tr>\n",
       "      <th>K-Nearest Neighbours</th>\n",
       "      <td>0.8823</td>\n",
       "      <td>0.6691</td>\n",
       "      <td>0.7176</td>\n",
       "      <td>0.5043</td>\n",
       "      <td>0.0180</td>\n",
       "      <td>0.5000</td>\n",
       "      <td>0.0092</td>\n",
       "    </tr>\n",
       "    <tr>\n",
       "      <th>Random Forests</th>\n",
       "      <td>0.9051</td>\n",
       "      <td>0.8095</td>\n",
       "      <td>0.8374</td>\n",
       "      <td>0.5000</td>\n",
       "      <td>0.0000</td>\n",
       "      <td>0.0000</td>\n",
       "      <td>0.0000</td>\n",
       "    </tr>\n",
       "    <tr>\n",
       "      <th>Gradient Boosting</th>\n",
       "      <td>0.8930</td>\n",
       "      <td>0.8029</td>\n",
       "      <td>0.8355</td>\n",
       "      <td>0.5173</td>\n",
       "      <td>0.0684</td>\n",
       "      <td>0.5000</td>\n",
       "      <td>0.0367</td>\n",
       "    </tr>\n",
       "    <tr>\n",
       "      <th>XGB</th>\n",
       "      <td>0.8658</td>\n",
       "      <td>0.8056</td>\n",
       "      <td>0.8346</td>\n",
       "      <td>0.7329</td>\n",
       "      <td>0.2125</td>\n",
       "      <td>0.1235</td>\n",
       "      <td>0.7615</td>\n",
       "    </tr>\n",
       "    <tr>\n",
       "      <th>Support Vector Machine</th>\n",
       "      <td>0.8734</td>\n",
       "      <td>0.8028</td>\n",
       "      <td>0.8379</td>\n",
       "      <td>0.7182</td>\n",
       "      <td>0.2022</td>\n",
       "      <td>0.1171</td>\n",
       "      <td>0.7431</td>\n",
       "    </tr>\n",
       "  </tbody>\n",
       "</table>\n",
       "</div>"
      ],
      "text/plain": [
       "                        train_score  val_score  gs.best_score_     auc  \\\n",
       "K-Nearest Neighbours         0.8823     0.6691          0.7176  0.5043   \n",
       "Random Forests               0.9051     0.8095          0.8374  0.5000   \n",
       "Gradient Boosting            0.8930     0.8029          0.8355  0.5173   \n",
       "XGB                          0.8658     0.8056          0.8346  0.7329   \n",
       "Support Vector Machine       0.8734     0.8028          0.8379  0.7182   \n",
       "\n",
       "                        f1_score  precision  recall  \n",
       "K-Nearest Neighbours      0.0180     0.5000  0.0092  \n",
       "Random Forests            0.0000     0.0000  0.0000  \n",
       "Gradient Boosting         0.0684     0.5000  0.0367  \n",
       "XGB                       0.2125     0.1235  0.7615  \n",
       "Support Vector Machine    0.2022     0.1171  0.7431  "
      ]
     },
     "execution_count": 30,
     "metadata": {},
     "output_type": "execute_result"
    }
   ],
   "source": [
    "# printing train score, test score, test error and precision into a dataframe\n",
    "\n",
    "metrics_list= [\"train_score\", \"val_score\", \"gs.best_score_\", \"auc\", \"f1_score\", \n",
    "               \"precision\", \"recall\"]\n",
    "\n",
    "knn = [0.8823361609223698, 0.6691099259423012, \n",
    "       0.717590175522107, 0.5043361519472385, \n",
    "       0.01801801801801802, 0.5, 0.009174311926605505]\n",
    "    \n",
    "rf = [0.9051126630117858, 0.8094902545963671, 0.8373981064056842, 0.5, 0.0, 0.0, 0.0]\n",
    "\n",
    "gb = [0.8930059544828115, 0.8029203971850706, 0.8355334598307268, 0.517344607788954, \n",
    "      0.06837606837606838, 0.5, 0.03669724770642202]\n",
    "\n",
    "xgb = [0.8657540058071845, 0.8056376883681515, \n",
    "       0.8345674484863264, 0.7328925794922811, \n",
    "       0.21254801536491677, 0.12351190476190477, 0.7614678899082569]\n",
    "\n",
    "svc = [0.8734031755896472, 0.802835193986957, \n",
    "       0.8379137570552869, 0.7181961792122618, \n",
    "       0.20224719101123595, 0.11705202312138728, 0.7431192660550459]\n",
    "\n",
    "eval_data = [knn, rf, gb, xgb, svc]\n",
    "\n",
    "column_names = metrics_list\n",
    "\n",
    "index = [\"K-Nearest Neighbours\", \"Random Forests\", \"Gradient Boosting\", \"XGB\",\n",
    "         \"Support Vector Machine\" ]\n",
    "\n",
    "eval_df = pd.DataFrame(eval_data, columns=column_names, index=index)\n",
    "    \n",
    "eval_df = eval_df.round(decimals = 4)\n",
    "eval_df"
   ]
  },
  {
   "cell_type": "markdown",
   "metadata": {},
   "source": [
    "### Modelling Evaluation "
   ]
  },
  {
   "cell_type": "markdown",
   "metadata": {},
   "source": [
    "Based on this table and our particular output reproduced above, we see the clear winner is XGB. It has the highest ROC AUC Score at `0.7329`. The best parameters are `learning_rate': 0.01`, `max_depth: 4`, `n_estimators': 250`, and **very very importantly, our class weight reassignment parameter:** `scale_pos_weight: 20`.\n",
    "\n",
    "This implies that based on the `auc` score, it ought to generalize well since the validation set scored **above `0.73`; the closer to 1, the better the model is at delineating between whether the virus is present or not.** "
   ]
  },
  {
   "cell_type": "markdown",
   "metadata": {},
   "source": [
    "### Recombining Initial Train and Validation Sets"
   ]
  },
  {
   "cell_type": "markdown",
   "metadata": {},
   "source": [
    "Now that we've selected the model with the best performance on the validation set, we're going to tetrain the model on the combined train + validation sets using our best hyperparameter combination. \n",
    "\n",
    "We will then estimate generalisation performance against another test split internally conducted on the full train set (not the Kaggle test.csv) . \n",
    "\n",
    "If the test error is similar to the validation error then we can conclude that it will most likely generalise well to unseen data."
   ]
  },
  {
   "cell_type": "code",
   "execution_count": 31,
   "metadata": {},
   "outputs": [],
   "source": [
    "#we're now going to retrain our model on the full training set \n",
    "\n",
    "X_train, X_test, y_train, y_test = train_test_split(X, y, test_size=0.2, random_state=42)\n"
   ]
  },
  {
   "cell_type": "markdown",
   "metadata": {},
   "source": [
    "Now we're going to fit the our chosen model onto the full train set using the best parameters discovered in our outputs earlier."
   ]
  },
  {
   "cell_type": "markdown",
   "metadata": {},
   "source": [
    "### Scaling Full Train and Test set on Robust Scaler"
   ]
  },
  {
   "cell_type": "markdown",
   "metadata": {},
   "source": [
    "We already used this in our earlier grid search, but didn't apply it to the full train and test data. The point of this is to transform data on a relatively standardized scale, except inlike `StandardScaler()`, `RobustScaler()` does a good job of accounting for outliers."
   ]
  },
  {
   "cell_type": "code",
   "execution_count": 32,
   "metadata": {},
   "outputs": [],
   "source": [
    "#firstly, we run the Robust Scaler that worked out well in our GridSearch\n",
    "\n",
    "rs = RobustScaler()\n",
    "rs.fit(X_train)\n",
    "X_train = rs.transform(X_train)\n",
    "X_test = rs.transform(X_test)"
   ]
  },
  {
   "cell_type": "markdown",
   "metadata": {},
   "source": [
    "### Fitting and Predicting Our XGB Production Model on the Recombined Train Set "
   ]
  },
  {
   "cell_type": "code",
   "execution_count": 33,
   "metadata": {},
   "outputs": [],
   "source": [
    "#Instantiate and fit our XGB Model\n",
    "xgb = XGBClassifier(learning_rate=0.01, max_depth=4, n_estimators = 250, scale_pos_weight = 20)"
   ]
  },
  {
   "cell_type": "code",
   "execution_count": 34,
   "metadata": {},
   "outputs": [
    {
     "data": {
      "text/plain": [
       "XGBClassifier(base_score=0.5, booster='gbtree', colsample_bylevel=1,\n",
       "              colsample_bynode=1, colsample_bytree=1, gamma=0, gpu_id=-1,\n",
       "              importance_type='gain', interaction_constraints='',\n",
       "              learning_rate=0.01, max_delta_step=0, max_depth=4,\n",
       "              min_child_weight=1, missing=nan, monotone_constraints='()',\n",
       "              n_estimators=250, n_jobs=0, num_parallel_tree=1,\n",
       "              objective='binary:logistic', random_state=0, reg_alpha=0,\n",
       "              reg_lambda=1, scale_pos_weight=20, subsample=1,\n",
       "              tree_method='exact', validate_parameters=1, verbosity=None)"
      ]
     },
     "execution_count": 34,
     "metadata": {},
     "output_type": "execute_result"
    }
   ],
   "source": [
    "xgb.fit(X_train, y_train)"
   ]
  },
  {
   "cell_type": "code",
   "execution_count": 35,
   "metadata": {},
   "outputs": [
    {
     "name": "stdout",
     "output_type": "stream",
     "text": [
      "best train accuracy score = 0.676582579723941\n",
      "best test accuracy score = 0.6745956232159848\n",
      "ROC AUC-scored cross validation score = 0.8213535699560166\n",
      "ROC AUC score = 0.7424242424242425\n",
      "f1_score=0.20833333333333334\n",
      "Precision - ability not to label as positive a sample that is negative = 0.11936339522546419\n",
      "Sensitivity or Recall - ability to find all the positive samples = 0.8181818181818182\n",
      "metrics list for xgb full train = [0.676582579723941, 0.6745956232159848, 0.8213535699560166, 0.7424242424242425, 0.20833333333333334, 0.11936339522546419, 0.8181818181818182]\n"
     ]
    }
   ],
   "source": [
    "#checking out the cross-validation score. \n",
    "auc_cross_val_score = np.mean(cross_val_score(xgb, X_train, y_train, scoring=\"roc_auc\"))\n",
    "train_score = xgb.score(X_train, y_train)\n",
    "test_score = xgb.score(X_test, y_test)\n",
    "\n",
    "# make predictions for test data\n",
    "y_pred = xgb.predict(X_test)\n",
    "cm = confusion_matrix(y_test, y_pred)\n",
    "cm_df = pd.DataFrame(cm, columns=[\"pred_WNV\",\"pred_no_WNV\"], index=[\"actual_WNV\",\"actual_no_WNV\"])\n",
    "        \n",
    "#get ROC AUC and F1 Score\n",
    "auc = roc_auc_score(y_test, y_pred)\n",
    "f1_score = metrics.f1_score(y_test, y_pred)\n",
    "precision = metrics.precision_score(y_test, y_pred)\n",
    "recall = metrics.recall_score(y_test, y_pred)\n",
    "    \n",
    "metrics_list= [train_score, test_score, auc_cross_val_score, auc, f1_score, precision, recall]\n",
    "\n",
    "#print out accuracy, estimator and parameters from GridSearchCV\n",
    "print(f'best train accuracy score = {train_score}')\n",
    "print(f'best test accuracy score = {test_score}')\n",
    "print(f'ROC AUC-scored cross validation score = {auc_cross_val_score}')\n",
    "print(f'ROC AUC score = {auc}')\n",
    "print(f'f1_score={f1_score}')\n",
    "print(f\"Precision - ability not to label as positive a sample that is negative = {precision}\")\n",
    "print(f\"Sensitivity or Recall - ability to find all the positive samples = {recall}\")\n",
    "print(f\"metrics list for xgb full train = {metrics_list}\")"
   ]
  },
  {
   "cell_type": "markdown",
   "metadata": {},
   "source": [
    "## Evaluating Our XGB Production Model on the Recombined Train Set "
   ]
  },
  {
   "cell_type": "code",
   "execution_count": 36,
   "metadata": {},
   "outputs": [
    {
     "data": {
      "text/html": [
       "<div>\n",
       "<style scoped>\n",
       "    .dataframe tbody tr th:only-of-type {\n",
       "        vertical-align: middle;\n",
       "    }\n",
       "\n",
       "    .dataframe tbody tr th {\n",
       "        vertical-align: top;\n",
       "    }\n",
       "\n",
       "    .dataframe thead th {\n",
       "        text-align: right;\n",
       "    }\n",
       "</style>\n",
       "<table border=\"1\" class=\"dataframe\">\n",
       "  <thead>\n",
       "    <tr style=\"text-align: right;\">\n",
       "      <th></th>\n",
       "      <th>train_score</th>\n",
       "      <th>val_score</th>\n",
       "      <th>gs.best_score_</th>\n",
       "      <th>auc</th>\n",
       "      <th>f1_score</th>\n",
       "      <th>precision</th>\n",
       "      <th>recall</th>\n",
       "      <th>test_score</th>\n",
       "      <th>auc_cross_val_score</th>\n",
       "    </tr>\n",
       "  </thead>\n",
       "  <tbody>\n",
       "    <tr>\n",
       "      <th>K-Nearest Neighbours</th>\n",
       "      <td>0.8823</td>\n",
       "      <td>0.6691</td>\n",
       "      <td>0.7176</td>\n",
       "      <td>0.5043</td>\n",
       "      <td>0.0180</td>\n",
       "      <td>0.5000</td>\n",
       "      <td>0.0092</td>\n",
       "      <td>NaN</td>\n",
       "      <td>NaN</td>\n",
       "    </tr>\n",
       "    <tr>\n",
       "      <th>Random Forests</th>\n",
       "      <td>0.9051</td>\n",
       "      <td>0.8095</td>\n",
       "      <td>0.8374</td>\n",
       "      <td>0.5000</td>\n",
       "      <td>0.0000</td>\n",
       "      <td>0.0000</td>\n",
       "      <td>0.0000</td>\n",
       "      <td>NaN</td>\n",
       "      <td>NaN</td>\n",
       "    </tr>\n",
       "    <tr>\n",
       "      <th>Gradient Boosting</th>\n",
       "      <td>0.8930</td>\n",
       "      <td>0.8029</td>\n",
       "      <td>0.8355</td>\n",
       "      <td>0.5173</td>\n",
       "      <td>0.0684</td>\n",
       "      <td>0.5000</td>\n",
       "      <td>0.0367</td>\n",
       "      <td>NaN</td>\n",
       "      <td>NaN</td>\n",
       "    </tr>\n",
       "    <tr>\n",
       "      <th>XGB</th>\n",
       "      <td>0.8658</td>\n",
       "      <td>0.8056</td>\n",
       "      <td>0.8346</td>\n",
       "      <td>0.7329</td>\n",
       "      <td>0.2125</td>\n",
       "      <td>0.1235</td>\n",
       "      <td>0.7615</td>\n",
       "      <td>NaN</td>\n",
       "      <td>NaN</td>\n",
       "    </tr>\n",
       "    <tr>\n",
       "      <th>Support Vector Machine</th>\n",
       "      <td>0.8734</td>\n",
       "      <td>0.8028</td>\n",
       "      <td>0.8379</td>\n",
       "      <td>0.7182</td>\n",
       "      <td>0.2022</td>\n",
       "      <td>0.1171</td>\n",
       "      <td>0.7431</td>\n",
       "      <td>NaN</td>\n",
       "      <td>NaN</td>\n",
       "    </tr>\n",
       "    <tr>\n",
       "      <th>XGB Production Model on Recombined Train Set</th>\n",
       "      <td>0.6766</td>\n",
       "      <td>NaN</td>\n",
       "      <td>NaN</td>\n",
       "      <td>0.7424</td>\n",
       "      <td>0.2083</td>\n",
       "      <td>0.1194</td>\n",
       "      <td>0.8182</td>\n",
       "      <td>0.6746</td>\n",
       "      <td>0.8214</td>\n",
       "    </tr>\n",
       "  </tbody>\n",
       "</table>\n",
       "</div>"
      ],
      "text/plain": [
       "                                              train_score  val_score  \\\n",
       "K-Nearest Neighbours                               0.8823     0.6691   \n",
       "Random Forests                                     0.9051     0.8095   \n",
       "Gradient Boosting                                  0.8930     0.8029   \n",
       "XGB                                                0.8658     0.8056   \n",
       "Support Vector Machine                             0.8734     0.8028   \n",
       "XGB Production Model on Recombined Train Set       0.6766        NaN   \n",
       "\n",
       "                                              gs.best_score_     auc  \\\n",
       "K-Nearest Neighbours                                  0.7176  0.5043   \n",
       "Random Forests                                        0.8374  0.5000   \n",
       "Gradient Boosting                                     0.8355  0.5173   \n",
       "XGB                                                   0.8346  0.7329   \n",
       "Support Vector Machine                                0.8379  0.7182   \n",
       "XGB Production Model on Recombined Train Set             NaN  0.7424   \n",
       "\n",
       "                                              f1_score  precision  recall  \\\n",
       "K-Nearest Neighbours                            0.0180     0.5000  0.0092   \n",
       "Random Forests                                  0.0000     0.0000  0.0000   \n",
       "Gradient Boosting                               0.0684     0.5000  0.0367   \n",
       "XGB                                             0.2125     0.1235  0.7615   \n",
       "Support Vector Machine                          0.2022     0.1171  0.7431   \n",
       "XGB Production Model on Recombined Train Set    0.2083     0.1194  0.8182   \n",
       "\n",
       "                                              test_score  auc_cross_val_score  \n",
       "K-Nearest Neighbours                                 NaN                  NaN  \n",
       "Random Forests                                       NaN                  NaN  \n",
       "Gradient Boosting                                    NaN                  NaN  \n",
       "XGB                                                  NaN                  NaN  \n",
       "Support Vector Machine                               NaN                  NaN  \n",
       "XGB Production Model on Recombined Train Set      0.6746               0.8214  "
      ]
     },
     "execution_count": 36,
     "metadata": {},
     "output_type": "execute_result"
    }
   ],
   "source": [
    "#building our final trained XGB Model metrics into a DataFrame\n",
    "xgb_metrics_list= [\"train_score\", \"test_score\", \n",
    "                   \"auc_cross_val_score\", \"auc\", \n",
    "                   \"f1_score\", \"precision\", \"recall\"]\n",
    "xgb_final = [0.676582579723941, 0.6745956232159848, 0.8213535699560166, 0.7424242424242425, 0.20833333333333334, 0.11936339522546419, 0.8181818181818182]\n",
    "\n",
    "xgb_final_df = pd.DataFrame(xgb_final).T\n",
    "\n",
    "xgb_final_df.columns = xgb_metrics_list\n",
    "\n",
    "xgb_final_df.rename(index = {0:\"XGB Production Model on Recombined Train Set\"}, inplace=True)\n",
    "\n",
    "# Stack the DataFrames on top of each other\n",
    "vertical_stack = pd.concat([eval_df, xgb_final_df], axis=0)\n",
    "\n",
    "vertical_stack = vertical_stack.round(decimals = 4)\n",
    "\n",
    "vertical_stack"
   ]
  },
  {
   "cell_type": "markdown",
   "metadata": {},
   "source": [
    "### Explanation"
   ]
  },
  {
   "cell_type": "markdown",
   "metadata": {},
   "source": [
    "Looking at all our metrics above in the combined table, after training our XGB model with its ideal parameters onto the entire train set, the `auc` score rises to `0.7424` from the validation AUC score to `0.7182`. We also ran a `auc_cross_val_score` on our production model, which shows a really high cross validation score of `0.8214`. \n",
    "\n",
    "**The fact that AUC score on the full recombined set has a a higher score than the validation set AUC score, as well as the high AUC Cross Validation Score, indicates that the model will generalize well on unseen data.** \n",
    "\n",
    "This means we are happy with our production model's generalized performance, especially since the ROC AUC score is still significantly higher than our dumb baseline of `0.5`.\n",
    "\n",
    "Let's now also check out what the top features ranked by coefficient weightage in our production model are. "
   ]
  },
  {
   "cell_type": "code",
   "execution_count": 39,
   "metadata": {},
   "outputs": [
    {
     "data": {
      "application/vnd.plotly.v1+json": {
       "config": {
        "plotlyServerURL": "https://plot.ly"
       },
       "data": [
        {
         "alignmentgroup": "True",
         "hovertemplate": "variable=0<br>features=%{x}<br>value=%{y}<extra></extra>",
         "legendgroup": "0",
         "marker": {
          "color": "#636efa"
         },
         "name": "0",
         "offsetgroup": "0",
         "orientation": "v",
         "showlegend": true,
         "textposition": "auto",
         "type": "bar",
         "x": [
          "month_8",
          "month_9",
          "year_2013",
          "month_6",
          "temp_avg",
          "year_2009",
          "month_7",
          "year_2011",
          "relative_humidity",
          "trap_T900",
          "species_CULEX RESTUANS",
          "dewpoint_avg",
          "stnpressure_avg",
          "trap_T223",
          "wetbulb_avg",
          "species_CULEX PIPIENS",
          "trap_T228",
          "trap_T903",
          "trap_T115",
          "trap_T002",
          "species_CULEX PIPIENS/RESTUANS",
          "trap_T054",
          "trap_T225",
          "trap_T090",
          "trap_T143",
          "trap_T103",
          "trap_T138",
          "trap_T011",
          "trap_T008",
          "trap_T135",
          "trap_T096",
          "trap_T082",
          "trap_T003",
          "trap_T221",
          "trap_T128",
          "trap_T013",
          "trap_T235",
          "year_2007",
          "trap_T158",
          "trap_T155",
          "trap_T151",
          "trap_T114",
          "trap_T061",
          "month_10",
          "trap_T230",
          "trap_T009",
          "trap_T028",
          "trap_T233",
          "trap_T016",
          "trap_T027",
          "trap_T066",
          "trap_T086",
          "trap_T030"
         ],
         "xaxis": "x",
         "y": [
          0.21460972726345062,
          0.18276508152484894,
          0.0633314996957779,
          0.059775833040475845,
          0.0422951839864254,
          0.04212437942624092,
          0.03444424644112587,
          0.03387546166777611,
          0.027830082923173904,
          0.027589987963438034,
          0.02498217672109604,
          0.019033407792448997,
          0.018689492717385292,
          0.01724722981452942,
          0.016221247613430023,
          0.01356500107795,
          0.013313425704836845,
          0.012303407303988934,
          0.012114811688661575,
          0.01210686657577753,
          0.011416204273700714,
          0.011246217414736748,
          0.010417795740067959,
          0.00906162429600954,
          0.007563608232885599,
          0.007333297282457352,
          0.0073200855404138565,
          0.007320058532059193,
          0.007263158913701773,
          0.00697764428332448,
          0.006931934040039778,
          0.0066644600592553616,
          0.0049919080920517445,
          0.0020403931848704815,
          0.0017634498653933406,
          0.0017562330467626452,
          0.0017134064109995961,
          0,
          0,
          0,
          0,
          0,
          0,
          0,
          0,
          0,
          0,
          0,
          0,
          0,
          0,
          0,
          0
         ],
         "yaxis": "y"
        }
       ],
       "layout": {
        "barmode": "relative",
        "legend": {
         "title": {
          "text": "variable"
         },
         "tracegroupgap": 0
        },
        "template": {
         "data": {
          "bar": [
           {
            "error_x": {
             "color": "#2a3f5f"
            },
            "error_y": {
             "color": "#2a3f5f"
            },
            "marker": {
             "line": {
              "color": "#E5ECF6",
              "width": 0.5
             }
            },
            "type": "bar"
           }
          ],
          "barpolar": [
           {
            "marker": {
             "line": {
              "color": "#E5ECF6",
              "width": 0.5
             }
            },
            "type": "barpolar"
           }
          ],
          "carpet": [
           {
            "aaxis": {
             "endlinecolor": "#2a3f5f",
             "gridcolor": "white",
             "linecolor": "white",
             "minorgridcolor": "white",
             "startlinecolor": "#2a3f5f"
            },
            "baxis": {
             "endlinecolor": "#2a3f5f",
             "gridcolor": "white",
             "linecolor": "white",
             "minorgridcolor": "white",
             "startlinecolor": "#2a3f5f"
            },
            "type": "carpet"
           }
          ],
          "choropleth": [
           {
            "colorbar": {
             "outlinewidth": 0,
             "ticks": ""
            },
            "type": "choropleth"
           }
          ],
          "contour": [
           {
            "colorbar": {
             "outlinewidth": 0,
             "ticks": ""
            },
            "colorscale": [
             [
              0,
              "#0d0887"
             ],
             [
              0.1111111111111111,
              "#46039f"
             ],
             [
              0.2222222222222222,
              "#7201a8"
             ],
             [
              0.3333333333333333,
              "#9c179e"
             ],
             [
              0.4444444444444444,
              "#bd3786"
             ],
             [
              0.5555555555555556,
              "#d8576b"
             ],
             [
              0.6666666666666666,
              "#ed7953"
             ],
             [
              0.7777777777777778,
              "#fb9f3a"
             ],
             [
              0.8888888888888888,
              "#fdca26"
             ],
             [
              1,
              "#f0f921"
             ]
            ],
            "type": "contour"
           }
          ],
          "contourcarpet": [
           {
            "colorbar": {
             "outlinewidth": 0,
             "ticks": ""
            },
            "type": "contourcarpet"
           }
          ],
          "heatmap": [
           {
            "colorbar": {
             "outlinewidth": 0,
             "ticks": ""
            },
            "colorscale": [
             [
              0,
              "#0d0887"
             ],
             [
              0.1111111111111111,
              "#46039f"
             ],
             [
              0.2222222222222222,
              "#7201a8"
             ],
             [
              0.3333333333333333,
              "#9c179e"
             ],
             [
              0.4444444444444444,
              "#bd3786"
             ],
             [
              0.5555555555555556,
              "#d8576b"
             ],
             [
              0.6666666666666666,
              "#ed7953"
             ],
             [
              0.7777777777777778,
              "#fb9f3a"
             ],
             [
              0.8888888888888888,
              "#fdca26"
             ],
             [
              1,
              "#f0f921"
             ]
            ],
            "type": "heatmap"
           }
          ],
          "heatmapgl": [
           {
            "colorbar": {
             "outlinewidth": 0,
             "ticks": ""
            },
            "colorscale": [
             [
              0,
              "#0d0887"
             ],
             [
              0.1111111111111111,
              "#46039f"
             ],
             [
              0.2222222222222222,
              "#7201a8"
             ],
             [
              0.3333333333333333,
              "#9c179e"
             ],
             [
              0.4444444444444444,
              "#bd3786"
             ],
             [
              0.5555555555555556,
              "#d8576b"
             ],
             [
              0.6666666666666666,
              "#ed7953"
             ],
             [
              0.7777777777777778,
              "#fb9f3a"
             ],
             [
              0.8888888888888888,
              "#fdca26"
             ],
             [
              1,
              "#f0f921"
             ]
            ],
            "type": "heatmapgl"
           }
          ],
          "histogram": [
           {
            "marker": {
             "colorbar": {
              "outlinewidth": 0,
              "ticks": ""
             }
            },
            "type": "histogram"
           }
          ],
          "histogram2d": [
           {
            "colorbar": {
             "outlinewidth": 0,
             "ticks": ""
            },
            "colorscale": [
             [
              0,
              "#0d0887"
             ],
             [
              0.1111111111111111,
              "#46039f"
             ],
             [
              0.2222222222222222,
              "#7201a8"
             ],
             [
              0.3333333333333333,
              "#9c179e"
             ],
             [
              0.4444444444444444,
              "#bd3786"
             ],
             [
              0.5555555555555556,
              "#d8576b"
             ],
             [
              0.6666666666666666,
              "#ed7953"
             ],
             [
              0.7777777777777778,
              "#fb9f3a"
             ],
             [
              0.8888888888888888,
              "#fdca26"
             ],
             [
              1,
              "#f0f921"
             ]
            ],
            "type": "histogram2d"
           }
          ],
          "histogram2dcontour": [
           {
            "colorbar": {
             "outlinewidth": 0,
             "ticks": ""
            },
            "colorscale": [
             [
              0,
              "#0d0887"
             ],
             [
              0.1111111111111111,
              "#46039f"
             ],
             [
              0.2222222222222222,
              "#7201a8"
             ],
             [
              0.3333333333333333,
              "#9c179e"
             ],
             [
              0.4444444444444444,
              "#bd3786"
             ],
             [
              0.5555555555555556,
              "#d8576b"
             ],
             [
              0.6666666666666666,
              "#ed7953"
             ],
             [
              0.7777777777777778,
              "#fb9f3a"
             ],
             [
              0.8888888888888888,
              "#fdca26"
             ],
             [
              1,
              "#f0f921"
             ]
            ],
            "type": "histogram2dcontour"
           }
          ],
          "mesh3d": [
           {
            "colorbar": {
             "outlinewidth": 0,
             "ticks": ""
            },
            "type": "mesh3d"
           }
          ],
          "parcoords": [
           {
            "line": {
             "colorbar": {
              "outlinewidth": 0,
              "ticks": ""
             }
            },
            "type": "parcoords"
           }
          ],
          "pie": [
           {
            "automargin": true,
            "type": "pie"
           }
          ],
          "scatter": [
           {
            "marker": {
             "colorbar": {
              "outlinewidth": 0,
              "ticks": ""
             }
            },
            "type": "scatter"
           }
          ],
          "scatter3d": [
           {
            "line": {
             "colorbar": {
              "outlinewidth": 0,
              "ticks": ""
             }
            },
            "marker": {
             "colorbar": {
              "outlinewidth": 0,
              "ticks": ""
             }
            },
            "type": "scatter3d"
           }
          ],
          "scattercarpet": [
           {
            "marker": {
             "colorbar": {
              "outlinewidth": 0,
              "ticks": ""
             }
            },
            "type": "scattercarpet"
           }
          ],
          "scattergeo": [
           {
            "marker": {
             "colorbar": {
              "outlinewidth": 0,
              "ticks": ""
             }
            },
            "type": "scattergeo"
           }
          ],
          "scattergl": [
           {
            "marker": {
             "colorbar": {
              "outlinewidth": 0,
              "ticks": ""
             }
            },
            "type": "scattergl"
           }
          ],
          "scattermapbox": [
           {
            "marker": {
             "colorbar": {
              "outlinewidth": 0,
              "ticks": ""
             }
            },
            "type": "scattermapbox"
           }
          ],
          "scatterpolar": [
           {
            "marker": {
             "colorbar": {
              "outlinewidth": 0,
              "ticks": ""
             }
            },
            "type": "scatterpolar"
           }
          ],
          "scatterpolargl": [
           {
            "marker": {
             "colorbar": {
              "outlinewidth": 0,
              "ticks": ""
             }
            },
            "type": "scatterpolargl"
           }
          ],
          "scatterternary": [
           {
            "marker": {
             "colorbar": {
              "outlinewidth": 0,
              "ticks": ""
             }
            },
            "type": "scatterternary"
           }
          ],
          "surface": [
           {
            "colorbar": {
             "outlinewidth": 0,
             "ticks": ""
            },
            "colorscale": [
             [
              0,
              "#0d0887"
             ],
             [
              0.1111111111111111,
              "#46039f"
             ],
             [
              0.2222222222222222,
              "#7201a8"
             ],
             [
              0.3333333333333333,
              "#9c179e"
             ],
             [
              0.4444444444444444,
              "#bd3786"
             ],
             [
              0.5555555555555556,
              "#d8576b"
             ],
             [
              0.6666666666666666,
              "#ed7953"
             ],
             [
              0.7777777777777778,
              "#fb9f3a"
             ],
             [
              0.8888888888888888,
              "#fdca26"
             ],
             [
              1,
              "#f0f921"
             ]
            ],
            "type": "surface"
           }
          ],
          "table": [
           {
            "cells": {
             "fill": {
              "color": "#EBF0F8"
             },
             "line": {
              "color": "white"
             }
            },
            "header": {
             "fill": {
              "color": "#C8D4E3"
             },
             "line": {
              "color": "white"
             }
            },
            "type": "table"
           }
          ]
         },
         "layout": {
          "annotationdefaults": {
           "arrowcolor": "#2a3f5f",
           "arrowhead": 0,
           "arrowwidth": 1
          },
          "coloraxis": {
           "colorbar": {
            "outlinewidth": 0,
            "ticks": ""
           }
          },
          "colorscale": {
           "diverging": [
            [
             0,
             "#8e0152"
            ],
            [
             0.1,
             "#c51b7d"
            ],
            [
             0.2,
             "#de77ae"
            ],
            [
             0.3,
             "#f1b6da"
            ],
            [
             0.4,
             "#fde0ef"
            ],
            [
             0.5,
             "#f7f7f7"
            ],
            [
             0.6,
             "#e6f5d0"
            ],
            [
             0.7,
             "#b8e186"
            ],
            [
             0.8,
             "#7fbc41"
            ],
            [
             0.9,
             "#4d9221"
            ],
            [
             1,
             "#276419"
            ]
           ],
           "sequential": [
            [
             0,
             "#0d0887"
            ],
            [
             0.1111111111111111,
             "#46039f"
            ],
            [
             0.2222222222222222,
             "#7201a8"
            ],
            [
             0.3333333333333333,
             "#9c179e"
            ],
            [
             0.4444444444444444,
             "#bd3786"
            ],
            [
             0.5555555555555556,
             "#d8576b"
            ],
            [
             0.6666666666666666,
             "#ed7953"
            ],
            [
             0.7777777777777778,
             "#fb9f3a"
            ],
            [
             0.8888888888888888,
             "#fdca26"
            ],
            [
             1,
             "#f0f921"
            ]
           ],
           "sequentialminus": [
            [
             0,
             "#0d0887"
            ],
            [
             0.1111111111111111,
             "#46039f"
            ],
            [
             0.2222222222222222,
             "#7201a8"
            ],
            [
             0.3333333333333333,
             "#9c179e"
            ],
            [
             0.4444444444444444,
             "#bd3786"
            ],
            [
             0.5555555555555556,
             "#d8576b"
            ],
            [
             0.6666666666666666,
             "#ed7953"
            ],
            [
             0.7777777777777778,
             "#fb9f3a"
            ],
            [
             0.8888888888888888,
             "#fdca26"
            ],
            [
             1,
             "#f0f921"
            ]
           ]
          },
          "colorway": [
           "#636efa",
           "#EF553B",
           "#00cc96",
           "#ab63fa",
           "#FFA15A",
           "#19d3f3",
           "#FF6692",
           "#B6E880",
           "#FF97FF",
           "#FECB52"
          ],
          "font": {
           "color": "#2a3f5f"
          },
          "geo": {
           "bgcolor": "white",
           "lakecolor": "white",
           "landcolor": "#E5ECF6",
           "showlakes": true,
           "showland": true,
           "subunitcolor": "white"
          },
          "hoverlabel": {
           "align": "left"
          },
          "hovermode": "closest",
          "mapbox": {
           "style": "light"
          },
          "paper_bgcolor": "white",
          "plot_bgcolor": "#E5ECF6",
          "polar": {
           "angularaxis": {
            "gridcolor": "white",
            "linecolor": "white",
            "ticks": ""
           },
           "bgcolor": "#E5ECF6",
           "radialaxis": {
            "gridcolor": "white",
            "linecolor": "white",
            "ticks": ""
           }
          },
          "scene": {
           "xaxis": {
            "backgroundcolor": "#E5ECF6",
            "gridcolor": "white",
            "gridwidth": 2,
            "linecolor": "white",
            "showbackground": true,
            "ticks": "",
            "zerolinecolor": "white"
           },
           "yaxis": {
            "backgroundcolor": "#E5ECF6",
            "gridcolor": "white",
            "gridwidth": 2,
            "linecolor": "white",
            "showbackground": true,
            "ticks": "",
            "zerolinecolor": "white"
           },
           "zaxis": {
            "backgroundcolor": "#E5ECF6",
            "gridcolor": "white",
            "gridwidth": 2,
            "linecolor": "white",
            "showbackground": true,
            "ticks": "",
            "zerolinecolor": "white"
           }
          },
          "shapedefaults": {
           "line": {
            "color": "#2a3f5f"
           }
          },
          "ternary": {
           "aaxis": {
            "gridcolor": "white",
            "linecolor": "white",
            "ticks": ""
           },
           "baxis": {
            "gridcolor": "white",
            "linecolor": "white",
            "ticks": ""
           },
           "bgcolor": "#E5ECF6",
           "caxis": {
            "gridcolor": "white",
            "linecolor": "white",
            "ticks": ""
           }
          },
          "title": {
           "x": 0.05
          },
          "xaxis": {
           "automargin": true,
           "gridcolor": "white",
           "linecolor": "white",
           "ticks": "",
           "title": {
            "standoff": 15
           },
           "zerolinecolor": "white",
           "zerolinewidth": 2
          },
          "yaxis": {
           "automargin": true,
           "gridcolor": "white",
           "linecolor": "white",
           "ticks": "",
           "title": {
            "standoff": 15
           },
           "zerolinecolor": "white",
           "zerolinewidth": 2
          }
         }
        },
        "title": {
         "text": "Top Features to detect WNV"
        },
        "xaxis": {
         "anchor": "y",
         "domain": [
          0,
          1
         ],
         "title": {
          "text": "features"
         }
        },
        "yaxis": {
         "anchor": "x",
         "domain": [
          0,
          1
         ],
         "title": {
          "text": "value"
         }
        }
       }
      },
      "text/html": [
       "<div>\n",
       "        \n",
       "        \n",
       "            <div id=\"275fc6fc-7625-4859-80bd-40738efc8086\" class=\"plotly-graph-div\" style=\"height:525px; width:100%;\"></div>\n",
       "            <script type=\"text/javascript\">\n",
       "                require([\"plotly\"], function(Plotly) {\n",
       "                    window.PLOTLYENV=window.PLOTLYENV || {};\n",
       "                    \n",
       "                if (document.getElementById(\"275fc6fc-7625-4859-80bd-40738efc8086\")) {\n",
       "                    Plotly.newPlot(\n",
       "                        '275fc6fc-7625-4859-80bd-40738efc8086',\n",
       "                        [{\"alignmentgroup\": \"True\", \"hovertemplate\": \"variable=0<br>features=%{x}<br>value=%{y}<extra></extra>\", \"legendgroup\": \"0\", \"marker\": {\"color\": \"#636efa\"}, \"name\": \"0\", \"offsetgroup\": \"0\", \"orientation\": \"v\", \"showlegend\": true, \"textposition\": \"auto\", \"type\": \"bar\", \"x\": [\"month_8\", \"month_9\", \"year_2013\", \"month_6\", \"temp_avg\", \"year_2009\", \"month_7\", \"year_2011\", \"relative_humidity\", \"trap_T900\", \"species_CULEX RESTUANS\", \"dewpoint_avg\", \"stnpressure_avg\", \"trap_T223\", \"wetbulb_avg\", \"species_CULEX PIPIENS\", \"trap_T228\", \"trap_T903\", \"trap_T115\", \"trap_T002\", \"species_CULEX PIPIENS/RESTUANS\", \"trap_T054\", \"trap_T225\", \"trap_T090\", \"trap_T143\", \"trap_T103\", \"trap_T138\", \"trap_T011\", \"trap_T008\", \"trap_T135\", \"trap_T096\", \"trap_T082\", \"trap_T003\", \"trap_T221\", \"trap_T128\", \"trap_T013\", \"trap_T235\", \"year_2007\", \"trap_T158\", \"trap_T155\", \"trap_T151\", \"trap_T114\", \"trap_T061\", \"month_10\", \"trap_T230\", \"trap_T009\", \"trap_T028\", \"trap_T233\", \"trap_T016\", \"trap_T027\", \"trap_T066\", \"trap_T086\", \"trap_T030\"], \"xaxis\": \"x\", \"y\": [0.21460972726345062, 0.18276508152484894, 0.0633314996957779, 0.059775833040475845, 0.0422951839864254, 0.04212437942624092, 0.03444424644112587, 0.03387546166777611, 0.027830082923173904, 0.027589987963438034, 0.02498217672109604, 0.019033407792448997, 0.018689492717385292, 0.01724722981452942, 0.016221247613430023, 0.01356500107795, 0.013313425704836845, 0.012303407303988934, 0.012114811688661575, 0.01210686657577753, 0.011416204273700714, 0.011246217414736748, 0.010417795740067959, 0.00906162429600954, 0.007563608232885599, 0.007333297282457352, 0.0073200855404138565, 0.007320058532059193, 0.007263158913701773, 0.00697764428332448, 0.006931934040039778, 0.0066644600592553616, 0.0049919080920517445, 0.0020403931848704815, 0.0017634498653933406, 0.0017562330467626452, 0.0017134064109995961, 0.0, 0.0, 0.0, 0.0, 0.0, 0.0, 0.0, 0.0, 0.0, 0.0, 0.0, 0.0, 0.0, 0.0, 0.0, 0.0], \"yaxis\": \"y\"}],\n",
       "                        {\"barmode\": \"relative\", \"legend\": {\"title\": {\"text\": \"variable\"}, \"tracegroupgap\": 0}, \"template\": {\"data\": {\"bar\": [{\"error_x\": {\"color\": \"#2a3f5f\"}, \"error_y\": {\"color\": \"#2a3f5f\"}, \"marker\": {\"line\": {\"color\": \"#E5ECF6\", \"width\": 0.5}}, \"type\": \"bar\"}], \"barpolar\": [{\"marker\": {\"line\": {\"color\": \"#E5ECF6\", \"width\": 0.5}}, \"type\": \"barpolar\"}], \"carpet\": [{\"aaxis\": {\"endlinecolor\": \"#2a3f5f\", \"gridcolor\": \"white\", \"linecolor\": \"white\", \"minorgridcolor\": \"white\", \"startlinecolor\": \"#2a3f5f\"}, \"baxis\": {\"endlinecolor\": \"#2a3f5f\", \"gridcolor\": \"white\", \"linecolor\": \"white\", \"minorgridcolor\": \"white\", \"startlinecolor\": \"#2a3f5f\"}, \"type\": \"carpet\"}], \"choropleth\": [{\"colorbar\": {\"outlinewidth\": 0, \"ticks\": \"\"}, \"type\": \"choropleth\"}], \"contour\": [{\"colorbar\": {\"outlinewidth\": 0, \"ticks\": \"\"}, \"colorscale\": [[0.0, \"#0d0887\"], [0.1111111111111111, \"#46039f\"], [0.2222222222222222, \"#7201a8\"], [0.3333333333333333, \"#9c179e\"], [0.4444444444444444, \"#bd3786\"], [0.5555555555555556, \"#d8576b\"], [0.6666666666666666, \"#ed7953\"], [0.7777777777777778, \"#fb9f3a\"], [0.8888888888888888, \"#fdca26\"], [1.0, \"#f0f921\"]], \"type\": \"contour\"}], \"contourcarpet\": [{\"colorbar\": {\"outlinewidth\": 0, \"ticks\": \"\"}, \"type\": \"contourcarpet\"}], \"heatmap\": [{\"colorbar\": {\"outlinewidth\": 0, \"ticks\": \"\"}, \"colorscale\": [[0.0, \"#0d0887\"], [0.1111111111111111, \"#46039f\"], [0.2222222222222222, \"#7201a8\"], [0.3333333333333333, \"#9c179e\"], [0.4444444444444444, \"#bd3786\"], [0.5555555555555556, \"#d8576b\"], [0.6666666666666666, \"#ed7953\"], [0.7777777777777778, \"#fb9f3a\"], [0.8888888888888888, \"#fdca26\"], [1.0, \"#f0f921\"]], \"type\": \"heatmap\"}], \"heatmapgl\": [{\"colorbar\": {\"outlinewidth\": 0, \"ticks\": \"\"}, \"colorscale\": [[0.0, \"#0d0887\"], [0.1111111111111111, \"#46039f\"], [0.2222222222222222, \"#7201a8\"], [0.3333333333333333, \"#9c179e\"], [0.4444444444444444, \"#bd3786\"], [0.5555555555555556, \"#d8576b\"], [0.6666666666666666, \"#ed7953\"], [0.7777777777777778, \"#fb9f3a\"], [0.8888888888888888, \"#fdca26\"], [1.0, \"#f0f921\"]], \"type\": \"heatmapgl\"}], \"histogram\": [{\"marker\": {\"colorbar\": {\"outlinewidth\": 0, \"ticks\": \"\"}}, \"type\": \"histogram\"}], \"histogram2d\": [{\"colorbar\": {\"outlinewidth\": 0, \"ticks\": \"\"}, \"colorscale\": [[0.0, \"#0d0887\"], [0.1111111111111111, \"#46039f\"], [0.2222222222222222, \"#7201a8\"], [0.3333333333333333, \"#9c179e\"], [0.4444444444444444, \"#bd3786\"], [0.5555555555555556, \"#d8576b\"], [0.6666666666666666, \"#ed7953\"], [0.7777777777777778, \"#fb9f3a\"], [0.8888888888888888, \"#fdca26\"], [1.0, \"#f0f921\"]], \"type\": \"histogram2d\"}], \"histogram2dcontour\": [{\"colorbar\": {\"outlinewidth\": 0, \"ticks\": \"\"}, \"colorscale\": [[0.0, \"#0d0887\"], [0.1111111111111111, \"#46039f\"], [0.2222222222222222, \"#7201a8\"], [0.3333333333333333, \"#9c179e\"], [0.4444444444444444, \"#bd3786\"], [0.5555555555555556, \"#d8576b\"], [0.6666666666666666, \"#ed7953\"], [0.7777777777777778, \"#fb9f3a\"], [0.8888888888888888, \"#fdca26\"], [1.0, \"#f0f921\"]], \"type\": \"histogram2dcontour\"}], \"mesh3d\": [{\"colorbar\": {\"outlinewidth\": 0, \"ticks\": \"\"}, \"type\": \"mesh3d\"}], \"parcoords\": [{\"line\": {\"colorbar\": {\"outlinewidth\": 0, \"ticks\": \"\"}}, \"type\": \"parcoords\"}], \"pie\": [{\"automargin\": true, \"type\": \"pie\"}], \"scatter\": [{\"marker\": {\"colorbar\": {\"outlinewidth\": 0, \"ticks\": \"\"}}, \"type\": \"scatter\"}], \"scatter3d\": [{\"line\": {\"colorbar\": {\"outlinewidth\": 0, \"ticks\": \"\"}}, \"marker\": {\"colorbar\": {\"outlinewidth\": 0, \"ticks\": \"\"}}, \"type\": \"scatter3d\"}], \"scattercarpet\": [{\"marker\": {\"colorbar\": {\"outlinewidth\": 0, \"ticks\": \"\"}}, \"type\": \"scattercarpet\"}], \"scattergeo\": [{\"marker\": {\"colorbar\": {\"outlinewidth\": 0, \"ticks\": \"\"}}, \"type\": \"scattergeo\"}], \"scattergl\": [{\"marker\": {\"colorbar\": {\"outlinewidth\": 0, \"ticks\": \"\"}}, \"type\": \"scattergl\"}], \"scattermapbox\": [{\"marker\": {\"colorbar\": {\"outlinewidth\": 0, \"ticks\": \"\"}}, \"type\": \"scattermapbox\"}], \"scatterpolar\": [{\"marker\": {\"colorbar\": {\"outlinewidth\": 0, \"ticks\": \"\"}}, \"type\": \"scatterpolar\"}], \"scatterpolargl\": [{\"marker\": {\"colorbar\": {\"outlinewidth\": 0, \"ticks\": \"\"}}, \"type\": \"scatterpolargl\"}], \"scatterternary\": [{\"marker\": {\"colorbar\": {\"outlinewidth\": 0, \"ticks\": \"\"}}, \"type\": \"scatterternary\"}], \"surface\": [{\"colorbar\": {\"outlinewidth\": 0, \"ticks\": \"\"}, \"colorscale\": [[0.0, \"#0d0887\"], [0.1111111111111111, \"#46039f\"], [0.2222222222222222, \"#7201a8\"], [0.3333333333333333, \"#9c179e\"], [0.4444444444444444, \"#bd3786\"], [0.5555555555555556, \"#d8576b\"], [0.6666666666666666, \"#ed7953\"], [0.7777777777777778, \"#fb9f3a\"], [0.8888888888888888, \"#fdca26\"], [1.0, \"#f0f921\"]], \"type\": \"surface\"}], \"table\": [{\"cells\": {\"fill\": {\"color\": \"#EBF0F8\"}, \"line\": {\"color\": \"white\"}}, \"header\": {\"fill\": {\"color\": \"#C8D4E3\"}, \"line\": {\"color\": \"white\"}}, \"type\": \"table\"}]}, \"layout\": {\"annotationdefaults\": {\"arrowcolor\": \"#2a3f5f\", \"arrowhead\": 0, \"arrowwidth\": 1}, \"coloraxis\": {\"colorbar\": {\"outlinewidth\": 0, \"ticks\": \"\"}}, \"colorscale\": {\"diverging\": [[0, \"#8e0152\"], [0.1, \"#c51b7d\"], [0.2, \"#de77ae\"], [0.3, \"#f1b6da\"], [0.4, \"#fde0ef\"], [0.5, \"#f7f7f7\"], [0.6, \"#e6f5d0\"], [0.7, \"#b8e186\"], [0.8, \"#7fbc41\"], [0.9, \"#4d9221\"], [1, \"#276419\"]], \"sequential\": [[0.0, \"#0d0887\"], [0.1111111111111111, \"#46039f\"], [0.2222222222222222, \"#7201a8\"], [0.3333333333333333, \"#9c179e\"], [0.4444444444444444, \"#bd3786\"], [0.5555555555555556, \"#d8576b\"], [0.6666666666666666, \"#ed7953\"], [0.7777777777777778, \"#fb9f3a\"], [0.8888888888888888, \"#fdca26\"], [1.0, \"#f0f921\"]], \"sequentialminus\": [[0.0, \"#0d0887\"], [0.1111111111111111, \"#46039f\"], [0.2222222222222222, \"#7201a8\"], [0.3333333333333333, \"#9c179e\"], [0.4444444444444444, \"#bd3786\"], [0.5555555555555556, \"#d8576b\"], [0.6666666666666666, \"#ed7953\"], [0.7777777777777778, \"#fb9f3a\"], [0.8888888888888888, \"#fdca26\"], [1.0, \"#f0f921\"]]}, \"colorway\": [\"#636efa\", \"#EF553B\", \"#00cc96\", \"#ab63fa\", \"#FFA15A\", \"#19d3f3\", \"#FF6692\", \"#B6E880\", \"#FF97FF\", \"#FECB52\"], \"font\": {\"color\": \"#2a3f5f\"}, \"geo\": {\"bgcolor\": \"white\", \"lakecolor\": \"white\", \"landcolor\": \"#E5ECF6\", \"showlakes\": true, \"showland\": true, \"subunitcolor\": \"white\"}, \"hoverlabel\": {\"align\": \"left\"}, \"hovermode\": \"closest\", \"mapbox\": {\"style\": \"light\"}, \"paper_bgcolor\": \"white\", \"plot_bgcolor\": \"#E5ECF6\", \"polar\": {\"angularaxis\": {\"gridcolor\": \"white\", \"linecolor\": \"white\", \"ticks\": \"\"}, \"bgcolor\": \"#E5ECF6\", \"radialaxis\": {\"gridcolor\": \"white\", \"linecolor\": \"white\", \"ticks\": \"\"}}, \"scene\": {\"xaxis\": {\"backgroundcolor\": \"#E5ECF6\", \"gridcolor\": \"white\", \"gridwidth\": 2, \"linecolor\": \"white\", \"showbackground\": true, \"ticks\": \"\", \"zerolinecolor\": \"white\"}, \"yaxis\": {\"backgroundcolor\": \"#E5ECF6\", \"gridcolor\": \"white\", \"gridwidth\": 2, \"linecolor\": \"white\", \"showbackground\": true, \"ticks\": \"\", \"zerolinecolor\": \"white\"}, \"zaxis\": {\"backgroundcolor\": \"#E5ECF6\", \"gridcolor\": \"white\", \"gridwidth\": 2, \"linecolor\": \"white\", \"showbackground\": true, \"ticks\": \"\", \"zerolinecolor\": \"white\"}}, \"shapedefaults\": {\"line\": {\"color\": \"#2a3f5f\"}}, \"ternary\": {\"aaxis\": {\"gridcolor\": \"white\", \"linecolor\": \"white\", \"ticks\": \"\"}, \"baxis\": {\"gridcolor\": \"white\", \"linecolor\": \"white\", \"ticks\": \"\"}, \"bgcolor\": \"#E5ECF6\", \"caxis\": {\"gridcolor\": \"white\", \"linecolor\": \"white\", \"ticks\": \"\"}}, \"title\": {\"x\": 0.05}, \"xaxis\": {\"automargin\": true, \"gridcolor\": \"white\", \"linecolor\": \"white\", \"ticks\": \"\", \"title\": {\"standoff\": 15}, \"zerolinecolor\": \"white\", \"zerolinewidth\": 2}, \"yaxis\": {\"automargin\": true, \"gridcolor\": \"white\", \"linecolor\": \"white\", \"ticks\": \"\", \"title\": {\"standoff\": 15}, \"zerolinecolor\": \"white\", \"zerolinewidth\": 2}}}, \"title\": {\"text\": \"Top Features to detect WNV\"}, \"xaxis\": {\"anchor\": \"y\", \"domain\": [0.0, 1.0], \"title\": {\"text\": \"features\"}}, \"yaxis\": {\"anchor\": \"x\", \"domain\": [0.0, 1.0], \"title\": {\"text\": \"value\"}}},\n",
       "                        {\"responsive\": true}\n",
       "                    ).then(function(){\n",
       "                            \n",
       "var gd = document.getElementById('275fc6fc-7625-4859-80bd-40738efc8086');\n",
       "var x = new MutationObserver(function (mutations, observer) {{\n",
       "        var display = window.getComputedStyle(gd).display;\n",
       "        if (!display || display === 'none') {{\n",
       "            console.log([gd, 'removed!']);\n",
       "            Plotly.purge(gd);\n",
       "            observer.disconnect();\n",
       "        }}\n",
       "}});\n",
       "\n",
       "// Listen for the removal of the full notebook cells\n",
       "var notebookContainer = gd.closest('#notebook-container');\n",
       "if (notebookContainer) {{\n",
       "    x.observe(notebookContainer, {childList: true});\n",
       "}}\n",
       "\n",
       "// Listen for the clearing of the current output cell\n",
       "var outputEl = gd.closest('.output');\n",
       "if (outputEl) {{\n",
       "    x.observe(outputEl, {childList: true});\n",
       "}}\n",
       "\n",
       "                        })\n",
       "                };\n",
       "                });\n",
       "            </script>\n",
       "        </div>"
      ]
     },
     "metadata": {},
     "output_type": "display_data"
    }
   ],
   "source": [
    "#Visualizing top features in our production model. \n",
    "features=xgb.feature_importances_\n",
    "\n",
    "key_features = pd.Series(features,index=X.columns)\n",
    "\n",
    "sorted_features = key_features.sort_values(ascending=False)\n",
    "\n",
    "fig = px.bar(sorted_features, orientation='v', \n",
    "             title = \"Top Features to detect WNV\", \n",
    "             labels={\"index\":\"features\"})\n",
    "fig.show()"
   ]
  },
  {
   "cell_type": "code",
   "execution_count": 40,
   "metadata": {},
   "outputs": [
    {
     "data": {
      "text/plain": [
       "'/Users/grahamlim/Documents/DSI15/lab_projects_copy/project_4_copy/code'"
      ]
     },
     "execution_count": 40,
     "metadata": {},
     "output_type": "execute_result"
    }
   ],
   "source": [
    "pwd"
   ]
  },
  {
   "cell_type": "code",
   "execution_count": 52,
   "metadata": {},
   "outputs": [
    {
     "data": {
      "text/plain": [
       "0        0\n",
       "1        0\n",
       "2        0\n",
       "3        0\n",
       "4        0\n",
       "        ..\n",
       "10501    1\n",
       "10502    0\n",
       "10503    0\n",
       "10504    0\n",
       "10505    0\n",
       "Name: wnvpresent, Length: 10506, dtype: int64"
      ]
     },
     "execution_count": 52,
     "metadata": {},
     "output_type": "execute_result"
    }
   ],
   "source": [
    "y"
   ]
  },
  {
   "cell_type": "code",
   "execution_count": 54,
   "metadata": {},
   "outputs": [
    {
     "ename": "KeyError",
     "evalue": "\"None of [Float64Index([     0.01356500107795,  0.011416204273700714,\\n                0.02498217672109604,  0.059775833040475845,\\n                0.03444424644112587,   0.21460972726345062,\\n                0.18276508152484894,                   0.0,\\n                                0.0,   0.04212437942624092,\\n                0.03387546166777611,    0.0633314996957779,\\n                 0.0422951839864254,  0.016221247613430023,\\n               0.019033407792448997,  0.018689492717385292,\\n               0.027830082923173904,  0.027589987963438034,\\n               0.012114811688661575,   0.01210686657577753,\\n              0.0073200855404138565, 0.0049919080920517445,\\n               0.007320058532059193, 0.0017634498653933406,\\n               0.010417795740067959, 0.0017562330467626452,\\n               0.012303407303988934,  0.007263158913701773,\\n                                0.0,                   0.0,\\n                0.01724722981452942,                   0.0,\\n              0.0020403931848704815,                   0.0,\\n              0.0066644600592553616,                   0.0,\\n                                0.0,   0.00697764428332448,\\n                                0.0,                   0.0,\\n              0.0017134064109995961,                   0.0,\\n                0.00906162429600954,                   0.0,\\n               0.007563608232885599,  0.007333297282457352,\\n               0.006931934040039778,                   0.0,\\n               0.013313425704836845,                   0.0,\\n                                0.0,                   0.0,\\n               0.011246217414736748],\\n             dtype='float64')] are in the [columns]\"",
     "output_type": "error",
     "traceback": [
      "\u001b[0;31m---------------------------------------------------------------------------\u001b[0m",
      "\u001b[0;31mKeyError\u001b[0m                                  Traceback (most recent call last)",
      "\u001b[0;32m<ipython-input-54-e0308c1ba761>\u001b[0m in \u001b[0;36m<module>\u001b[0;34m\u001b[0m\n\u001b[0;32m----> 1\u001b[0;31m \u001b[0mtest_preds\u001b[0m \u001b[0;34m=\u001b[0m \u001b[0mxgb\u001b[0m\u001b[0;34m.\u001b[0m\u001b[0mpredict\u001b[0m\u001b[0;34m(\u001b[0m\u001b[0mtest\u001b[0m\u001b[0;34m[\u001b[0m\u001b[0mfeatures\u001b[0m\u001b[0;34m]\u001b[0m\u001b[0;34m)\u001b[0m\u001b[0;34m\u001b[0m\u001b[0;34m\u001b[0m\u001b[0m\n\u001b[0m",
      "\u001b[0;32m~/opt/anaconda3/lib/python3.7/site-packages/pandas/core/frame.py\u001b[0m in \u001b[0;36m__getitem__\u001b[0;34m(self, key)\u001b[0m\n\u001b[1;32m   2804\u001b[0m             \u001b[0;32mif\u001b[0m \u001b[0mis_iterator\u001b[0m\u001b[0;34m(\u001b[0m\u001b[0mkey\u001b[0m\u001b[0;34m)\u001b[0m\u001b[0;34m:\u001b[0m\u001b[0;34m\u001b[0m\u001b[0;34m\u001b[0m\u001b[0m\n\u001b[1;32m   2805\u001b[0m                 \u001b[0mkey\u001b[0m \u001b[0;34m=\u001b[0m \u001b[0mlist\u001b[0m\u001b[0;34m(\u001b[0m\u001b[0mkey\u001b[0m\u001b[0;34m)\u001b[0m\u001b[0;34m\u001b[0m\u001b[0;34m\u001b[0m\u001b[0m\n\u001b[0;32m-> 2806\u001b[0;31m             \u001b[0mindexer\u001b[0m \u001b[0;34m=\u001b[0m \u001b[0mself\u001b[0m\u001b[0;34m.\u001b[0m\u001b[0mloc\u001b[0m\u001b[0;34m.\u001b[0m\u001b[0m_get_listlike_indexer\u001b[0m\u001b[0;34m(\u001b[0m\u001b[0mkey\u001b[0m\u001b[0;34m,\u001b[0m \u001b[0maxis\u001b[0m\u001b[0;34m=\u001b[0m\u001b[0;36m1\u001b[0m\u001b[0;34m,\u001b[0m \u001b[0mraise_missing\u001b[0m\u001b[0;34m=\u001b[0m\u001b[0;32mTrue\u001b[0m\u001b[0;34m)\u001b[0m\u001b[0;34m[\u001b[0m\u001b[0;36m1\u001b[0m\u001b[0;34m]\u001b[0m\u001b[0;34m\u001b[0m\u001b[0;34m\u001b[0m\u001b[0m\n\u001b[0m\u001b[1;32m   2807\u001b[0m \u001b[0;34m\u001b[0m\u001b[0m\n\u001b[1;32m   2808\u001b[0m         \u001b[0;31m# take() does not accept boolean indexers\u001b[0m\u001b[0;34m\u001b[0m\u001b[0;34m\u001b[0m\u001b[0;34m\u001b[0m\u001b[0m\n",
      "\u001b[0;32m~/opt/anaconda3/lib/python3.7/site-packages/pandas/core/indexing.py\u001b[0m in \u001b[0;36m_get_listlike_indexer\u001b[0;34m(self, key, axis, raise_missing)\u001b[0m\n\u001b[1;32m   1551\u001b[0m \u001b[0;34m\u001b[0m\u001b[0m\n\u001b[1;32m   1552\u001b[0m         self._validate_read_indexer(\n\u001b[0;32m-> 1553\u001b[0;31m             \u001b[0mkeyarr\u001b[0m\u001b[0;34m,\u001b[0m \u001b[0mindexer\u001b[0m\u001b[0;34m,\u001b[0m \u001b[0mo\u001b[0m\u001b[0;34m.\u001b[0m\u001b[0m_get_axis_number\u001b[0m\u001b[0;34m(\u001b[0m\u001b[0maxis\u001b[0m\u001b[0;34m)\u001b[0m\u001b[0;34m,\u001b[0m \u001b[0mraise_missing\u001b[0m\u001b[0;34m=\u001b[0m\u001b[0mraise_missing\u001b[0m\u001b[0;34m\u001b[0m\u001b[0;34m\u001b[0m\u001b[0m\n\u001b[0m\u001b[1;32m   1554\u001b[0m         )\n\u001b[1;32m   1555\u001b[0m         \u001b[0;32mreturn\u001b[0m \u001b[0mkeyarr\u001b[0m\u001b[0;34m,\u001b[0m \u001b[0mindexer\u001b[0m\u001b[0;34m\u001b[0m\u001b[0;34m\u001b[0m\u001b[0m\n",
      "\u001b[0;32m~/opt/anaconda3/lib/python3.7/site-packages/pandas/core/indexing.py\u001b[0m in \u001b[0;36m_validate_read_indexer\u001b[0;34m(self, key, indexer, axis, raise_missing)\u001b[0m\n\u001b[1;32m   1638\u001b[0m             \u001b[0;32mif\u001b[0m \u001b[0mmissing\u001b[0m \u001b[0;34m==\u001b[0m \u001b[0mlen\u001b[0m\u001b[0;34m(\u001b[0m\u001b[0mindexer\u001b[0m\u001b[0;34m)\u001b[0m\u001b[0;34m:\u001b[0m\u001b[0;34m\u001b[0m\u001b[0;34m\u001b[0m\u001b[0m\n\u001b[1;32m   1639\u001b[0m                 \u001b[0maxis_name\u001b[0m \u001b[0;34m=\u001b[0m \u001b[0mself\u001b[0m\u001b[0;34m.\u001b[0m\u001b[0mobj\u001b[0m\u001b[0;34m.\u001b[0m\u001b[0m_get_axis_name\u001b[0m\u001b[0;34m(\u001b[0m\u001b[0maxis\u001b[0m\u001b[0;34m)\u001b[0m\u001b[0;34m\u001b[0m\u001b[0;34m\u001b[0m\u001b[0m\n\u001b[0;32m-> 1640\u001b[0;31m                 \u001b[0;32mraise\u001b[0m \u001b[0mKeyError\u001b[0m\u001b[0;34m(\u001b[0m\u001b[0;34mf\"None of [{key}] are in the [{axis_name}]\"\u001b[0m\u001b[0;34m)\u001b[0m\u001b[0;34m\u001b[0m\u001b[0;34m\u001b[0m\u001b[0m\n\u001b[0m\u001b[1;32m   1641\u001b[0m \u001b[0;34m\u001b[0m\u001b[0m\n\u001b[1;32m   1642\u001b[0m             \u001b[0;31m# We (temporarily) allow for some missing keys with .loc, except in\u001b[0m\u001b[0;34m\u001b[0m\u001b[0;34m\u001b[0m\u001b[0;34m\u001b[0m\u001b[0m\n",
      "\u001b[0;31mKeyError\u001b[0m: \"None of [Float64Index([     0.01356500107795,  0.011416204273700714,\\n                0.02498217672109604,  0.059775833040475845,\\n                0.03444424644112587,   0.21460972726345062,\\n                0.18276508152484894,                   0.0,\\n                                0.0,   0.04212437942624092,\\n                0.03387546166777611,    0.0633314996957779,\\n                 0.0422951839864254,  0.016221247613430023,\\n               0.019033407792448997,  0.018689492717385292,\\n               0.027830082923173904,  0.027589987963438034,\\n               0.012114811688661575,   0.01210686657577753,\\n              0.0073200855404138565, 0.0049919080920517445,\\n               0.007320058532059193, 0.0017634498653933406,\\n               0.010417795740067959, 0.0017562330467626452,\\n               0.012303407303988934,  0.007263158913701773,\\n                                0.0,                   0.0,\\n                0.01724722981452942,                   0.0,\\n              0.0020403931848704815,                   0.0,\\n              0.0066644600592553616,                   0.0,\\n                                0.0,   0.00697764428332448,\\n                                0.0,                   0.0,\\n              0.0017134064109995961,                   0.0,\\n                0.00906162429600954,                   0.0,\\n               0.007563608232885599,  0.007333297282457352,\\n               0.006931934040039778,                   0.0,\\n               0.013313425704836845,                   0.0,\\n                                0.0,                   0.0,\\n               0.011246217414736748],\\n             dtype='float64')] are in the [columns]\""
     ]
    }
   ],
   "source": [
    "test_preds = xgb.predict(test[features])"
   ]
  },
  {
   "cell_type": "code",
   "execution_count": null,
   "metadata": {},
   "outputs": [],
   "source": []
  },
  {
   "cell_type": "code",
   "execution_count": null,
   "metadata": {},
   "outputs": [],
   "source": []
  }
 ],
 "metadata": {
  "kernelspec": {
   "display_name": "Python 3",
   "language": "python",
   "name": "python3"
  },
  "language_info": {
   "codemirror_mode": {
    "name": "ipython",
    "version": 3
   },
   "file_extension": ".py",
   "mimetype": "text/x-python",
   "name": "python",
   "nbconvert_exporter": "python",
   "pygments_lexer": "ipython3",
   "version": "3.7.6"
  },
  "toc": {
   "base_numbering": 1,
   "nav_menu": {},
   "number_sections": true,
   "sideBar": true,
   "skip_h1_title": false,
   "title_cell": "Table of Contents",
   "title_sidebar": "Contents",
   "toc_cell": false,
   "toc_position": {},
   "toc_section_display": true,
   "toc_window_display": false
  }
 },
 "nbformat": 4,
 "nbformat_minor": 2
}
