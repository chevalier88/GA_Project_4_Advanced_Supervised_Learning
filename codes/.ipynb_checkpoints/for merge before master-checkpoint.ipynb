{
 "cells": [
  {
   "cell_type": "code",
   "execution_count": 1,
   "metadata": {},
   "outputs": [],
   "source": [
    "import pandas as pd \n",
    "import numpy as np\n",
    "import matplotlib.pyplot as plt \n",
    "import seaborn as sns \n",
    "\n",
    "\n",
    "sns.set_style('whitegrid')\n",
    "\n",
    "import warnings\n",
    "warnings.filterwarnings('ignore')\n",
    "\n",
    "%matplotlib inline"
   ]
  },
  {
   "cell_type": "code",
   "execution_count": 2,
   "metadata": {},
   "outputs": [],
   "source": [
    "# Importing Datasets (all)\n",
    "train = pd.read_csv('../assets/train.csv')\n",
    "test = pd.read_csv('../assets/test.csv')\n",
    "weather = pd.read_csv('../assets/weather.csv')\n",
    "spray = pd.read_csv('../assets/spray.csv')"
   ]
  },
  {
   "cell_type": "code",
   "execution_count": 3,
   "metadata": {},
   "outputs": [],
   "source": [
    "# # show all rows and columns\n",
    "# pd.set_option('display.max_columns', None)\n",
    "# pd.set_option('display.max_rows', None)"
   ]
  },
  {
   "cell_type": "markdown",
   "metadata": {},
   "source": [
    "#### Defined Functions"
   ]
  },
  {
   "cell_type": "code",
   "execution_count": 4,
   "metadata": {},
   "outputs": [],
   "source": [
    "def eda(dataframe):\n",
    "    \"\"\"Runs basic EDA on dataframe.\"\"\"\n",
    "    print(\"dataframe shape \\n\", dataframe.shape, '\\n')\n",
    "    print(\"dataframe types \\n\", dataframe.dtypes, '\\n')\n",
    "    print(\"dataframe describe \\n\", dataframe.describe(), '\\n')\n",
    "    print(\"dataframe describe \\n\", dataframe.describe(exclude=np.number).T, '\\n')\n",
    "    print(\"missing values \\n\", dataframe.isnull().sum(), '\\n')\n",
    "    print(\"duplicate values \\n\", dataframe.duplicated().sum(), '\\n')\n",
    "    print(\"dataframe columns \\n\", dataframe.columns, '\\n')\n",
    "    \n",
    "    #check if column is unique\n",
    "    for i in dataframe.columns:\n",
    "        print('{} is unique: {}'.format(i, dataframe[i].is_unique))"
   ]
  },
  {
   "cell_type": "code",
   "execution_count": 5,
   "metadata": {},
   "outputs": [],
   "source": [
    "def split_date (data):\n",
    "    \"\"\"split into year and month\"\"\"\n",
    "    data['year'] = data.date.dt.year\n",
    "    data['month'] = data.date.dt.month\n",
    "    return"
   ]
  },
  {
   "cell_type": "code",
   "execution_count": 6,
   "metadata": {},
   "outputs": [],
   "source": [
    "def replace_val(df, column, old_value, new_value):\n",
    "    \"\"\" for replacing values in columns\"\"\"\n",
    "    df[column] = df[column].replace({old_value: new_value})"
   ]
  },
  {
   "cell_type": "code",
   "execution_count": 7,
   "metadata": {},
   "outputs": [],
   "source": [
    "def replace_median(df, column):\n",
    "    \"\"\" replace NaN values with median\"\"\"\n",
    "    df[column].fillna((df[column].median()), inplace=True)"
   ]
  },
  {
   "cell_type": "markdown",
   "metadata": {},
   "source": [
    "# 1.0 Cleaning\n",
    "\n",
    "We are presented with 4 datasets:\n",
    "\n",
    "1. train.csv\n",
    "2. test.csv\n",
    "3. weather.csv\n",
    "4. spray.csv\n"
   ]
  },
  {
   "cell_type": "markdown",
   "metadata": {},
   "source": [
    "### <span style='background :yellow' > 1.1 Train Dataset </span>"
   ]
  },
  {
   "cell_type": "code",
   "execution_count": 8,
   "metadata": {},
   "outputs": [
    {
     "data": {
      "text/html": [
       "<div>\n",
       "<style scoped>\n",
       "    .dataframe tbody tr th:only-of-type {\n",
       "        vertical-align: middle;\n",
       "    }\n",
       "\n",
       "    .dataframe tbody tr th {\n",
       "        vertical-align: top;\n",
       "    }\n",
       "\n",
       "    .dataframe thead th {\n",
       "        text-align: right;\n",
       "    }\n",
       "</style>\n",
       "<table border=\"1\" class=\"dataframe\">\n",
       "  <thead>\n",
       "    <tr style=\"text-align: right;\">\n",
       "      <th></th>\n",
       "      <th>Date</th>\n",
       "      <th>Address</th>\n",
       "      <th>Species</th>\n",
       "      <th>Block</th>\n",
       "      <th>Street</th>\n",
       "      <th>Trap</th>\n",
       "      <th>AddressNumberAndStreet</th>\n",
       "      <th>Latitude</th>\n",
       "      <th>Longitude</th>\n",
       "      <th>AddressAccuracy</th>\n",
       "      <th>NumMosquitos</th>\n",
       "      <th>WnvPresent</th>\n",
       "    </tr>\n",
       "  </thead>\n",
       "  <tbody>\n",
       "    <tr>\n",
       "      <th>0</th>\n",
       "      <td>2007-05-29</td>\n",
       "      <td>4100 North Oak Park Avenue, Chicago, IL 60634,...</td>\n",
       "      <td>CULEX PIPIENS/RESTUANS</td>\n",
       "      <td>41</td>\n",
       "      <td>N OAK PARK AVE</td>\n",
       "      <td>T002</td>\n",
       "      <td>4100  N OAK PARK AVE, Chicago, IL</td>\n",
       "      <td>41.954690</td>\n",
       "      <td>-87.800991</td>\n",
       "      <td>9</td>\n",
       "      <td>1</td>\n",
       "      <td>0</td>\n",
       "    </tr>\n",
       "    <tr>\n",
       "      <th>1</th>\n",
       "      <td>2007-05-29</td>\n",
       "      <td>4100 North Oak Park Avenue, Chicago, IL 60634,...</td>\n",
       "      <td>CULEX RESTUANS</td>\n",
       "      <td>41</td>\n",
       "      <td>N OAK PARK AVE</td>\n",
       "      <td>T002</td>\n",
       "      <td>4100  N OAK PARK AVE, Chicago, IL</td>\n",
       "      <td>41.954690</td>\n",
       "      <td>-87.800991</td>\n",
       "      <td>9</td>\n",
       "      <td>1</td>\n",
       "      <td>0</td>\n",
       "    </tr>\n",
       "    <tr>\n",
       "      <th>2</th>\n",
       "      <td>2007-05-29</td>\n",
       "      <td>6200 North Mandell Avenue, Chicago, IL 60646, USA</td>\n",
       "      <td>CULEX RESTUANS</td>\n",
       "      <td>62</td>\n",
       "      <td>N MANDELL AVE</td>\n",
       "      <td>T007</td>\n",
       "      <td>6200  N MANDELL AVE, Chicago, IL</td>\n",
       "      <td>41.994991</td>\n",
       "      <td>-87.769279</td>\n",
       "      <td>9</td>\n",
       "      <td>1</td>\n",
       "      <td>0</td>\n",
       "    </tr>\n",
       "    <tr>\n",
       "      <th>3</th>\n",
       "      <td>2007-05-29</td>\n",
       "      <td>7900 West Foster Avenue, Chicago, IL 60656, USA</td>\n",
       "      <td>CULEX PIPIENS/RESTUANS</td>\n",
       "      <td>79</td>\n",
       "      <td>W FOSTER AVE</td>\n",
       "      <td>T015</td>\n",
       "      <td>7900  W FOSTER AVE, Chicago, IL</td>\n",
       "      <td>41.974089</td>\n",
       "      <td>-87.824812</td>\n",
       "      <td>8</td>\n",
       "      <td>1</td>\n",
       "      <td>0</td>\n",
       "    </tr>\n",
       "    <tr>\n",
       "      <th>4</th>\n",
       "      <td>2007-05-29</td>\n",
       "      <td>7900 West Foster Avenue, Chicago, IL 60656, USA</td>\n",
       "      <td>CULEX RESTUANS</td>\n",
       "      <td>79</td>\n",
       "      <td>W FOSTER AVE</td>\n",
       "      <td>T015</td>\n",
       "      <td>7900  W FOSTER AVE, Chicago, IL</td>\n",
       "      <td>41.974089</td>\n",
       "      <td>-87.824812</td>\n",
       "      <td>8</td>\n",
       "      <td>4</td>\n",
       "      <td>0</td>\n",
       "    </tr>\n",
       "  </tbody>\n",
       "</table>\n",
       "</div>"
      ],
      "text/plain": [
       "         Date                                            Address  \\\n",
       "0  2007-05-29  4100 North Oak Park Avenue, Chicago, IL 60634,...   \n",
       "1  2007-05-29  4100 North Oak Park Avenue, Chicago, IL 60634,...   \n",
       "2  2007-05-29  6200 North Mandell Avenue, Chicago, IL 60646, USA   \n",
       "3  2007-05-29    7900 West Foster Avenue, Chicago, IL 60656, USA   \n",
       "4  2007-05-29    7900 West Foster Avenue, Chicago, IL 60656, USA   \n",
       "\n",
       "                  Species  Block           Street  Trap  \\\n",
       "0  CULEX PIPIENS/RESTUANS     41   N OAK PARK AVE  T002   \n",
       "1          CULEX RESTUANS     41   N OAK PARK AVE  T002   \n",
       "2          CULEX RESTUANS     62    N MANDELL AVE  T007   \n",
       "3  CULEX PIPIENS/RESTUANS     79     W FOSTER AVE  T015   \n",
       "4          CULEX RESTUANS     79     W FOSTER AVE  T015   \n",
       "\n",
       "              AddressNumberAndStreet   Latitude  Longitude  AddressAccuracy  \\\n",
       "0  4100  N OAK PARK AVE, Chicago, IL  41.954690 -87.800991                9   \n",
       "1  4100  N OAK PARK AVE, Chicago, IL  41.954690 -87.800991                9   \n",
       "2   6200  N MANDELL AVE, Chicago, IL  41.994991 -87.769279                9   \n",
       "3    7900  W FOSTER AVE, Chicago, IL  41.974089 -87.824812                8   \n",
       "4    7900  W FOSTER AVE, Chicago, IL  41.974089 -87.824812                8   \n",
       "\n",
       "   NumMosquitos  WnvPresent  \n",
       "0             1           0  \n",
       "1             1           0  \n",
       "2             1           0  \n",
       "3             1           0  \n",
       "4             4           0  "
      ]
     },
     "execution_count": 8,
     "metadata": {},
     "output_type": "execute_result"
    }
   ],
   "source": [
    "# view dataset\n",
    "train.head()"
   ]
  },
  {
   "cell_type": "code",
   "execution_count": 9,
   "metadata": {
    "scrolled": false
   },
   "outputs": [
    {
     "name": "stdout",
     "output_type": "stream",
     "text": [
      "dataframe shape \n",
      " (10506, 12) \n",
      "\n",
      "dataframe types \n",
      " Date                       object\n",
      "Address                    object\n",
      "Species                    object\n",
      "Block                       int64\n",
      "Street                     object\n",
      "Trap                       object\n",
      "AddressNumberAndStreet     object\n",
      "Latitude                  float64\n",
      "Longitude                 float64\n",
      "AddressAccuracy             int64\n",
      "NumMosquitos                int64\n",
      "WnvPresent                  int64\n",
      "dtype: object \n",
      "\n",
      "dataframe describe \n",
      "               Block      Latitude     Longitude  AddressAccuracy  \\\n",
      "count  10506.000000  10506.000000  10506.000000     10506.000000   \n",
      "mean      35.687797     41.841139    -87.699908         7.819532   \n",
      "std       24.339468      0.112742      0.096514         1.452921   \n",
      "min       10.000000     41.644612    -87.930995         3.000000   \n",
      "25%       12.000000     41.732984    -87.760070         8.000000   \n",
      "50%       33.000000     41.846283    -87.694991         8.000000   \n",
      "75%       52.000000     41.954690    -87.627796         9.000000   \n",
      "max       98.000000     42.017430    -87.531635         9.000000   \n",
      "\n",
      "       NumMosquitos    WnvPresent  \n",
      "count  10506.000000  10506.000000  \n",
      "mean      12.853512      0.052446  \n",
      "std       16.133816      0.222936  \n",
      "min        1.000000      0.000000  \n",
      "25%        2.000000      0.000000  \n",
      "50%        5.000000      0.000000  \n",
      "75%       17.000000      0.000000  \n",
      "max       50.000000      1.000000   \n",
      "\n",
      "dataframe describe \n",
      "                         count unique  \\\n",
      "Date                    10506     95   \n",
      "Address                 10506    138   \n",
      "Species                 10506      7   \n",
      "Street                  10506    128   \n",
      "Trap                    10506    136   \n",
      "AddressNumberAndStreet  10506    138   \n",
      "\n",
      "                                                                      top  \\\n",
      "Date                                                           2007-08-01   \n",
      "Address                 ORD Terminal 5, O'Hare International Airport, ...   \n",
      "Species                                            CULEX PIPIENS/RESTUANS   \n",
      "Street                                                    W OHARE AIRPORT   \n",
      "Trap                                                                 T900   \n",
      "AddressNumberAndStreet                 1000  W OHARE AIRPORT, Chicago, IL   \n",
      "\n",
      "                        freq  \n",
      "Date                     551  \n",
      "Address                  750  \n",
      "Species                 4752  \n",
      "Street                   750  \n",
      "Trap                     750  \n",
      "AddressNumberAndStreet   750   \n",
      "\n",
      "missing values \n",
      " Date                      0\n",
      "Address                   0\n",
      "Species                   0\n",
      "Block                     0\n",
      "Street                    0\n",
      "Trap                      0\n",
      "AddressNumberAndStreet    0\n",
      "Latitude                  0\n",
      "Longitude                 0\n",
      "AddressAccuracy           0\n",
      "NumMosquitos              0\n",
      "WnvPresent                0\n",
      "dtype: int64 \n",
      "\n",
      "duplicate values \n",
      " 813 \n",
      "\n",
      "dataframe columns \n",
      " Index(['Date', 'Address', 'Species', 'Block', 'Street', 'Trap',\n",
      "       'AddressNumberAndStreet', 'Latitude', 'Longitude', 'AddressAccuracy',\n",
      "       'NumMosquitos', 'WnvPresent'],\n",
      "      dtype='object') \n",
      "\n",
      "Date is unique: False\n",
      "Address is unique: False\n",
      "Species is unique: False\n",
      "Block is unique: False\n",
      "Street is unique: False\n",
      "Trap is unique: False\n",
      "AddressNumberAndStreet is unique: False\n",
      "Latitude is unique: False\n",
      "Longitude is unique: False\n",
      "AddressAccuracy is unique: False\n",
      "NumMosquitos is unique: False\n",
      "WnvPresent is unique: False\n"
     ]
    }
   ],
   "source": [
    "# view EDA\n",
    "eda(train)"
   ]
  },
  {
   "cell_type": "code",
   "execution_count": 10,
   "metadata": {},
   "outputs": [
    {
     "name": "stdout",
     "output_type": "stream",
     "text": [
      "2007-05-29\n",
      "2013-09-26\n"
     ]
    }
   ],
   "source": [
    "print(train['Date'].min())\n",
    "print(train['Date'].max())"
   ]
  },
  {
   "cell_type": "code",
   "execution_count": 11,
   "metadata": {
    "scrolled": false
   },
   "outputs": [
    {
     "data": {
      "text/html": [
       "<div>\n",
       "<style scoped>\n",
       "    .dataframe tbody tr th:only-of-type {\n",
       "        vertical-align: middle;\n",
       "    }\n",
       "\n",
       "    .dataframe tbody tr th {\n",
       "        vertical-align: top;\n",
       "    }\n",
       "\n",
       "    .dataframe thead th {\n",
       "        text-align: right;\n",
       "    }\n",
       "</style>\n",
       "<table border=\"1\" class=\"dataframe\">\n",
       "  <thead>\n",
       "    <tr style=\"text-align: right;\">\n",
       "      <th></th>\n",
       "      <th>Date</th>\n",
       "      <th>Address</th>\n",
       "      <th>Species</th>\n",
       "      <th>Block</th>\n",
       "      <th>Street</th>\n",
       "      <th>Trap</th>\n",
       "      <th>AddressNumberAndStreet</th>\n",
       "      <th>Latitude</th>\n",
       "      <th>Longitude</th>\n",
       "      <th>AddressAccuracy</th>\n",
       "      <th>NumMosquitos</th>\n",
       "      <th>WnvPresent</th>\n",
       "    </tr>\n",
       "  </thead>\n",
       "  <tbody>\n",
       "    <tr>\n",
       "      <th>99</th>\n",
       "      <td>2007-06-26</td>\n",
       "      <td>2200 West 113th Street, Chicago, IL 60643, USA</td>\n",
       "      <td>CULEX PIPIENS/RESTUANS</td>\n",
       "      <td>22</td>\n",
       "      <td>W 113TH ST</td>\n",
       "      <td>T086</td>\n",
       "      <td>2200  W 113TH ST, Chicago, IL</td>\n",
       "      <td>41.688324</td>\n",
       "      <td>-87.676709</td>\n",
       "      <td>8</td>\n",
       "      <td>1</td>\n",
       "      <td>0</td>\n",
       "    </tr>\n",
       "    <tr>\n",
       "      <th>295</th>\n",
       "      <td>2007-07-11</td>\n",
       "      <td>2200 West 113th Street, Chicago, IL 60643, USA</td>\n",
       "      <td>CULEX PIPIENS/RESTUANS</td>\n",
       "      <td>22</td>\n",
       "      <td>W 113TH ST</td>\n",
       "      <td>T086</td>\n",
       "      <td>2200  W 113TH ST, Chicago, IL</td>\n",
       "      <td>41.688324</td>\n",
       "      <td>-87.676709</td>\n",
       "      <td>8</td>\n",
       "      <td>50</td>\n",
       "      <td>0</td>\n",
       "    </tr>\n",
       "    <tr>\n",
       "      <th>351</th>\n",
       "      <td>2007-07-11</td>\n",
       "      <td>3500 West 116th Street, Chicago, IL 60655, USA</td>\n",
       "      <td>CULEX PIPIENS/RESTUANS</td>\n",
       "      <td>35</td>\n",
       "      <td>W 116TH ST</td>\n",
       "      <td>T158</td>\n",
       "      <td>3500  W 116TH ST, Chicago, IL</td>\n",
       "      <td>41.682587</td>\n",
       "      <td>-87.707973</td>\n",
       "      <td>9</td>\n",
       "      <td>50</td>\n",
       "      <td>0</td>\n",
       "    </tr>\n",
       "    <tr>\n",
       "      <th>353</th>\n",
       "      <td>2007-07-11</td>\n",
       "      <td>3500 West 116th Street, Chicago, IL 60655, USA</td>\n",
       "      <td>CULEX PIPIENS/RESTUANS</td>\n",
       "      <td>35</td>\n",
       "      <td>W 116TH ST</td>\n",
       "      <td>T158</td>\n",
       "      <td>3500  W 116TH ST, Chicago, IL</td>\n",
       "      <td>41.682587</td>\n",
       "      <td>-87.707973</td>\n",
       "      <td>9</td>\n",
       "      <td>50</td>\n",
       "      <td>0</td>\n",
       "    </tr>\n",
       "    <tr>\n",
       "      <th>512</th>\n",
       "      <td>2007-07-18</td>\n",
       "      <td>3300 West Randolph Street, Chicago, IL 60612, USA</td>\n",
       "      <td>CULEX RESTUANS</td>\n",
       "      <td>33</td>\n",
       "      <td>E RANDOLPH ST</td>\n",
       "      <td>T044</td>\n",
       "      <td>3300  E RANDOLPH ST, Chicago, IL</td>\n",
       "      <td>41.883284</td>\n",
       "      <td>-87.705085</td>\n",
       "      <td>8</td>\n",
       "      <td>1</td>\n",
       "      <td>0</td>\n",
       "    </tr>\n",
       "  </tbody>\n",
       "</table>\n",
       "</div>"
      ],
      "text/plain": [
       "           Date                                            Address  \\\n",
       "99   2007-06-26     2200 West 113th Street, Chicago, IL 60643, USA   \n",
       "295  2007-07-11     2200 West 113th Street, Chicago, IL 60643, USA   \n",
       "351  2007-07-11     3500 West 116th Street, Chicago, IL 60655, USA   \n",
       "353  2007-07-11     3500 West 116th Street, Chicago, IL 60655, USA   \n",
       "512  2007-07-18  3300 West Randolph Street, Chicago, IL 60612, USA   \n",
       "\n",
       "                    Species  Block          Street  Trap  \\\n",
       "99   CULEX PIPIENS/RESTUANS     22      W 113TH ST  T086   \n",
       "295  CULEX PIPIENS/RESTUANS     22      W 113TH ST  T086   \n",
       "351  CULEX PIPIENS/RESTUANS     35      W 116TH ST  T158   \n",
       "353  CULEX PIPIENS/RESTUANS     35      W 116TH ST  T158   \n",
       "512          CULEX RESTUANS     33   E RANDOLPH ST  T044   \n",
       "\n",
       "               AddressNumberAndStreet   Latitude  Longitude  AddressAccuracy  \\\n",
       "99      2200  W 113TH ST, Chicago, IL  41.688324 -87.676709                8   \n",
       "295     2200  W 113TH ST, Chicago, IL  41.688324 -87.676709                8   \n",
       "351     3500  W 116TH ST, Chicago, IL  41.682587 -87.707973                9   \n",
       "353     3500  W 116TH ST, Chicago, IL  41.682587 -87.707973                9   \n",
       "512  3300  E RANDOLPH ST, Chicago, IL  41.883284 -87.705085                8   \n",
       "\n",
       "     NumMosquitos  WnvPresent  \n",
       "99              1           0  \n",
       "295            50           0  \n",
       "351            50           0  \n",
       "353            50           0  \n",
       "512             1           0  "
      ]
     },
     "execution_count": 11,
     "metadata": {},
     "output_type": "execute_result"
    }
   ],
   "source": [
    "train[train.duplicated()].head()\n",
    "\n",
    "# duplicates are traps with excess of 50 mosquitoes, to be processed later"
   ]
  },
  {
   "cell_type": "markdown",
   "metadata": {},
   "source": [
    "\n",
    "\n",
    "<div class=\"alert alert-block alert-info\">\n",
    "    \n",
    "<b>Train Dataset:</b>\n",
    "    \n",
    "- 12 columns, 10506 rows\n",
    "- extra columns: 'NumMosquitos' and 'WnvPresent'\n",
    "- no nulls\n",
    "- 813 duplicates\n",
    "- Date needs to be changed to datetime format\n",
    "- data ranges from 2007-05-29 to 2013-09-26\n",
    "    \n",
    "\n",
    "</div>"
   ]
  },
  {
   "cell_type": "markdown",
   "metadata": {},
   "source": [
    "***"
   ]
  },
  {
   "cell_type": "markdown",
   "metadata": {},
   "source": [
    "### <span style='background :yellow' > 1.2 Test Dataset </span>"
   ]
  },
  {
   "cell_type": "code",
   "execution_count": 12,
   "metadata": {
    "scrolled": true
   },
   "outputs": [
    {
     "data": {
      "text/html": [
       "<div>\n",
       "<style scoped>\n",
       "    .dataframe tbody tr th:only-of-type {\n",
       "        vertical-align: middle;\n",
       "    }\n",
       "\n",
       "    .dataframe tbody tr th {\n",
       "        vertical-align: top;\n",
       "    }\n",
       "\n",
       "    .dataframe thead th {\n",
       "        text-align: right;\n",
       "    }\n",
       "</style>\n",
       "<table border=\"1\" class=\"dataframe\">\n",
       "  <thead>\n",
       "    <tr style=\"text-align: right;\">\n",
       "      <th></th>\n",
       "      <th>Id</th>\n",
       "      <th>Date</th>\n",
       "      <th>Address</th>\n",
       "      <th>Species</th>\n",
       "      <th>Block</th>\n",
       "      <th>Street</th>\n",
       "      <th>Trap</th>\n",
       "      <th>AddressNumberAndStreet</th>\n",
       "      <th>Latitude</th>\n",
       "      <th>Longitude</th>\n",
       "      <th>AddressAccuracy</th>\n",
       "    </tr>\n",
       "  </thead>\n",
       "  <tbody>\n",
       "    <tr>\n",
       "      <th>0</th>\n",
       "      <td>1</td>\n",
       "      <td>2008-06-11</td>\n",
       "      <td>4100 North Oak Park Avenue, Chicago, IL 60634,...</td>\n",
       "      <td>CULEX PIPIENS/RESTUANS</td>\n",
       "      <td>41</td>\n",
       "      <td>N OAK PARK AVE</td>\n",
       "      <td>T002</td>\n",
       "      <td>4100  N OAK PARK AVE, Chicago, IL</td>\n",
       "      <td>41.95469</td>\n",
       "      <td>-87.800991</td>\n",
       "      <td>9</td>\n",
       "    </tr>\n",
       "    <tr>\n",
       "      <th>1</th>\n",
       "      <td>2</td>\n",
       "      <td>2008-06-11</td>\n",
       "      <td>4100 North Oak Park Avenue, Chicago, IL 60634,...</td>\n",
       "      <td>CULEX RESTUANS</td>\n",
       "      <td>41</td>\n",
       "      <td>N OAK PARK AVE</td>\n",
       "      <td>T002</td>\n",
       "      <td>4100  N OAK PARK AVE, Chicago, IL</td>\n",
       "      <td>41.95469</td>\n",
       "      <td>-87.800991</td>\n",
       "      <td>9</td>\n",
       "    </tr>\n",
       "    <tr>\n",
       "      <th>2</th>\n",
       "      <td>3</td>\n",
       "      <td>2008-06-11</td>\n",
       "      <td>4100 North Oak Park Avenue, Chicago, IL 60634,...</td>\n",
       "      <td>CULEX PIPIENS</td>\n",
       "      <td>41</td>\n",
       "      <td>N OAK PARK AVE</td>\n",
       "      <td>T002</td>\n",
       "      <td>4100  N OAK PARK AVE, Chicago, IL</td>\n",
       "      <td>41.95469</td>\n",
       "      <td>-87.800991</td>\n",
       "      <td>9</td>\n",
       "    </tr>\n",
       "    <tr>\n",
       "      <th>3</th>\n",
       "      <td>4</td>\n",
       "      <td>2008-06-11</td>\n",
       "      <td>4100 North Oak Park Avenue, Chicago, IL 60634,...</td>\n",
       "      <td>CULEX SALINARIUS</td>\n",
       "      <td>41</td>\n",
       "      <td>N OAK PARK AVE</td>\n",
       "      <td>T002</td>\n",
       "      <td>4100  N OAK PARK AVE, Chicago, IL</td>\n",
       "      <td>41.95469</td>\n",
       "      <td>-87.800991</td>\n",
       "      <td>9</td>\n",
       "    </tr>\n",
       "    <tr>\n",
       "      <th>4</th>\n",
       "      <td>5</td>\n",
       "      <td>2008-06-11</td>\n",
       "      <td>4100 North Oak Park Avenue, Chicago, IL 60634,...</td>\n",
       "      <td>CULEX TERRITANS</td>\n",
       "      <td>41</td>\n",
       "      <td>N OAK PARK AVE</td>\n",
       "      <td>T002</td>\n",
       "      <td>4100  N OAK PARK AVE, Chicago, IL</td>\n",
       "      <td>41.95469</td>\n",
       "      <td>-87.800991</td>\n",
       "      <td>9</td>\n",
       "    </tr>\n",
       "  </tbody>\n",
       "</table>\n",
       "</div>"
      ],
      "text/plain": [
       "   Id        Date                                            Address  \\\n",
       "0   1  2008-06-11  4100 North Oak Park Avenue, Chicago, IL 60634,...   \n",
       "1   2  2008-06-11  4100 North Oak Park Avenue, Chicago, IL 60634,...   \n",
       "2   3  2008-06-11  4100 North Oak Park Avenue, Chicago, IL 60634,...   \n",
       "3   4  2008-06-11  4100 North Oak Park Avenue, Chicago, IL 60634,...   \n",
       "4   5  2008-06-11  4100 North Oak Park Avenue, Chicago, IL 60634,...   \n",
       "\n",
       "                  Species  Block           Street  Trap  \\\n",
       "0  CULEX PIPIENS/RESTUANS     41   N OAK PARK AVE  T002   \n",
       "1          CULEX RESTUANS     41   N OAK PARK AVE  T002   \n",
       "2           CULEX PIPIENS     41   N OAK PARK AVE  T002   \n",
       "3        CULEX SALINARIUS     41   N OAK PARK AVE  T002   \n",
       "4         CULEX TERRITANS     41   N OAK PARK AVE  T002   \n",
       "\n",
       "              AddressNumberAndStreet  Latitude  Longitude  AddressAccuracy  \n",
       "0  4100  N OAK PARK AVE, Chicago, IL  41.95469 -87.800991                9  \n",
       "1  4100  N OAK PARK AVE, Chicago, IL  41.95469 -87.800991                9  \n",
       "2  4100  N OAK PARK AVE, Chicago, IL  41.95469 -87.800991                9  \n",
       "3  4100  N OAK PARK AVE, Chicago, IL  41.95469 -87.800991                9  \n",
       "4  4100  N OAK PARK AVE, Chicago, IL  41.95469 -87.800991                9  "
      ]
     },
     "execution_count": 12,
     "metadata": {},
     "output_type": "execute_result"
    }
   ],
   "source": [
    "# view dataset\n",
    "test.head()"
   ]
  },
  {
   "cell_type": "code",
   "execution_count": 13,
   "metadata": {
    "scrolled": false
   },
   "outputs": [
    {
     "name": "stdout",
     "output_type": "stream",
     "text": [
      "dataframe shape \n",
      " (116293, 11) \n",
      "\n",
      "dataframe types \n",
      " Id                          int64\n",
      "Date                       object\n",
      "Address                    object\n",
      "Species                    object\n",
      "Block                       int64\n",
      "Street                     object\n",
      "Trap                       object\n",
      "AddressNumberAndStreet     object\n",
      "Latitude                  float64\n",
      "Longitude                 float64\n",
      "AddressAccuracy             int64\n",
      "dtype: object \n",
      "\n",
      "dataframe describe \n",
      "                   Id          Block       Latitude      Longitude  \\\n",
      "count  116293.000000  116293.000000  116293.000000  116293.000000   \n",
      "mean    58147.000000      41.131100      41.849389     -87.693658   \n",
      "std     33571.041765      24.864726       0.106593       0.080699   \n",
      "min         1.000000      10.000000      41.644612     -87.930995   \n",
      "25%     29074.000000      18.000000      41.753411     -87.750938   \n",
      "50%     58147.000000      39.000000      41.862292     -87.694991   \n",
      "75%     87220.000000      61.000000      41.951866     -87.648860   \n",
      "max    116293.000000      98.000000      42.017430     -87.531635   \n",
      "\n",
      "       AddressAccuracy  \n",
      "count    116293.000000  \n",
      "mean          7.954357  \n",
      "std           1.252733  \n",
      "min           3.000000  \n",
      "25%           8.000000  \n",
      "50%           8.000000  \n",
      "75%           9.000000  \n",
      "max           9.000000   \n",
      "\n",
      "dataframe describe \n",
      "                          count unique  \\\n",
      "Date                    116293     95   \n",
      "Address                 116293    151   \n",
      "Species                 116293      8   \n",
      "Street                  116293    139   \n",
      "Trap                    116293    149   \n",
      "AddressNumberAndStreet  116293    151   \n",
      "\n",
      "                                                                      top  \\\n",
      "Date                                                           2012-07-09   \n",
      "Address                 ORD Terminal 5, O'Hare International Airport, ...   \n",
      "Species                                            CULEX PIPIENS/RESTUANS   \n",
      "Street                                                     N OAK PARK AVE   \n",
      "Trap                                                                 T009   \n",
      "AddressNumberAndStreet                 1000  W OHARE AIRPORT, Chicago, IL   \n",
      "\n",
      "                         freq  \n",
      "Date                     1293  \n",
      "Address                  1468  \n",
      "Species                 15359  \n",
      "Street                   1617  \n",
      "Trap                     1528  \n",
      "AddressNumberAndStreet   1468   \n",
      "\n",
      "missing values \n",
      " Id                        0\n",
      "Date                      0\n",
      "Address                   0\n",
      "Species                   0\n",
      "Block                     0\n",
      "Street                    0\n",
      "Trap                      0\n",
      "AddressNumberAndStreet    0\n",
      "Latitude                  0\n",
      "Longitude                 0\n",
      "AddressAccuracy           0\n",
      "dtype: int64 \n",
      "\n",
      "duplicate values \n",
      " 0 \n",
      "\n",
      "dataframe columns \n",
      " Index(['Id', 'Date', 'Address', 'Species', 'Block', 'Street', 'Trap',\n",
      "       'AddressNumberAndStreet', 'Latitude', 'Longitude', 'AddressAccuracy'],\n",
      "      dtype='object') \n",
      "\n",
      "Id is unique: True\n",
      "Date is unique: False\n",
      "Address is unique: False\n",
      "Species is unique: False\n",
      "Block is unique: False\n",
      "Street is unique: False\n",
      "Trap is unique: False\n",
      "AddressNumberAndStreet is unique: False\n",
      "Latitude is unique: False\n",
      "Longitude is unique: False\n",
      "AddressAccuracy is unique: False\n"
     ]
    }
   ],
   "source": [
    "# view EDA\n",
    "eda(test)"
   ]
  },
  {
   "cell_type": "code",
   "execution_count": 14,
   "metadata": {},
   "outputs": [
    {
     "name": "stdout",
     "output_type": "stream",
     "text": [
      "2007-05-29\n",
      "2013-09-26\n"
     ]
    }
   ],
   "source": [
    "# view date range\n",
    "print(train['Date'].min())\n",
    "print(train['Date'].max())"
   ]
  },
  {
   "cell_type": "markdown",
   "metadata": {},
   "source": [
    "***"
   ]
  },
  {
   "cell_type": "markdown",
   "metadata": {},
   "source": [
    "\n",
    "\n",
    "<div class=\"alert alert-block alert-info\">\n",
    "    \n",
    "    \n",
    "<b>Test Dataset:</b> \n",
    "    \n",
    "- 11 columns, 116293 rows \n",
    "- extra columns: 'Id'\n",
    "- no nulls\n",
    "- no duplicates\n",
    "- Date needs to be changed to datetime format\n",
    "- data ranges from 2007-05-29 to 2013-09-26\n",
    "\n",
    "    \n",
    "<b>Initial thoughts:</b> \n",
    "There are no mosquito number infomation in our test set so our predictions have to be based on weather, location, time, and spraying. We might need to do predict the amount of mosquitoes in order to predict the amount of WNV?\n",
    "\n",
    "Train duplicates might be cause by mosquitoes in trap exceeding 50 counts, this will need to be processed later. \n",
    "Train and test data ranges in the same period\n",
    "    \n",
    "</div>\n",
    "\n"
   ]
  },
  {
   "cell_type": "markdown",
   "metadata": {},
   "source": [
    "***"
   ]
  },
  {
   "cell_type": "markdown",
   "metadata": {},
   "source": [
    "### <span style='background :yellow' > 1.3 Weather Dataset </span>\n"
   ]
  },
  {
   "cell_type": "code",
   "execution_count": 15,
   "metadata": {
    "scrolled": true
   },
   "outputs": [
    {
     "data": {
      "text/html": [
       "<div>\n",
       "<style scoped>\n",
       "    .dataframe tbody tr th:only-of-type {\n",
       "        vertical-align: middle;\n",
       "    }\n",
       "\n",
       "    .dataframe tbody tr th {\n",
       "        vertical-align: top;\n",
       "    }\n",
       "\n",
       "    .dataframe thead th {\n",
       "        text-align: right;\n",
       "    }\n",
       "</style>\n",
       "<table border=\"1\" class=\"dataframe\">\n",
       "  <thead>\n",
       "    <tr style=\"text-align: right;\">\n",
       "      <th></th>\n",
       "      <th>Station</th>\n",
       "      <th>Date</th>\n",
       "      <th>Tmax</th>\n",
       "      <th>Tmin</th>\n",
       "      <th>Tavg</th>\n",
       "      <th>Depart</th>\n",
       "      <th>DewPoint</th>\n",
       "      <th>WetBulb</th>\n",
       "      <th>Heat</th>\n",
       "      <th>Cool</th>\n",
       "      <th>...</th>\n",
       "      <th>CodeSum</th>\n",
       "      <th>Depth</th>\n",
       "      <th>Water1</th>\n",
       "      <th>SnowFall</th>\n",
       "      <th>PrecipTotal</th>\n",
       "      <th>StnPressure</th>\n",
       "      <th>SeaLevel</th>\n",
       "      <th>ResultSpeed</th>\n",
       "      <th>ResultDir</th>\n",
       "      <th>AvgSpeed</th>\n",
       "    </tr>\n",
       "  </thead>\n",
       "  <tbody>\n",
       "    <tr>\n",
       "      <th>0</th>\n",
       "      <td>1</td>\n",
       "      <td>2007-05-01</td>\n",
       "      <td>83</td>\n",
       "      <td>50</td>\n",
       "      <td>67</td>\n",
       "      <td>14</td>\n",
       "      <td>51</td>\n",
       "      <td>56</td>\n",
       "      <td>0</td>\n",
       "      <td>2</td>\n",
       "      <td>...</td>\n",
       "      <td></td>\n",
       "      <td>0</td>\n",
       "      <td>M</td>\n",
       "      <td>0.0</td>\n",
       "      <td>0.00</td>\n",
       "      <td>29.10</td>\n",
       "      <td>29.82</td>\n",
       "      <td>1.7</td>\n",
       "      <td>27</td>\n",
       "      <td>9.2</td>\n",
       "    </tr>\n",
       "    <tr>\n",
       "      <th>1</th>\n",
       "      <td>2</td>\n",
       "      <td>2007-05-01</td>\n",
       "      <td>84</td>\n",
       "      <td>52</td>\n",
       "      <td>68</td>\n",
       "      <td>M</td>\n",
       "      <td>51</td>\n",
       "      <td>57</td>\n",
       "      <td>0</td>\n",
       "      <td>3</td>\n",
       "      <td>...</td>\n",
       "      <td></td>\n",
       "      <td>M</td>\n",
       "      <td>M</td>\n",
       "      <td>M</td>\n",
       "      <td>0.00</td>\n",
       "      <td>29.18</td>\n",
       "      <td>29.82</td>\n",
       "      <td>2.7</td>\n",
       "      <td>25</td>\n",
       "      <td>9.6</td>\n",
       "    </tr>\n",
       "    <tr>\n",
       "      <th>2</th>\n",
       "      <td>1</td>\n",
       "      <td>2007-05-02</td>\n",
       "      <td>59</td>\n",
       "      <td>42</td>\n",
       "      <td>51</td>\n",
       "      <td>-3</td>\n",
       "      <td>42</td>\n",
       "      <td>47</td>\n",
       "      <td>14</td>\n",
       "      <td>0</td>\n",
       "      <td>...</td>\n",
       "      <td>BR</td>\n",
       "      <td>0</td>\n",
       "      <td>M</td>\n",
       "      <td>0.0</td>\n",
       "      <td>0.00</td>\n",
       "      <td>29.38</td>\n",
       "      <td>30.09</td>\n",
       "      <td>13.0</td>\n",
       "      <td>4</td>\n",
       "      <td>13.4</td>\n",
       "    </tr>\n",
       "    <tr>\n",
       "      <th>3</th>\n",
       "      <td>2</td>\n",
       "      <td>2007-05-02</td>\n",
       "      <td>60</td>\n",
       "      <td>43</td>\n",
       "      <td>52</td>\n",
       "      <td>M</td>\n",
       "      <td>42</td>\n",
       "      <td>47</td>\n",
       "      <td>13</td>\n",
       "      <td>0</td>\n",
       "      <td>...</td>\n",
       "      <td>BR HZ</td>\n",
       "      <td>M</td>\n",
       "      <td>M</td>\n",
       "      <td>M</td>\n",
       "      <td>0.00</td>\n",
       "      <td>29.44</td>\n",
       "      <td>30.08</td>\n",
       "      <td>13.3</td>\n",
       "      <td>2</td>\n",
       "      <td>13.4</td>\n",
       "    </tr>\n",
       "    <tr>\n",
       "      <th>4</th>\n",
       "      <td>1</td>\n",
       "      <td>2007-05-03</td>\n",
       "      <td>66</td>\n",
       "      <td>46</td>\n",
       "      <td>56</td>\n",
       "      <td>2</td>\n",
       "      <td>40</td>\n",
       "      <td>48</td>\n",
       "      <td>9</td>\n",
       "      <td>0</td>\n",
       "      <td>...</td>\n",
       "      <td></td>\n",
       "      <td>0</td>\n",
       "      <td>M</td>\n",
       "      <td>0.0</td>\n",
       "      <td>0.00</td>\n",
       "      <td>29.39</td>\n",
       "      <td>30.12</td>\n",
       "      <td>11.7</td>\n",
       "      <td>7</td>\n",
       "      <td>11.9</td>\n",
       "    </tr>\n",
       "  </tbody>\n",
       "</table>\n",
       "<p>5 rows × 22 columns</p>\n",
       "</div>"
      ],
      "text/plain": [
       "   Station        Date  Tmax  Tmin Tavg Depart  DewPoint WetBulb Heat Cool  \\\n",
       "0        1  2007-05-01    83    50   67     14        51      56    0    2   \n",
       "1        2  2007-05-01    84    52   68      M        51      57    0    3   \n",
       "2        1  2007-05-02    59    42   51     -3        42      47   14    0   \n",
       "3        2  2007-05-02    60    43   52      M        42      47   13    0   \n",
       "4        1  2007-05-03    66    46   56      2        40      48    9    0   \n",
       "\n",
       "   ... CodeSum Depth Water1 SnowFall PrecipTotal StnPressure SeaLevel  \\\n",
       "0  ...             0      M      0.0        0.00       29.10    29.82   \n",
       "1  ...             M      M        M        0.00       29.18    29.82   \n",
       "2  ...      BR     0      M      0.0        0.00       29.38    30.09   \n",
       "3  ...   BR HZ     M      M        M        0.00       29.44    30.08   \n",
       "4  ...             0      M      0.0        0.00       29.39    30.12   \n",
       "\n",
       "  ResultSpeed ResultDir  AvgSpeed  \n",
       "0         1.7        27       9.2  \n",
       "1         2.7        25       9.6  \n",
       "2        13.0         4      13.4  \n",
       "3        13.3         2      13.4  \n",
       "4        11.7         7      11.9  \n",
       "\n",
       "[5 rows x 22 columns]"
      ]
     },
     "execution_count": 15,
     "metadata": {},
     "output_type": "execute_result"
    }
   ],
   "source": [
    "# view dataset\n",
    "weather.head()"
   ]
  },
  {
   "cell_type": "code",
   "execution_count": 16,
   "metadata": {
    "scrolled": false
   },
   "outputs": [
    {
     "name": "stdout",
     "output_type": "stream",
     "text": [
      "dataframe shape \n",
      " (2944, 22) \n",
      "\n",
      "dataframe types \n",
      " Station          int64\n",
      "Date            object\n",
      "Tmax             int64\n",
      "Tmin             int64\n",
      "Tavg            object\n",
      "Depart          object\n",
      "DewPoint         int64\n",
      "WetBulb         object\n",
      "Heat            object\n",
      "Cool            object\n",
      "Sunrise         object\n",
      "Sunset          object\n",
      "CodeSum         object\n",
      "Depth           object\n",
      "Water1          object\n",
      "SnowFall        object\n",
      "PrecipTotal     object\n",
      "StnPressure     object\n",
      "SeaLevel        object\n",
      "ResultSpeed    float64\n",
      "ResultDir        int64\n",
      "AvgSpeed        object\n",
      "dtype: object \n",
      "\n",
      "dataframe describe \n",
      "            Station         Tmax         Tmin     DewPoint  ResultSpeed  \\\n",
      "count  2944.000000  2944.000000  2944.000000  2944.000000  2944.000000   \n",
      "mean      1.500000    76.166101    57.810462    53.457880     6.960666   \n",
      "std       0.500085    11.461970    10.381939    10.675181     3.587527   \n",
      "min       1.000000    41.000000    29.000000    22.000000     0.100000   \n",
      "25%       1.000000    69.000000    50.000000    46.000000     4.300000   \n",
      "50%       1.500000    78.000000    59.000000    54.000000     6.400000   \n",
      "75%       2.000000    85.000000    66.000000    62.000000     9.200000   \n",
      "max       2.000000   104.000000    83.000000    75.000000    24.100000   \n",
      "\n",
      "         ResultDir  \n",
      "count  2944.000000  \n",
      "mean     17.494905  \n",
      "std      10.063609  \n",
      "min       1.000000  \n",
      "25%       7.000000  \n",
      "50%      19.000000  \n",
      "75%      25.000000  \n",
      "max      36.000000   \n",
      "\n",
      "dataframe describe \n",
      "             count unique         top  freq\n",
      "Date         2944   1472  2010-07-18     2\n",
      "Tavg         2944     60          73   138\n",
      "Depart       2944     42           M  1472\n",
      "WetBulb      2944     48          63   135\n",
      "Heat         2944     31           0  1870\n",
      "Cool         2944     31           0  1147\n",
      "Sunrise      2944    122           -  1472\n",
      "Sunset       2944    119           -  1472\n",
      "CodeSum      2944     98              1609\n",
      "Depth        2944      2           0  1472\n",
      "Water1       2944      1           M  2944\n",
      "SnowFall     2944      4           M  1472\n",
      "PrecipTotal  2944    168        0.00  1577\n",
      "StnPressure  2944    104       29.34   128\n",
      "SeaLevel     2944    102       30.00    96\n",
      "AvgSpeed     2944    178         6.9    63 \n",
      "\n",
      "missing values \n",
      " Station        0\n",
      "Date           0\n",
      "Tmax           0\n",
      "Tmin           0\n",
      "Tavg           0\n",
      "Depart         0\n",
      "DewPoint       0\n",
      "WetBulb        0\n",
      "Heat           0\n",
      "Cool           0\n",
      "Sunrise        0\n",
      "Sunset         0\n",
      "CodeSum        0\n",
      "Depth          0\n",
      "Water1         0\n",
      "SnowFall       0\n",
      "PrecipTotal    0\n",
      "StnPressure    0\n",
      "SeaLevel       0\n",
      "ResultSpeed    0\n",
      "ResultDir      0\n",
      "AvgSpeed       0\n",
      "dtype: int64 \n",
      "\n",
      "duplicate values \n",
      " 0 \n",
      "\n",
      "dataframe columns \n",
      " Index(['Station', 'Date', 'Tmax', 'Tmin', 'Tavg', 'Depart', 'DewPoint',\n",
      "       'WetBulb', 'Heat', 'Cool', 'Sunrise', 'Sunset', 'CodeSum', 'Depth',\n",
      "       'Water1', 'SnowFall', 'PrecipTotal', 'StnPressure', 'SeaLevel',\n",
      "       'ResultSpeed', 'ResultDir', 'AvgSpeed'],\n",
      "      dtype='object') \n",
      "\n",
      "Station is unique: False\n",
      "Date is unique: False\n",
      "Tmax is unique: False\n",
      "Tmin is unique: False\n",
      "Tavg is unique: False\n",
      "Depart is unique: False\n",
      "DewPoint is unique: False\n",
      "WetBulb is unique: False\n",
      "Heat is unique: False\n",
      "Cool is unique: False\n",
      "Sunrise is unique: False\n",
      "Sunset is unique: False\n",
      "CodeSum is unique: False\n",
      "Depth is unique: False\n",
      "Water1 is unique: False\n",
      "SnowFall is unique: False\n",
      "PrecipTotal is unique: False\n",
      "StnPressure is unique: False\n",
      "SeaLevel is unique: False\n",
      "ResultSpeed is unique: False\n",
      "ResultDir is unique: False\n",
      "AvgSpeed is unique: False\n"
     ]
    }
   ],
   "source": [
    "# view EDA\n",
    "eda(weather)"
   ]
  },
  {
   "cell_type": "code",
   "execution_count": 17,
   "metadata": {
    "scrolled": false
   },
   "outputs": [
    {
     "name": "stdout",
     "output_type": "stream",
     "text": [
      "(2944, 22)\n",
      "\n",
      "Tavg(station 1): 0 missing values\n",
      "Tavg(station 2): 11 missing values\n",
      "**************\n",
      "Depart(station 1): 1271 missing values\n",
      "Depart(station 2): 1472 missing values\n",
      "**************\n",
      "WetBulb(station 1): 3 missing values\n",
      "WetBulb(station 2): 1 missing values\n",
      "**************\n",
      "Heat(station 1): 0 missing values\n",
      "Heat(station 2): 11 missing values\n",
      "**************\n",
      "Cool(station 1): 1096 missing values\n",
      "Cool(station 2): 1021 missing values\n",
      "**************\n",
      "Sunrise(station 1): 0 missing values\n",
      "Sunrise(station 2): 1472 missing values\n",
      "**************\n",
      "Sunset(station 1): 0 missing values\n",
      "Sunset(station 2): 1472 missing values\n",
      "**************\n",
      "Depth(station 1): 0 missing values\n",
      "Depth(station 2): 1472 missing values\n",
      "**************\n",
      "Water1(station 1): 1472 missing values\n",
      "Water1(station 2): 1472 missing values\n",
      "**************\n",
      "SnowFall(station 1): 1472 missing values\n",
      "SnowFall(station 2): 1472 missing values\n",
      "**************\n",
      "PrecipTotal(station 1): 1472 missing values\n",
      "PrecipTotal(station 2): 1472 missing values\n",
      "**************\n",
      "StnPressure(station 1): 1472 missing values\n",
      "StnPressure(station 2): 1472 missing values\n",
      "**************\n",
      "SeaLevel(station 1): 1472 missing values\n",
      "SeaLevel(station 2): 1472 missing values\n",
      "**************\n",
      "AvgSpeed(station 1): 1472 missing values\n",
      "AvgSpeed(station 2): 1472 missing values\n",
      "**************\n"
     ]
    }
   ],
   "source": [
    "# checking for columns containing M or T as missing values\n",
    "\n",
    "check_col = ['Tavg', 'Depart','WetBulb','Heat','Cool',\n",
    "             'Sunrise','Sunset','Depth','Water1','SnowFall',\n",
    "            'PrecipTotal','StnPressure','SeaLevel','AvgSpeed']\n",
    "\n",
    "print(weather.shape)\n",
    "print('')\n",
    "\n",
    "for col in weather[check_col]:\n",
    "    station_1 = len(weather[(weather[col].str.contains('\\D')) & (weather['Station']==1)])\n",
    "    print(f\"{col}(station 1): {str(station_1)} missing values\")\n",
    "    \n",
    "    station_2 = len(weather[(weather[col].str.contains('\\D')) & (weather['Station']==2)])\n",
    "    print(f\"{col}(station 2): {str(station_2)} missing values\")\n",
    "    print('**************')"
   ]
  },
  {
   "cell_type": "code",
   "execution_count": 18,
   "metadata": {},
   "outputs": [],
   "source": [
    "# dropping unwanted columns\n",
    "droplist = ['Depart', 'Heat', 'Cool', 'Sunrise', 'Sunset', 'Depth',\n",
    "       'Water1', 'SnowFall', 'CodeSum']\n",
    "weather.drop(droplist, axis = 1, inplace= True)"
   ]
  },
  {
   "cell_type": "code",
   "execution_count": 19,
   "metadata": {},
   "outputs": [],
   "source": [
    "# replace M to NaN\n",
    "weather = weather.replace('M', np.nan)\n",
    "weather = weather.replace('-', np.nan)\n",
    "\n",
    "# imputing Trace value to < 0.1\n",
    "replace_val(weather, 'PrecipTotal', '  T' , 0.005)\n",
    "\n",
    "# Tavg to be for average of Tmax and Tmin\n",
    "weather['Tavg'] = round((weather['Tmax'] + weather['Tmin'])/2+0.1)"
   ]
  },
  {
   "cell_type": "code",
   "execution_count": 20,
   "metadata": {
    "scrolled": true
   },
   "outputs": [],
   "source": [
    "# change column types\n",
    "weather['Tavg'] = weather['Tavg'].astype(float)\n",
    "weather['PrecipTotal'] = weather['PrecipTotal'].astype(float)\n",
    "weather['StnPressure'] = weather['StnPressure'].astype(float)\n",
    "weather['SeaLevel'] = weather['SeaLevel'].astype(float)\n",
    "weather['AvgSpeed'] = weather['AvgSpeed'].astype(float)\n",
    "weather['WetBulb'] = weather['WetBulb'].astype(float)"
   ]
  },
  {
   "cell_type": "code",
   "execution_count": 21,
   "metadata": {},
   "outputs": [
    {
     "data": {
      "text/html": [
       "<div>\n",
       "<style scoped>\n",
       "    .dataframe tbody tr th:only-of-type {\n",
       "        vertical-align: middle;\n",
       "    }\n",
       "\n",
       "    .dataframe tbody tr th {\n",
       "        vertical-align: top;\n",
       "    }\n",
       "\n",
       "    .dataframe thead th {\n",
       "        text-align: right;\n",
       "    }\n",
       "</style>\n",
       "<table border=\"1\" class=\"dataframe\">\n",
       "  <thead>\n",
       "    <tr style=\"text-align: right;\">\n",
       "      <th></th>\n",
       "      <th>Station</th>\n",
       "      <th>Date</th>\n",
       "      <th>Tmax</th>\n",
       "      <th>Tmin</th>\n",
       "      <th>Tavg</th>\n",
       "      <th>DewPoint</th>\n",
       "      <th>WetBulb</th>\n",
       "      <th>PrecipTotal</th>\n",
       "      <th>StnPressure</th>\n",
       "      <th>SeaLevel</th>\n",
       "      <th>ResultSpeed</th>\n",
       "      <th>ResultDir</th>\n",
       "      <th>AvgSpeed</th>\n",
       "    </tr>\n",
       "  </thead>\n",
       "  <tbody>\n",
       "    <tr>\n",
       "      <th>0</th>\n",
       "      <td>1</td>\n",
       "      <td>2007-05-01</td>\n",
       "      <td>83</td>\n",
       "      <td>50</td>\n",
       "      <td>67.0</td>\n",
       "      <td>51</td>\n",
       "      <td>56.0</td>\n",
       "      <td>0.0</td>\n",
       "      <td>29.10</td>\n",
       "      <td>29.82</td>\n",
       "      <td>1.7</td>\n",
       "      <td>27</td>\n",
       "      <td>9.2</td>\n",
       "    </tr>\n",
       "    <tr>\n",
       "      <th>1</th>\n",
       "      <td>2</td>\n",
       "      <td>2007-05-01</td>\n",
       "      <td>84</td>\n",
       "      <td>52</td>\n",
       "      <td>68.0</td>\n",
       "      <td>51</td>\n",
       "      <td>57.0</td>\n",
       "      <td>0.0</td>\n",
       "      <td>29.18</td>\n",
       "      <td>29.82</td>\n",
       "      <td>2.7</td>\n",
       "      <td>25</td>\n",
       "      <td>9.6</td>\n",
       "    </tr>\n",
       "    <tr>\n",
       "      <th>2</th>\n",
       "      <td>1</td>\n",
       "      <td>2007-05-02</td>\n",
       "      <td>59</td>\n",
       "      <td>42</td>\n",
       "      <td>51.0</td>\n",
       "      <td>42</td>\n",
       "      <td>47.0</td>\n",
       "      <td>0.0</td>\n",
       "      <td>29.38</td>\n",
       "      <td>30.09</td>\n",
       "      <td>13.0</td>\n",
       "      <td>4</td>\n",
       "      <td>13.4</td>\n",
       "    </tr>\n",
       "    <tr>\n",
       "      <th>3</th>\n",
       "      <td>2</td>\n",
       "      <td>2007-05-02</td>\n",
       "      <td>60</td>\n",
       "      <td>43</td>\n",
       "      <td>52.0</td>\n",
       "      <td>42</td>\n",
       "      <td>47.0</td>\n",
       "      <td>0.0</td>\n",
       "      <td>29.44</td>\n",
       "      <td>30.08</td>\n",
       "      <td>13.3</td>\n",
       "      <td>2</td>\n",
       "      <td>13.4</td>\n",
       "    </tr>\n",
       "    <tr>\n",
       "      <th>4</th>\n",
       "      <td>1</td>\n",
       "      <td>2007-05-03</td>\n",
       "      <td>66</td>\n",
       "      <td>46</td>\n",
       "      <td>56.0</td>\n",
       "      <td>40</td>\n",
       "      <td>48.0</td>\n",
       "      <td>0.0</td>\n",
       "      <td>29.39</td>\n",
       "      <td>30.12</td>\n",
       "      <td>11.7</td>\n",
       "      <td>7</td>\n",
       "      <td>11.9</td>\n",
       "    </tr>\n",
       "  </tbody>\n",
       "</table>\n",
       "</div>"
      ],
      "text/plain": [
       "   Station        Date  Tmax  Tmin  Tavg  DewPoint  WetBulb  PrecipTotal  \\\n",
       "0        1  2007-05-01    83    50  67.0        51     56.0          0.0   \n",
       "1        2  2007-05-01    84    52  68.0        51     57.0          0.0   \n",
       "2        1  2007-05-02    59    42  51.0        42     47.0          0.0   \n",
       "3        2  2007-05-02    60    43  52.0        42     47.0          0.0   \n",
       "4        1  2007-05-03    66    46  56.0        40     48.0          0.0   \n",
       "\n",
       "   StnPressure  SeaLevel  ResultSpeed  ResultDir  AvgSpeed  \n",
       "0        29.10     29.82          1.7         27       9.2  \n",
       "1        29.18     29.82          2.7         25       9.6  \n",
       "2        29.38     30.09         13.0          4      13.4  \n",
       "3        29.44     30.08         13.3          2      13.4  \n",
       "4        29.39     30.12         11.7          7      11.9  "
      ]
     },
     "execution_count": 21,
     "metadata": {},
     "output_type": "execute_result"
    }
   ],
   "source": [
    "# view dataset\n",
    "weather.head()"
   ]
  },
  {
   "cell_type": "code",
   "execution_count": 22,
   "metadata": {},
   "outputs": [],
   "source": [
    "# replacing nan with median\n",
    "\n",
    "replace_median(weather, 'PrecipTotal')\n",
    "replace_median(weather, 'StnPressure')\n",
    "replace_median(weather, 'SeaLevel')\n",
    "replace_median(weather, 'AvgSpeed')\n",
    "replace_median(weather, 'WetBulb')"
   ]
  },
  {
   "cell_type": "code",
   "execution_count": 23,
   "metadata": {
    "scrolled": false
   },
   "outputs": [
    {
     "data": {
      "text/plain": [
       "Station        0\n",
       "Date           0\n",
       "Tmax           0\n",
       "Tmin           0\n",
       "Tavg           0\n",
       "DewPoint       0\n",
       "WetBulb        0\n",
       "PrecipTotal    0\n",
       "StnPressure    0\n",
       "SeaLevel       0\n",
       "ResultSpeed    0\n",
       "ResultDir      0\n",
       "AvgSpeed       0\n",
       "dtype: int64"
      ]
     },
     "execution_count": 23,
     "metadata": {},
     "output_type": "execute_result"
    }
   ],
   "source": [
    "#check null values\n",
    "weather.isnull().sum()"
   ]
  },
  {
   "cell_type": "code",
   "execution_count": 24,
   "metadata": {
    "scrolled": true
   },
   "outputs": [],
   "source": [
    "# Split station 1 and 2 and join horizontally\n",
    "weather_stn1 = weather[weather['Station']==1]\n",
    "weather_stn2 = weather[weather['Station']==2]\n",
    "\n",
    "# add long, lat\n",
    "weather_stn1 ['Latitude'] = 41.995\n",
    "weather_stn1 ['Longitude'] = -87.933\n",
    "weather_stn2 ['Latitude'] = 41.786\n",
    "weather_stn2 ['Longitude'] = -87.752\n",
    "\n",
    "# drop station column\n",
    "weather_stn1 = weather_stn1.drop('Station', axis=1)\n",
    "weather_stn2 = weather_stn2.drop('Station', axis=1)\n",
    "\n",
    "#join df\n",
    "weather = weather_stn1.merge(weather_stn2, on='Date')\n",
    "\n",
    "#change column names\n",
    "weather.columns = ['Date', 'Tmax_1', 'Tmin_1', 'Tavg_1', 'DewPoint_1', 'WetBulb_1',\n",
    "       'PrecipTotal_1', 'StnPressure_1', 'SeaLevel_1',\n",
    "       'ResultSpeed_1', 'ResultDir_1', 'AvgSpeed_1', 'Latitude_1',\n",
    "       'Longitude_1', 'Tmax_2', 'Tmin_2', 'Tavg_2', 'DewPoint_2', 'WetBulb_2',\n",
    "       'PrecipTotal_2', 'StnPressure_2', 'SeaLevel_2',\n",
    "       'ResultSpeed_2', 'ResultDir_2', 'AvgSpeed_2', 'Latitude_2',\n",
    "       'Longitude_2']\n"
   ]
  },
  {
   "cell_type": "code",
   "execution_count": 25,
   "metadata": {
    "scrolled": false
   },
   "outputs": [
    {
     "data": {
      "text/html": [
       "<div>\n",
       "<style scoped>\n",
       "    .dataframe tbody tr th:only-of-type {\n",
       "        vertical-align: middle;\n",
       "    }\n",
       "\n",
       "    .dataframe tbody tr th {\n",
       "        vertical-align: top;\n",
       "    }\n",
       "\n",
       "    .dataframe thead th {\n",
       "        text-align: right;\n",
       "    }\n",
       "</style>\n",
       "<table border=\"1\" class=\"dataframe\">\n",
       "  <thead>\n",
       "    <tr style=\"text-align: right;\">\n",
       "      <th></th>\n",
       "      <th>Date</th>\n",
       "      <th>Tmax_1</th>\n",
       "      <th>Tmin_1</th>\n",
       "      <th>Tavg_1</th>\n",
       "      <th>DewPoint_1</th>\n",
       "      <th>WetBulb_1</th>\n",
       "      <th>PrecipTotal_1</th>\n",
       "      <th>StnPressure_1</th>\n",
       "      <th>SeaLevel_1</th>\n",
       "      <th>ResultSpeed_1</th>\n",
       "      <th>...</th>\n",
       "      <th>DewPoint_2</th>\n",
       "      <th>WetBulb_2</th>\n",
       "      <th>PrecipTotal_2</th>\n",
       "      <th>StnPressure_2</th>\n",
       "      <th>SeaLevel_2</th>\n",
       "      <th>ResultSpeed_2</th>\n",
       "      <th>ResultDir_2</th>\n",
       "      <th>AvgSpeed_2</th>\n",
       "      <th>Latitude_2</th>\n",
       "      <th>Longitude_2</th>\n",
       "    </tr>\n",
       "  </thead>\n",
       "  <tbody>\n",
       "    <tr>\n",
       "      <th>0</th>\n",
       "      <td>2007-05-01</td>\n",
       "      <td>83</td>\n",
       "      <td>50</td>\n",
       "      <td>67.0</td>\n",
       "      <td>51</td>\n",
       "      <td>56.0</td>\n",
       "      <td>0.000</td>\n",
       "      <td>29.10</td>\n",
       "      <td>29.82</td>\n",
       "      <td>1.7</td>\n",
       "      <td>...</td>\n",
       "      <td>51</td>\n",
       "      <td>57.0</td>\n",
       "      <td>0.000</td>\n",
       "      <td>29.18</td>\n",
       "      <td>29.82</td>\n",
       "      <td>2.7</td>\n",
       "      <td>25</td>\n",
       "      <td>9.6</td>\n",
       "      <td>41.786</td>\n",
       "      <td>-87.752</td>\n",
       "    </tr>\n",
       "    <tr>\n",
       "      <th>1</th>\n",
       "      <td>2007-05-02</td>\n",
       "      <td>59</td>\n",
       "      <td>42</td>\n",
       "      <td>51.0</td>\n",
       "      <td>42</td>\n",
       "      <td>47.0</td>\n",
       "      <td>0.000</td>\n",
       "      <td>29.38</td>\n",
       "      <td>30.09</td>\n",
       "      <td>13.0</td>\n",
       "      <td>...</td>\n",
       "      <td>42</td>\n",
       "      <td>47.0</td>\n",
       "      <td>0.000</td>\n",
       "      <td>29.44</td>\n",
       "      <td>30.08</td>\n",
       "      <td>13.3</td>\n",
       "      <td>2</td>\n",
       "      <td>13.4</td>\n",
       "      <td>41.786</td>\n",
       "      <td>-87.752</td>\n",
       "    </tr>\n",
       "    <tr>\n",
       "      <th>2</th>\n",
       "      <td>2007-05-03</td>\n",
       "      <td>66</td>\n",
       "      <td>46</td>\n",
       "      <td>56.0</td>\n",
       "      <td>40</td>\n",
       "      <td>48.0</td>\n",
       "      <td>0.000</td>\n",
       "      <td>29.39</td>\n",
       "      <td>30.12</td>\n",
       "      <td>11.7</td>\n",
       "      <td>...</td>\n",
       "      <td>40</td>\n",
       "      <td>50.0</td>\n",
       "      <td>0.000</td>\n",
       "      <td>29.46</td>\n",
       "      <td>30.12</td>\n",
       "      <td>12.9</td>\n",
       "      <td>6</td>\n",
       "      <td>13.2</td>\n",
       "      <td>41.786</td>\n",
       "      <td>-87.752</td>\n",
       "    </tr>\n",
       "    <tr>\n",
       "      <th>3</th>\n",
       "      <td>2007-05-04</td>\n",
       "      <td>66</td>\n",
       "      <td>49</td>\n",
       "      <td>58.0</td>\n",
       "      <td>41</td>\n",
       "      <td>50.0</td>\n",
       "      <td>0.005</td>\n",
       "      <td>29.31</td>\n",
       "      <td>30.05</td>\n",
       "      <td>10.4</td>\n",
       "      <td>...</td>\n",
       "      <td>42</td>\n",
       "      <td>50.0</td>\n",
       "      <td>0.000</td>\n",
       "      <td>29.36</td>\n",
       "      <td>30.04</td>\n",
       "      <td>10.1</td>\n",
       "      <td>7</td>\n",
       "      <td>10.4</td>\n",
       "      <td>41.786</td>\n",
       "      <td>-87.752</td>\n",
       "    </tr>\n",
       "    <tr>\n",
       "      <th>4</th>\n",
       "      <td>2007-05-05</td>\n",
       "      <td>66</td>\n",
       "      <td>53</td>\n",
       "      <td>60.0</td>\n",
       "      <td>38</td>\n",
       "      <td>49.0</td>\n",
       "      <td>0.005</td>\n",
       "      <td>29.40</td>\n",
       "      <td>30.10</td>\n",
       "      <td>11.7</td>\n",
       "      <td>...</td>\n",
       "      <td>39</td>\n",
       "      <td>50.0</td>\n",
       "      <td>0.005</td>\n",
       "      <td>29.46</td>\n",
       "      <td>30.09</td>\n",
       "      <td>11.2</td>\n",
       "      <td>7</td>\n",
       "      <td>11.5</td>\n",
       "      <td>41.786</td>\n",
       "      <td>-87.752</td>\n",
       "    </tr>\n",
       "  </tbody>\n",
       "</table>\n",
       "<p>5 rows × 27 columns</p>\n",
       "</div>"
      ],
      "text/plain": [
       "         Date  Tmax_1  Tmin_1  Tavg_1  DewPoint_1  WetBulb_1  PrecipTotal_1  \\\n",
       "0  2007-05-01      83      50    67.0          51       56.0          0.000   \n",
       "1  2007-05-02      59      42    51.0          42       47.0          0.000   \n",
       "2  2007-05-03      66      46    56.0          40       48.0          0.000   \n",
       "3  2007-05-04      66      49    58.0          41       50.0          0.005   \n",
       "4  2007-05-05      66      53    60.0          38       49.0          0.005   \n",
       "\n",
       "   StnPressure_1  SeaLevel_1  ResultSpeed_1  ...  DewPoint_2  WetBulb_2  \\\n",
       "0          29.10       29.82            1.7  ...          51       57.0   \n",
       "1          29.38       30.09           13.0  ...          42       47.0   \n",
       "2          29.39       30.12           11.7  ...          40       50.0   \n",
       "3          29.31       30.05           10.4  ...          42       50.0   \n",
       "4          29.40       30.10           11.7  ...          39       50.0   \n",
       "\n",
       "   PrecipTotal_2  StnPressure_2  SeaLevel_2  ResultSpeed_2  ResultDir_2  \\\n",
       "0          0.000          29.18       29.82            2.7           25   \n",
       "1          0.000          29.44       30.08           13.3            2   \n",
       "2          0.000          29.46       30.12           12.9            6   \n",
       "3          0.000          29.36       30.04           10.1            7   \n",
       "4          0.005          29.46       30.09           11.2            7   \n",
       "\n",
       "   AvgSpeed_2  Latitude_2  Longitude_2  \n",
       "0         9.6      41.786      -87.752  \n",
       "1        13.4      41.786      -87.752  \n",
       "2        13.2      41.786      -87.752  \n",
       "3        10.4      41.786      -87.752  \n",
       "4        11.5      41.786      -87.752  \n",
       "\n",
       "[5 rows x 27 columns]"
      ]
     },
     "execution_count": 25,
     "metadata": {},
     "output_type": "execute_result"
    }
   ],
   "source": [
    "# view dataset\n",
    "weather.head()"
   ]
  },
  {
   "cell_type": "code",
   "execution_count": 26,
   "metadata": {},
   "outputs": [
    {
     "name": "stdout",
     "output_type": "stream",
     "text": [
      "2007-05-01\n",
      "2014-10-31\n"
     ]
    }
   ],
   "source": [
    "# view date range\n",
    "print(weather['Date'].min())\n",
    "print(weather['Date'].max())"
   ]
  },
  {
   "cell_type": "markdown",
   "metadata": {},
   "source": [
    "<div class=\"alert alert-block alert-info\">\n",
    "\n",
    "<b>Weather Dataset:</b><br>\n",
    "- 22 columns, 2944 rows\n",
    "- no null values\n",
    "- no duplicate values\n",
    "- date range : 2007-05-01 to 2014-10-31\n",
    "- Dataset is riddled with \"M\" for missing, \"T\" for trace data, \"-\" for some data from station 2.\n",
    "\n",
    "<br>\n",
    "    \n",
    "><u>Columns Dropped:</u>  \n",
    ">1. Depart - difference from 30 year avg\n",
    ">2. Heat - avg temp degrees above 65 F - can be calculated\n",
    ">3. Cool - avg temp degrees below 65 F  - can be calculated\n",
    ">4. Sunrise - calculated sunrise - not needed\n",
    ">5. Sunset - calculated sunset - not needed\n",
    ">6. Depth - 0 or Missing\n",
    ">7. Water1 - all Missing\n",
    ">8. SnowFall - Missing or 0, only 1 value of 0.01\n",
    ">9. CodeSum - too little inputs to be meaningful \n",
    "\n",
    "><u>Imputation and Additional Columns:</u>\n",
    ">1. Tavg: M = round up((tmax + tmin)/2) **\n",
    ">2. PrecipTotal: T = 0.005\n",
    ">3. PrecipTotal M = median\n",
    ">4. StnPressure M = median\n",
    ">5. SeaLevel M = median\n",
    ">6. AvgSpeed M = median\n",
    ">7. added 'Latitude' column\n",
    ">8. added 'Longitude' column\n",
    "    \n",
    "</div>"
   ]
  },
  {
   "cell_type": "markdown",
   "metadata": {},
   "source": [
    "***"
   ]
  },
  {
   "cell_type": "markdown",
   "metadata": {},
   "source": [
    "### <span style='background :yellow' > 1.4 Spray Dataset </span>"
   ]
  },
  {
   "cell_type": "code",
   "execution_count": 27,
   "metadata": {
    "scrolled": false
   },
   "outputs": [
    {
     "data": {
      "text/html": [
       "<div>\n",
       "<style scoped>\n",
       "    .dataframe tbody tr th:only-of-type {\n",
       "        vertical-align: middle;\n",
       "    }\n",
       "\n",
       "    .dataframe tbody tr th {\n",
       "        vertical-align: top;\n",
       "    }\n",
       "\n",
       "    .dataframe thead th {\n",
       "        text-align: right;\n",
       "    }\n",
       "</style>\n",
       "<table border=\"1\" class=\"dataframe\">\n",
       "  <thead>\n",
       "    <tr style=\"text-align: right;\">\n",
       "      <th></th>\n",
       "      <th>Date</th>\n",
       "      <th>Time</th>\n",
       "      <th>Latitude</th>\n",
       "      <th>Longitude</th>\n",
       "    </tr>\n",
       "  </thead>\n",
       "  <tbody>\n",
       "    <tr>\n",
       "      <th>0</th>\n",
       "      <td>2011-08-29</td>\n",
       "      <td>6:56:58 PM</td>\n",
       "      <td>42.391623</td>\n",
       "      <td>-88.089163</td>\n",
       "    </tr>\n",
       "    <tr>\n",
       "      <th>1</th>\n",
       "      <td>2011-08-29</td>\n",
       "      <td>6:57:08 PM</td>\n",
       "      <td>42.391348</td>\n",
       "      <td>-88.089163</td>\n",
       "    </tr>\n",
       "    <tr>\n",
       "      <th>2</th>\n",
       "      <td>2011-08-29</td>\n",
       "      <td>6:57:18 PM</td>\n",
       "      <td>42.391022</td>\n",
       "      <td>-88.089157</td>\n",
       "    </tr>\n",
       "    <tr>\n",
       "      <th>3</th>\n",
       "      <td>2011-08-29</td>\n",
       "      <td>6:57:28 PM</td>\n",
       "      <td>42.390637</td>\n",
       "      <td>-88.089158</td>\n",
       "    </tr>\n",
       "    <tr>\n",
       "      <th>4</th>\n",
       "      <td>2011-08-29</td>\n",
       "      <td>6:57:38 PM</td>\n",
       "      <td>42.390410</td>\n",
       "      <td>-88.088858</td>\n",
       "    </tr>\n",
       "  </tbody>\n",
       "</table>\n",
       "</div>"
      ],
      "text/plain": [
       "         Date        Time   Latitude  Longitude\n",
       "0  2011-08-29  6:56:58 PM  42.391623 -88.089163\n",
       "1  2011-08-29  6:57:08 PM  42.391348 -88.089163\n",
       "2  2011-08-29  6:57:18 PM  42.391022 -88.089157\n",
       "3  2011-08-29  6:57:28 PM  42.390637 -88.089158\n",
       "4  2011-08-29  6:57:38 PM  42.390410 -88.088858"
      ]
     },
     "execution_count": 27,
     "metadata": {},
     "output_type": "execute_result"
    }
   ],
   "source": [
    "# view dataset\n",
    "spray.head()"
   ]
  },
  {
   "cell_type": "code",
   "execution_count": 28,
   "metadata": {
    "scrolled": false
   },
   "outputs": [
    {
     "name": "stdout",
     "output_type": "stream",
     "text": [
      "dataframe shape \n",
      " (14835, 4) \n",
      "\n",
      "dataframe types \n",
      " Date          object\n",
      "Time          object\n",
      "Latitude     float64\n",
      "Longitude    float64\n",
      "dtype: object \n",
      "\n",
      "dataframe describe \n",
      "            Latitude     Longitude\n",
      "count  14835.000000  14835.000000\n",
      "mean      41.904828    -87.736690\n",
      "std        0.104381      0.067292\n",
      "min       41.713925    -88.096468\n",
      "25%       41.785001    -87.794225\n",
      "50%       41.940075    -87.727853\n",
      "75%       41.980978    -87.694108\n",
      "max       42.395983    -87.586727 \n",
      "\n",
      "dataframe describe \n",
      "       count unique         top  freq\n",
      "Date  14835     10  2013-08-15  2668\n",
      "Time  14251   8583  7:44:32 PM   541 \n",
      "\n",
      "missing values \n",
      " Date           0\n",
      "Time         584\n",
      "Latitude       0\n",
      "Longitude      0\n",
      "dtype: int64 \n",
      "\n",
      "duplicate values \n",
      " 541 \n",
      "\n",
      "dataframe columns \n",
      " Index(['Date', 'Time', 'Latitude', 'Longitude'], dtype='object') \n",
      "\n",
      "Date is unique: False\n",
      "Time is unique: False\n",
      "Latitude is unique: False\n",
      "Longitude is unique: False\n"
     ]
    }
   ],
   "source": [
    "#view EDA\n",
    "eda(spray)"
   ]
  },
  {
   "cell_type": "code",
   "execution_count": 29,
   "metadata": {},
   "outputs": [],
   "source": [
    "# changes time to datetime format\n",
    "spray['Time'] = pd.to_datetime(spray['Time'], infer_datetime_format=True)\n",
    "\n",
    "# changes time to the hour of the day\n",
    "spray['Time'] = spray['Time'].dt.hour"
   ]
  },
  {
   "cell_type": "code",
   "execution_count": 30,
   "metadata": {},
   "outputs": [
    {
     "data": {
      "text/html": [
       "<div>\n",
       "<style scoped>\n",
       "    .dataframe tbody tr th:only-of-type {\n",
       "        vertical-align: middle;\n",
       "    }\n",
       "\n",
       "    .dataframe tbody tr th {\n",
       "        vertical-align: top;\n",
       "    }\n",
       "\n",
       "    .dataframe thead th {\n",
       "        text-align: right;\n",
       "    }\n",
       "</style>\n",
       "<table border=\"1\" class=\"dataframe\">\n",
       "  <thead>\n",
       "    <tr style=\"text-align: right;\">\n",
       "      <th></th>\n",
       "      <th>Date</th>\n",
       "      <th>Time</th>\n",
       "      <th>Latitude</th>\n",
       "      <th>Longitude</th>\n",
       "    </tr>\n",
       "  </thead>\n",
       "  <tbody>\n",
       "    <tr>\n",
       "      <th>485</th>\n",
       "      <td>2011-09-07</td>\n",
       "      <td>19.0</td>\n",
       "      <td>41.983917</td>\n",
       "      <td>-87.793088</td>\n",
       "    </tr>\n",
       "    <tr>\n",
       "      <th>490</th>\n",
       "      <td>2011-09-07</td>\n",
       "      <td>19.0</td>\n",
       "      <td>41.986460</td>\n",
       "      <td>-87.794225</td>\n",
       "    </tr>\n",
       "    <tr>\n",
       "      <th>491</th>\n",
       "      <td>2011-09-07</td>\n",
       "      <td>19.0</td>\n",
       "      <td>41.986460</td>\n",
       "      <td>-87.794225</td>\n",
       "    </tr>\n",
       "    <tr>\n",
       "      <th>492</th>\n",
       "      <td>2011-09-07</td>\n",
       "      <td>19.0</td>\n",
       "      <td>41.986460</td>\n",
       "      <td>-87.794225</td>\n",
       "    </tr>\n",
       "    <tr>\n",
       "      <th>493</th>\n",
       "      <td>2011-09-07</td>\n",
       "      <td>19.0</td>\n",
       "      <td>41.986460</td>\n",
       "      <td>-87.794225</td>\n",
       "    </tr>\n",
       "    <tr>\n",
       "      <th>494</th>\n",
       "      <td>2011-09-07</td>\n",
       "      <td>19.0</td>\n",
       "      <td>41.986460</td>\n",
       "      <td>-87.794225</td>\n",
       "    </tr>\n",
       "    <tr>\n",
       "      <th>495</th>\n",
       "      <td>2011-09-07</td>\n",
       "      <td>19.0</td>\n",
       "      <td>41.986460</td>\n",
       "      <td>-87.794225</td>\n",
       "    </tr>\n",
       "    <tr>\n",
       "      <th>496</th>\n",
       "      <td>2011-09-07</td>\n",
       "      <td>19.0</td>\n",
       "      <td>41.986460</td>\n",
       "      <td>-87.794225</td>\n",
       "    </tr>\n",
       "    <tr>\n",
       "      <th>497</th>\n",
       "      <td>2011-09-07</td>\n",
       "      <td>19.0</td>\n",
       "      <td>41.986460</td>\n",
       "      <td>-87.794225</td>\n",
       "    </tr>\n",
       "    <tr>\n",
       "      <th>498</th>\n",
       "      <td>2011-09-07</td>\n",
       "      <td>19.0</td>\n",
       "      <td>41.986460</td>\n",
       "      <td>-87.794225</td>\n",
       "    </tr>\n",
       "  </tbody>\n",
       "</table>\n",
       "</div>"
      ],
      "text/plain": [
       "           Date  Time   Latitude  Longitude\n",
       "485  2011-09-07  19.0  41.983917 -87.793088\n",
       "490  2011-09-07  19.0  41.986460 -87.794225\n",
       "491  2011-09-07  19.0  41.986460 -87.794225\n",
       "492  2011-09-07  19.0  41.986460 -87.794225\n",
       "493  2011-09-07  19.0  41.986460 -87.794225\n",
       "494  2011-09-07  19.0  41.986460 -87.794225\n",
       "495  2011-09-07  19.0  41.986460 -87.794225\n",
       "496  2011-09-07  19.0  41.986460 -87.794225\n",
       "497  2011-09-07  19.0  41.986460 -87.794225\n",
       "498  2011-09-07  19.0  41.986460 -87.794225"
      ]
     },
     "execution_count": 30,
     "metadata": {},
     "output_type": "execute_result"
    }
   ],
   "source": [
    "# view duplicates\n",
    "spray[spray.duplicated()].head(10)"
   ]
  },
  {
   "cell_type": "code",
   "execution_count": 31,
   "metadata": {},
   "outputs": [],
   "source": [
    "# seems like real duplicates, will drop these\n",
    "spray.drop_duplicates(inplace=True)"
   ]
  },
  {
   "cell_type": "code",
   "execution_count": 32,
   "metadata": {
    "scrolled": false
   },
   "outputs": [
    {
     "data": {
      "text/plain": [
       "2013-08-15    2668\n",
       "2013-08-29    2302\n",
       "2013-07-17    2202\n",
       "2013-07-25    1607\n",
       "2013-08-22    1587\n",
       "2011-09-07    1573\n",
       "2013-08-08    1195\n",
       "2013-09-05     924\n",
       "2013-08-16     141\n",
       "2011-08-29      95\n",
       "Name: Date, dtype: int64"
      ]
     },
     "execution_count": 32,
     "metadata": {},
     "output_type": "execute_result"
    }
   ],
   "source": [
    "# view dates of spray\n",
    "spray['Date'].value_counts()"
   ]
  },
  {
   "cell_type": "code",
   "execution_count": 33,
   "metadata": {},
   "outputs": [
    {
     "name": "stdout",
     "output_type": "stream",
     "text": [
      "2011-08-29\n",
      "2013-09-05\n"
     ]
    }
   ],
   "source": [
    "# view date range\n",
    "print(spray['Date'].min())\n",
    "print(spray['Date'].max())"
   ]
  },
  {
   "cell_type": "code",
   "execution_count": 34,
   "metadata": {},
   "outputs": [
    {
     "data": {
      "text/html": [
       "<div>\n",
       "<style scoped>\n",
       "    .dataframe tbody tr th:only-of-type {\n",
       "        vertical-align: middle;\n",
       "    }\n",
       "\n",
       "    .dataframe tbody tr th {\n",
       "        vertical-align: top;\n",
       "    }\n",
       "\n",
       "    .dataframe thead th {\n",
       "        text-align: right;\n",
       "    }\n",
       "</style>\n",
       "<table border=\"1\" class=\"dataframe\">\n",
       "  <thead>\n",
       "    <tr style=\"text-align: right;\">\n",
       "      <th></th>\n",
       "      <th>Date</th>\n",
       "      <th>Time</th>\n",
       "      <th>Latitude</th>\n",
       "      <th>Longitude</th>\n",
       "    </tr>\n",
       "  </thead>\n",
       "  <tbody>\n",
       "    <tr>\n",
       "      <th>14830</th>\n",
       "      <td>NaN</td>\n",
       "      <td>NaN</td>\n",
       "      <td>NaN</td>\n",
       "      <td>NaN</td>\n",
       "    </tr>\n",
       "    <tr>\n",
       "      <th>14831</th>\n",
       "      <td>NaN</td>\n",
       "      <td>NaN</td>\n",
       "      <td>NaN</td>\n",
       "      <td>NaN</td>\n",
       "    </tr>\n",
       "    <tr>\n",
       "      <th>14832</th>\n",
       "      <td>NaN</td>\n",
       "      <td>NaN</td>\n",
       "      <td>NaN</td>\n",
       "      <td>NaN</td>\n",
       "    </tr>\n",
       "    <tr>\n",
       "      <th>14833</th>\n",
       "      <td>NaN</td>\n",
       "      <td>NaN</td>\n",
       "      <td>NaN</td>\n",
       "      <td>NaN</td>\n",
       "    </tr>\n",
       "    <tr>\n",
       "      <th>14834</th>\n",
       "      <td>NaN</td>\n",
       "      <td>NaN</td>\n",
       "      <td>NaN</td>\n",
       "      <td>NaN</td>\n",
       "    </tr>\n",
       "  </tbody>\n",
       "</table>\n",
       "</div>"
      ],
      "text/plain": [
       "      Date  Time  Latitude  Longitude\n",
       "14830  NaN   NaN       NaN        NaN\n",
       "14831  NaN   NaN       NaN        NaN\n",
       "14832  NaN   NaN       NaN        NaN\n",
       "14833  NaN   NaN       NaN        NaN\n",
       "14834  NaN   NaN       NaN        NaN"
      ]
     },
     "execution_count": 34,
     "metadata": {},
     "output_type": "execute_result"
    }
   ],
   "source": [
    "# check null values\n",
    "spray[spray.isnull()].tail()"
   ]
  },
  {
   "cell_type": "code",
   "execution_count": 35,
   "metadata": {},
   "outputs": [
    {
     "data": {
      "text/html": [
       "<div>\n",
       "<style scoped>\n",
       "    .dataframe tbody tr th:only-of-type {\n",
       "        vertical-align: middle;\n",
       "    }\n",
       "\n",
       "    .dataframe tbody tr th {\n",
       "        vertical-align: top;\n",
       "    }\n",
       "\n",
       "    .dataframe thead th {\n",
       "        text-align: right;\n",
       "    }\n",
       "</style>\n",
       "<table border=\"1\" class=\"dataframe\">\n",
       "  <thead>\n",
       "    <tr style=\"text-align: right;\">\n",
       "      <th></th>\n",
       "      <th>Date</th>\n",
       "      <th>Time</th>\n",
       "      <th>Latitude</th>\n",
       "      <th>Longitude</th>\n",
       "    </tr>\n",
       "  </thead>\n",
       "  <tbody>\n",
       "    <tr>\n",
       "      <th>0</th>\n",
       "      <td>2011-08-29</td>\n",
       "      <td>18.0</td>\n",
       "      <td>42.391623</td>\n",
       "      <td>-88.089163</td>\n",
       "    </tr>\n",
       "    <tr>\n",
       "      <th>1</th>\n",
       "      <td>2011-08-29</td>\n",
       "      <td>18.0</td>\n",
       "      <td>42.391348</td>\n",
       "      <td>-88.089163</td>\n",
       "    </tr>\n",
       "    <tr>\n",
       "      <th>2</th>\n",
       "      <td>2011-08-29</td>\n",
       "      <td>18.0</td>\n",
       "      <td>42.391022</td>\n",
       "      <td>-88.089157</td>\n",
       "    </tr>\n",
       "    <tr>\n",
       "      <th>3</th>\n",
       "      <td>2011-08-29</td>\n",
       "      <td>18.0</td>\n",
       "      <td>42.390637</td>\n",
       "      <td>-88.089158</td>\n",
       "    </tr>\n",
       "    <tr>\n",
       "      <th>4</th>\n",
       "      <td>2011-08-29</td>\n",
       "      <td>18.0</td>\n",
       "      <td>42.390410</td>\n",
       "      <td>-88.088858</td>\n",
       "    </tr>\n",
       "  </tbody>\n",
       "</table>\n",
       "</div>"
      ],
      "text/plain": [
       "         Date  Time   Latitude  Longitude\n",
       "0  2011-08-29  18.0  42.391623 -88.089163\n",
       "1  2011-08-29  18.0  42.391348 -88.089163\n",
       "2  2011-08-29  18.0  42.391022 -88.089157\n",
       "3  2011-08-29  18.0  42.390637 -88.089158\n",
       "4  2011-08-29  18.0  42.390410 -88.088858"
      ]
     },
     "execution_count": 35,
     "metadata": {},
     "output_type": "execute_result"
    }
   ],
   "source": [
    "# view dataset\n",
    "spray.head()"
   ]
  },
  {
   "cell_type": "markdown",
   "metadata": {},
   "source": [
    "<div class=\"alert alert-block alert-info\">\n",
    "\n",
    "<b>Spray Dataset:</b>\n",
    "- 4 columns, 14835 rows\n",
    "- 541 duplicated values dropped\n",
    "- 584 null rows dropped\n",
    "- 'Time' changed to reflect hour in the day instead\n",
    "- date range : 2011-08-29 to 2013-09-05\n",
    "- unique date counts : 10 (i.e 10 spray dates in date range)\n",
    "\n",
    "</div>"
   ]
  },
  {
   "cell_type": "markdown",
   "metadata": {},
   "source": [
    "***"
   ]
  },
  {
   "cell_type": "markdown",
   "metadata": {},
   "source": [
    "### 1.5 Edit formats"
   ]
  },
  {
   "cell_type": "code",
   "execution_count": 36,
   "metadata": {},
   "outputs": [],
   "source": [
    "# Map the lowering function to all column names\n",
    "train.columns = map(str.lower, train.columns)\n",
    "# test.columns = map(str.lower, test.columns)\n",
    "weather.columns = map(str.lower, weather.columns)\n",
    "spray.columns = map(str.lower, spray.columns)"
   ]
  },
  {
   "cell_type": "code",
   "execution_count": 37,
   "metadata": {},
   "outputs": [],
   "source": [
    "# changes date to datetime formats\n",
    "train['date'] = pd.to_datetime(train['date'], infer_datetime_format=True)\n",
    "weather['date'] = pd.to_datetime(weather['date'], infer_datetime_format=True)\n",
    "spray['date'] = pd.to_datetime(spray['date'], infer_datetime_format=True)"
   ]
  },
  {
   "cell_type": "code",
   "execution_count": 38,
   "metadata": {},
   "outputs": [],
   "source": [
    "#Save cleaned dataframe to csv\n",
    "train.to_csv('../assets/train_cleaned.csv', index=False)\n",
    "weather.to_csv('../assets/weather_cleaned.csv', index=False)\n",
    "spray.to_csv('../assets/spray_cleaned.csv', index=False)"
   ]
  },
  {
   "cell_type": "markdown",
   "metadata": {},
   "source": [
    "***"
   ]
  },
  {
   "cell_type": "markdown",
   "metadata": {},
   "source": [
    "# 2.0 EDA and Feature Engineering"
   ]
  },
  {
   "cell_type": "markdown",
   "metadata": {},
   "source": [
    "## <span style='background :yellow' > 2.1 Train Dataset</span>"
   ]
  },
  {
   "cell_type": "code",
   "execution_count": 40,
   "metadata": {},
   "outputs": [
    {
     "data": {
      "text/plain": [
       "CULEX PIPIENS/RESTUANS    0.452313\n",
       "CULEX RESTUANS            0.260803\n",
       "CULEX PIPIENS             0.256901\n",
       "CULEX TERRITANS           0.021131\n",
       "CULEX SALINARIUS          0.008186\n",
       "CULEX TARSALIS            0.000571\n",
       "CULEX ERRATICUS           0.000095\n",
       "Name: species, dtype: float64"
      ]
     },
     "execution_count": 40,
     "metadata": {},
     "output_type": "execute_result"
    }
   ],
   "source": [
    "# view percentage of mosquitoes caught by species\n",
    "train['species'].value_counts(normalize = True)"
   ]
  },
  {
   "cell_type": "code",
   "execution_count": 41,
   "metadata": {
    "scrolled": false
   },
   "outputs": [
    {
     "data": {
      "image/png": "[encoded data removed]",
      "text/plain": [
       "<Figure size 864x360 with 1 Axes>"
      ]
     },
     "metadata": {
      "needs_background": "light"
     },
     "output_type": "display_data"
    }
   ],
   "source": [
    "# plot mosquitoes caught by species\n",
    "train['species'].value_counts().plot(kind = 'barh', figsize=(12,5))\n",
    "plt.title('Total Number of Mosquite Collected (Species)', fontsize=15);"
   ]
  },
  {
   "cell_type": "code",
   "execution_count": 42,
   "metadata": {},
   "outputs": [],
   "source": [
    "# species and WNV count df\n",
    "species_wnv = pd.DataFrame(train['species'].value_counts()).reset_index()\n",
    "\n",
    "species_wnv = pd.merge(species_wnv, pd.DataFrame(train[train['wnvpresent']==1]['species'].value_counts()).reset_index(), how='left', on='index')\n",
    "\n",
    "species_wnv.columns = ['species', 'num_observations', 'obs_w_wnv']"
   ]
  },
  {
   "cell_type": "code",
   "execution_count": 43,
   "metadata": {},
   "outputs": [
    {
     "data": {
      "text/html": [
       "<div>\n",
       "<style scoped>\n",
       "    .dataframe tbody tr th:only-of-type {\n",
       "        vertical-align: middle;\n",
       "    }\n",
       "\n",
       "    .dataframe tbody tr th {\n",
       "        vertical-align: top;\n",
       "    }\n",
       "\n",
       "    .dataframe thead th {\n",
       "        text-align: right;\n",
       "    }\n",
       "</style>\n",
       "<table border=\"1\" class=\"dataframe\">\n",
       "  <thead>\n",
       "    <tr style=\"text-align: right;\">\n",
       "      <th></th>\n",
       "      <th>species</th>\n",
       "      <th>num_observations</th>\n",
       "      <th>obs_w_wnv</th>\n",
       "    </tr>\n",
       "  </thead>\n",
       "  <tbody>\n",
       "    <tr>\n",
       "      <th>0</th>\n",
       "      <td>CULEX PIPIENS/RESTUANS</td>\n",
       "      <td>4752</td>\n",
       "      <td>262.0</td>\n",
       "    </tr>\n",
       "    <tr>\n",
       "      <th>1</th>\n",
       "      <td>CULEX RESTUANS</td>\n",
       "      <td>2740</td>\n",
       "      <td>49.0</td>\n",
       "    </tr>\n",
       "    <tr>\n",
       "      <th>2</th>\n",
       "      <td>CULEX PIPIENS</td>\n",
       "      <td>2699</td>\n",
       "      <td>240.0</td>\n",
       "    </tr>\n",
       "    <tr>\n",
       "      <th>3</th>\n",
       "      <td>CULEX TERRITANS</td>\n",
       "      <td>222</td>\n",
       "      <td>NaN</td>\n",
       "    </tr>\n",
       "    <tr>\n",
       "      <th>4</th>\n",
       "      <td>CULEX SALINARIUS</td>\n",
       "      <td>86</td>\n",
       "      <td>NaN</td>\n",
       "    </tr>\n",
       "    <tr>\n",
       "      <th>5</th>\n",
       "      <td>CULEX TARSALIS</td>\n",
       "      <td>6</td>\n",
       "      <td>NaN</td>\n",
       "    </tr>\n",
       "    <tr>\n",
       "      <th>6</th>\n",
       "      <td>CULEX ERRATICUS</td>\n",
       "      <td>1</td>\n",
       "      <td>NaN</td>\n",
       "    </tr>\n",
       "  </tbody>\n",
       "</table>\n",
       "</div>"
      ],
      "text/plain": [
       "                  species  num_observations  obs_w_wnv\n",
       "0  CULEX PIPIENS/RESTUANS              4752      262.0\n",
       "1          CULEX RESTUANS              2740       49.0\n",
       "2           CULEX PIPIENS              2699      240.0\n",
       "3         CULEX TERRITANS               222        NaN\n",
       "4        CULEX SALINARIUS                86        NaN\n",
       "5          CULEX TARSALIS                 6        NaN\n",
       "6         CULEX ERRATICUS                 1        NaN"
      ]
     },
     "execution_count": 43,
     "metadata": {},
     "output_type": "execute_result"
    }
   ],
   "source": [
    "# view new df with Species and WNV observations\n",
    "species_wnv"
   ]
  },
  {
   "cell_type": "code",
   "execution_count": 44,
   "metadata": {
    "scrolled": true
   },
   "outputs": [
    {
     "data": {
      "text/plain": [
       "0    9955\n",
       "1     551\n",
       "Name: wnvpresent, dtype: int64"
      ]
     },
     "execution_count": 44,
     "metadata": {},
     "output_type": "execute_result"
    }
   ],
   "source": [
    "# imbalanced data\n",
    "train.wnvpresent.value_counts()"
   ]
  },
  {
   "cell_type": "code",
   "execution_count": 45,
   "metadata": {
    "scrolled": false
   },
   "outputs": [
    {
     "data": {
      "image/png": "[encoded data removed]",
      "text/plain": [
       "<Figure size 1080x360 with 1 Axes>"
      ]
     },
     "metadata": {
      "needs_background": "light"
     },
     "output_type": "display_data"
    }
   ],
   "source": [
    "# plot imbalanced data\n",
    "plt.figure(figsize=(15,5))\n",
    "ax = sns.countplot(x=\"wnvpresent\", data=train)\n",
    "plt.title('Frequency of WNV', fontsize=15)\n",
    "plt.xlabel('Presence of WNV',fontsize=10)\n",
    "plt.ylabel('Occurance of WNV',fontsize=10);"
   ]
  },
  {
   "cell_type": "code",
   "execution_count": 46,
   "metadata": {
    "scrolled": true
   },
   "outputs": [
    {
     "data": {
      "image/png": "[encoded data removed]",
      "text/plain": [
       "<Figure size 1080x360 with 1 Axes>"
      ]
     },
     "metadata": {
      "needs_background": "light"
     },
     "output_type": "display_data"
    }
   ],
   "source": [
    "# plot species caught with WNV\n",
    "plt.figure(figsize=(15,5))\n",
    "sns.countplot(x='species', hue='wnvpresent', data=train)\n",
    "plt.xticks(rotation=0)\n",
    "plt.legend(['West Nile Virus not present', 'West Nile Virus present'], loc=1)\n",
    "plt.ylabel('Number of Traps with Species')\n",
    "plt.title('Species Collected with WNV', fontsize=15);"
   ]
  },
  {
   "cell_type": "code",
   "execution_count": 47,
   "metadata": {
    "scrolled": true
   },
   "outputs": [
    {
     "data": {
      "text/plain": [
       "array(['CULEX PIPIENS/RESTUANS', 'CULEX PIPIENS', 'CULEX RESTUANS'],\n",
       "      dtype=object)"
      ]
     },
     "execution_count": 47,
     "metadata": {},
     "output_type": "execute_result"
    }
   ],
   "source": [
    "# Species with WNV\n",
    "train[train['wnvpresent'] == 1]['species'].unique()"
   ]
  },
  {
   "cell_type": "code",
   "execution_count": 50,
   "metadata": {
    "scrolled": false
   },
   "outputs": [
    {
     "data": {
      "image/png": "[encoded data removed]",
      "text/plain": [
       "<Figure size 1080x360 with 1 Axes>"
      ]
     },
     "metadata": {
      "needs_background": "light"
     },
     "output_type": "display_data"
    }
   ],
   "source": [
    "# plot distribution, skew and kernel density\n",
    "fig, ax = plt.subplots(figsize=(15,5))\n",
    "ax = sns.violinplot(y= 'wnvpresent', \n",
    "                    x='nummosquitos',\n",
    "                    data=train, \n",
    "                    orient='h', \n",
    "                    hue='wnvpresent')\n",
    "\n",
    "ax.set_title('Distribution and Density of Mosquitoes Caught',fontsize=20)\n",
    "ax.set_xlabel(\"nummosquitos\",fontsize=15)\n",
    "ax.set_ylabel(\"wnvpresent\",fontsize=15)\n",
    "ax.tick_params(labelsize=15)"
   ]
  },
  {
   "cell_type": "markdown",
   "metadata": {},
   "source": [
    "<div class=\"alert alert-block alert-danger\">\n",
    "\n",
    "<b>To do:</b>\n",
    "\n",
    "- comment on outlier, reason to keep \n",
    "- Assumption: \n",
    "- normal boxplot\n",
    "\n",
    "- insert graphs to show outliers for features\n",
    "\n",
    "</div>\n"
   ]
  },
  {
   "cell_type": "code",
   "execution_count": 51,
   "metadata": {},
   "outputs": [],
   "source": [
    "# Split dates into separate column \n",
    "split_date(train)\n",
    "split_date(weather)\n",
    "split_date(spray)"
   ]
  },
  {
   "cell_type": "code",
   "execution_count": 62,
   "metadata": {},
   "outputs": [
    {
     "data": {
      "image/png": "[encoded data removed]",
      "text/plain": [
       "<Figure size 1440x432 with 2 Axes>"
      ]
     },
     "metadata": {
      "needs_background": "light"
     },
     "output_type": "display_data"
    }
   ],
   "source": [
    "#plot WNV presence by month and year\n",
    "plt.subplots(figsize=(20,6))\n",
    "plt.subplot(1,2,1)\n",
    "_=sns.barplot('month','nummosquitos',data=train,hue='wnvpresent', ci=None)\n",
    "_.set(xticklabels=['May', 'June', 'July', 'August', 'September', 'October'])\n",
    "plt.title (\"WNV Presence by Month\")\n",
    "plt.subplot(1,2,2)\n",
    "sns.barplot('year','nummosquitos',data=train,hue='wnvpresent', ci=None)\n",
    "plt.title (\"WNV Presence by Year\")\n",
    "plt.legend(loc=1);"
   ]
  },
  {
   "cell_type": "code",
   "execution_count": 64,
   "metadata": {},
   "outputs": [
    {
     "data": {
      "image/png": "[encoded data removed]",
      "text/plain": [
       "<Figure size 1080x360 with 1 Axes>"
      ]
     },
     "metadata": {
      "needs_background": "light"
     },
     "output_type": "display_data"
    }
   ],
   "source": [
    "# plot mean mosquitoes caught in trap by month\n",
    "plt.figure(figsize=(15,5))\n",
    "_ = sns.pointplot(x='month', y=\"nummosquitos\", hue='species', data=train[train['species'].isin(['CULEX PIPIENS', 'CULEX PIPIENS/RESTUANS', 'CULEX RESTUANS'])].groupby(['month', 'species'], as_index=False)['nummosquitos'].mean(),)\n",
    "_.set(xticklabels=['May', 'June', 'July', 'August', 'September', 'October'])\n",
    "plt.ylabel('Average Number of Mosquitos in Trap')\n",
    "plt.title(\"Average Mosquitoes Caught of WNV Species\");"
   ]
  },
  {
   "cell_type": "code",
   "execution_count": 65,
   "metadata": {},
   "outputs": [
    {
     "data": {
      "text/html": [
       "<div>\n",
       "<style scoped>\n",
       "    .dataframe tbody tr th:only-of-type {\n",
       "        vertical-align: middle;\n",
       "    }\n",
       "\n",
       "    .dataframe tbody tr th {\n",
       "        vertical-align: top;\n",
       "    }\n",
       "\n",
       "    .dataframe thead th {\n",
       "        text-align: right;\n",
       "    }\n",
       "</style>\n",
       "<table border=\"1\" class=\"dataframe\">\n",
       "  <thead>\n",
       "    <tr style=\"text-align: right;\">\n",
       "      <th></th>\n",
       "      <th>date</th>\n",
       "      <th>trap</th>\n",
       "      <th>species</th>\n",
       "      <th>nummosquitos</th>\n",
       "    </tr>\n",
       "  </thead>\n",
       "  <tbody>\n",
       "    <tr>\n",
       "      <th>1450</th>\n",
       "      <td>2007-08-16</td>\n",
       "      <td>T115</td>\n",
       "      <td>CULEX PIPIENS</td>\n",
       "      <td>2532</td>\n",
       "    </tr>\n",
       "    <tr>\n",
       "      <th>565</th>\n",
       "      <td>2007-07-25</td>\n",
       "      <td>T115</td>\n",
       "      <td>CULEX PIPIENS</td>\n",
       "      <td>2356</td>\n",
       "    </tr>\n",
       "    <tr>\n",
       "      <th>1901</th>\n",
       "      <td>2007-08-28</td>\n",
       "      <td>T115</td>\n",
       "      <td>CULEX PIPIENS</td>\n",
       "      <td>2207</td>\n",
       "    </tr>\n",
       "    <tr>\n",
       "      <th>1196</th>\n",
       "      <td>2007-08-08</td>\n",
       "      <td>T138</td>\n",
       "      <td>CULEX PIPIENS</td>\n",
       "      <td>1658</td>\n",
       "    </tr>\n",
       "    <tr>\n",
       "      <th>2055</th>\n",
       "      <td>2007-09-05</td>\n",
       "      <td>T115</td>\n",
       "      <td>CULEX PIPIENS</td>\n",
       "      <td>1648</td>\n",
       "    </tr>\n",
       "    <tr>\n",
       "      <th>1680</th>\n",
       "      <td>2007-08-22</td>\n",
       "      <td>T115</td>\n",
       "      <td>CULEX PIPIENS</td>\n",
       "      <td>1554</td>\n",
       "    </tr>\n",
       "    <tr>\n",
       "      <th>847</th>\n",
       "      <td>2007-08-01</td>\n",
       "      <td>T115</td>\n",
       "      <td>CULEX PIPIENS</td>\n",
       "      <td>1543</td>\n",
       "    </tr>\n",
       "    <tr>\n",
       "      <th>3197</th>\n",
       "      <td>2009-06-22</td>\n",
       "      <td>T900</td>\n",
       "      <td>CULEX PIPIENS/RESTUANS</td>\n",
       "      <td>1520</td>\n",
       "    </tr>\n",
       "    <tr>\n",
       "      <th>1191</th>\n",
       "      <td>2007-08-08</td>\n",
       "      <td>T115</td>\n",
       "      <td>CULEX PIPIENS</td>\n",
       "      <td>1310</td>\n",
       "    </tr>\n",
       "    <tr>\n",
       "      <th>1686</th>\n",
       "      <td>2007-08-22</td>\n",
       "      <td>T138</td>\n",
       "      <td>CULEX PIPIENS</td>\n",
       "      <td>1054</td>\n",
       "    </tr>\n",
       "    <tr>\n",
       "      <th>1454</th>\n",
       "      <td>2007-08-16</td>\n",
       "      <td>T138</td>\n",
       "      <td>CULEX PIPIENS</td>\n",
       "      <td>1000</td>\n",
       "    </tr>\n",
       "    <tr>\n",
       "      <th>7484</th>\n",
       "      <td>2013-08-01</td>\n",
       "      <td>T900</td>\n",
       "      <td>CULEX PIPIENS/RESTUANS</td>\n",
       "      <td>984</td>\n",
       "    </tr>\n",
       "    <tr>\n",
       "      <th>2369</th>\n",
       "      <td>2007-09-19</td>\n",
       "      <td>T115</td>\n",
       "      <td>CULEX PIPIENS</td>\n",
       "      <td>968</td>\n",
       "    </tr>\n",
       "    <tr>\n",
       "      <th>2071</th>\n",
       "      <td>2007-09-06</td>\n",
       "      <td>T115</td>\n",
       "      <td>CULEX PIPIENS/RESTUANS</td>\n",
       "      <td>914</td>\n",
       "    </tr>\n",
       "    <tr>\n",
       "      <th>3297</th>\n",
       "      <td>2009-06-29</td>\n",
       "      <td>T900</td>\n",
       "      <td>CULEX PIPIENS/RESTUANS</td>\n",
       "      <td>836</td>\n",
       "    </tr>\n",
       "  </tbody>\n",
       "</table>\n",
       "</div>"
      ],
      "text/plain": [
       "           date  trap                 species  nummosquitos\n",
       "1450 2007-08-16  T115           CULEX PIPIENS          2532\n",
       "565  2007-07-25  T115           CULEX PIPIENS          2356\n",
       "1901 2007-08-28  T115           CULEX PIPIENS          2207\n",
       "1196 2007-08-08  T138           CULEX PIPIENS          1658\n",
       "2055 2007-09-05  T115           CULEX PIPIENS          1648\n",
       "1680 2007-08-22  T115           CULEX PIPIENS          1554\n",
       "847  2007-08-01  T115           CULEX PIPIENS          1543\n",
       "3197 2009-06-22  T900  CULEX PIPIENS/RESTUANS          1520\n",
       "1191 2007-08-08  T115           CULEX PIPIENS          1310\n",
       "1686 2007-08-22  T138           CULEX PIPIENS          1054\n",
       "1454 2007-08-16  T138           CULEX PIPIENS          1000\n",
       "7484 2013-08-01  T900  CULEX PIPIENS/RESTUANS           984\n",
       "2369 2007-09-19  T115           CULEX PIPIENS           968\n",
       "2071 2007-09-06  T115  CULEX PIPIENS/RESTUANS           914\n",
       "3297 2009-06-29  T900  CULEX PIPIENS/RESTUANS           836"
      ]
     },
     "execution_count": 65,
     "metadata": {},
     "output_type": "execute_result"
    }
   ],
   "source": [
    "# combining mosquitoes maxed at 50, total mosquitoes\n",
    "train[train.nummosquitos == 50]\n",
    "train.groupby(['date', 'trap', 'species'], as_index=False)['nummosquitos'].sum().sort_values('nummosquitos', ascending=False).head(15)"
   ]
  },
  {
   "cell_type": "code",
   "execution_count": 68,
   "metadata": {},
   "outputs": [],
   "source": [
    "# mosquitoes caught by address\n",
    "rate = train.groupby(['addressnumberandstreet', 'trap'], as_index=False)['wnvpresent', 'nummosquitos'].sum().sort_values('wnvpresent')"
   ]
  },
  {
   "cell_type": "code",
   "execution_count": 69,
   "metadata": {},
   "outputs": [
    {
     "data": {
      "text/html": [
       "<div>\n",
       "<style scoped>\n",
       "    .dataframe tbody tr th:only-of-type {\n",
       "        vertical-align: middle;\n",
       "    }\n",
       "\n",
       "    .dataframe tbody tr th {\n",
       "        vertical-align: top;\n",
       "    }\n",
       "\n",
       "    .dataframe thead th {\n",
       "        text-align: right;\n",
       "    }\n",
       "</style>\n",
       "<table border=\"1\" class=\"dataframe\">\n",
       "  <thead>\n",
       "    <tr style=\"text-align: right;\">\n",
       "      <th></th>\n",
       "      <th>addressnumberandstreet</th>\n",
       "      <th>trap</th>\n",
       "      <th>wnvpresent</th>\n",
       "      <th>nummosquitos</th>\n",
       "    </tr>\n",
       "  </thead>\n",
       "  <tbody>\n",
       "    <tr>\n",
       "      <th>79</th>\n",
       "      <td>4600  N MILWAUKEE AVE, Chicago, IL</td>\n",
       "      <td>T003</td>\n",
       "      <td>14</td>\n",
       "      <td>1346</td>\n",
       "    </tr>\n",
       "    <tr>\n",
       "      <th>4</th>\n",
       "      <td>1000  S STONY ISLAND AVE, Chicago, IL</td>\n",
       "      <td>T138</td>\n",
       "      <td>16</td>\n",
       "      <td>9936</td>\n",
       "    </tr>\n",
       "    <tr>\n",
       "      <th>72</th>\n",
       "      <td>4100  N OAK PARK AVE, Chicago, IL</td>\n",
       "      <td>T002</td>\n",
       "      <td>18</td>\n",
       "      <td>3710</td>\n",
       "    </tr>\n",
       "    <tr>\n",
       "      <th>18</th>\n",
       "      <td>1200  S DOTY AVE, Chicago, IL</td>\n",
       "      <td>T115</td>\n",
       "      <td>41</td>\n",
       "      <td>21668</td>\n",
       "    </tr>\n",
       "    <tr>\n",
       "      <th>7</th>\n",
       "      <td>1000  W OHARE AIRPORT, Chicago, IL</td>\n",
       "      <td>T900</td>\n",
       "      <td>66</td>\n",
       "      <td>15386</td>\n",
       "    </tr>\n",
       "  </tbody>\n",
       "</table>\n",
       "</div>"
      ],
      "text/plain": [
       "                   addressnumberandstreet  trap  wnvpresent  nummosquitos\n",
       "79     4600  N MILWAUKEE AVE, Chicago, IL  T003          14          1346\n",
       "4   1000  S STONY ISLAND AVE, Chicago, IL  T138          16          9936\n",
       "72      4100  N OAK PARK AVE, Chicago, IL  T002          18          3710\n",
       "18          1200  S DOTY AVE, Chicago, IL  T115          41         21668\n",
       "7      1000  W OHARE AIRPORT, Chicago, IL  T900          66         15386"
      ]
     },
     "execution_count": 69,
     "metadata": {},
     "output_type": "execute_result"
    }
   ],
   "source": [
    "rate.tail()"
   ]
  },
  {
   "cell_type": "code",
   "execution_count": 70,
   "metadata": {},
   "outputs": [],
   "source": [
    "# add virus rate column to rate df\n",
    "rate['rate_virus'] = rate['wnvpresent']/rate['nummosquitos']"
   ]
  },
  {
   "cell_type": "code",
   "execution_count": 71,
   "metadata": {},
   "outputs": [
    {
     "data": {
      "text/html": [
       "<div>\n",
       "<style scoped>\n",
       "    .dataframe tbody tr th:only-of-type {\n",
       "        vertical-align: middle;\n",
       "    }\n",
       "\n",
       "    .dataframe tbody tr th {\n",
       "        vertical-align: top;\n",
       "    }\n",
       "\n",
       "    .dataframe thead th {\n",
       "        text-align: right;\n",
       "    }\n",
       "</style>\n",
       "<table border=\"1\" class=\"dataframe\">\n",
       "  <thead>\n",
       "    <tr style=\"text-align: right;\">\n",
       "      <th></th>\n",
       "      <th>addressnumberandstreet</th>\n",
       "      <th>trap</th>\n",
       "      <th>wnvpresent</th>\n",
       "      <th>nummosquitos</th>\n",
       "      <th>rate_virus</th>\n",
       "    </tr>\n",
       "  </thead>\n",
       "  <tbody>\n",
       "    <tr>\n",
       "      <th>7</th>\n",
       "      <td>1000  W OHARE AIRPORT, Chicago, IL</td>\n",
       "      <td>T900</td>\n",
       "      <td>66</td>\n",
       "      <td>15386</td>\n",
       "      <td>0.004290</td>\n",
       "    </tr>\n",
       "    <tr>\n",
       "      <th>18</th>\n",
       "      <td>1200  S DOTY AVE, Chicago, IL</td>\n",
       "      <td>T115</td>\n",
       "      <td>41</td>\n",
       "      <td>21668</td>\n",
       "      <td>0.001892</td>\n",
       "    </tr>\n",
       "    <tr>\n",
       "      <th>72</th>\n",
       "      <td>4100  N OAK PARK AVE, Chicago, IL</td>\n",
       "      <td>T002</td>\n",
       "      <td>18</td>\n",
       "      <td>3710</td>\n",
       "      <td>0.004852</td>\n",
       "    </tr>\n",
       "    <tr>\n",
       "      <th>4</th>\n",
       "      <td>1000  S STONY ISLAND AVE, Chicago, IL</td>\n",
       "      <td>T138</td>\n",
       "      <td>16</td>\n",
       "      <td>9936</td>\n",
       "      <td>0.001610</td>\n",
       "    </tr>\n",
       "    <tr>\n",
       "      <th>79</th>\n",
       "      <td>4600  N MILWAUKEE AVE, Chicago, IL</td>\n",
       "      <td>T003</td>\n",
       "      <td>14</td>\n",
       "      <td>1346</td>\n",
       "      <td>0.010401</td>\n",
       "    </tr>\n",
       "    <tr>\n",
       "      <th>128</th>\n",
       "      <td>8200  S KOSTNER AVE, Chicago, IL</td>\n",
       "      <td>T225</td>\n",
       "      <td>11</td>\n",
       "      <td>2014</td>\n",
       "      <td>0.005462</td>\n",
       "    </tr>\n",
       "    <tr>\n",
       "      <th>60</th>\n",
       "      <td>3600  N PITTSBURGH AVE, Chicago, IL</td>\n",
       "      <td>T011</td>\n",
       "      <td>11</td>\n",
       "      <td>1311</td>\n",
       "      <td>0.008391</td>\n",
       "    </tr>\n",
       "    <tr>\n",
       "      <th>45</th>\n",
       "      <td>2400  E 105TH ST, Chicago, IL</td>\n",
       "      <td>T128</td>\n",
       "      <td>11</td>\n",
       "      <td>3315</td>\n",
       "      <td>0.003318</td>\n",
       "    </tr>\n",
       "    <tr>\n",
       "      <th>115</th>\n",
       "      <td>7000  N MOSELL AVE, Chicago, IL</td>\n",
       "      <td>T008</td>\n",
       "      <td>10</td>\n",
       "      <td>2668</td>\n",
       "      <td>0.003748</td>\n",
       "    </tr>\n",
       "    <tr>\n",
       "      <th>8</th>\n",
       "      <td>1000  W OHARE, Chicago, IL</td>\n",
       "      <td>T903</td>\n",
       "      <td>10</td>\n",
       "      <td>2327</td>\n",
       "      <td>0.004297</td>\n",
       "    </tr>\n",
       "  </tbody>\n",
       "</table>\n",
       "</div>"
      ],
      "text/plain": [
       "                    addressnumberandstreet  trap  wnvpresent  nummosquitos  \\\n",
       "7       1000  W OHARE AIRPORT, Chicago, IL  T900          66         15386   \n",
       "18           1200  S DOTY AVE, Chicago, IL  T115          41         21668   \n",
       "72       4100  N OAK PARK AVE, Chicago, IL  T002          18          3710   \n",
       "4    1000  S STONY ISLAND AVE, Chicago, IL  T138          16          9936   \n",
       "79      4600  N MILWAUKEE AVE, Chicago, IL  T003          14          1346   \n",
       "128       8200  S KOSTNER AVE, Chicago, IL  T225          11          2014   \n",
       "60     3600  N PITTSBURGH AVE, Chicago, IL  T011          11          1311   \n",
       "45           2400  E 105TH ST, Chicago, IL  T128          11          3315   \n",
       "115        7000  N MOSELL AVE, Chicago, IL  T008          10          2668   \n",
       "8               1000  W OHARE, Chicago, IL  T903          10          2327   \n",
       "\n",
       "     rate_virus  \n",
       "7      0.004290  \n",
       "18     0.001892  \n",
       "72     0.004852  \n",
       "4      0.001610  \n",
       "79     0.010401  \n",
       "128    0.005462  \n",
       "60     0.008391  \n",
       "45     0.003318  \n",
       "115    0.003748  \n",
       "8      0.004297  "
      ]
     },
     "execution_count": 71,
     "metadata": {},
     "output_type": "execute_result"
    }
   ],
   "source": [
    "# view traps and address by most WNV caught\n",
    "rate.sort_values('wnvpresent', ascending=False).head(10)"
   ]
  },
  {
   "cell_type": "code",
   "execution_count": null,
   "metadata": {},
   "outputs": [],
   "source": [
    "rate.sort_values('rate_virus', ascending=False).head(25)"
   ]
  },
  {
   "cell_type": "code",
   "execution_count": null,
   "metadata": {},
   "outputs": [],
   "source": [
    "# plot Average Mosquitoes in Trap by Month and Year\n",
    "plt.figure(figsize=(15,5))\n",
    "_ = sns.pointplot(x='month', y=\"nummosquitos\", hue=\"year\", data=train.groupby(['year', 'month'], as_index=False)['nummosquitos'].mean(),)\n",
    "_.set(xticklabels=['May', 'June', 'July', 'August', 'September', 'October'])\n",
    "plt.ylabel('Average Number of Mosquitos in Trap')\n",
    "plt.title('Average Mosquitoes in Trap by Month and Year');"
   ]
  },
  {
   "cell_type": "code",
   "execution_count": null,
   "metadata": {},
   "outputs": [],
   "source": [
    "# plot Average WNV Mosquitoes in Trap by Month and Year\n",
    "plt.figure(figsize=(15,5))\n",
    "_ = sns.pointplot(x='month', y=\"wnvpresent\", hue=\"year\", data=train.groupby(['year', 'month'], as_index=False)['wnvpresent'].mean(),)\n",
    "_.set(xticklabels=['May', 'June', 'July', 'August', 'September', 'October'])\n",
    "plt.ylabel('Average Number of Mosquitos in Trap')\n",
    "plt.title('Average WNV Mosquitoes in Trap by Month and Year');"
   ]
  },
  {
   "cell_type": "code",
   "execution_count": null,
   "metadata": {},
   "outputs": [],
   "source": [
    "# number of traps set by year\n",
    "train.groupby('year')['trap'].count()"
   ]
  },
  {
   "cell_type": "code",
   "execution_count": null,
   "metadata": {},
   "outputs": [],
   "source": [
    "# sns.set(font_scale=0.8)\n",
    "fig = plt.figure(figsize=(15,5))\n",
    "ax1 = fig.add_subplot(111)\n",
    "ax1 = sns.pointplot(x='month', y=\"nummosquitos\", data=train.groupby(['month'], as_index=False)['nummosquitos'].mean(),)\n",
    "plt.ylabel('Average Number of Mosquitos in Trap')\n",
    "plt.legend(['Number of Mosquitos'], loc=2)\n",
    "ax2 = ax1.twinx()\n",
    "ax2 = sns.pointplot(x='month', y=\"wnvpresent\", linestyles='-.', color='r', data=train.groupby(['month'], as_index=False)['wnvpresent'].mean(),)\n",
    "ax1.set(xticklabels=['May', 'June', 'July', 'August', 'September', 'October'])\n",
    "plt.ylabel('Average Cases of WNV in Trap')\n",
    "plt.legend(['Cases of West Nile Virus'], loc=1);"
   ]
  },
  {
   "cell_type": "markdown",
   "metadata": {},
   "source": [
    "<div class=\"alert alert-block alert-info\">\n",
    "\n",
    "<b>Feature Engineered:</b>\n",
    "- \"year\", \"month\": Split date column into month and year column\n",
    "- \"total_mos\": to combine multiple entries from nummosquitos that was above 50\n",
    "- \"rate_virus\": \n",
    "\n",
    "\n",
    "<b>Observations:</b>\n",
    "\n",
    "- There are a total of 7 species with culiex pipiens/restuans being the highest number of mosquito observation and the highest number of observation that is with WNV\n",
    "- Majority class of WNV is not present.\n",
    "- There is an unbalance distribution of target (Presence of WNV) in train datasets. Hence will have to stratify our target variable while doing train-test-split.\n",
    "- With WnvPresent==0, there is quite a number of outliers\n",
    "- Number of  mosquito fluctuates over the years but mosquito with wnv peaks in July and August but much more prevalent in 2007 & 2013.\n",
    "\n",
    "</div>"
   ]
  },
  {
   "cell_type": "markdown",
   "metadata": {},
   "source": [
    "***"
   ]
  },
  {
   "cell_type": "markdown",
   "metadata": {},
   "source": [
    "## <span style='background :yellow' >2.2 Weather Dataset</span>"
   ]
  },
  {
   "cell_type": "markdown",
   "metadata": {},
   "source": [
    "### 2.2.1 Feature Engineer"
   ]
  },
  {
   "cell_type": "code",
   "execution_count": null,
   "metadata": {
    "scrolled": false
   },
   "outputs": [],
   "source": [
    "weather.head().T"
   ]
  },
  {
   "cell_type": "code",
   "execution_count": null,
   "metadata": {},
   "outputs": [],
   "source": [
    "weather['tempmax_avg'] = (weather['tmax_1'] + weather['tmax_2'])/2\n",
    "weather['tempmin_avg'] = (weather['tmin_1'] + weather['tmin_2'])/2\n",
    "weather['temp_avg'] = (weather['tavg_1'] + weather['tavg_2'])/2\n",
    "weather['dewpoint_avg'] = (weather['dewpoint_1'] + weather['dewpoint_2'])/2\n",
    "weather['wetbulb_avg'] = (weather['wetbulb_1'] + weather['wetbulb_2'])/2\n",
    "weather['precip_avg'] = (weather['preciptotal_1'] + weather['preciptotal_2'])/2\n",
    "weather['stnpressure_avg'] = (weather['stnpressure_1'] + weather['stnpressure_2'])/2"
   ]
  },
  {
   "cell_type": "code",
   "execution_count": null,
   "metadata": {},
   "outputs": [],
   "source": [
    "\n",
    "weather['maxtemp_2w'] = weather['tempmax_avg'].rolling(14, min_periods=1).min()\n",
    "weather['maxtemp_4w'] = weather['tempmax_avg'].rolling(28, min_periods=1).min()\n",
    "weather['maxtemp_90d'] = weather['tempmax_avg'].rolling(90, min_periods=1).mean()\n",
    "\n",
    "weather['mintemp_2w'] = weather['tempmin_avg'].rolling(14, min_periods=1).min()\n",
    "weather['mintemp_4w'] = weather['tempmin_avg'].rolling(28, min_periods=1).min()\n",
    "weather['mintemp_90d'] = weather['tempmin_avg'].rolling(90, min_periods=1).mean()\n",
    "\n",
    "weather['tavg_2w'] = weather['temp_avg'].rolling(14, min_periods=1).mean()\n",
    "weather['tavg_4w'] = weather['temp_avg'].rolling(28, min_periods=1).mean()\n",
    "weather['tavg_90d'] = weather['temp_avg'].rolling(90, min_periods=1).mean()\n",
    "\n",
    "weather['dew_2w'] = weather['dewpoint_avg'].rolling(14, min_periods=1).mean()\n",
    "weather['dew_4w'] = weather['dewpoint_avg'].rolling(28, min_periods=1).mean()\n",
    "weather['dew_90d'] = weather['dewpoint_avg'].rolling(90, min_periods=1).sum()\n",
    "\n",
    "weather['wetbulb_2w'] = weather['wetbulb_avg'].rolling(14, min_periods=1).mean()\n",
    "weather['wetbulb_4w'] = weather['wetbulb_avg'].rolling(28, min_periods=1).mean()\n",
    "weather['wetbulb_90d'] = weather['wetbulb_avg'].rolling(90, min_periods=1).sum()\n",
    "\n",
    "weather['precip_2w'] = weather['precip_avg'].rolling(14, min_periods=1).sum()\n",
    "weather['precip_4w'] = weather['precip_avg'].rolling(28, min_periods=1).sum()\n",
    "weather['precip_90d'] = weather['precip_avg'].rolling(90, min_periods=1).sum()"
   ]
  },
  {
   "cell_type": "code",
   "execution_count": null,
   "metadata": {},
   "outputs": [],
   "source": [
    "def humidity_calc(row):\n",
    "    wetC = (row['wetbulb_avg'] - 32) / 1.8\n",
    "    dryC = (row['temp_avg'] - 32) / 1.8\n",
    "\n",
    "    N = 0.6687451584\n",
    "    e_d = 6.112 * np.exp((17.502 * dryC) / (240.97 + dryC))\n",
    "    e_w = 6.112 * np.exp((17.502 * wetC) / (240.97 + wetC))\n",
    "    rh = 100 * (e_w - N*(1 + 0.00115 * wetC) * (dryC - wetC)) / e_d \n",
    "    \n",
    "    return np.round(rh, decimals = 0)\n",
    "\n",
    "weather['relative_humidity'] = weather.apply(humidity_calc, axis = 1)"
   ]
  },
  {
   "cell_type": "code",
   "execution_count": null,
   "metadata": {},
   "outputs": [],
   "source": [
    "# Merge train and weather dataset\n",
    "train = pd.merge(train, weather, how='left', on=['date','month','year'])\n",
    "\n",
    "# Save Merged DataFrame\n",
    "train.to_csv(\"../assets/train_weather.csv\")"
   ]
  },
  {
   "cell_type": "markdown",
   "metadata": {},
   "source": [
    "### 2.2.2 EDA"
   ]
  },
  {
   "cell_type": "code",
   "execution_count": null,
   "metadata": {
    "scrolled": false
   },
   "outputs": [],
   "source": [
    "sns.pairplot(data=train, \n",
    "             x_vars='wetbulb_avg', \n",
    "             y_vars='temp_avg', \n",
    "             hue='wnvpresent', \n",
    "             size=6).fig.suptitle(\"Average Wetbulb Vs Average Temperature\");"
   ]
  },
  {
   "cell_type": "markdown",
   "metadata": {},
   "source": [
    "<div class=\"alert alert-block alert-info\">\n",
    "\n",
    "<b>Observations:</b>\n",
    "- There's a positive correlation between average temperature and  the wetbulb temperature with the presence of WNV. With higher temperature and drier air correlates with the increase of mosquito with WNV \n",
    "\n",
    "</div>"
   ]
  },
  {
   "cell_type": "code",
   "execution_count": null,
   "metadata": {
    "scrolled": false
   },
   "outputs": [],
   "source": [
    "plt.figure(figsize=(15,5))\n",
    "train.groupby(['relative_humidity'])['wnvpresent'].sum().plot.bar();"
   ]
  },
  {
   "cell_type": "markdown",
   "metadata": {},
   "source": [
    "<div class=\"alert alert-block alert-info\">\n",
    "\n",
    "<b>Observations:</b>\n",
    "- Although there might not be any particular trend here. But it seems like 63 and 74 might be the optimal humidity to have the virus. And as shown in the previous graph, drier air shows higher number of mosquitos with WNV\n",
    "\n",
    "</div>"
   ]
  },
  {
   "cell_type": "code",
   "execution_count": null,
   "metadata": {
    "scrolled": false
   },
   "outputs": [],
   "source": [
    "sns.pairplot(data=train, \n",
    "             x_vars='dewpoint_avg', \n",
    "             y_vars='temp_avg', \n",
    "             hue='wnvpresent', \n",
    "             size=5).fig.suptitle(\"Average DewPoint Vs Average Temperature\");"
   ]
  },
  {
   "cell_type": "code",
   "execution_count": null,
   "metadata": {},
   "outputs": [],
   "source": [
    "plt.figure(figsize=(15,5))\n",
    "sns.barplot(x='month', y='dewpoint_avg', data=train, hue='wnvpresent', ci=False)\n",
    "plt.title(\"Dew Point Temperature Vs Week\", fontsize='large')\n",
    "plt.xlabel(\"Weeks (Over Years 2007, 2009, 2011, 2013)\", fontsize ='large')\n",
    "plt.ylabel(\"Dew Point Temperature\", fontsize='large')\n",
    "plt.xticks(rotation=0)\n",
    "L = plt.legend(loc=\"upper right\")\n",
    "L.get_texts()[0].set_text('West Nile Not Detected')\n",
    "L.get_texts()[1].set_text('West Nile Detected')"
   ]
  },
  {
   "cell_type": "markdown",
   "metadata": {},
   "source": [
    "<div class=\"alert alert-block alert-info\">\n",
    "\n",
    "<b>Observations:</b>\n",
    "\n",
    "More Mosquitos with West Nile Virus are detected during days with hotter temperatures with higher dew point\n",
    "</div>\n"
   ]
  },
  {
   "cell_type": "code",
   "execution_count": null,
   "metadata": {
    "scrolled": false
   },
   "outputs": [],
   "source": [
    "sns.pairplot(data=train, \n",
    "             x_vars='tempmin_avg', \n",
    "             y_vars='tempmax_avg', \n",
    "             hue='wnvpresent', \n",
    "             size=5).fig.suptitle(\"Mosquito Vs Average Temperature\");"
   ]
  },
  {
   "cell_type": "markdown",
   "metadata": {},
   "source": [
    "<div class=\"alert alert-block alert-info\">\n",
    "\n",
    "<b>Observations:</b>\n",
    "\n",
    "Presence of WNV is evident when Average Temperature is above 70 Degrees Fahrenheit and DewPoint is above 55 Degrees Fahrenheit, hence more mosquito with WNV during days with higher humidity\n",
    "</div>\n"
   ]
  },
  {
   "cell_type": "code",
   "execution_count": null,
   "metadata": {
    "scrolled": false
   },
   "outputs": [],
   "source": [
    "sns.pairplot(data=train, \n",
    "             x_vars='stnpressure_avg', \n",
    "             y_vars='temp_avg', \n",
    "             hue='wnvpresent', \n",
    "             size=5)\n",
    "plt.title(\"Average Temperature Vs Average Pressure\");"
   ]
  },
  {
   "cell_type": "code",
   "execution_count": null,
   "metadata": {
    "scrolled": false
   },
   "outputs": [],
   "source": [
    "sns.pairplot(data=train, \n",
    "             x_vars='precip_avg', \n",
    "             y_vars='temp_avg', \n",
    "             hue='wnvpresent', \n",
    "             size=5)\n",
    "plt.title(\"Average Temperature Vs Average Precipitation\");"
   ]
  },
  {
   "cell_type": "markdown",
   "metadata": {},
   "source": [
    "<div class=\"alert alert-block alert-info\">\n",
    "\n",
    "<b>Feature Engineered:</b>\n",
    "- Average of station 1 and 2 for columns and the average for 14, 28 and 90 days\n",
    "    - \"maxtemp\",\n",
    "    - \"mintemp\",\n",
    "    - \"tempavg\",\n",
    "    - \"dewpoint\",\n",
    "    - \"wetbulb\",\n",
    "    - \"precip\",\n",
    "    - \"stnpressure\"\n",
    "- relative_humidity\n",
    "\n",
    "</div>"
   ]
  },
  {
   "cell_type": "markdown",
   "metadata": {},
   "source": [
    "****"
   ]
  },
  {
   "cell_type": "markdown",
   "metadata": {},
   "source": [
    "## <span style='background :yellow' > 2.3 Spray Dataset</span>\n"
   ]
  },
  {
   "cell_type": "code",
   "execution_count": null,
   "metadata": {
    "scrolled": false
   },
   "outputs": [],
   "source": [
    "spray.head()"
   ]
  },
  {
   "cell_type": "code",
   "execution_count": null,
   "metadata": {
    "scrolled": false
   },
   "outputs": [],
   "source": [
    "print(spray[\"date\"].nunique())\n",
    "spray[\"date\"].value_counts()"
   ]
  },
  {
   "cell_type": "markdown",
   "metadata": {},
   "source": [
    "<div class=\"alert alert-block alert-info\">\n",
    "<b>Observations:</b>\n",
    "There were a total of 10 unique sprays dates which occur in both 2011 and 2013. \n",
    "On top of that we could see the total number of sprays made on those unique date. Hence we shall look at the location of these spray in this two years\n",
    "</div>"
   ]
  },
  {
   "cell_type": "code",
   "execution_count": null,
   "metadata": {
    "scrolled": false
   },
   "outputs": [],
   "source": [
    "spray_2011 = spray[spray['year'] == 2011]\n",
    "spray_2013 = spray[spray['year'] == 2013]\n",
    "\n",
    "# use map data provided by kaggle\n",
    "mapdata = np.loadtxt('../assets/mapdata_copyright_openstreetmap_contributors.txt')  \n",
    "lon_lat_box = (train['longitude'].min()-.1, \n",
    "               train['longitude'].max()+.1, \n",
    "               train['latitude'].min()-.1, \n",
    "               train['latitude'].max()+.1)\n",
    "\n",
    "# Plot map\n",
    "fig, ax = plt.subplots(figsize=(8,12))\n",
    "ax.imshow(mapdata, cmap=plt.get_cmap('gray'), aspect='auto', extent=lon_lat_box) \n",
    "\n",
    "# Spray locations\n",
    "sprays = spray[['longitude', 'latitude']]\n",
    "sprays_2011 = spray_2011[['longitude', 'latitude']]\n",
    "sprays_2013 = spray_2013[['longitude', 'latitude']]\n",
    "sprays_2011 = sprays[sprays['latitude'] < 42.3]  #outliers excluded\n",
    "sprays_2013 = sprays[sprays['latitude'] < 42.3] \n",
    "\n",
    "plt.scatter(sprays_2011['longitude'], \n",
    "            sprays_2011['latitude'], \n",
    "            marker='o', \n",
    "            color='blue',\n",
    "            alpha=.5, \n",
    "            label='2011 Spray Locations')\n",
    "\n",
    "# plt.scatter(sprays_2013['longitude'], \n",
    "#             sprays_2013['latitude'], \n",
    "#             marker='x', \n",
    "#             color='orange',\n",
    "#             alpha=.08, \n",
    "#             label='2013 Spray Locations')\n",
    "\n",
    "# Weather stations\n",
    "plt.scatter(x = (-87.933, -87.752), \n",
    "            y = (41.995, 41.786), \n",
    "            marker='x', \n",
    "            color='g', \n",
    "            label='Weather Station')\n",
    "\n",
    "plt.title('West Nile Virus in Chicago(Spray Location)', size=15)\n",
    "plt.legend(frameon=1)\n",
    "plt.xlabel('longitude')\n",
    "plt.ylabel('latitude');"
   ]
  },
  {
   "cell_type": "code",
   "execution_count": null,
   "metadata": {},
   "outputs": [],
   "source": [
    "spray_2011 = spray[spray['year'] == 2011]\n",
    "spray_2013 = spray[spray['year'] == 2013]\n",
    "\n",
    "# use map data provided by kaggle\n",
    "mapdata = np.loadtxt('../assets/mapdata_copyright_openstreetmap_contributors.txt')  \n",
    "lon_lat_box = (train['longitude'].min()-.1, \n",
    "               train['longitude'].max()+.1, \n",
    "               train['latitude'].min()-.1, \n",
    "               train['latitude'].max()+.1)\n",
    "\n",
    "# Plot map\n",
    "fig, ax = plt.subplots(figsize=(8,12))\n",
    "ax.imshow(mapdata, cmap=plt.get_cmap('gray'), aspect='auto', extent=lon_lat_box) \n",
    "\n",
    "# Spray locations\n",
    "sprays = spray[['longitude', 'latitude']]\n",
    "sprays_2011 = spray_2011[['longitude', 'latitude']]\n",
    "sprays_2013 = spray_2013[['longitude', 'latitude']]\n",
    "sprays_2011 = sprays[sprays['latitude'] < 42.3]  #outliers excluded\n",
    "sprays_2013 = sprays[sprays['latitude'] < 42.3] \n",
    "\n",
    "# plt.scatter(sprays_2011['longitude'], \n",
    "#             sprays_2011['latitude'], \n",
    "#             marker='o', \n",
    "#             color='blue',\n",
    "#             alpha=.5, \n",
    "#             label='2011 Spray Locations')\n",
    "\n",
    "plt.scatter(sprays_2013['longitude'], \n",
    "            sprays_2013['latitude'], \n",
    "            marker='o', \n",
    "            color='orange',\n",
    "            alpha=.5, \n",
    "            label='2013 Spray Locations')\n",
    "\n",
    "# Weather stations\n",
    "plt.scatter(x = (-87.933, -87.752), \n",
    "            y = (41.995, 41.786), \n",
    "            marker='x', \n",
    "            color='g', \n",
    "            label='Weather Station')\n",
    "\n",
    "plt.title('West Nile Virus in Chicago(Spray Location)', size=15)\n",
    "plt.legend(frameon=1)\n",
    "plt.xlabel('longitude')\n",
    "plt.ylabel('latitude');"
   ]
  },
  {
   "cell_type": "markdown",
   "metadata": {},
   "source": [
    "<div class=\"alert alert-block alert-info\">\n",
    "<b>Observations:</b>\n",
    "Sprayed location of 2011 and 2013 showed minimal or no change.\n",
    "\n",
    "</div>"
   ]
  },
  {
   "cell_type": "code",
   "execution_count": null,
   "metadata": {},
   "outputs": [],
   "source": [
    "train.trap.dtype"
   ]
  },
  {
   "cell_type": "code",
   "execution_count": null,
   "metadata": {
    "scrolled": true
   },
   "outputs": [],
   "source": [
    "from sklearn.neighbors import KernelDensity\n",
    "\n",
    "alpha_cm = plt.cm.Reds\n",
    "alpha_cm._init()\n",
    "alpha_cm._lut[:-3,-1] = abs(np.logspace(0, 1, alpha_cm.N) / 10 - 1)[::-1]\n",
    "aspect = mapdata.shape[0] * 1.0 / mapdata.shape[1]\n",
    "lon_lat_box = (-88, -87.5, 41.6, 42.1)\n",
    "\n",
    "#Traps where only WNV is present\n",
    "sigthings = train[train['wnvpresent'] == 1]\n",
    "sigthings = sigthings.groupby(['date', 'trap','longitude', 'latitude']).max()['wnvpresent'].reset_index()\n",
    "X = sigthings[['longitude', 'latitude']].values\n",
    "kd = KernelDensity(bandwidth=0.015)\n",
    "kd.fit(X)\n",
    "\n",
    "xv,yv = np.meshgrid(np.linspace(-88, -87.5, 100), np.linspace(41.6, 42.1, 100))\n",
    "gridpoints = np.array([xv.ravel(),yv.ravel()]).T\n",
    "zv = np.exp(kd.score_samples(gridpoints).reshape(100,100))\n",
    "\n",
    "#kernel density\n",
    "plt.figure(figsize=(10,14))\n",
    "plt.imshow(mapdata, cmap=plt.get_cmap('gray'), extent=lon_lat_box, aspect=aspect)\n",
    "plt.imshow(zv, origin='lower', cmap=alpha_cm, extent=lon_lat_box, aspect=aspect)\n",
    "\n",
    "#Trap locations\n",
    "locations = sigthings[['longitude', 'latitude']].drop_duplicates().values\n",
    "plt.scatter(locations[:,0], locations[:,1], marker='x', label='Trap Location')\n",
    "\n",
    "\n",
    "plt.title('West Nile Virus in Chicago (density and clustering of traps)',size=15)\n",
    "plt.legend(frameon=1)\n",
    "plt.xlabel('longitude')\n",
    "plt.ylabel('latitude');\n"
   ]
  },
  {
   "cell_type": "markdown",
   "metadata": {},
   "source": [
    "<div class=\"alert alert-block alert-info\">\n",
    "<b>Observations:</b>\n",
    "This identify the density traps with mosquitos with WNV. Darker red areas indicates more mosquitoes with the virus and lighter red indicates less mosquito with the virus. Hence, darker read areas tend to have more priority.\n",
    "</div>"
   ]
  },
  {
   "cell_type": "markdown",
   "metadata": {},
   "source": [
    "<div class=\"alert alert-block alert-info\">\n",
    "Since the spraying occurs based on distance, DBSCAN seems the most appropriate as it does really well when there is clear \"separation\" within the dataset. Also as data uses coordinates for this clustering they should be of the same scale hence, no scaling should be required here.\n",
    "\n",
    "</div>"
   ]
  },
  {
   "cell_type": "code",
   "execution_count": null,
   "metadata": {
    "scrolled": false
   },
   "outputs": [],
   "source": [
    "#use DBSCAN to cluster spray data to use to create spray cluster feature\n",
    "\n",
    "from sklearn.cluster import DBSCAN\n",
    "from sklearn.metrics import silhouette_score\n",
    "from sklearn.preprocessing import MinMaxScaler\n",
    "\n",
    "# isolate the coordinates\n",
    "X_spray = spray[['latitude', 'longitude']] \n",
    "\n",
    "minmax = MinMaxScaler(feature_range = (0, 1))\n",
    "clusters = minmax.fit_transform(X_spray)\n",
    "\n",
    "# run DBSCAN (parameters set after multiple iterations)\n",
    "dbscan = DBSCAN(eps=.01, min_samples=20).fit(X_spray) \n",
    "# assign the clusters to original DataFrame.\n",
    "X_spray['cluster'] = dbscan.labels_ \n",
    "vals = X_spray['cluster'].value_counts()\n",
    "\n",
    "print(f'Silhouette Score: {silhouette_score(clusters, dbscan.labels_)}')\n",
    "print(f'Number of outliers: {vals[-1]} ({vals[-1] * 100 / len(X_spray):.2f}% of samples)')\n",
    "print(f'Number of clusters: {len(vals)}')\n",
    "\n",
    "# set dimensions of plot\n",
    "lon_lat_box_spray = (X_spray['longitude'].min()-.1, X_spray['longitude'].max()+.1, \n",
    "                     X_spray['latitude'].min()-.1,X_spray['latitude'].max()+.1)\n",
    "\n",
    "# create plot of spray clusters, for loop allows for legend to represent clusters \n",
    "fig, ax = plt.subplots(figsize=(8,12))\n",
    "ax.imshow(mapdata, cmap=plt.get_cmap('gray'), aspect='auto', extent=lon_lat_box_spray) \n",
    "\n",
    "# iterate through each cluster value and plot points in the same figure (maintains lables)\n",
    "for i in X_spray['cluster'].unique():  \n",
    "    ax.scatter(X_spray[X_spray['cluster'] == i]['longitude'], \n",
    "               X_spray[X_spray['cluster'] == i]['latitude'], \n",
    "               label=i, marker='o')\n",
    "\n",
    "# WNV presence\n",
    "plt.scatter(train[train['wnvpresent'] == 1]['longitude'], \n",
    "            train[train['wnvpresent'] == 1]['latitude'], \n",
    "            marker='^', label='WNV Present', color='r')\n",
    "\n",
    "# Weather stations\n",
    "# Station 1: Lat: 41.995 Lon: -87.933 Elev: 662 ft. above sea level\n",
    "# Station 2: Lat: 41.786 Lon: -87.752 Elev: 612 ft. above sea level\n",
    "plt.scatter(x = (-87.933, -87.752), \n",
    "            y = (41.995, 41.786), \n",
    "            marker='x', \n",
    "            color='g', \n",
    "            label='Weather Station')\n",
    "\n",
    "plt.legend(frameon=1)\n",
    "plt.title('West Nile Virus in Chicago (Spray Clusters)', size=15)\n",
    "plt.xlabel('longitude')\n",
    "plt.ylabel('latitude');"
   ]
  },
  {
   "cell_type": "markdown",
   "metadata": {},
   "source": [
    "<div class=\"alert alert-block alert-info\">\n",
    "<b>Observations:</b>\n",
    "The spray cluster graph shows the number of possible clusters where spray occured, with a silhouette score of 0.49 (the closer the score is to 1 the better the clusters are well separated.) \n",
    "However there is one cluster that is way out of the norm that could be the outliers.\n",
    "\n",
    "</div>"
   ]
  },
  {
   "cell_type": "code",
   "execution_count": null,
   "metadata": {
    "scrolled": false
   },
   "outputs": [],
   "source": [
    "from sklearn.cluster import KMeans\n",
    "\n",
    "# isolate positive WNV traps\n",
    "X_clusters = train[train['wnvpresent'] == 1][['latitude', 'longitude']] \n",
    "\n",
    "# create clustering model with KMeans\n",
    "# 10 clusters selected after a few iterations and reviewing plot below\n",
    "km = KMeans(n_clusters=10).fit(X_clusters) \n",
    "# assign the clusters to original DataFrame.\n",
    "X_clusters['cluster'] = km.labels_ \n",
    "\n",
    "print(f'Silhouette Score: {silhouette_score(clusters, dbscan.labels_)}')\n",
    "\n",
    "# plot map\n",
    "fig, ax = plt.subplots(figsize=(8,12))\n",
    "ax.imshow(mapdata, cmap=plt.get_cmap('gray'), aspect='auto', extent=lon_lat_box) \n",
    "# iterate through each cluster value and plot points in the same figure (maintains lables)\n",
    "for i in X_clusters['cluster'].unique(): \n",
    "    ax.scatter(X_clusters[X_clusters['cluster'] == i]['longitude'], \n",
    "               X_clusters[X_clusters['cluster'] == i]['latitude'], \n",
    "               label=i, marker='o')\n",
    "    \n",
    "plt.scatter(x = (-87.933, -87.752), \n",
    "            y = (41.995, 41.786), \n",
    "            marker='x', \n",
    "            color='g', \n",
    "            label='Weather Station')\n",
    "    \n",
    "plt.legend(frameon=1)\n",
    "plt.title('West Nile Virus in Chicago (Location Clusters)', size=15)\n",
    "plt.xlabel('longitude')\n",
    "plt.ylabel('latitude');"
   ]
  },
  {
   "cell_type": "markdown",
   "metadata": {},
   "source": [
    "<div class=\"alert alert-block alert-danger\">\n",
    "\n",
    "<b>Question:</b>\n",
    "Not sure what information can i get out of this. Would be great if you guys know, or else should i just remove?\n",
    "</div>"
   ]
  },
  {
   "cell_type": "markdown",
   "metadata": {},
   "source": [
    "## <span style='background :yellow' > 2.4 Create More Features</span>"
   ]
  },
  {
   "cell_type": "code",
   "execution_count": null,
   "metadata": {},
   "outputs": [],
   "source": [
    "# Get Dummies\n",
    "train = pd.get_dummies(train, columns = ['species'])\n",
    "train = pd.get_dummies(train, columns = ['trap'])\n",
    "train = pd.get_dummies(train, columns = ['month'])\n",
    "train = pd.get_dummies(train, columns = ['year'])\n",
    "\n",
    "train.shape"
   ]
  },
  {
   "cell_type": "code",
   "execution_count": null,
   "metadata": {
    "scrolled": false
   },
   "outputs": [],
   "source": [
    "plt.figure(figsize = (15,5))\n",
    "train_corr = train.corr()[['wnvpresent']].sort_values('wnvpresent', ascending=False)\n",
    "positive_corr = train_corr.head(15)\n",
    "\n",
    "sns.heatmap(positive_corr, annot = True, cmap='Blues')\n",
    "plt.title('Positive Correlation to WnvPresent');"
   ]
  },
  {
   "cell_type": "code",
   "execution_count": null,
   "metadata": {
    "scrolled": true
   },
   "outputs": [],
   "source": [
    "plt.figure(figsize = (15,5))\n",
    "train_corr = train.corr()[['wnvpresent']].sort_values('wnvpresent', ascending=False)\n",
    "negative_corr = train_corr.tail(15)\n",
    "\n",
    "sns.heatmap(negative_corr, annot = True, cmap='Blues')\n",
    "plt.title('Negative Correlation to WnvPresent');"
   ]
  },
  {
   "cell_type": "code",
   "execution_count": null,
   "metadata": {
    "scrolled": true
   },
   "outputs": [],
   "source": [
    "plt.figure(figsize = (15,5))\n",
    "train_corr = train.corr()[['nummosquitos']].sort_values('nummosquitos', ascending=False)\n",
    "positive_corr = train_corr.head(15)\n",
    "\n",
    "sns.heatmap(positive_corr, annot = True, cmap='Blues')\n",
    "plt.title('Positive Correlation to NumMosquitos');"
   ]
  },
  {
   "cell_type": "code",
   "execution_count": null,
   "metadata": {
    "scrolled": true
   },
   "outputs": [],
   "source": [
    "plt.figure(figsize = (15,5))\n",
    "train_corr = train.corr()[['nummosquitos']].sort_values('nummosquitos', ascending=False)\n",
    "negative_corr = train_corr.tail(15)\n",
    "\n",
    "sns.heatmap(negative_corr, annot = True, cmap='Blues')\n",
    "plt.title('Negative Correlation to WnvPresent');"
   ]
  },
  {
   "cell_type": "markdown",
   "metadata": {},
   "source": [
    "<div class=\"alert alert-block alert-info\">\n",
    "\n",
    "<b>Get dummy columns:</b>\n",
    "- species\n",
    "- trap\n",
    "- year\n",
    "- month\n",
    "\n",
    "</div>"
   ]
  },
  {
   "cell_type": "code",
   "execution_count": null,
   "metadata": {},
   "outputs": [],
   "source": [
    "# Drop columns that is not in the test set \n",
    "train.drop(['nummosquitos'], axis=1, inplace=True)\n",
    "train.shape"
   ]
  },
  {
   "cell_type": "code",
   "execution_count": null,
   "metadata": {},
   "outputs": [],
   "source": [
    "# # Drop address related columns \n",
    "# train.drop(['address','block','street','addressnumberstreet','address_accuracy'], axis=1, inplace=True)"
   ]
  },
  {
   "cell_type": "code",
   "execution_count": null,
   "metadata": {},
   "outputs": [],
   "source": [
    "# Save dataset\n",
    "train.to_csv('../assets/final_train.csv')"
   ]
  },
  {
   "cell_type": "markdown",
   "metadata": {},
   "source": [
    "## 3. Apply changes made in Training Set to Testing Set"
   ]
  },
  {
   "cell_type": "code",
   "execution_count": null,
   "metadata": {},
   "outputs": [],
   "source": [
    "def apply_change_df (data):\n",
    "    \n",
    "    # Rename Column to snake_case\n",
    "    data.columns = map(str.lower, data.columns)\n",
    "    \n",
    "    ##1.5 to delete\n",
    "    # Changes date to datetime formats and split\n",
    "    data['date'] = pd.to_datetime(data['date'], infer_datetime_format=True)\n",
    "    split_date(data)\n",
    "    \n",
    "    # Merge data with feature engineered weather dataset\n",
    "    data = pd.merge(data, weather, how='left', on=['date','month','year'])\n",
    "    \n",
    "    # Get dummies for categorical variable\n",
    "    data = pd.get_dummies(data, columns = ['species'])\n",
    "    data = pd.get_dummies(data, columns = ['trap'])\n",
    "    \n",
    "    # Get dummies for month and year variable\n",
    "    data = pd.get_dummies(data, columns = ['month'])\n",
    "    data = pd.get_dummies(data, columns = ['year'])\n",
    "    \n",
    "#     # Drop columns that are address related\n",
    "#     data.drop(['address',\n",
    "#                 'block',\n",
    "#                 'street',\n",
    "#                 'addressnumberstreet',\n",
    "#                 'address_accuracy'], axis=1, inplace=True)\n",
    "    \n",
    "    print(data.shape)\n",
    "    \n",
    "    return"
   ]
  },
  {
   "cell_type": "code",
   "execution_count": null,
   "metadata": {
    "scrolled": true
   },
   "outputs": [],
   "source": [
    "apply_change_df(test)"
   ]
  },
  {
   "cell_type": "markdown",
   "metadata": {},
   "source": [
    "<div class=\"alert alert-block alert-info\">\n",
    "\n",
    "<b>Observation:</b>\n",
    "The number of columns in the train data does not tally with the column data. Hence further exploration is required.\n",
    "\n",
    "</div>"
   ]
  },
  {
   "cell_type": "code",
   "execution_count": null,
   "metadata": {},
   "outputs": [],
   "source": [
    "#Get missing columns in the training test\n",
    "missing_cols = set( train.columns ) - set( test.columns )\n",
    "\n",
    "# Add a missing column in test set with default value equal to 0\n",
    "for c in missing_cols:\n",
    "    test[c] = 0\n",
    "    \n",
    "# Ensure the order of column in the test set is in the same order than in train set\n",
    "test = test[train.columns]"
   ]
  },
  {
   "cell_type": "code",
   "execution_count": null,
   "metadata": {},
   "outputs": [],
   "source": [
    "test.shape"
   ]
  },
  {
   "cell_type": "code",
   "execution_count": null,
   "metadata": {},
   "outputs": [],
   "source": [
    "test.to_csv('../assets/final_test.csv', index=False)"
   ]
  },
  {
   "cell_type": "markdown",
   "metadata": {},
   "source": [
    "<div class=\"alert alert-block alert-warning\">\n",
    "@Graham Other repos you might find helpful \n",
    "<br>    \n",
    "    \n",
    "https://github.com/saqibnizami/DSI-Project-4/blob/master/P4_SprayEffectiveness.ipynb (Where codes below comes from)\n",
    "<br>\n",
    "\n",
    "https://github.com/zzeniale/West-Nile-Virus-prediction/blob/master/code/2_model_tuning_and_insights.ipynb \n",
    "(more pipeline and ROC AUC function!)\n",
    "</div>"
   ]
  },
  {
   "cell_type": "markdown",
   "metadata": {},
   "source": [
    "## <span style='background :yellow' > 4. Modelling </span>"
   ]
  },
  {
   "cell_type": "code",
   "execution_count": null,
   "metadata": {},
   "outputs": [],
   "source": [
    "# Baseline accuracy\n",
    "train[\"wnvpresent\"].value_counts(normalize=True)"
   ]
  },
  {
   "cell_type": "markdown",
   "metadata": {},
   "source": [
    "### <span style='background :yellow' > 4.1 Model Prep </span>"
   ]
  },
  {
   "cell_type": "code",
   "execution_count": null,
   "metadata": {},
   "outputs": [],
   "source": [
    "#import libraries\n",
    "from sklearn.model_selection import train_test_split"
   ]
  },
  {
   "cell_type": "code",
   "execution_count": null,
   "metadata": {},
   "outputs": [],
   "source": [
    "# Create X and y variables\n",
    "feature = \n",
    "X = \n",
    "y = "
   ]
  },
  {
   "cell_type": "code",
   "execution_count": null,
   "metadata": {},
   "outputs": [],
   "source": [
    "# Train test split\n",
    "X_train, X_test, y_train, y_test = train_test_split(X,\n",
    "                                                    y,\n",
    "                                                    test_size=0.25,\n",
    "                                                    random_state=42,\n",
    "                                                    stratify=y)"
   ]
  },
  {
   "cell_type": "markdown",
   "metadata": {},
   "source": [
    "### <span style='background :yellow' > 4.2 GridSearch</span>"
   ]
  },
  {
   "cell_type": "markdown",
   "metadata": {},
   "source": [
    "#### @Graham found this in one of the repo, might find this helpful\n",
    "https://github.com/nicholas-limjj/dsi-project4/blob/master/code/Project%204%20Notebook.ipynb"
   ]
  },
  {
   "cell_type": "code",
   "execution_count": null,
   "metadata": {},
   "outputs": [],
   "source": [
    "# model_dict = {\n",
    "#     'ss': StandardScaler(),\n",
    "#     'lr': LogisticRegression(solver='lbfgs'),\n",
    "#     'nb': MultinomialNB(),\n",
    "#     'knn': KNeighborsClassifier(),\n",
    "#     'dt': DecisionTreeClassifier(),\n",
    "#     'rf': RandomForestClassifier(random_state=42),\n",
    "#     'et': ExtraTreesClassifier(),\n",
    "#     'ada_dt': AdaBoostClassifier(random_state=42),\n",
    "#     'ada_rf': AdaBoostClassifier(base_estimator=RandomForestClassifier(random_state=42),random_state=42),\n",
    "#     'gboost': GradientBoostingClassifier()\n",
    "# }\n",
    "\n",
    "# model_full = {\n",
    "#     'ss': 'Standard Scaler',\n",
    "#     'lr': 'Logistic Regression',\n",
    "#     'knn': 'KNearestNeighbor',\n",
    "#     'nb': 'Multinomial NB',\n",
    "#     'dt': 'Decision Tree',\n",
    "#     'rf': 'Random Forest',\n",
    "#     'et': 'Extra Tree',\n",
    "#     'ada_dt': 'AdaBoost - Decision Tree',\n",
    "#     'ada_rf': 'AdaBoost - Random Forest',\n",
    "#     'gboost': 'Gradient Boosting Classifier'\n",
    "# }\n",
    "\n",
    "# param_dict = {    \n",
    "#     'knn': {\n",
    "#         'knn__n_neighbors': [2,3,4,5]\n",
    "#     },\n",
    "#     'lr': {\n",
    "#         'lr__max_iter': [100,200]\n",
    "#     },\n",
    "#     'nb': {},\n",
    "#     'dt': {\n",
    "#         'dt__max_depth': [5,7],\n",
    "#         'dt__min_samples_split': [10,15],\n",
    "#         'dt__min_samples_leaf': [3,4]\n",
    "#     },\n",
    "#     'rf': {\n",
    "#         'rf__n_estimators': [500,1000,2000],\n",
    "#         'rf__min_samples_split': [2,3],\n",
    "#         'rf__max_depth': [2,3],\n",
    "#         'rf__min_samples_leaf': [3,4]\n",
    "        \n",
    "#     },\n",
    "#     'et': {\n",
    "#         'et__n_estimators': [1000,2000],\n",
    "#         'et__min_samples_split': [2,3],\n",
    "#     },\n",
    "#     'ada_dt': {\n",
    "#         'ada_dt__n_estimators': [50,100,200],\n",
    "#         'ada_dt__learning_rate': [0.9, 1]\n",
    "#     },\n",
    "#     'ada_rf': {\n",
    "#         'ada_rf__n_estimators': [50,100,200],\n",
    "#         'ada_rf__learning_rate': [0.9, 1],\n",
    "#         'ada_rf__base_estimator__max_depth': [3], \n",
    "#         'ada_rf__base_estimator__min_samples_leaf': [4], \n",
    "#         'ada_rf__base_estimator__min_samples_split': [2], \n",
    "#         'ada_rf__base_estimator__n_estimators': [1000]\n",
    "#     },\n",
    "#     'gboost': {\n",
    "#         'gboost__n_estimators': [50,100],\n",
    "#         'gboost__max_depth': [2,3,4],\n",
    "#         'gboost__learning_rate': [0.1, 0.5, 1]\n",
    "#     }\n",
    "# }\n",
    "\n",
    "# def prepare_pipeline(list_of_models):\n",
    "#     \"\"\"\n",
    "#     Prepare pipeline of models to be used for modelling\n",
    "    \n",
    "#     Parameters\n",
    "#     ----------\n",
    "#     list_of_models: list[str]\n",
    "#         List of models to be included for pipeline\n",
    "    \n",
    "#     Returns\n",
    "#     -------\n",
    "#     Pipeline\n",
    "#         Pipeline of models to be run\n",
    "#     \"\"\"\n",
    "#     pipe_list = [(i,model_dict[i]) for i in list_of_models]\n",
    "#     return Pipeline(pipe_list)\n",
    "\n",
    "# def add_params(name,pipe_dict):\n",
    "#     \"\"\"\n",
    "#     Add parameters for GridSearch\n",
    "    \n",
    "#     Parameters\n",
    "#     ----------\n",
    "#     name: str\n",
    "#         Name of model/vectorization method to have params added.\n",
    "#     pipe_dict: Dictionary\n",
    "#         Dictionary that contains parameters to be added into GridSearch\n",
    "    \n",
    "#     Returns\n",
    "#     -------\n",
    "#     Dictionary\n",
    "#         Dictionary that contains parameters to be added for GridSearch\n",
    "#     \"\"\"\n",
    "#     params = param_dict[name]\n",
    "#     for k,v in params.items():\n",
    "#         pipe_dict[k] = v\n",
    "#     return pipe_dict\n",
    "\n",
    "# def grid_search(model,train_data=X,train_target=y):\n",
    "#     \"\"\"\n",
    "#     Initialize and run GridSearch\n",
    "    \n",
    "#     Parameters\n",
    "#     ----------\n",
    "#     model: str\n",
    "#         Initialize which classification model to use. Note classification model has to be contained in model_dict.\n",
    "        \n",
    "#     train_data: list[str]\n",
    "#         List of training data to be used\n",
    "    \n",
    "#     Returns\n",
    "#     -------\n",
    "#     List\n",
    "#         List that contains predicted values of the test data\n",
    "#     \"\"\"\n",
    "#     X_train, X_test, y_train,y_test = train_test_split(train_data,train_target,test_size=0.25,stratify=train_target,random_state=42)\n",
    "#     pipe_params = {}\n",
    "#     pipe_params = add_params(model,pipe_params)\n",
    "#     pipe = prepare_pipeline(['ss',model])\n",
    "#     gs = GridSearchCV(pipe,param_grid=pipe_params,cv=3,n_jobs=-1,scoring='roc_auc')\n",
    "#     gs.fit(X_train,y_train)\n",
    "#     print(f'Using {model_full[model]}:')\n",
    "#     print(f'Train Score: {round(gs.best_score_,4)}')\n",
    "#     print(f'Test Score: {round(gs.score(X_test,y_test),4)}')\n",
    "#     print(f'Using the following parameters: {gs.best_params_}')\n",
    "    \n",
    "#     #return {'gs':gs, 'data': {'X_test' : X_test , 'y_test':y_test} } ---- might not need this as return"
   ]
  },
  {
   "cell_type": "code",
   "execution_count": null,
   "metadata": {},
   "outputs": [],
   "source": [
    "# grid_search('lr')\n",
    "# grid_search('knn')\n",
    "# grid_search('dt')\n",
    "# grid_search('rf')\n",
    "# grid_search('ada_dt')\n",
    "# grid_search('ada_rf')\n",
    "# grid_search('gboost')"
   ]
  },
  {
   "cell_type": "markdown",
   "metadata": {},
   "source": [
    "## <span style='background :yellow' >5. Model Evaluation</span>\n",
    "ROC AUC Function from workbook (which i used in project 3)"
   ]
  },
  {
   "cell_type": "code",
   "execution_count": null,
   "metadata": {},
   "outputs": [],
   "source": [
    "# from sklearn.metrics import roc_auc_score\n",
    "# roc_auc_score(pred_df['true_values'], pred_df['pred_probs'])"
   ]
  },
  {
   "cell_type": "code",
   "execution_count": null,
   "metadata": {},
   "outputs": [],
   "source": [
    "# plt.figure(figsize = (15,10))\n",
    "\n",
    "# thresholds = np.linspace(0, 1, 200)\n",
    "\n",
    "# # Sensitivity: True positive rate\n",
    "# def TPR(df, true_col, pred_prob_col, threshold):\n",
    "#     true_positive = df[(df[true_col] == 1) & (df[pred_prob_col] >= threshold)].shape[0]\n",
    "#     false_negative = df[(df[true_col] == 1) & (df[pred_prob_col] < threshold)].shape[0]\n",
    "#     return true_positive / (true_positive + false_negative)\n",
    "    \n",
    "\n",
    "# # 1 - specificity: False positive rate\n",
    "# def FPR(df, true_col, pred_prob_col, threshold):\n",
    "#     true_negative = df[(df[true_col] == 0) & (df[pred_prob_col] <= threshold)].shape[0]\n",
    "#     false_positive = df[(df[true_col] == 0) & (df[pred_prob_col] > threshold)].shape[0]\n",
    "#     return 1 - (true_negative / (true_negative + false_positive))\n",
    "    \n",
    "# # Calculate sensitivity & 1-specificity for each threshold between 0 and 1.\n",
    "# tpr_values = [TPR(pred_df, 'true_values', 'pred_probs', prob) for prob in thresholds]\n",
    "# fpr_values = [FPR(pred_df, 'true_values', 'pred_probs', prob) for prob in thresholds]\n",
    "\n",
    "\n",
    "# plt.plot(fpr_values,\n",
    "#          tpr_values,\n",
    "#          label='ROC Curve')\n",
    "\n",
    "# # Basline\n",
    "# plt.plot(np.linspace(0, 1, 200),\n",
    "#          np.linspace(0, 1, 200),\n",
    "#          label='baseline',\n",
    "#          linestyle='--')\n",
    "\n",
    "# plt.title(f'ROC Curve with AUC = {round(roc_auc_score(pred_df[\"true_values\"], pred_df[\"pred_probs\"]),3)}', \n",
    "#           fontsize=22)\n",
    "# plt.ylabel('Sensitivity', fontsize=18)\n",
    "# plt.xlabel('1 - Specificity', fontsize=18)\n",
    "\n",
    "# plt.legend(fontsize=16);"
   ]
  },
  {
   "cell_type": "markdown",
   "metadata": {},
   "source": [
    "<div class=\"alert alert-block alert-info\">\n",
    "\n",
    "The closer the ROC AUC is to 1, the better the model.\n",
    "\n",
    "</div>"
   ]
  },
  {
   "cell_type": "code",
   "execution_count": null,
   "metadata": {},
   "outputs": [],
   "source": []
  },
  {
   "cell_type": "code",
   "execution_count": null,
   "metadata": {},
   "outputs": [],
   "source": []
  },
  {
   "cell_type": "code",
   "execution_count": null,
   "metadata": {},
   "outputs": [],
   "source": []
  },
  {
   "cell_type": "code",
   "execution_count": null,
   "metadata": {},
   "outputs": [],
   "source": []
  },
  {
   "cell_type": "code",
   "execution_count": null,
   "metadata": {},
   "outputs": [],
   "source": []
  },
  {
   "cell_type": "markdown",
   "metadata": {},
   "source": [
    "## after this point: full pasting of data from \n",
    "https://github.com/dale-wahl/West-Nile-Virus/blob/master/EDA-West%20Nile%20Virus%20-%20Dale.ipynb"
   ]
  },
  {
   "cell_type": "code",
   "execution_count": null,
   "metadata": {},
   "outputs": [],
   "source": [
    "final_df = pd.get_dummies(train, columns=['Species'])"
   ]
  },
  {
   "cell_type": "code",
   "execution_count": null,
   "metadata": {},
   "outputs": [],
   "source": [
    "#our two origins (the locations with the most WNV activity) are Chicago O'Hare and Doty Ave.\n",
    "#the following values are their latitudes and longitudes\n",
    "ohare_lon = -87.890615\n",
    "ohare_lat = 41.974689\n",
    "doty_lon =-87.599862\n",
    "doty_lat=41.673408"
   ]
  },
  {
   "cell_type": "code",
   "execution_count": null,
   "metadata": {},
   "outputs": [],
   "source": [
    "lat = train.Latitude\n",
    "lon = train.Longitude\n"
   ]
  },
  {
   "cell_type": "code",
   "execution_count": null,
   "metadata": {},
   "outputs": [],
   "source": [
    "\n",
    "#haversine takes two lat and longs and creates a distance, from the mean, in miles\n",
    "from math import radians, cos, sin, asin, sqrt\n",
    "def haversine(lon1, lat1, lon2, lat2):\n",
    "    \"\"\"\n",
    "    Calculate the great circle distance between two points \n",
    "    on the earth (specified in decimal degrees)\n",
    "    \"\"\"\n",
    "    # convert decimal degrees to radians \n",
    "    lon1, lat1, lon2, lat2 = map(radians, [lon1, lat1, lon2, lat2])\n",
    "    # haversine formula \n",
    "    dlon = lon2 - lon1 \n",
    "    dlat = lat2 - lat1 \n",
    "    a = sin(dlat/2)**2 + cos(lat1) * cos(lat2) * sin(dlon/2)**2\n",
    "    c = 2 * asin(sqrt(a)) \n",
    "    mi = 3956   * c #Radius of earth in miles. Use 6367 for kilometers\n",
    "    return mi, dlon, dlat"
   ]
  },
  {
   "cell_type": "code",
   "execution_count": null,
   "metadata": {},
   "outputs": [],
   "source": [
    "\n",
    "#apply haversine function to training dataset, creating a column called 'dist_from_ohare_MI'\n",
    "final_df['dist_from_ohare_MI'] = [haversine(y, x, ohare_lon, ohare_lat)[0] for y, x in zip(lon, lat)]\n",
    "#apply haversine function to training dataset, creating a column called 'dist_from_doty_MI'\n",
    "final_df['dist_from_doty_MI'] = [haversine(y, x, doty_lon, doty_lat)[0] for y, x in zip(lon, lat)]"
   ]
  },
  {
   "cell_type": "code",
   "execution_count": null,
   "metadata": {},
   "outputs": [],
   "source": [
    "# Get a lat and long for each trap\n",
    "trap_locs = train.groupby(['trap'], as_index=False)['latitude', 'longitude'].mean().dropna().reset_index().drop('index', 1)"
   ]
  },
  {
   "cell_type": "code",
   "execution_count": null,
   "metadata": {},
   "outputs": [],
   "source": [
    "trap_locs.head()"
   ]
  },
  {
   "cell_type": "code",
   "execution_count": null,
   "metadata": {},
   "outputs": [],
   "source": [
    "trap_name = np.array(trap_locs.trap)\n",
    "trap_lat = np.array(trap_locs.latitude)\n",
    "trap_lon = np.array(trap_locs.longitude)"
   ]
  },
  {
   "cell_type": "code",
   "execution_count": null,
   "metadata": {},
   "outputs": [],
   "source": [
    "# this should go through each trap and check to see if the spray truck is close\n",
    "def check_traps(row):\n",
    "    distance = [haversine(lon1=row['longitude'], lat1=row['Latitude'], lon2=trap_lon[i], lat2=trap_lat[i])[0] for i in range(len(trap_name))]\n",
    "    for a, b in enumerate(distance):\n",
    "        if b < 1:\n",
    "            spray.set_value(row.name,trap_name[a],1)\n",
    "            break \n",
    "        else:\n",
    "            spray.set_value(row.name,trap_name[a],0)"
   ]
  },
  {
   "cell_type": "code",
   "execution_count": null,
   "metadata": {},
   "outputs": [],
   "source": [
    "# create groupby on days and note if the truck was within a mile\n",
    "spray_days = spray.groupby('Date', as_index=False)[trap_name].max()"
   ]
  },
  {
   "cell_type": "code",
   "execution_count": null,
   "metadata": {},
   "outputs": [],
   "source": [
    "spray.Date.unique()"
   ]
  },
  {
   "cell_type": "code",
   "execution_count": null,
   "metadata": {},
   "outputs": [],
   "source": [
    "spray_days"
   ]
  },
  {
   "cell_type": "code",
   "execution_count": null,
   "metadata": {},
   "outputs": [],
   "source": [
    "from datetime import timedelta\n",
    "spray_weeks = []\n",
    "for i in spray.Date.unique():\n",
    "    spray_weeks.append([pd.to_datetime(i) + timedelta(days=a) for a in range(1,15)])"
   ]
  },
  {
   "cell_type": "code",
   "execution_count": null,
   "metadata": {},
   "outputs": [],
   "source": [
    "final_df[final_df['Date']=='2011-09-01'].head()"
   ]
  },
  {
   "cell_type": "code",
   "execution_count": null,
   "metadata": {},
   "outputs": [],
   "source": [
    "\n",
    "final_df['sprayed_14days'] = 0\n",
    "def spray_truck(row):\n",
    "    for num, i in enumerate(spray_weeks):\n",
    "        if row['Date'] not in i:\n",
    "            continue\n",
    "        else:\n",
    "            if spray_days.iloc[num][row['Trap']] == 1:\n",
    "                return 1\n",
    "            else:\n",
    "                continue"
   ]
  },
  {
   "cell_type": "code",
   "execution_count": null,
   "metadata": {},
   "outputs": [],
   "source": [
    "\n",
    "final_df['sprayed_14days'] = final_df.apply(spray_truck, axis=1)"
   ]
  },
  {
   "cell_type": "code",
   "execution_count": null,
   "metadata": {},
   "outputs": [],
   "source": [
    "final_df['sprayed_14days'] = final_df['sprayed_14days'].fillna(0)\n",
    "final_df['sprayed_14days'].value_counts()"
   ]
  },
  {
   "cell_type": "code",
   "execution_count": null,
   "metadata": {},
   "outputs": [],
   "source": [
    "#Spray was not a good predictor for WNV, but maybe mosquitoes?"
   ]
  },
  {
   "cell_type": "code",
   "execution_count": null,
   "metadata": {},
   "outputs": [],
   "source": [
    "# These are the days we're looking at:\n",
    "spray.Date.unique()"
   ]
  },
  {
   "cell_type": "code",
   "execution_count": null,
   "metadata": {},
   "outputs": [],
   "source": [
    "\n",
    "mosquitoes = train.groupby(['Date', 'Trap'], as_index=False)['NumMosquitos'].sum().dropna()"
   ]
  },
  {
   "cell_type": "code",
   "execution_count": null,
   "metadata": {},
   "outputs": [],
   "source": [
    "mosquitoes['sprayed_14days'] = mosquitoes.apply(spray_truck, axis=1).fillna(0)"
   ]
  },
  {
   "cell_type": "code",
   "execution_count": null,
   "metadata": {},
   "outputs": [],
   "source": [
    "# These two traps were sprayed in 2011\n",
    "mosquitoes[(mosquitoes['Date'] > '2011') & (mosquitoes['Date'] < '2012') & (mosquitoes['sprayed_14days']==1)]\n",
    "# T002 & T233"
   ]
  },
  {
   "cell_type": "code",
   "execution_count": null,
   "metadata": {},
   "outputs": [],
   "source": [
    "mosquitoes2011 = mosquitoes[(mosquitoes['Date'] > '2011') & (mosquitoes['Date'] < '2012')]"
   ]
  },
  {
   "cell_type": "code",
   "execution_count": null,
   "metadata": {},
   "outputs": [],
   "source": [
    "# Averages in all other traps; unfortunately it is hard to compare one trap to another\n",
    "mosquitoes2011[(mosquitoes2011['Trap'] != 'T002') | (mosquitoes2011['Trap'] != 'T233')].groupby('Date')['NumMosquitos'].mean()"
   ]
  },
  {
   "cell_type": "code",
   "execution_count": null,
   "metadata": {},
   "outputs": [],
   "source": [
    "\n",
    "#Averages of the two sprayed traps\n",
    "mosquitoes2011[(mosquitoes2011['Trap'] == 'T002') | (mosquitoes2011['Trap'] == 'T233')].groupby('Date')['NumMosquitos'].mean()"
   ]
  },
  {
   "cell_type": "code",
   "execution_count": null,
   "metadata": {},
   "outputs": [],
   "source": [
    "\n",
    "mosquitoes[(mosquitoes['Date'] > '2011') & (mosquitoes['Date'] < '2012') & (mosquitoes['Trap']=='T223')]"
   ]
  },
  {
   "cell_type": "code",
   "execution_count": null,
   "metadata": {},
   "outputs": [],
   "source": [
    "#traps spreadyed in 2013\n",
    "sprayed_2013=list(mosquitoes[(mosquitoes['Date'] > '2013') & (mosquitoes['Date'] < '2014') & (mosquitoes['sprayed_14days']==1)]['Trap'].unique())"
   ]
  },
  {
   "cell_type": "code",
   "execution_count": null,
   "metadata": {},
   "outputs": [],
   "source": [
    "mosquitoes2013 = mosquitoes[(mosquitoes['Date'] > '2013') & (mosquitoes['Date'] < '2014')]"
   ]
  },
  {
   "cell_type": "code",
   "execution_count": null,
   "metadata": {},
   "outputs": [],
   "source": [
    "\n",
    "spray.Date.unique()[2:]"
   ]
  },
  {
   "cell_type": "code",
   "execution_count": null,
   "metadata": {},
   "outputs": [],
   "source": [
    "unsprayed_traps_2013 = mosquitoes2013[mosquitoes2013['Trap'].isin(sprayed_2013)].groupby('Date')['NumMosquitos'].mean()\n",
    "unsprayed_traps_2013"
   ]
  },
  {
   "cell_type": "code",
   "execution_count": null,
   "metadata": {},
   "outputs": [],
   "source": [
    "sprayed_traps_2013 = mosquitoes2013[~mosquitoes2013['Trap'].isin(sprayed_2013)].groupby('Date')['NumMosquitos'].mean()\n",
    "sprayed_traps_2013"
   ]
  },
  {
   "cell_type": "code",
   "execution_count": null,
   "metadata": {},
   "outputs": [],
   "source": [
    "after_sprays = unsprayed_traps_2013.copy()\n",
    "for i in range(len(after_sprays)):\n",
    "    after_sprays[i]=0\n",
    "after_sprays[7] = 50\n",
    "after_sprays[8] = 50\n",
    "after_sprays[10] = 50\n",
    "after_sprays[12] = 50\n",
    "after_sprays[13] = 50\n",
    "after_sprays[14] = 50"
   ]
  },
  {
   "cell_type": "code",
   "execution_count": null,
   "metadata": {},
   "outputs": [],
   "source": [
    "after_sprays[[7,8,10,12,13,14]]"
   ]
  },
  {
   "cell_type": "code",
   "execution_count": null,
   "metadata": {},
   "outputs": [],
   "source": [
    "fig, ax = plt.subplots()\n",
    "import matplotlib.lines as mlines\n",
    "sns.pointplot(unsprayed_traps_2013.index, unsprayed_traps_2013.values, color='blue')\n",
    "sns.pointplot(sprayed_traps_2013.index, sprayed_traps_2013.values, color='r')\n",
    "sns.pointplot(after_sprays.index, after_sprays.values, linestyles='', color='black')\n",
    "\n",
    "plt.xticks(rotation=45)\n",
    "blue_line = mlines.Line2D([],[],color='blue', label='Unsprayed Traps')\n",
    "red_line = mlines.Line2D([],[],color='red', label='Sprayed Traps')\n",
    "black_line = mlines.Line2D([],[],color='black', label='Spray Days')\n",
    "plt.ylabel('Average Mosquitos in Trap')\n",
    "plt.legend(handles=[blue_line, red_line, black_line])"
   ]
  },
  {
   "cell_type": "code",
   "execution_count": null,
   "metadata": {},
   "outputs": [],
   "source": [
    "print(list(final_df.columns))"
   ]
  },
  {
   "cell_type": "markdown",
   "metadata": {},
   "source": [
    "## Test Model"
   ]
  },
  {
   "cell_type": "code",
   "execution_count": null,
   "metadata": {},
   "outputs": [],
   "source": [
    "from sklearn.model_selection import train_test_split, cross_val_score"
   ]
  },
  {
   "cell_type": "code",
   "execution_count": null,
   "metadata": {},
   "outputs": [],
   "source": [
    "df_train, df_test = train_test_split(final_df.drop(['Date', 'Address', 'Block', 'Street', 'AddressNumberAndStreet', 'NumMosquitos', 'st1_CodeSum', 'st2_CodeSum'], 1), test_size=0.3, random_state=42)"
   ]
  },
  {
   "cell_type": "code",
   "execution_count": null,
   "metadata": {},
   "outputs": [],
   "source": [
    "test_features = final_df[['sprayed_14days', 'Latitude', 'Longitude', 'WnvPresent', 'st1_Tmax', 'st1_Tmin', 'st1_Tavg', 'st1_DewPoint', 'st1_WetBulb', 'st1_SnowFall', 'st1_PrecipTotal', 'st1_StnPressure', 'st1_SeaLevel', 'st1_ResultSpeed', 'st1_ResultDir', 'st1_AvgSpeed', 'st2_Tmax', 'st2_Tmin', 'st2_Tavg', 'st2_DewPoint', 'st2_WetBulb', 'st2_SnowFall', 'st2_PrecipTotal', 'st2_StnPressure', 'st2_SeaLevel', 'st2_ResultSpeed', 'st2_ResultDir', 'st2_AvgSpeed', 'precip_avg', '2wk_precip', '4wk_precip', '90day_precip', 'temp_avg', '2wk_tavg', '4wk_tavg', '90day_tavg', 'tempmin_avg', '2wk_mintemp', '4wk_mintemp', 'dew_avg', '2wk_dew', '4wk_dew', 'Species_CULEX ERRATICUS', 'Species_CULEX PIPIENS', 'Species_CULEX PIPIENS/RESTUANS', 'Species_CULEX RESTUANS', 'Species_CULEX SALINARIUS', 'Species_CULEX TARSALIS', 'Species_CULEX TERRITANS', 'Month', 'Day', 'dist_from_ohare_MI', 'dist_from_doty_MI']]"
   ]
  },
  {
   "cell_type": "code",
   "execution_count": null,
   "metadata": {},
   "outputs": [],
   "source": [
    "\n",
    "df_train, df_test = train_test_split(test_features, test_size=0.3, random_state=42)"
   ]
  },
  {
   "cell_type": "code",
   "execution_count": null,
   "metadata": {},
   "outputs": [],
   "source": [
    "\n",
    "from sklearn.metrics import confusion_matrix, accuracy_score, precision_score, roc_auc_score\n",
    "\n",
    "def eval_sklearn_model(y_true, predictions, model=None, X=None):\n",
    "    \"\"\"This function takes the true values for y and the predictions made by the model and prints out the confusion matrix along with Accuracy, Precision, and, if model and X provided, Roc_Auc Scores.\"\"\"\n",
    "    cnf_matrix = confusion_matrix(y_true, predictions)\n",
    "\n",
    "    print('True Negative: ', cnf_matrix[0, 0], '| False Positive: ', cnf_matrix[0, 1])\n",
    "    print('False Negative: ', cnf_matrix[1, 0], '| True Positive: ', cnf_matrix[1, 1], '\\n')\n",
    "\n",
    "    sensitivity = cnf_matrix[1, 1]/ (cnf_matrix[1, 0] + cnf_matrix[1, 1])\n",
    "    specificity = cnf_matrix[0, 0]/ (cnf_matrix[0, 1] + cnf_matrix[0, 0])\n",
    "\n",
    "    print('Sensitivity (TP/ TP + FN): ', sensitivity)\n",
    "    print('Specificity (TN/ TN + FP): ', specificity, '\\n')\n",
    "\n",
    "    print('Accuracy: ', accuracy_score(y_true, predictions, normalize=True))\n",
    "    print('Precision: ', precision_score(y_true, predictions))\n",
    "    if model != None:\n",
    "        print('Roc-Auc: ', roc_auc_score(y_true, [x[1] for x in model.predict_proba(X)]))\n",
    "    else:\n",
    "        pass\n",
    "    print('\\n')"
   ]
  },
  {
   "cell_type": "code",
   "execution_count": null,
   "metadata": {},
   "outputs": [],
   "source": [
    "from xgboost import XGBClassifier"
   ]
  },
  {
   "cell_type": "code",
   "execution_count": null,
   "metadata": {},
   "outputs": [],
   "source": [
    "df_train.WnvPresent.value_counts()"
   ]
  },
  {
   "cell_type": "code",
   "execution_count": null,
   "metadata": {},
   "outputs": [],
   "source": [
    "\n",
    "xgb = XGBClassifier(scale_pos_weight=(6969/385), objective='binary:logistic')\n",
    "# make sure to pick the correct objective for the problem\n",
    "# scale_pos_weight is supposed to help with unbalanced classes; it recommended number of negative cases divided by positive\n",
    "xgb.fit(df_train.drop('WnvPresent', 1), df_train.WnvPresent)"
   ]
  },
  {
   "cell_type": "code",
   "execution_count": null,
   "metadata": {},
   "outputs": [],
   "source": [
    "test_predictions = xgb.predict(df_test.drop('WnvPresent', 1))\n",
    "eval_sklearn_model(df_test.WnvPresent, test_predictions)"
   ]
  },
  {
   "cell_type": "code",
   "execution_count": null,
   "metadata": {},
   "outputs": [],
   "source": [
    "feature_import = xgb.feature_importances_"
   ]
  },
  {
   "cell_type": "code",
   "execution_count": null,
   "metadata": {},
   "outputs": [],
   "source": [
    "\n",
    "features = df_test.drop('WnvPresent', 1).columns"
   ]
  },
  {
   "cell_type": "code",
   "execution_count": null,
   "metadata": {},
   "outputs": [],
   "source": [
    "pd.set_option('display.max_rows',60)"
   ]
  },
  {
   "cell_type": "code",
   "execution_count": null,
   "metadata": {},
   "outputs": [],
   "source": [
    "pd.DataFrame(columns=['feature', 'import'], data=list(zip(features, feature_import))).sort_values('import',ascending=False)"
   ]
  },
  {
   "cell_type": "code",
   "execution_count": null,
   "metadata": {},
   "outputs": [],
   "source": [
    "\n",
    "# Run on full data\n",
    "final_df.WnvPresent.value_counts()"
   ]
  },
  {
   "cell_type": "code",
   "execution_count": null,
   "metadata": {},
   "outputs": [],
   "source": [
    "\n",
    "xgb = XGBClassifier(scale_pos_weight=(9955/551), objective='binary:logistic')\n",
    "xgb.fit(test_features.drop('WnvPresent', 1), test_features.WnvPresent)"
   ]
  },
  {
   "cell_type": "markdown",
   "metadata": {},
   "source": [
    "## Prep test"
   ]
  },
  {
   "cell_type": "code",
   "execution_count": null,
   "metadata": {},
   "outputs": [],
   "source": [
    "test[\"Date\"] = pd.to_datetime(test[\"Date\"], infer_datetime_format=True)"
   ]
  },
  {
   "cell_type": "code",
   "execution_count": null,
   "metadata": {},
   "outputs": [],
   "source": [
    "test['Address'] = test['Address'].astype('category')\n",
    "test['Species'] = test['Species'].astype('category')\n",
    "test['Street'] = test['Street'].astype('category')\n",
    "test['Trap'] = test['Trap'].astype('category')\n",
    "test['AddressNumberAndStreet'] = test['AddressNumberAndStreet'].astype('category')"
   ]
  },
  {
   "cell_type": "code",
   "execution_count": null,
   "metadata": {},
   "outputs": [],
   "source": [
    "\n",
    "test = pd.merge(test, weather, how='left', on='Date')"
   ]
  },
  {
   "cell_type": "code",
   "execution_count": null,
   "metadata": {},
   "outputs": [],
   "source": [
    "\n",
    "test = pd.get_dummies(test, columns=['Species'])"
   ]
  },
  {
   "cell_type": "code",
   "execution_count": null,
   "metadata": {},
   "outputs": [],
   "source": [
    "test['Month'] = test['Date'].dt.month\n",
    "test[\"Day\"] = test['Date'].dt.dayofyear"
   ]
  },
  {
   "cell_type": "code",
   "execution_count": null,
   "metadata": {},
   "outputs": [],
   "source": [
    "lat = test.Latitude\n",
    "lon = test.Longitude"
   ]
  },
  {
   "cell_type": "code",
   "execution_count": null,
   "metadata": {},
   "outputs": [],
   "source": [
    "#apply haversine function to training dataset, creating a column called 'dist_from_ohare_MI'\n",
    "test['dist_from_ohare_MI'] = [haversine(y, x, ohare_lon, ohare_lat)[0] for y, x in zip(lon, lat)]\n",
    "#apply haversine function to training dataset, creating a column called 'dist_from_doty_MI'\n",
    "test['dist_from_doty_MI'] = [haversine(y, x, doty_lon, doty_lat)[0] for y, x in zip(lon, lat)]"
   ]
  },
  {
   "cell_type": "code",
   "execution_count": null,
   "metadata": {},
   "outputs": [],
   "source": [
    "#predictions = xgb.predict(test.drop(['Date', 'Address', 'Block', 'Street', 'AddressNumberAndStreet', 'st1_CodeSum', 'st2_CodeSum'], 1))\n",
    "# ValueError: test data apparently has more damn columns!"
   ]
  },
  {
   "cell_type": "code",
   "execution_count": null,
   "metadata": {},
   "outputs": [],
   "source": [
    "test.drop(['Date', 'Address', 'Block', 'Street', 'AddressNumberAndStreet', 'st1_CodeSum', 'st2_CodeSum'], 1).shape\n",
    "# 6 more columns!"
   ]
  },
  {
   "cell_type": "code",
   "execution_count": null,
   "metadata": {},
   "outputs": [],
   "source": [
    "\n",
    "for i in test.columns:\n",
    "    if i in final_df.columns:\n",
    "        pass\n",
    "    else:\n",
    "        print(i)"
   ]
  },
  {
   "cell_type": "code",
   "execution_count": null,
   "metadata": {},
   "outputs": [],
   "source": [
    "pred_features = test[['Latitude', 'Longitude', 'st1_Tmax', 'st1_Tmin', 'st1_Tavg', 'st1_DewPoint', 'st1_WetBulb', 'st1_SnowFall', 'st1_PrecipTotal', 'st1_StnPressure', 'st1_SeaLevel', 'st1_ResultSpeed', 'st1_ResultDir', 'st1_AvgSpeed', 'st2_Tmax', 'st2_Tmin', 'st2_Tavg', 'st2_DewPoint', 'st2_WetBulb', 'st2_SnowFall', 'st2_PrecipTotal', 'st2_StnPressure', 'st2_SeaLevel', 'st2_ResultSpeed', 'st2_ResultDir', 'st2_AvgSpeed', 'precip_avg', '2wk_precip', '4wk_precip', '90day_precip', 'temp_avg', '2wk_tavg', '4wk_tavg', '90day_tavg', 'tempmin_avg', '2wk_mintemp', '4wk_mintemp', 'dew_avg', '2wk_dew', '4wk_dew', 'Species_CULEX ERRATICUS', 'Species_CULEX PIPIENS', 'Species_CULEX PIPIENS/RESTUANS', 'Species_CULEX RESTUANS', 'Species_CULEX SALINARIUS', 'Species_CULEX TARSALIS', 'Species_CULEX TERRITANS', 'Month', 'Day', 'dist_from_ohare_MI', 'dist_from_doty_MI']]"
   ]
  },
  {
   "cell_type": "code",
   "execution_count": null,
   "metadata": {},
   "outputs": [],
   "source": [
    "# fuck it, drop them and sort it later!\n",
    "predictions = xgb.predict(pred_features)"
   ]
  },
  {
   "cell_type": "code",
   "execution_count": null,
   "metadata": {},
   "outputs": [],
   "source": [
    "submission = pd.DataFrame(columns=['Id', 'WnvPresent'], data=list(zip(test.Id, predictions)))"
   ]
  },
  {
   "cell_type": "code",
   "execution_count": null,
   "metadata": {},
   "outputs": [],
   "source": []
  },
  {
   "cell_type": "code",
   "execution_count": null,
   "metadata": {},
   "outputs": [],
   "source": []
  },
  {
   "cell_type": "code",
   "execution_count": null,
   "metadata": {},
   "outputs": [],
   "source": []
  },
  {
   "cell_type": "code",
   "execution_count": null,
   "metadata": {},
   "outputs": [],
   "source": []
  },
  {
   "cell_type": "code",
   "execution_count": null,
   "metadata": {},
   "outputs": [],
   "source": []
  },
  {
   "cell_type": "code",
   "execution_count": null,
   "metadata": {},
   "outputs": [],
   "source": []
  }
 ],
 "metadata": {
  "kernelspec": {
   "display_name": "Python 3",
   "language": "python",
   "name": "python3"
  },
  "language_info": {
   "codemirror_mode": {
    "name": "ipython",
    "version": 3
   },
   "file_extension": ".py",
   "mimetype": "text/x-python",
   "name": "python",
   "nbconvert_exporter": "python",
   "pygments_lexer": "ipython3",
   "version": "3.7.6"
  }
 },
 "nbformat": 4,
 "nbformat_minor": 4
}
