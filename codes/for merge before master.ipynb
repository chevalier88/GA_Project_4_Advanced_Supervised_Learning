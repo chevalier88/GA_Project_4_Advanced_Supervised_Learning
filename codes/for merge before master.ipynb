{
 "cells": [
  {
   "cell_type": "code",
   "execution_count": 1,
   "metadata": {},
   "outputs": [],
   "source": [
    "import pandas as pd \n",
    "import numpy as np\n",
    "import matplotlib.pyplot as plt \n",
    "import seaborn as sns \n",
    "\n",
    "\n",
    "sns.set_style('whitegrid')\n",
    "\n",
    "import warnings\n",
    "warnings.filterwarnings('ignore')\n",
    "\n",
    "%matplotlib inline"
   ]
  },
  {
   "cell_type": "code",
   "execution_count": 2,
   "metadata": {},
   "outputs": [],
   "source": [
    "# Importing Datasets (all)\n",
    "train = pd.read_csv('../assets/train.csv')\n",
    "test = pd.read_csv('../assets/test.csv')\n",
    "weather = pd.read_csv('../assets/weather.csv')\n",
    "spray = pd.read_csv('../assets/spray.csv')"
   ]
  },
  {
   "cell_type": "code",
   "execution_count": 3,
   "metadata": {},
   "outputs": [],
   "source": [
    "# show all rows and columns\n",
    "pd.set_option('display.max_columns', None)\n",
    "pd.set_option('display.max_rows', None)"
   ]
  },
  {
   "cell_type": "markdown",
   "metadata": {},
   "source": [
    "#### Defined Functions"
   ]
  },
  {
   "cell_type": "code",
   "execution_count": 4,
   "metadata": {},
   "outputs": [],
   "source": [
    "def eda(dataframe):\n",
    "    \"\"\"Runs basic EDA on dataframe.\"\"\"\n",
    "    print(\"dataframe shape \\n\", dataframe.shape, '\\n')\n",
    "    print(\"dataframe types \\n\", dataframe.dtypes, '\\n')\n",
    "    print(\"dataframe describe \\n\", dataframe.describe(), '\\n')\n",
    "    print(\"dataframe describe \\n\", dataframe.describe(exclude=np.number).T, '\\n')\n",
    "    print(\"missing values \\n\", dataframe.isnull().sum(), '\\n')\n",
    "    print(\"duplicate values \\n\", dataframe.duplicated().sum(), '\\n')\n",
    "    print(\"dataframe columns \\n\", dataframe.columns, '\\n')\n",
    "    \n",
    "    #check if column is unique\n",
    "    for i in dataframe.columns:\n",
    "        print('{} is unique: {}'.format(i, dataframe[i].is_unique))"
   ]
  },
  {
   "cell_type": "code",
   "execution_count": 5,
   "metadata": {},
   "outputs": [],
   "source": [
    "def split_date (data):\n",
    "    \"\"\"split into year and month\"\"\"\n",
    "    data['year'] = data.date.dt.year\n",
    "    data['month'] = data.date.dt.month\n",
    "    return"
   ]
  },
  {
   "cell_type": "code",
   "execution_count": 6,
   "metadata": {},
   "outputs": [],
   "source": [
    "def replace_val(df, column, old_value, new_value):\n",
    "    \"\"\" for replacing values in columns\"\"\"\n",
    "    df[column] = df[column].replace({old_value: new_value})"
   ]
  },
  {
   "cell_type": "code",
   "execution_count": 7,
   "metadata": {},
   "outputs": [],
   "source": [
    "def replace_median(df, column):\n",
    "    \"\"\" replace NaN values with median\"\"\"\n",
    "    df[column].fillna((df[column].median()), inplace=True)"
   ]
  },
  {
   "cell_type": "markdown",
   "metadata": {},
   "source": [
    "# 1.0 Cleaning"
   ]
  },
  {
   "cell_type": "markdown",
   "metadata": {},
   "source": [
    "## 1.1 Initial View"
   ]
  },
  {
   "cell_type": "markdown",
   "metadata": {},
   "source": [
    "### <span style='background :yellow' > Train Dataset </span>"
   ]
  },
  {
   "cell_type": "code",
   "execution_count": 8,
   "metadata": {},
   "outputs": [
    {
     "data": {
      "text/html": [
       "<div>\n",
       "<style scoped>\n",
       "    .dataframe tbody tr th:only-of-type {\n",
       "        vertical-align: middle;\n",
       "    }\n",
       "\n",
       "    .dataframe tbody tr th {\n",
       "        vertical-align: top;\n",
       "    }\n",
       "\n",
       "    .dataframe thead th {\n",
       "        text-align: right;\n",
       "    }\n",
       "</style>\n",
       "<table border=\"1\" class=\"dataframe\">\n",
       "  <thead>\n",
       "    <tr style=\"text-align: right;\">\n",
       "      <th></th>\n",
       "      <th>Date</th>\n",
       "      <th>Address</th>\n",
       "      <th>Species</th>\n",
       "      <th>Block</th>\n",
       "      <th>Street</th>\n",
       "      <th>Trap</th>\n",
       "      <th>AddressNumberAndStreet</th>\n",
       "      <th>Latitude</th>\n",
       "      <th>Longitude</th>\n",
       "      <th>AddressAccuracy</th>\n",
       "      <th>NumMosquitos</th>\n",
       "      <th>WnvPresent</th>\n",
       "    </tr>\n",
       "  </thead>\n",
       "  <tbody>\n",
       "    <tr>\n",
       "      <th>0</th>\n",
       "      <td>2007-05-29</td>\n",
       "      <td>4100 North Oak Park Avenue, Chicago, IL 60634,...</td>\n",
       "      <td>CULEX PIPIENS/RESTUANS</td>\n",
       "      <td>41</td>\n",
       "      <td>N OAK PARK AVE</td>\n",
       "      <td>T002</td>\n",
       "      <td>4100  N OAK PARK AVE, Chicago, IL</td>\n",
       "      <td>41.954690</td>\n",
       "      <td>-87.800991</td>\n",
       "      <td>9</td>\n",
       "      <td>1</td>\n",
       "      <td>0</td>\n",
       "    </tr>\n",
       "    <tr>\n",
       "      <th>1</th>\n",
       "      <td>2007-05-29</td>\n",
       "      <td>4100 North Oak Park Avenue, Chicago, IL 60634,...</td>\n",
       "      <td>CULEX RESTUANS</td>\n",
       "      <td>41</td>\n",
       "      <td>N OAK PARK AVE</td>\n",
       "      <td>T002</td>\n",
       "      <td>4100  N OAK PARK AVE, Chicago, IL</td>\n",
       "      <td>41.954690</td>\n",
       "      <td>-87.800991</td>\n",
       "      <td>9</td>\n",
       "      <td>1</td>\n",
       "      <td>0</td>\n",
       "    </tr>\n",
       "    <tr>\n",
       "      <th>2</th>\n",
       "      <td>2007-05-29</td>\n",
       "      <td>6200 North Mandell Avenue, Chicago, IL 60646, USA</td>\n",
       "      <td>CULEX RESTUANS</td>\n",
       "      <td>62</td>\n",
       "      <td>N MANDELL AVE</td>\n",
       "      <td>T007</td>\n",
       "      <td>6200  N MANDELL AVE, Chicago, IL</td>\n",
       "      <td>41.994991</td>\n",
       "      <td>-87.769279</td>\n",
       "      <td>9</td>\n",
       "      <td>1</td>\n",
       "      <td>0</td>\n",
       "    </tr>\n",
       "    <tr>\n",
       "      <th>3</th>\n",
       "      <td>2007-05-29</td>\n",
       "      <td>7900 West Foster Avenue, Chicago, IL 60656, USA</td>\n",
       "      <td>CULEX PIPIENS/RESTUANS</td>\n",
       "      <td>79</td>\n",
       "      <td>W FOSTER AVE</td>\n",
       "      <td>T015</td>\n",
       "      <td>7900  W FOSTER AVE, Chicago, IL</td>\n",
       "      <td>41.974089</td>\n",
       "      <td>-87.824812</td>\n",
       "      <td>8</td>\n",
       "      <td>1</td>\n",
       "      <td>0</td>\n",
       "    </tr>\n",
       "    <tr>\n",
       "      <th>4</th>\n",
       "      <td>2007-05-29</td>\n",
       "      <td>7900 West Foster Avenue, Chicago, IL 60656, USA</td>\n",
       "      <td>CULEX RESTUANS</td>\n",
       "      <td>79</td>\n",
       "      <td>W FOSTER AVE</td>\n",
       "      <td>T015</td>\n",
       "      <td>7900  W FOSTER AVE, Chicago, IL</td>\n",
       "      <td>41.974089</td>\n",
       "      <td>-87.824812</td>\n",
       "      <td>8</td>\n",
       "      <td>4</td>\n",
       "      <td>0</td>\n",
       "    </tr>\n",
       "  </tbody>\n",
       "</table>\n",
       "</div>"
      ],
      "text/plain": [
       "         Date                                            Address  \\\n",
       "0  2007-05-29  4100 North Oak Park Avenue, Chicago, IL 60634,...   \n",
       "1  2007-05-29  4100 North Oak Park Avenue, Chicago, IL 60634,...   \n",
       "2  2007-05-29  6200 North Mandell Avenue, Chicago, IL 60646, USA   \n",
       "3  2007-05-29    7900 West Foster Avenue, Chicago, IL 60656, USA   \n",
       "4  2007-05-29    7900 West Foster Avenue, Chicago, IL 60656, USA   \n",
       "\n",
       "                  Species  Block           Street  Trap  \\\n",
       "0  CULEX PIPIENS/RESTUANS     41   N OAK PARK AVE  T002   \n",
       "1          CULEX RESTUANS     41   N OAK PARK AVE  T002   \n",
       "2          CULEX RESTUANS     62    N MANDELL AVE  T007   \n",
       "3  CULEX PIPIENS/RESTUANS     79     W FOSTER AVE  T015   \n",
       "4          CULEX RESTUANS     79     W FOSTER AVE  T015   \n",
       "\n",
       "              AddressNumberAndStreet   Latitude  Longitude  AddressAccuracy  \\\n",
       "0  4100  N OAK PARK AVE, Chicago, IL  41.954690 -87.800991                9   \n",
       "1  4100  N OAK PARK AVE, Chicago, IL  41.954690 -87.800991                9   \n",
       "2   6200  N MANDELL AVE, Chicago, IL  41.994991 -87.769279                9   \n",
       "3    7900  W FOSTER AVE, Chicago, IL  41.974089 -87.824812                8   \n",
       "4    7900  W FOSTER AVE, Chicago, IL  41.974089 -87.824812                8   \n",
       "\n",
       "   NumMosquitos  WnvPresent  \n",
       "0             1           0  \n",
       "1             1           0  \n",
       "2             1           0  \n",
       "3             1           0  \n",
       "4             4           0  "
      ]
     },
     "execution_count": 8,
     "metadata": {},
     "output_type": "execute_result"
    }
   ],
   "source": [
    "train.head()"
   ]
  },
  {
   "cell_type": "code",
   "execution_count": 9,
   "metadata": {
    "scrolled": false
   },
   "outputs": [
    {
     "name": "stdout",
     "output_type": "stream",
     "text": [
      "dataframe shape \n",
      " (10506, 12) \n",
      "\n",
      "dataframe types \n",
      " Date                       object\n",
      "Address                    object\n",
      "Species                    object\n",
      "Block                       int64\n",
      "Street                     object\n",
      "Trap                       object\n",
      "AddressNumberAndStreet     object\n",
      "Latitude                  float64\n",
      "Longitude                 float64\n",
      "AddressAccuracy             int64\n",
      "NumMosquitos                int64\n",
      "WnvPresent                  int64\n",
      "dtype: object \n",
      "\n",
      "dataframe describe \n",
      "               Block      Latitude     Longitude  AddressAccuracy  \\\n",
      "count  10506.000000  10506.000000  10506.000000     10506.000000   \n",
      "mean      35.687797     41.841139    -87.699908         7.819532   \n",
      "std       24.339468      0.112742      0.096514         1.452921   \n",
      "min       10.000000     41.644612    -87.930995         3.000000   \n",
      "25%       12.000000     41.732984    -87.760070         8.000000   \n",
      "50%       33.000000     41.846283    -87.694991         8.000000   \n",
      "75%       52.000000     41.954690    -87.627796         9.000000   \n",
      "max       98.000000     42.017430    -87.531635         9.000000   \n",
      "\n",
      "       NumMosquitos    WnvPresent  \n",
      "count  10506.000000  10506.000000  \n",
      "mean      12.853512      0.052446  \n",
      "std       16.133816      0.222936  \n",
      "min        1.000000      0.000000  \n",
      "25%        2.000000      0.000000  \n",
      "50%        5.000000      0.000000  \n",
      "75%       17.000000      0.000000  \n",
      "max       50.000000      1.000000   \n",
      "\n",
      "dataframe describe \n",
      "                         count unique  \\\n",
      "Date                    10506     95   \n",
      "Address                 10506    138   \n",
      "Species                 10506      7   \n",
      "Street                  10506    128   \n",
      "Trap                    10506    136   \n",
      "AddressNumberAndStreet  10506    138   \n",
      "\n",
      "                                                                      top  \\\n",
      "Date                                                           2007-08-01   \n",
      "Address                 ORD Terminal 5, O'Hare International Airport, ...   \n",
      "Species                                            CULEX PIPIENS/RESTUANS   \n",
      "Street                                                    W OHARE AIRPORT   \n",
      "Trap                                                                 T900   \n",
      "AddressNumberAndStreet                 1000  W OHARE AIRPORT, Chicago, IL   \n",
      "\n",
      "                        freq  \n",
      "Date                     551  \n",
      "Address                  750  \n",
      "Species                 4752  \n",
      "Street                   750  \n",
      "Trap                     750  \n",
      "AddressNumberAndStreet   750   \n",
      "\n",
      "missing values \n",
      " Date                      0\n",
      "Address                   0\n",
      "Species                   0\n",
      "Block                     0\n",
      "Street                    0\n",
      "Trap                      0\n",
      "AddressNumberAndStreet    0\n",
      "Latitude                  0\n",
      "Longitude                 0\n",
      "AddressAccuracy           0\n",
      "NumMosquitos              0\n",
      "WnvPresent                0\n",
      "dtype: int64 \n",
      "\n",
      "duplicate values \n",
      " 813 \n",
      "\n",
      "dataframe columns \n",
      " Index(['Date', 'Address', 'Species', 'Block', 'Street', 'Trap',\n",
      "       'AddressNumberAndStreet', 'Latitude', 'Longitude', 'AddressAccuracy',\n",
      "       'NumMosquitos', 'WnvPresent'],\n",
      "      dtype='object') \n",
      "\n",
      "Date is unique: False\n",
      "Address is unique: False\n",
      "Species is unique: False\n",
      "Block is unique: False\n",
      "Street is unique: False\n",
      "Trap is unique: False\n",
      "AddressNumberAndStreet is unique: False\n",
      "Latitude is unique: False\n",
      "Longitude is unique: False\n",
      "AddressAccuracy is unique: False\n",
      "NumMosquitos is unique: False\n",
      "WnvPresent is unique: False\n"
     ]
    }
   ],
   "source": [
    "#view EDA\n",
    "eda(train)"
   ]
  },
  {
   "cell_type": "code",
   "execution_count": 10,
   "metadata": {},
   "outputs": [
    {
     "name": "stdout",
     "output_type": "stream",
     "text": [
      "2007-05-29\n",
      "2013-09-26\n"
     ]
    }
   ],
   "source": [
    "print(train['Date'].min())\n",
    "print(train['Date'].max())"
   ]
  },
  {
   "cell_type": "code",
   "execution_count": 11,
   "metadata": {
    "scrolled": false
   },
   "outputs": [
    {
     "data": {
      "text/html": [
       "<div>\n",
       "<style scoped>\n",
       "    .dataframe tbody tr th:only-of-type {\n",
       "        vertical-align: middle;\n",
       "    }\n",
       "\n",
       "    .dataframe tbody tr th {\n",
       "        vertical-align: top;\n",
       "    }\n",
       "\n",
       "    .dataframe thead th {\n",
       "        text-align: right;\n",
       "    }\n",
       "</style>\n",
       "<table border=\"1\" class=\"dataframe\">\n",
       "  <thead>\n",
       "    <tr style=\"text-align: right;\">\n",
       "      <th></th>\n",
       "      <th>Date</th>\n",
       "      <th>Address</th>\n",
       "      <th>Species</th>\n",
       "      <th>Block</th>\n",
       "      <th>Street</th>\n",
       "      <th>Trap</th>\n",
       "      <th>AddressNumberAndStreet</th>\n",
       "      <th>Latitude</th>\n",
       "      <th>Longitude</th>\n",
       "      <th>AddressAccuracy</th>\n",
       "      <th>NumMosquitos</th>\n",
       "      <th>WnvPresent</th>\n",
       "    </tr>\n",
       "  </thead>\n",
       "  <tbody>\n",
       "    <tr>\n",
       "      <th>99</th>\n",
       "      <td>2007-06-26</td>\n",
       "      <td>2200 West 113th Street, Chicago, IL 60643, USA</td>\n",
       "      <td>CULEX PIPIENS/RESTUANS</td>\n",
       "      <td>22</td>\n",
       "      <td>W 113TH ST</td>\n",
       "      <td>T086</td>\n",
       "      <td>2200  W 113TH ST, Chicago, IL</td>\n",
       "      <td>41.688324</td>\n",
       "      <td>-87.676709</td>\n",
       "      <td>8</td>\n",
       "      <td>1</td>\n",
       "      <td>0</td>\n",
       "    </tr>\n",
       "    <tr>\n",
       "      <th>295</th>\n",
       "      <td>2007-07-11</td>\n",
       "      <td>2200 West 113th Street, Chicago, IL 60643, USA</td>\n",
       "      <td>CULEX PIPIENS/RESTUANS</td>\n",
       "      <td>22</td>\n",
       "      <td>W 113TH ST</td>\n",
       "      <td>T086</td>\n",
       "      <td>2200  W 113TH ST, Chicago, IL</td>\n",
       "      <td>41.688324</td>\n",
       "      <td>-87.676709</td>\n",
       "      <td>8</td>\n",
       "      <td>50</td>\n",
       "      <td>0</td>\n",
       "    </tr>\n",
       "    <tr>\n",
       "      <th>351</th>\n",
       "      <td>2007-07-11</td>\n",
       "      <td>3500 West 116th Street, Chicago, IL 60655, USA</td>\n",
       "      <td>CULEX PIPIENS/RESTUANS</td>\n",
       "      <td>35</td>\n",
       "      <td>W 116TH ST</td>\n",
       "      <td>T158</td>\n",
       "      <td>3500  W 116TH ST, Chicago, IL</td>\n",
       "      <td>41.682587</td>\n",
       "      <td>-87.707973</td>\n",
       "      <td>9</td>\n",
       "      <td>50</td>\n",
       "      <td>0</td>\n",
       "    </tr>\n",
       "    <tr>\n",
       "      <th>353</th>\n",
       "      <td>2007-07-11</td>\n",
       "      <td>3500 West 116th Street, Chicago, IL 60655, USA</td>\n",
       "      <td>CULEX PIPIENS/RESTUANS</td>\n",
       "      <td>35</td>\n",
       "      <td>W 116TH ST</td>\n",
       "      <td>T158</td>\n",
       "      <td>3500  W 116TH ST, Chicago, IL</td>\n",
       "      <td>41.682587</td>\n",
       "      <td>-87.707973</td>\n",
       "      <td>9</td>\n",
       "      <td>50</td>\n",
       "      <td>0</td>\n",
       "    </tr>\n",
       "    <tr>\n",
       "      <th>512</th>\n",
       "      <td>2007-07-18</td>\n",
       "      <td>3300 West Randolph Street, Chicago, IL 60612, USA</td>\n",
       "      <td>CULEX RESTUANS</td>\n",
       "      <td>33</td>\n",
       "      <td>E RANDOLPH ST</td>\n",
       "      <td>T044</td>\n",
       "      <td>3300  E RANDOLPH ST, Chicago, IL</td>\n",
       "      <td>41.883284</td>\n",
       "      <td>-87.705085</td>\n",
       "      <td>8</td>\n",
       "      <td>1</td>\n",
       "      <td>0</td>\n",
       "    </tr>\n",
       "  </tbody>\n",
       "</table>\n",
       "</div>"
      ],
      "text/plain": [
       "           Date                                            Address  \\\n",
       "99   2007-06-26     2200 West 113th Street, Chicago, IL 60643, USA   \n",
       "295  2007-07-11     2200 West 113th Street, Chicago, IL 60643, USA   \n",
       "351  2007-07-11     3500 West 116th Street, Chicago, IL 60655, USA   \n",
       "353  2007-07-11     3500 West 116th Street, Chicago, IL 60655, USA   \n",
       "512  2007-07-18  3300 West Randolph Street, Chicago, IL 60612, USA   \n",
       "\n",
       "                    Species  Block          Street  Trap  \\\n",
       "99   CULEX PIPIENS/RESTUANS     22      W 113TH ST  T086   \n",
       "295  CULEX PIPIENS/RESTUANS     22      W 113TH ST  T086   \n",
       "351  CULEX PIPIENS/RESTUANS     35      W 116TH ST  T158   \n",
       "353  CULEX PIPIENS/RESTUANS     35      W 116TH ST  T158   \n",
       "512          CULEX RESTUANS     33   E RANDOLPH ST  T044   \n",
       "\n",
       "               AddressNumberAndStreet   Latitude  Longitude  AddressAccuracy  \\\n",
       "99      2200  W 113TH ST, Chicago, IL  41.688324 -87.676709                8   \n",
       "295     2200  W 113TH ST, Chicago, IL  41.688324 -87.676709                8   \n",
       "351     3500  W 116TH ST, Chicago, IL  41.682587 -87.707973                9   \n",
       "353     3500  W 116TH ST, Chicago, IL  41.682587 -87.707973                9   \n",
       "512  3300  E RANDOLPH ST, Chicago, IL  41.883284 -87.705085                8   \n",
       "\n",
       "     NumMosquitos  WnvPresent  \n",
       "99              1           0  \n",
       "295            50           0  \n",
       "351            50           0  \n",
       "353            50           0  \n",
       "512             1           0  "
      ]
     },
     "execution_count": 11,
     "metadata": {},
     "output_type": "execute_result"
    }
   ],
   "source": [
    "train[train.duplicated()].head()\n",
    "\n",
    "# duplicates are traps with excess of 50 mosquitoes, to be processed later"
   ]
  },
  {
   "cell_type": "markdown",
   "metadata": {},
   "source": [
    "\n",
    "\n",
    "<div class=\"alert alert-block alert-info\">\n",
    "    \n",
    "<b>Train Dataset:</b>\n",
    "    \n",
    "- 12 columns, 10506 rows\n",
    "- extra columns: 'NumMosquitos' and 'WnvPresent'\n",
    "- no nulls\n",
    "- 813 duplicates\n",
    "- Date needs to be changed to datetime format\n",
    "- data ranges from 2007-05-29 to 2013-09-26\n",
    "    \n",
    "\n",
    "</div>"
   ]
  },
  {
   "cell_type": "markdown",
   "metadata": {},
   "source": [
    "***"
   ]
  },
  {
   "cell_type": "markdown",
   "metadata": {},
   "source": [
    "### <span style='background :yellow' > Test Dataset </span>"
   ]
  },
  {
   "cell_type": "code",
   "execution_count": 12,
   "metadata": {
    "scrolled": true
   },
   "outputs": [
    {
     "data": {
      "text/html": [
       "<div>\n",
       "<style scoped>\n",
       "    .dataframe tbody tr th:only-of-type {\n",
       "        vertical-align: middle;\n",
       "    }\n",
       "\n",
       "    .dataframe tbody tr th {\n",
       "        vertical-align: top;\n",
       "    }\n",
       "\n",
       "    .dataframe thead th {\n",
       "        text-align: right;\n",
       "    }\n",
       "</style>\n",
       "<table border=\"1\" class=\"dataframe\">\n",
       "  <thead>\n",
       "    <tr style=\"text-align: right;\">\n",
       "      <th></th>\n",
       "      <th>Id</th>\n",
       "      <th>Date</th>\n",
       "      <th>Address</th>\n",
       "      <th>Species</th>\n",
       "      <th>Block</th>\n",
       "      <th>Street</th>\n",
       "      <th>Trap</th>\n",
       "      <th>AddressNumberAndStreet</th>\n",
       "      <th>Latitude</th>\n",
       "      <th>Longitude</th>\n",
       "      <th>AddressAccuracy</th>\n",
       "    </tr>\n",
       "  </thead>\n",
       "  <tbody>\n",
       "    <tr>\n",
       "      <th>0</th>\n",
       "      <td>1</td>\n",
       "      <td>2008-06-11</td>\n",
       "      <td>4100 North Oak Park Avenue, Chicago, IL 60634,...</td>\n",
       "      <td>CULEX PIPIENS/RESTUANS</td>\n",
       "      <td>41</td>\n",
       "      <td>N OAK PARK AVE</td>\n",
       "      <td>T002</td>\n",
       "      <td>4100  N OAK PARK AVE, Chicago, IL</td>\n",
       "      <td>41.95469</td>\n",
       "      <td>-87.800991</td>\n",
       "      <td>9</td>\n",
       "    </tr>\n",
       "    <tr>\n",
       "      <th>1</th>\n",
       "      <td>2</td>\n",
       "      <td>2008-06-11</td>\n",
       "      <td>4100 North Oak Park Avenue, Chicago, IL 60634,...</td>\n",
       "      <td>CULEX RESTUANS</td>\n",
       "      <td>41</td>\n",
       "      <td>N OAK PARK AVE</td>\n",
       "      <td>T002</td>\n",
       "      <td>4100  N OAK PARK AVE, Chicago, IL</td>\n",
       "      <td>41.95469</td>\n",
       "      <td>-87.800991</td>\n",
       "      <td>9</td>\n",
       "    </tr>\n",
       "    <tr>\n",
       "      <th>2</th>\n",
       "      <td>3</td>\n",
       "      <td>2008-06-11</td>\n",
       "      <td>4100 North Oak Park Avenue, Chicago, IL 60634,...</td>\n",
       "      <td>CULEX PIPIENS</td>\n",
       "      <td>41</td>\n",
       "      <td>N OAK PARK AVE</td>\n",
       "      <td>T002</td>\n",
       "      <td>4100  N OAK PARK AVE, Chicago, IL</td>\n",
       "      <td>41.95469</td>\n",
       "      <td>-87.800991</td>\n",
       "      <td>9</td>\n",
       "    </tr>\n",
       "    <tr>\n",
       "      <th>3</th>\n",
       "      <td>4</td>\n",
       "      <td>2008-06-11</td>\n",
       "      <td>4100 North Oak Park Avenue, Chicago, IL 60634,...</td>\n",
       "      <td>CULEX SALINARIUS</td>\n",
       "      <td>41</td>\n",
       "      <td>N OAK PARK AVE</td>\n",
       "      <td>T002</td>\n",
       "      <td>4100  N OAK PARK AVE, Chicago, IL</td>\n",
       "      <td>41.95469</td>\n",
       "      <td>-87.800991</td>\n",
       "      <td>9</td>\n",
       "    </tr>\n",
       "    <tr>\n",
       "      <th>4</th>\n",
       "      <td>5</td>\n",
       "      <td>2008-06-11</td>\n",
       "      <td>4100 North Oak Park Avenue, Chicago, IL 60634,...</td>\n",
       "      <td>CULEX TERRITANS</td>\n",
       "      <td>41</td>\n",
       "      <td>N OAK PARK AVE</td>\n",
       "      <td>T002</td>\n",
       "      <td>4100  N OAK PARK AVE, Chicago, IL</td>\n",
       "      <td>41.95469</td>\n",
       "      <td>-87.800991</td>\n",
       "      <td>9</td>\n",
       "    </tr>\n",
       "  </tbody>\n",
       "</table>\n",
       "</div>"
      ],
      "text/plain": [
       "   Id        Date                                            Address  \\\n",
       "0   1  2008-06-11  4100 North Oak Park Avenue, Chicago, IL 60634,...   \n",
       "1   2  2008-06-11  4100 North Oak Park Avenue, Chicago, IL 60634,...   \n",
       "2   3  2008-06-11  4100 North Oak Park Avenue, Chicago, IL 60634,...   \n",
       "3   4  2008-06-11  4100 North Oak Park Avenue, Chicago, IL 60634,...   \n",
       "4   5  2008-06-11  4100 North Oak Park Avenue, Chicago, IL 60634,...   \n",
       "\n",
       "                  Species  Block           Street  Trap  \\\n",
       "0  CULEX PIPIENS/RESTUANS     41   N OAK PARK AVE  T002   \n",
       "1          CULEX RESTUANS     41   N OAK PARK AVE  T002   \n",
       "2           CULEX PIPIENS     41   N OAK PARK AVE  T002   \n",
       "3        CULEX SALINARIUS     41   N OAK PARK AVE  T002   \n",
       "4         CULEX TERRITANS     41   N OAK PARK AVE  T002   \n",
       "\n",
       "              AddressNumberAndStreet  Latitude  Longitude  AddressAccuracy  \n",
       "0  4100  N OAK PARK AVE, Chicago, IL  41.95469 -87.800991                9  \n",
       "1  4100  N OAK PARK AVE, Chicago, IL  41.95469 -87.800991                9  \n",
       "2  4100  N OAK PARK AVE, Chicago, IL  41.95469 -87.800991                9  \n",
       "3  4100  N OAK PARK AVE, Chicago, IL  41.95469 -87.800991                9  \n",
       "4  4100  N OAK PARK AVE, Chicago, IL  41.95469 -87.800991                9  "
      ]
     },
     "execution_count": 12,
     "metadata": {},
     "output_type": "execute_result"
    }
   ],
   "source": [
    "test.head()"
   ]
  },
  {
   "cell_type": "code",
   "execution_count": 13,
   "metadata": {
    "scrolled": false
   },
   "outputs": [
    {
     "name": "stdout",
     "output_type": "stream",
     "text": [
      "dataframe shape \n",
      " (116293, 11) \n",
      "\n",
      "dataframe types \n",
      " Id                          int64\n",
      "Date                       object\n",
      "Address                    object\n",
      "Species                    object\n",
      "Block                       int64\n",
      "Street                     object\n",
      "Trap                       object\n",
      "AddressNumberAndStreet     object\n",
      "Latitude                  float64\n",
      "Longitude                 float64\n",
      "AddressAccuracy             int64\n",
      "dtype: object \n",
      "\n",
      "dataframe describe \n",
      "                   Id          Block       Latitude      Longitude  \\\n",
      "count  116293.000000  116293.000000  116293.000000  116293.000000   \n",
      "mean    58147.000000      41.131100      41.849389     -87.693658   \n",
      "std     33571.041765      24.864726       0.106593       0.080699   \n",
      "min         1.000000      10.000000      41.644612     -87.930995   \n",
      "25%     29074.000000      18.000000      41.753411     -87.750938   \n",
      "50%     58147.000000      39.000000      41.862292     -87.694991   \n",
      "75%     87220.000000      61.000000      41.951866     -87.648860   \n",
      "max    116293.000000      98.000000      42.017430     -87.531635   \n",
      "\n",
      "       AddressAccuracy  \n",
      "count    116293.000000  \n",
      "mean          7.954357  \n",
      "std           1.252733  \n",
      "min           3.000000  \n",
      "25%           8.000000  \n",
      "50%           8.000000  \n",
      "75%           9.000000  \n",
      "max           9.000000   \n",
      "\n",
      "dataframe describe \n",
      "                          count unique  \\\n",
      "Date                    116293     95   \n",
      "Address                 116293    151   \n",
      "Species                 116293      8   \n",
      "Street                  116293    139   \n",
      "Trap                    116293    149   \n",
      "AddressNumberAndStreet  116293    151   \n",
      "\n",
      "                                                                      top  \\\n",
      "Date                                                           2012-07-09   \n",
      "Address                 ORD Terminal 5, O'Hare International Airport, ...   \n",
      "Species                                            CULEX PIPIENS/RESTUANS   \n",
      "Street                                                     N OAK PARK AVE   \n",
      "Trap                                                                 T009   \n",
      "AddressNumberAndStreet                 1000  W OHARE AIRPORT, Chicago, IL   \n",
      "\n",
      "                         freq  \n",
      "Date                     1293  \n",
      "Address                  1468  \n",
      "Species                 15359  \n",
      "Street                   1617  \n",
      "Trap                     1528  \n",
      "AddressNumberAndStreet   1468   \n",
      "\n",
      "missing values \n",
      " Id                        0\n",
      "Date                      0\n",
      "Address                   0\n",
      "Species                   0\n",
      "Block                     0\n",
      "Street                    0\n",
      "Trap                      0\n",
      "AddressNumberAndStreet    0\n",
      "Latitude                  0\n",
      "Longitude                 0\n",
      "AddressAccuracy           0\n",
      "dtype: int64 \n",
      "\n",
      "duplicate values \n",
      " 0 \n",
      "\n",
      "dataframe columns \n",
      " Index(['Id', 'Date', 'Address', 'Species', 'Block', 'Street', 'Trap',\n",
      "       'AddressNumberAndStreet', 'Latitude', 'Longitude', 'AddressAccuracy'],\n",
      "      dtype='object') \n",
      "\n",
      "Id is unique: True\n",
      "Date is unique: False\n",
      "Address is unique: False\n",
      "Species is unique: False\n",
      "Block is unique: False\n",
      "Street is unique: False\n",
      "Trap is unique: False\n",
      "AddressNumberAndStreet is unique: False\n",
      "Latitude is unique: False\n",
      "Longitude is unique: False\n",
      "AddressAccuracy is unique: False\n"
     ]
    }
   ],
   "source": [
    "#view EDA\n",
    "eda(test)"
   ]
  },
  {
   "cell_type": "code",
   "execution_count": 14,
   "metadata": {},
   "outputs": [
    {
     "name": "stdout",
     "output_type": "stream",
     "text": [
      "2007-05-29\n",
      "2013-09-26\n"
     ]
    }
   ],
   "source": [
    "print(train['Date'].min())\n",
    "print(train['Date'].max())"
   ]
  },
  {
   "cell_type": "markdown",
   "metadata": {},
   "source": [
    "***"
   ]
  },
  {
   "cell_type": "markdown",
   "metadata": {},
   "source": [
    "\n",
    "\n",
    "<div class=\"alert alert-block alert-info\">\n",
    "    \n",
    "    \n",
    "<b>Test Dataset:</b> \n",
    "    \n",
    "- 11 columns, 116293 rows \n",
    "- extra columns: 'Id'\n",
    "- no nulls\n",
    "- no duplicates\n",
    "- Date needs to be changed to datetime format\n",
    "- data ranges from 2007-05-29 to 2013-09-26\n",
    "\n",
    "    \n",
    "<b>Initial thoughts:</b> \n",
    "There are no mosquito number infomation in our test set so our predictions have to be based on weather, location, time, and spraying. We might need to do predict the amount of mosquitoes in order to predict the amount of WNV?\n",
    "\n",
    "Train duplicates might be cause by mosquitoes in trap exceeding 50 counts, this will need to be processed later. \n",
    "Train and test data ranges in the same period\n",
    "    \n",
    "</div>\n",
    "\n"
   ]
  },
  {
   "cell_type": "markdown",
   "metadata": {},
   "source": [
    "***"
   ]
  },
  {
   "cell_type": "markdown",
   "metadata": {},
   "source": [
    "## <span style='background :yellow' > Weather Dataset </span>\n"
   ]
  },
  {
   "cell_type": "code",
   "execution_count": 15,
   "metadata": {
    "scrolled": true
   },
   "outputs": [
    {
     "data": {
      "text/html": [
       "<div>\n",
       "<style scoped>\n",
       "    .dataframe tbody tr th:only-of-type {\n",
       "        vertical-align: middle;\n",
       "    }\n",
       "\n",
       "    .dataframe tbody tr th {\n",
       "        vertical-align: top;\n",
       "    }\n",
       "\n",
       "    .dataframe thead th {\n",
       "        text-align: right;\n",
       "    }\n",
       "</style>\n",
       "<table border=\"1\" class=\"dataframe\">\n",
       "  <thead>\n",
       "    <tr style=\"text-align: right;\">\n",
       "      <th></th>\n",
       "      <th>Station</th>\n",
       "      <th>Date</th>\n",
       "      <th>Tmax</th>\n",
       "      <th>Tmin</th>\n",
       "      <th>Tavg</th>\n",
       "      <th>Depart</th>\n",
       "      <th>DewPoint</th>\n",
       "      <th>WetBulb</th>\n",
       "      <th>Heat</th>\n",
       "      <th>Cool</th>\n",
       "      <th>Sunrise</th>\n",
       "      <th>Sunset</th>\n",
       "      <th>CodeSum</th>\n",
       "      <th>Depth</th>\n",
       "      <th>Water1</th>\n",
       "      <th>SnowFall</th>\n",
       "      <th>PrecipTotal</th>\n",
       "      <th>StnPressure</th>\n",
       "      <th>SeaLevel</th>\n",
       "      <th>ResultSpeed</th>\n",
       "      <th>ResultDir</th>\n",
       "      <th>AvgSpeed</th>\n",
       "    </tr>\n",
       "  </thead>\n",
       "  <tbody>\n",
       "    <tr>\n",
       "      <th>0</th>\n",
       "      <td>1</td>\n",
       "      <td>2007-05-01</td>\n",
       "      <td>83</td>\n",
       "      <td>50</td>\n",
       "      <td>67</td>\n",
       "      <td>14</td>\n",
       "      <td>51</td>\n",
       "      <td>56</td>\n",
       "      <td>0</td>\n",
       "      <td>2</td>\n",
       "      <td>0448</td>\n",
       "      <td>1849</td>\n",
       "      <td></td>\n",
       "      <td>0</td>\n",
       "      <td>M</td>\n",
       "      <td>0.0</td>\n",
       "      <td>0.00</td>\n",
       "      <td>29.10</td>\n",
       "      <td>29.82</td>\n",
       "      <td>1.7</td>\n",
       "      <td>27</td>\n",
       "      <td>9.2</td>\n",
       "    </tr>\n",
       "    <tr>\n",
       "      <th>1</th>\n",
       "      <td>2</td>\n",
       "      <td>2007-05-01</td>\n",
       "      <td>84</td>\n",
       "      <td>52</td>\n",
       "      <td>68</td>\n",
       "      <td>M</td>\n",
       "      <td>51</td>\n",
       "      <td>57</td>\n",
       "      <td>0</td>\n",
       "      <td>3</td>\n",
       "      <td>-</td>\n",
       "      <td>-</td>\n",
       "      <td></td>\n",
       "      <td>M</td>\n",
       "      <td>M</td>\n",
       "      <td>M</td>\n",
       "      <td>0.00</td>\n",
       "      <td>29.18</td>\n",
       "      <td>29.82</td>\n",
       "      <td>2.7</td>\n",
       "      <td>25</td>\n",
       "      <td>9.6</td>\n",
       "    </tr>\n",
       "    <tr>\n",
       "      <th>2</th>\n",
       "      <td>1</td>\n",
       "      <td>2007-05-02</td>\n",
       "      <td>59</td>\n",
       "      <td>42</td>\n",
       "      <td>51</td>\n",
       "      <td>-3</td>\n",
       "      <td>42</td>\n",
       "      <td>47</td>\n",
       "      <td>14</td>\n",
       "      <td>0</td>\n",
       "      <td>0447</td>\n",
       "      <td>1850</td>\n",
       "      <td>BR</td>\n",
       "      <td>0</td>\n",
       "      <td>M</td>\n",
       "      <td>0.0</td>\n",
       "      <td>0.00</td>\n",
       "      <td>29.38</td>\n",
       "      <td>30.09</td>\n",
       "      <td>13.0</td>\n",
       "      <td>4</td>\n",
       "      <td>13.4</td>\n",
       "    </tr>\n",
       "    <tr>\n",
       "      <th>3</th>\n",
       "      <td>2</td>\n",
       "      <td>2007-05-02</td>\n",
       "      <td>60</td>\n",
       "      <td>43</td>\n",
       "      <td>52</td>\n",
       "      <td>M</td>\n",
       "      <td>42</td>\n",
       "      <td>47</td>\n",
       "      <td>13</td>\n",
       "      <td>0</td>\n",
       "      <td>-</td>\n",
       "      <td>-</td>\n",
       "      <td>BR HZ</td>\n",
       "      <td>M</td>\n",
       "      <td>M</td>\n",
       "      <td>M</td>\n",
       "      <td>0.00</td>\n",
       "      <td>29.44</td>\n",
       "      <td>30.08</td>\n",
       "      <td>13.3</td>\n",
       "      <td>2</td>\n",
       "      <td>13.4</td>\n",
       "    </tr>\n",
       "    <tr>\n",
       "      <th>4</th>\n",
       "      <td>1</td>\n",
       "      <td>2007-05-03</td>\n",
       "      <td>66</td>\n",
       "      <td>46</td>\n",
       "      <td>56</td>\n",
       "      <td>2</td>\n",
       "      <td>40</td>\n",
       "      <td>48</td>\n",
       "      <td>9</td>\n",
       "      <td>0</td>\n",
       "      <td>0446</td>\n",
       "      <td>1851</td>\n",
       "      <td></td>\n",
       "      <td>0</td>\n",
       "      <td>M</td>\n",
       "      <td>0.0</td>\n",
       "      <td>0.00</td>\n",
       "      <td>29.39</td>\n",
       "      <td>30.12</td>\n",
       "      <td>11.7</td>\n",
       "      <td>7</td>\n",
       "      <td>11.9</td>\n",
       "    </tr>\n",
       "  </tbody>\n",
       "</table>\n",
       "</div>"
      ],
      "text/plain": [
       "   Station        Date  Tmax  Tmin Tavg Depart  DewPoint WetBulb Heat Cool  \\\n",
       "0        1  2007-05-01    83    50   67     14        51      56    0    2   \n",
       "1        2  2007-05-01    84    52   68      M        51      57    0    3   \n",
       "2        1  2007-05-02    59    42   51     -3        42      47   14    0   \n",
       "3        2  2007-05-02    60    43   52      M        42      47   13    0   \n",
       "4        1  2007-05-03    66    46   56      2        40      48    9    0   \n",
       "\n",
       "  Sunrise Sunset CodeSum Depth Water1 SnowFall PrecipTotal StnPressure  \\\n",
       "0    0448   1849             0      M      0.0        0.00       29.10   \n",
       "1       -      -             M      M        M        0.00       29.18   \n",
       "2    0447   1850      BR     0      M      0.0        0.00       29.38   \n",
       "3       -      -   BR HZ     M      M        M        0.00       29.44   \n",
       "4    0446   1851             0      M      0.0        0.00       29.39   \n",
       "\n",
       "  SeaLevel  ResultSpeed  ResultDir AvgSpeed  \n",
       "0    29.82          1.7         27      9.2  \n",
       "1    29.82          2.7         25      9.6  \n",
       "2    30.09         13.0          4     13.4  \n",
       "3    30.08         13.3          2     13.4  \n",
       "4    30.12         11.7          7     11.9  "
      ]
     },
     "execution_count": 15,
     "metadata": {},
     "output_type": "execute_result"
    }
   ],
   "source": [
    "weather.head()"
   ]
  },
  {
   "cell_type": "code",
   "execution_count": 16,
   "metadata": {
    "scrolled": false
   },
   "outputs": [
    {
     "name": "stdout",
     "output_type": "stream",
     "text": [
      "dataframe shape \n",
      " (2944, 22) \n",
      "\n",
      "dataframe types \n",
      " Station          int64\n",
      "Date            object\n",
      "Tmax             int64\n",
      "Tmin             int64\n",
      "Tavg            object\n",
      "Depart          object\n",
      "DewPoint         int64\n",
      "WetBulb         object\n",
      "Heat            object\n",
      "Cool            object\n",
      "Sunrise         object\n",
      "Sunset          object\n",
      "CodeSum         object\n",
      "Depth           object\n",
      "Water1          object\n",
      "SnowFall        object\n",
      "PrecipTotal     object\n",
      "StnPressure     object\n",
      "SeaLevel        object\n",
      "ResultSpeed    float64\n",
      "ResultDir        int64\n",
      "AvgSpeed        object\n",
      "dtype: object \n",
      "\n",
      "dataframe describe \n",
      "            Station         Tmax         Tmin     DewPoint  ResultSpeed  \\\n",
      "count  2944.000000  2944.000000  2944.000000  2944.000000  2944.000000   \n",
      "mean      1.500000    76.166101    57.810462    53.457880     6.960666   \n",
      "std       0.500085    11.461970    10.381939    10.675181     3.587527   \n",
      "min       1.000000    41.000000    29.000000    22.000000     0.100000   \n",
      "25%       1.000000    69.000000    50.000000    46.000000     4.300000   \n",
      "50%       1.500000    78.000000    59.000000    54.000000     6.400000   \n",
      "75%       2.000000    85.000000    66.000000    62.000000     9.200000   \n",
      "max       2.000000   104.000000    83.000000    75.000000    24.100000   \n",
      "\n",
      "         ResultDir  \n",
      "count  2944.000000  \n",
      "mean     17.494905  \n",
      "std      10.063609  \n",
      "min       1.000000  \n",
      "25%       7.000000  \n",
      "50%      19.000000  \n",
      "75%      25.000000  \n",
      "max      36.000000   \n",
      "\n",
      "dataframe describe \n",
      "             count unique         top  freq\n",
      "Date         2944   1472  2007-06-03     2\n",
      "Tavg         2944     60          73   138\n",
      "Depart       2944     42           M  1472\n",
      "WetBulb      2944     48          63   135\n",
      "Heat         2944     31           0  1870\n",
      "Cool         2944     31           0  1147\n",
      "Sunrise      2944    122           -  1472\n",
      "Sunset       2944    119           -  1472\n",
      "CodeSum      2944     98              1609\n",
      "Depth        2944      2           M  1472\n",
      "Water1       2944      1           M  2944\n",
      "SnowFall     2944      4           M  1472\n",
      "PrecipTotal  2944    168        0.00  1577\n",
      "StnPressure  2944    104       29.34   128\n",
      "SeaLevel     2944    102       30.00    96\n",
      "AvgSpeed     2944    178         6.9    63 \n",
      "\n",
      "missing values \n",
      " Station        0\n",
      "Date           0\n",
      "Tmax           0\n",
      "Tmin           0\n",
      "Tavg           0\n",
      "Depart         0\n",
      "DewPoint       0\n",
      "WetBulb        0\n",
      "Heat           0\n",
      "Cool           0\n",
      "Sunrise        0\n",
      "Sunset         0\n",
      "CodeSum        0\n",
      "Depth          0\n",
      "Water1         0\n",
      "SnowFall       0\n",
      "PrecipTotal    0\n",
      "StnPressure    0\n",
      "SeaLevel       0\n",
      "ResultSpeed    0\n",
      "ResultDir      0\n",
      "AvgSpeed       0\n",
      "dtype: int64 \n",
      "\n",
      "duplicate values \n",
      " 0 \n",
      "\n",
      "dataframe columns \n",
      " Index(['Station', 'Date', 'Tmax', 'Tmin', 'Tavg', 'Depart', 'DewPoint',\n",
      "       'WetBulb', 'Heat', 'Cool', 'Sunrise', 'Sunset', 'CodeSum', 'Depth',\n",
      "       'Water1', 'SnowFall', 'PrecipTotal', 'StnPressure', 'SeaLevel',\n",
      "       'ResultSpeed', 'ResultDir', 'AvgSpeed'],\n",
      "      dtype='object') \n",
      "\n",
      "Station is unique: False\n",
      "Date is unique: False\n",
      "Tmax is unique: False\n",
      "Tmin is unique: False\n",
      "Tavg is unique: False\n",
      "Depart is unique: False\n",
      "DewPoint is unique: False\n",
      "WetBulb is unique: False\n",
      "Heat is unique: False\n",
      "Cool is unique: False\n",
      "Sunrise is unique: False\n",
      "Sunset is unique: False\n",
      "CodeSum is unique: False\n",
      "Depth is unique: False\n",
      "Water1 is unique: False\n",
      "SnowFall is unique: False\n",
      "PrecipTotal is unique: False\n",
      "StnPressure is unique: False\n",
      "SeaLevel is unique: False\n",
      "ResultSpeed is unique: False\n",
      "ResultDir is unique: False\n",
      "AvgSpeed is unique: False\n"
     ]
    }
   ],
   "source": [
    "#view EDA\n",
    "eda(weather)"
   ]
  },
  {
   "cell_type": "code",
   "execution_count": 17,
   "metadata": {
    "scrolled": false
   },
   "outputs": [
    {
     "name": "stdout",
     "output_type": "stream",
     "text": [
      "(2944, 22)\n",
      "\n",
      "Tavg(station 1): 0 missing values\n",
      "Tavg(station 2): 11 missing values\n",
      "**************\n",
      "Depart(station 1): 1271 missing values\n",
      "Depart(station 2): 1472 missing values\n",
      "**************\n",
      "WetBulb(station 1): 3 missing values\n",
      "WetBulb(station 2): 1 missing values\n",
      "**************\n",
      "Heat(station 1): 0 missing values\n",
      "Heat(station 2): 11 missing values\n",
      "**************\n",
      "Cool(station 1): 1096 missing values\n",
      "Cool(station 2): 1021 missing values\n",
      "**************\n",
      "Sunrise(station 1): 0 missing values\n",
      "Sunrise(station 2): 1472 missing values\n",
      "**************\n",
      "Sunset(station 1): 0 missing values\n",
      "Sunset(station 2): 1472 missing values\n",
      "**************\n",
      "Depth(station 1): 0 missing values\n",
      "Depth(station 2): 1472 missing values\n",
      "**************\n",
      "Water1(station 1): 1472 missing values\n",
      "Water1(station 2): 1472 missing values\n",
      "**************\n",
      "SnowFall(station 1): 1472 missing values\n",
      "SnowFall(station 2): 1472 missing values\n",
      "**************\n",
      "PrecipTotal(station 1): 1472 missing values\n",
      "PrecipTotal(station 2): 1472 missing values\n",
      "**************\n",
      "StnPressure(station 1): 1472 missing values\n",
      "StnPressure(station 2): 1472 missing values\n",
      "**************\n",
      "SeaLevel(station 1): 1472 missing values\n",
      "SeaLevel(station 2): 1472 missing values\n",
      "**************\n",
      "AvgSpeed(station 1): 1472 missing values\n",
      "AvgSpeed(station 2): 1472 missing values\n",
      "**************\n"
     ]
    }
   ],
   "source": [
    "# checking for columns containing M or T as missing values\n",
    "\n",
    "check_col = ['Tavg', 'Depart','WetBulb','Heat','Cool',\n",
    "             'Sunrise','Sunset','Depth','Water1','SnowFall',\n",
    "            'PrecipTotal','StnPressure','SeaLevel','AvgSpeed']\n",
    "\n",
    "print(weather.shape)\n",
    "print('')\n",
    "\n",
    "for col in weather[check_col]:\n",
    "    station_1 = len(weather[(weather[col].str.contains('\\D')) & (weather['Station']==1)])\n",
    "    print(f\"{col}(station 1): {str(station_1)} missing values\")\n",
    "    \n",
    "    station_2 = len(weather[(weather[col].str.contains('\\D')) & (weather['Station']==2)])\n",
    "    print(f\"{col}(station 2): {str(station_2)} missing values\")\n",
    "    print('**************')"
   ]
  },
  {
   "cell_type": "code",
   "execution_count": 18,
   "metadata": {},
   "outputs": [],
   "source": [
    "# dropping unwanted columns\n",
    "droplist = ['Depart', 'Heat', 'Cool', 'Sunrise', 'Sunset', 'Depth',\n",
    "       'Water1', 'SnowFall', 'CodeSum']\n",
    "weather.drop(droplist, axis = 1, inplace= True)"
   ]
  },
  {
   "cell_type": "code",
   "execution_count": 19,
   "metadata": {},
   "outputs": [],
   "source": [
    "# replace M to NaN\n",
    "weather = weather.replace('M', np.nan)\n",
    "weather = weather.replace('-', np.nan)\n",
    "\n",
    "#Trace value < 0.1\n",
    "replace_val(weather, 'PrecipTotal', '  T' , 0.005)\n",
    "\n",
    "# Tavg to be for average of Tmax and Tmin\n",
    "weather['Tavg'] = round((weather['Tmax'] + weather['Tmin'])/2+0.1)"
   ]
  },
  {
   "cell_type": "code",
   "execution_count": 20,
   "metadata": {
    "scrolled": true
   },
   "outputs": [],
   "source": [
    "# change column types\n",
    "weather['Tavg'] = weather['Tavg'].astype(float)\n",
    "weather['PrecipTotal'] = weather['PrecipTotal'].astype(float)\n",
    "weather['StnPressure'] = weather['StnPressure'].astype(float)\n",
    "weather['SeaLevel'] = weather['SeaLevel'].astype(float)\n",
    "weather['AvgSpeed'] = weather['AvgSpeed'].astype(float)\n",
    "weather['WetBulb'] = weather['AvgSpeed'].astype(float)"
   ]
  },
  {
   "cell_type": "code",
   "execution_count": 21,
   "metadata": {},
   "outputs": [
    {
     "data": {
      "text/html": [
       "<div>\n",
       "<style scoped>\n",
       "    .dataframe tbody tr th:only-of-type {\n",
       "        vertical-align: middle;\n",
       "    }\n",
       "\n",
       "    .dataframe tbody tr th {\n",
       "        vertical-align: top;\n",
       "    }\n",
       "\n",
       "    .dataframe thead th {\n",
       "        text-align: right;\n",
       "    }\n",
       "</style>\n",
       "<table border=\"1\" class=\"dataframe\">\n",
       "  <thead>\n",
       "    <tr style=\"text-align: right;\">\n",
       "      <th></th>\n",
       "      <th>Station</th>\n",
       "      <th>Date</th>\n",
       "      <th>Tmax</th>\n",
       "      <th>Tmin</th>\n",
       "      <th>Tavg</th>\n",
       "      <th>DewPoint</th>\n",
       "      <th>WetBulb</th>\n",
       "      <th>PrecipTotal</th>\n",
       "      <th>StnPressure</th>\n",
       "      <th>SeaLevel</th>\n",
       "      <th>ResultSpeed</th>\n",
       "      <th>ResultDir</th>\n",
       "      <th>AvgSpeed</th>\n",
       "    </tr>\n",
       "  </thead>\n",
       "  <tbody>\n",
       "    <tr>\n",
       "      <th>0</th>\n",
       "      <td>1</td>\n",
       "      <td>2007-05-01</td>\n",
       "      <td>83</td>\n",
       "      <td>50</td>\n",
       "      <td>67.0</td>\n",
       "      <td>51</td>\n",
       "      <td>9.2</td>\n",
       "      <td>0.0</td>\n",
       "      <td>29.10</td>\n",
       "      <td>29.82</td>\n",
       "      <td>1.7</td>\n",
       "      <td>27</td>\n",
       "      <td>9.2</td>\n",
       "    </tr>\n",
       "    <tr>\n",
       "      <th>1</th>\n",
       "      <td>2</td>\n",
       "      <td>2007-05-01</td>\n",
       "      <td>84</td>\n",
       "      <td>52</td>\n",
       "      <td>68.0</td>\n",
       "      <td>51</td>\n",
       "      <td>9.6</td>\n",
       "      <td>0.0</td>\n",
       "      <td>29.18</td>\n",
       "      <td>29.82</td>\n",
       "      <td>2.7</td>\n",
       "      <td>25</td>\n",
       "      <td>9.6</td>\n",
       "    </tr>\n",
       "    <tr>\n",
       "      <th>2</th>\n",
       "      <td>1</td>\n",
       "      <td>2007-05-02</td>\n",
       "      <td>59</td>\n",
       "      <td>42</td>\n",
       "      <td>51.0</td>\n",
       "      <td>42</td>\n",
       "      <td>13.4</td>\n",
       "      <td>0.0</td>\n",
       "      <td>29.38</td>\n",
       "      <td>30.09</td>\n",
       "      <td>13.0</td>\n",
       "      <td>4</td>\n",
       "      <td>13.4</td>\n",
       "    </tr>\n",
       "    <tr>\n",
       "      <th>3</th>\n",
       "      <td>2</td>\n",
       "      <td>2007-05-02</td>\n",
       "      <td>60</td>\n",
       "      <td>43</td>\n",
       "      <td>52.0</td>\n",
       "      <td>42</td>\n",
       "      <td>13.4</td>\n",
       "      <td>0.0</td>\n",
       "      <td>29.44</td>\n",
       "      <td>30.08</td>\n",
       "      <td>13.3</td>\n",
       "      <td>2</td>\n",
       "      <td>13.4</td>\n",
       "    </tr>\n",
       "    <tr>\n",
       "      <th>4</th>\n",
       "      <td>1</td>\n",
       "      <td>2007-05-03</td>\n",
       "      <td>66</td>\n",
       "      <td>46</td>\n",
       "      <td>56.0</td>\n",
       "      <td>40</td>\n",
       "      <td>11.9</td>\n",
       "      <td>0.0</td>\n",
       "      <td>29.39</td>\n",
       "      <td>30.12</td>\n",
       "      <td>11.7</td>\n",
       "      <td>7</td>\n",
       "      <td>11.9</td>\n",
       "    </tr>\n",
       "  </tbody>\n",
       "</table>\n",
       "</div>"
      ],
      "text/plain": [
       "   Station        Date  Tmax  Tmin  Tavg  DewPoint  WetBulb  PrecipTotal  \\\n",
       "0        1  2007-05-01    83    50  67.0        51      9.2          0.0   \n",
       "1        2  2007-05-01    84    52  68.0        51      9.6          0.0   \n",
       "2        1  2007-05-02    59    42  51.0        42     13.4          0.0   \n",
       "3        2  2007-05-02    60    43  52.0        42     13.4          0.0   \n",
       "4        1  2007-05-03    66    46  56.0        40     11.9          0.0   \n",
       "\n",
       "   StnPressure  SeaLevel  ResultSpeed  ResultDir  AvgSpeed  \n",
       "0        29.10     29.82          1.7         27       9.2  \n",
       "1        29.18     29.82          2.7         25       9.6  \n",
       "2        29.38     30.09         13.0          4      13.4  \n",
       "3        29.44     30.08         13.3          2      13.4  \n",
       "4        29.39     30.12         11.7          7      11.9  "
      ]
     },
     "execution_count": 21,
     "metadata": {},
     "output_type": "execute_result"
    }
   ],
   "source": [
    "weather.head()"
   ]
  },
  {
   "cell_type": "code",
   "execution_count": 22,
   "metadata": {},
   "outputs": [],
   "source": [
    "# replacing nan with median\n",
    "\n",
    "replace_median(weather, 'PrecipTotal')\n",
    "replace_median(weather, 'StnPressure')\n",
    "replace_median(weather, 'SeaLevel')\n",
    "replace_median(weather, 'AvgSpeed')\n",
    "replace_median(weather, 'WetBulb')"
   ]
  },
  {
   "cell_type": "code",
   "execution_count": 23,
   "metadata": {
    "scrolled": false
   },
   "outputs": [
    {
     "data": {
      "text/plain": [
       "Station        0\n",
       "Date           0\n",
       "Tmax           0\n",
       "Tmin           0\n",
       "Tavg           0\n",
       "DewPoint       0\n",
       "WetBulb        0\n",
       "PrecipTotal    0\n",
       "StnPressure    0\n",
       "SeaLevel       0\n",
       "ResultSpeed    0\n",
       "ResultDir      0\n",
       "AvgSpeed       0\n",
       "dtype: int64"
      ]
     },
     "execution_count": 23,
     "metadata": {},
     "output_type": "execute_result"
    }
   ],
   "source": [
    "weather.isnull().sum()"
   ]
  },
  {
   "cell_type": "code",
   "execution_count": 24,
   "metadata": {
    "scrolled": true
   },
   "outputs": [],
   "source": [
    "# Split station 1 and 2 and join horizontally\n",
    "weather_stn1 = weather[weather['Station']==1]\n",
    "weather_stn2 = weather[weather['Station']==2]\n",
    "\n",
    "# add long, lat\n",
    "weather_stn1 ['Latitude'] = 41.995\n",
    "weather_stn1 ['Longitude'] = -87.933\n",
    "weather_stn2 ['Latitude'] = 41.786\n",
    "weather_stn2 ['Longitude'] = -87.752\n",
    "\n",
    "# drop station column\n",
    "weather_stn1 = weather_stn1.drop('Station', axis=1)\n",
    "weather_stn2 = weather_stn2.drop('Station', axis=1)\n",
    "\n",
    "#join df\n",
    "weather = weather_stn1.merge(weather_stn2, on='Date')\n",
    "\n",
    "#change column names\n",
    "weather.columns = ['Date', 'Tmax_1', 'Tmin_1', 'Tavg_1', 'DewPoint_1', 'WetBulb_1',\n",
    "       'PrecipTotal_1', 'StnPressure_1', 'SeaLevel_1',\n",
    "       'ResultSpeed_1', 'ResultDir_1', 'AvgSpeed_1', 'Latitude_1',\n",
    "       'Longitude_1', 'Tmax_2', 'Tmin_2', 'Tavg_2', 'DewPoint_2', 'WetBulb_2',\n",
    "       'PrecipTotal_2', 'StnPressure_2', 'SeaLevel_2',\n",
    "       'ResultSpeed_2', 'ResultDir_2', 'AvgSpeed_2', 'Latitude_2',\n",
    "       'Longitude_2']\n"
   ]
  },
  {
   "cell_type": "code",
   "execution_count": 25,
   "metadata": {
    "scrolled": false
   },
   "outputs": [
    {
     "data": {
      "text/html": [
       "<div>\n",
       "<style scoped>\n",
       "    .dataframe tbody tr th:only-of-type {\n",
       "        vertical-align: middle;\n",
       "    }\n",
       "\n",
       "    .dataframe tbody tr th {\n",
       "        vertical-align: top;\n",
       "    }\n",
       "\n",
       "    .dataframe thead th {\n",
       "        text-align: right;\n",
       "    }\n",
       "</style>\n",
       "<table border=\"1\" class=\"dataframe\">\n",
       "  <thead>\n",
       "    <tr style=\"text-align: right;\">\n",
       "      <th></th>\n",
       "      <th>Date</th>\n",
       "      <th>Tmax_1</th>\n",
       "      <th>Tmin_1</th>\n",
       "      <th>Tavg_1</th>\n",
       "      <th>DewPoint_1</th>\n",
       "      <th>WetBulb_1</th>\n",
       "      <th>PrecipTotal_1</th>\n",
       "      <th>StnPressure_1</th>\n",
       "      <th>SeaLevel_1</th>\n",
       "      <th>ResultSpeed_1</th>\n",
       "      <th>ResultDir_1</th>\n",
       "      <th>AvgSpeed_1</th>\n",
       "      <th>Latitude_1</th>\n",
       "      <th>Longitude_1</th>\n",
       "      <th>Tmax_2</th>\n",
       "      <th>Tmin_2</th>\n",
       "      <th>Tavg_2</th>\n",
       "      <th>DewPoint_2</th>\n",
       "      <th>WetBulb_2</th>\n",
       "      <th>PrecipTotal_2</th>\n",
       "      <th>StnPressure_2</th>\n",
       "      <th>SeaLevel_2</th>\n",
       "      <th>ResultSpeed_2</th>\n",
       "      <th>ResultDir_2</th>\n",
       "      <th>AvgSpeed_2</th>\n",
       "      <th>Latitude_2</th>\n",
       "      <th>Longitude_2</th>\n",
       "    </tr>\n",
       "  </thead>\n",
       "  <tbody>\n",
       "    <tr>\n",
       "      <th>0</th>\n",
       "      <td>2007-05-01</td>\n",
       "      <td>83</td>\n",
       "      <td>50</td>\n",
       "      <td>67.0</td>\n",
       "      <td>51</td>\n",
       "      <td>9.2</td>\n",
       "      <td>0.000</td>\n",
       "      <td>29.10</td>\n",
       "      <td>29.82</td>\n",
       "      <td>1.7</td>\n",
       "      <td>27</td>\n",
       "      <td>9.2</td>\n",
       "      <td>41.995</td>\n",
       "      <td>-87.933</td>\n",
       "      <td>84</td>\n",
       "      <td>52</td>\n",
       "      <td>68.0</td>\n",
       "      <td>51</td>\n",
       "      <td>9.6</td>\n",
       "      <td>0.000</td>\n",
       "      <td>29.18</td>\n",
       "      <td>29.82</td>\n",
       "      <td>2.7</td>\n",
       "      <td>25</td>\n",
       "      <td>9.6</td>\n",
       "      <td>41.786</td>\n",
       "      <td>-87.752</td>\n",
       "    </tr>\n",
       "    <tr>\n",
       "      <th>1</th>\n",
       "      <td>2007-05-02</td>\n",
       "      <td>59</td>\n",
       "      <td>42</td>\n",
       "      <td>51.0</td>\n",
       "      <td>42</td>\n",
       "      <td>13.4</td>\n",
       "      <td>0.000</td>\n",
       "      <td>29.38</td>\n",
       "      <td>30.09</td>\n",
       "      <td>13.0</td>\n",
       "      <td>4</td>\n",
       "      <td>13.4</td>\n",
       "      <td>41.995</td>\n",
       "      <td>-87.933</td>\n",
       "      <td>60</td>\n",
       "      <td>43</td>\n",
       "      <td>52.0</td>\n",
       "      <td>42</td>\n",
       "      <td>13.4</td>\n",
       "      <td>0.000</td>\n",
       "      <td>29.44</td>\n",
       "      <td>30.08</td>\n",
       "      <td>13.3</td>\n",
       "      <td>2</td>\n",
       "      <td>13.4</td>\n",
       "      <td>41.786</td>\n",
       "      <td>-87.752</td>\n",
       "    </tr>\n",
       "    <tr>\n",
       "      <th>2</th>\n",
       "      <td>2007-05-03</td>\n",
       "      <td>66</td>\n",
       "      <td>46</td>\n",
       "      <td>56.0</td>\n",
       "      <td>40</td>\n",
       "      <td>11.9</td>\n",
       "      <td>0.000</td>\n",
       "      <td>29.39</td>\n",
       "      <td>30.12</td>\n",
       "      <td>11.7</td>\n",
       "      <td>7</td>\n",
       "      <td>11.9</td>\n",
       "      <td>41.995</td>\n",
       "      <td>-87.933</td>\n",
       "      <td>67</td>\n",
       "      <td>48</td>\n",
       "      <td>58.0</td>\n",
       "      <td>40</td>\n",
       "      <td>13.2</td>\n",
       "      <td>0.000</td>\n",
       "      <td>29.46</td>\n",
       "      <td>30.12</td>\n",
       "      <td>12.9</td>\n",
       "      <td>6</td>\n",
       "      <td>13.2</td>\n",
       "      <td>41.786</td>\n",
       "      <td>-87.752</td>\n",
       "    </tr>\n",
       "    <tr>\n",
       "      <th>3</th>\n",
       "      <td>2007-05-04</td>\n",
       "      <td>66</td>\n",
       "      <td>49</td>\n",
       "      <td>58.0</td>\n",
       "      <td>41</td>\n",
       "      <td>10.8</td>\n",
       "      <td>0.005</td>\n",
       "      <td>29.31</td>\n",
       "      <td>30.05</td>\n",
       "      <td>10.4</td>\n",
       "      <td>8</td>\n",
       "      <td>10.8</td>\n",
       "      <td>41.995</td>\n",
       "      <td>-87.933</td>\n",
       "      <td>78</td>\n",
       "      <td>51</td>\n",
       "      <td>65.0</td>\n",
       "      <td>42</td>\n",
       "      <td>10.4</td>\n",
       "      <td>0.000</td>\n",
       "      <td>29.36</td>\n",
       "      <td>30.04</td>\n",
       "      <td>10.1</td>\n",
       "      <td>7</td>\n",
       "      <td>10.4</td>\n",
       "      <td>41.786</td>\n",
       "      <td>-87.752</td>\n",
       "    </tr>\n",
       "    <tr>\n",
       "      <th>4</th>\n",
       "      <td>2007-05-05</td>\n",
       "      <td>66</td>\n",
       "      <td>53</td>\n",
       "      <td>60.0</td>\n",
       "      <td>38</td>\n",
       "      <td>12.0</td>\n",
       "      <td>0.005</td>\n",
       "      <td>29.40</td>\n",
       "      <td>30.10</td>\n",
       "      <td>11.7</td>\n",
       "      <td>7</td>\n",
       "      <td>12.0</td>\n",
       "      <td>41.995</td>\n",
       "      <td>-87.933</td>\n",
       "      <td>66</td>\n",
       "      <td>54</td>\n",
       "      <td>60.0</td>\n",
       "      <td>39</td>\n",
       "      <td>11.5</td>\n",
       "      <td>0.005</td>\n",
       "      <td>29.46</td>\n",
       "      <td>30.09</td>\n",
       "      <td>11.2</td>\n",
       "      <td>7</td>\n",
       "      <td>11.5</td>\n",
       "      <td>41.786</td>\n",
       "      <td>-87.752</td>\n",
       "    </tr>\n",
       "  </tbody>\n",
       "</table>\n",
       "</div>"
      ],
      "text/plain": [
       "         Date  Tmax_1  Tmin_1  Tavg_1  DewPoint_1  WetBulb_1  PrecipTotal_1  \\\n",
       "0  2007-05-01      83      50    67.0          51        9.2          0.000   \n",
       "1  2007-05-02      59      42    51.0          42       13.4          0.000   \n",
       "2  2007-05-03      66      46    56.0          40       11.9          0.000   \n",
       "3  2007-05-04      66      49    58.0          41       10.8          0.005   \n",
       "4  2007-05-05      66      53    60.0          38       12.0          0.005   \n",
       "\n",
       "   StnPressure_1  SeaLevel_1  ResultSpeed_1  ResultDir_1  AvgSpeed_1  \\\n",
       "0          29.10       29.82            1.7           27         9.2   \n",
       "1          29.38       30.09           13.0            4        13.4   \n",
       "2          29.39       30.12           11.7            7        11.9   \n",
       "3          29.31       30.05           10.4            8        10.8   \n",
       "4          29.40       30.10           11.7            7        12.0   \n",
       "\n",
       "   Latitude_1  Longitude_1  Tmax_2  Tmin_2  Tavg_2  DewPoint_2  WetBulb_2  \\\n",
       "0      41.995      -87.933      84      52    68.0          51        9.6   \n",
       "1      41.995      -87.933      60      43    52.0          42       13.4   \n",
       "2      41.995      -87.933      67      48    58.0          40       13.2   \n",
       "3      41.995      -87.933      78      51    65.0          42       10.4   \n",
       "4      41.995      -87.933      66      54    60.0          39       11.5   \n",
       "\n",
       "   PrecipTotal_2  StnPressure_2  SeaLevel_2  ResultSpeed_2  ResultDir_2  \\\n",
       "0          0.000          29.18       29.82            2.7           25   \n",
       "1          0.000          29.44       30.08           13.3            2   \n",
       "2          0.000          29.46       30.12           12.9            6   \n",
       "3          0.000          29.36       30.04           10.1            7   \n",
       "4          0.005          29.46       30.09           11.2            7   \n",
       "\n",
       "   AvgSpeed_2  Latitude_2  Longitude_2  \n",
       "0         9.6      41.786      -87.752  \n",
       "1        13.4      41.786      -87.752  \n",
       "2        13.2      41.786      -87.752  \n",
       "3        10.4      41.786      -87.752  \n",
       "4        11.5      41.786      -87.752  "
      ]
     },
     "execution_count": 25,
     "metadata": {},
     "output_type": "execute_result"
    }
   ],
   "source": [
    "weather.head()"
   ]
  },
  {
   "cell_type": "code",
   "execution_count": 26,
   "metadata": {},
   "outputs": [
    {
     "name": "stdout",
     "output_type": "stream",
     "text": [
      "2007-05-01\n",
      "2014-10-31\n"
     ]
    }
   ],
   "source": [
    "print(weather['Date'].min())\n",
    "print(weather['Date'].max())"
   ]
  },
  {
   "cell_type": "markdown",
   "metadata": {},
   "source": [
    "<div class=\"alert alert-block alert-info\">\n",
    "\n",
    "<b>Weather Dataset:</b><br>\n",
    "- 22 columns, 2944 rows\n",
    "- no null values\n",
    "- no duplicate values\n",
    "- date range : 2007-05-01 to 2014-10-31\n",
    "- Dataset is riddled with \"M\" for missing, \"T\" for trace data, \"-\" for some data from station 2.\n",
    "\n",
    "<br>\n",
    "    \n",
    "><u>Columns Dropped:</u>  \n",
    ">1. Depart - difference from 30 year avg\n",
    ">2. Heat - avg temp degrees above 65 F - can be calculated\n",
    ">3. Cool - avg temp degrees below 65 F  - can be calculated\n",
    ">4. Sunrise - calculated sunrise - not needed\n",
    ">5. Sunset - calculated sunset - not needed\n",
    ">6. Depth - 0 or Missing\n",
    ">7. Water1 - all Missing\n",
    ">8. SnowFall - Missing or 0, only 1 value of 0.01\n",
    ">9. CodeSum - too little inputs to be meaningful \n",
    "\n",
    "><u>Imputation and Additional Columns:</u>\n",
    ">1. Tavg: M = round up((tmax + tmin)/2) **\n",
    ">2. PrecipTotal: T = 0.005\n",
    ">3. PrecipTotal M = median\n",
    ">4. StnPressure M = median\n",
    ">5. SeaLevel M = median\n",
    ">6. AvgSpeed M = median\n",
    ">7. added 'Latitude' column\n",
    ">8. added 'Longitude' column\n",
    "    \n",
    "</div>"
   ]
  },
  {
   "cell_type": "markdown",
   "metadata": {},
   "source": [
    "***"
   ]
  },
  {
   "cell_type": "markdown",
   "metadata": {},
   "source": [
    "## <span style='background :yellow' > Spray Dataset </span>"
   ]
  },
  {
   "cell_type": "code",
   "execution_count": 27,
   "metadata": {
    "scrolled": false
   },
   "outputs": [
    {
     "data": {
      "text/html": [
       "<div>\n",
       "<style scoped>\n",
       "    .dataframe tbody tr th:only-of-type {\n",
       "        vertical-align: middle;\n",
       "    }\n",
       "\n",
       "    .dataframe tbody tr th {\n",
       "        vertical-align: top;\n",
       "    }\n",
       "\n",
       "    .dataframe thead th {\n",
       "        text-align: right;\n",
       "    }\n",
       "</style>\n",
       "<table border=\"1\" class=\"dataframe\">\n",
       "  <thead>\n",
       "    <tr style=\"text-align: right;\">\n",
       "      <th></th>\n",
       "      <th>Date</th>\n",
       "      <th>Time</th>\n",
       "      <th>Latitude</th>\n",
       "      <th>Longitude</th>\n",
       "    </tr>\n",
       "  </thead>\n",
       "  <tbody>\n",
       "    <tr>\n",
       "      <th>0</th>\n",
       "      <td>2011-08-29</td>\n",
       "      <td>6:56:58 PM</td>\n",
       "      <td>42.391623</td>\n",
       "      <td>-88.089163</td>\n",
       "    </tr>\n",
       "    <tr>\n",
       "      <th>1</th>\n",
       "      <td>2011-08-29</td>\n",
       "      <td>6:57:08 PM</td>\n",
       "      <td>42.391348</td>\n",
       "      <td>-88.089163</td>\n",
       "    </tr>\n",
       "    <tr>\n",
       "      <th>2</th>\n",
       "      <td>2011-08-29</td>\n",
       "      <td>6:57:18 PM</td>\n",
       "      <td>42.391022</td>\n",
       "      <td>-88.089157</td>\n",
       "    </tr>\n",
       "    <tr>\n",
       "      <th>3</th>\n",
       "      <td>2011-08-29</td>\n",
       "      <td>6:57:28 PM</td>\n",
       "      <td>42.390637</td>\n",
       "      <td>-88.089158</td>\n",
       "    </tr>\n",
       "    <tr>\n",
       "      <th>4</th>\n",
       "      <td>2011-08-29</td>\n",
       "      <td>6:57:38 PM</td>\n",
       "      <td>42.390410</td>\n",
       "      <td>-88.088858</td>\n",
       "    </tr>\n",
       "  </tbody>\n",
       "</table>\n",
       "</div>"
      ],
      "text/plain": [
       "         Date        Time   Latitude  Longitude\n",
       "0  2011-08-29  6:56:58 PM  42.391623 -88.089163\n",
       "1  2011-08-29  6:57:08 PM  42.391348 -88.089163\n",
       "2  2011-08-29  6:57:18 PM  42.391022 -88.089157\n",
       "3  2011-08-29  6:57:28 PM  42.390637 -88.089158\n",
       "4  2011-08-29  6:57:38 PM  42.390410 -88.088858"
      ]
     },
     "execution_count": 27,
     "metadata": {},
     "output_type": "execute_result"
    }
   ],
   "source": [
    "# view spray\n",
    "spray.head()"
   ]
  },
  {
   "cell_type": "code",
   "execution_count": 28,
   "metadata": {
    "scrolled": false
   },
   "outputs": [
    {
     "name": "stdout",
     "output_type": "stream",
     "text": [
      "dataframe shape \n",
      " (14835, 4) \n",
      "\n",
      "dataframe types \n",
      " Date          object\n",
      "Time          object\n",
      "Latitude     float64\n",
      "Longitude    float64\n",
      "dtype: object \n",
      "\n",
      "dataframe describe \n",
      "            Latitude     Longitude\n",
      "count  14835.000000  14835.000000\n",
      "mean      41.904828    -87.736690\n",
      "std        0.104381      0.067292\n",
      "min       41.713925    -88.096468\n",
      "25%       41.785001    -87.794225\n",
      "50%       41.940075    -87.727853\n",
      "75%       41.980978    -87.694108\n",
      "max       42.395983    -87.586727 \n",
      "\n",
      "dataframe describe \n",
      "       count unique         top  freq\n",
      "Date  14835     10  2013-08-15  2668\n",
      "Time  14251   8583  7:44:32 PM   541 \n",
      "\n",
      "missing values \n",
      " Date           0\n",
      "Time         584\n",
      "Latitude       0\n",
      "Longitude      0\n",
      "dtype: int64 \n",
      "\n",
      "duplicate values \n",
      " 541 \n",
      "\n",
      "dataframe columns \n",
      " Index(['Date', 'Time', 'Latitude', 'Longitude'], dtype='object') \n",
      "\n",
      "Date is unique: False\n",
      "Time is unique: False\n",
      "Latitude is unique: False\n",
      "Longitude is unique: False\n"
     ]
    }
   ],
   "source": [
    "#view EDA\n",
    "eda(spray)"
   ]
  },
  {
   "cell_type": "code",
   "execution_count": 29,
   "metadata": {},
   "outputs": [],
   "source": [
    "# changes time to datetime format\n",
    "spray['Time'] = pd.to_datetime(spray['Time'], infer_datetime_format=True)\n",
    "\n",
    "# changes time to the hour of the day\n",
    "spray['Time'] = spray['Time'].dt.hour"
   ]
  },
  {
   "cell_type": "code",
   "execution_count": 30,
   "metadata": {},
   "outputs": [
    {
     "data": {
      "text/html": [
       "<div>\n",
       "<style scoped>\n",
       "    .dataframe tbody tr th:only-of-type {\n",
       "        vertical-align: middle;\n",
       "    }\n",
       "\n",
       "    .dataframe tbody tr th {\n",
       "        vertical-align: top;\n",
       "    }\n",
       "\n",
       "    .dataframe thead th {\n",
       "        text-align: right;\n",
       "    }\n",
       "</style>\n",
       "<table border=\"1\" class=\"dataframe\">\n",
       "  <thead>\n",
       "    <tr style=\"text-align: right;\">\n",
       "      <th></th>\n",
       "      <th>Date</th>\n",
       "      <th>Time</th>\n",
       "      <th>Latitude</th>\n",
       "      <th>Longitude</th>\n",
       "    </tr>\n",
       "  </thead>\n",
       "  <tbody>\n",
       "    <tr>\n",
       "      <th>485</th>\n",
       "      <td>2011-09-07</td>\n",
       "      <td>19.0</td>\n",
       "      <td>41.983917</td>\n",
       "      <td>-87.793088</td>\n",
       "    </tr>\n",
       "    <tr>\n",
       "      <th>490</th>\n",
       "      <td>2011-09-07</td>\n",
       "      <td>19.0</td>\n",
       "      <td>41.986460</td>\n",
       "      <td>-87.794225</td>\n",
       "    </tr>\n",
       "    <tr>\n",
       "      <th>491</th>\n",
       "      <td>2011-09-07</td>\n",
       "      <td>19.0</td>\n",
       "      <td>41.986460</td>\n",
       "      <td>-87.794225</td>\n",
       "    </tr>\n",
       "    <tr>\n",
       "      <th>492</th>\n",
       "      <td>2011-09-07</td>\n",
       "      <td>19.0</td>\n",
       "      <td>41.986460</td>\n",
       "      <td>-87.794225</td>\n",
       "    </tr>\n",
       "    <tr>\n",
       "      <th>493</th>\n",
       "      <td>2011-09-07</td>\n",
       "      <td>19.0</td>\n",
       "      <td>41.986460</td>\n",
       "      <td>-87.794225</td>\n",
       "    </tr>\n",
       "    <tr>\n",
       "      <th>494</th>\n",
       "      <td>2011-09-07</td>\n",
       "      <td>19.0</td>\n",
       "      <td>41.986460</td>\n",
       "      <td>-87.794225</td>\n",
       "    </tr>\n",
       "    <tr>\n",
       "      <th>495</th>\n",
       "      <td>2011-09-07</td>\n",
       "      <td>19.0</td>\n",
       "      <td>41.986460</td>\n",
       "      <td>-87.794225</td>\n",
       "    </tr>\n",
       "    <tr>\n",
       "      <th>496</th>\n",
       "      <td>2011-09-07</td>\n",
       "      <td>19.0</td>\n",
       "      <td>41.986460</td>\n",
       "      <td>-87.794225</td>\n",
       "    </tr>\n",
       "    <tr>\n",
       "      <th>497</th>\n",
       "      <td>2011-09-07</td>\n",
       "      <td>19.0</td>\n",
       "      <td>41.986460</td>\n",
       "      <td>-87.794225</td>\n",
       "    </tr>\n",
       "    <tr>\n",
       "      <th>498</th>\n",
       "      <td>2011-09-07</td>\n",
       "      <td>19.0</td>\n",
       "      <td>41.986460</td>\n",
       "      <td>-87.794225</td>\n",
       "    </tr>\n",
       "  </tbody>\n",
       "</table>\n",
       "</div>"
      ],
      "text/plain": [
       "           Date  Time   Latitude  Longitude\n",
       "485  2011-09-07  19.0  41.983917 -87.793088\n",
       "490  2011-09-07  19.0  41.986460 -87.794225\n",
       "491  2011-09-07  19.0  41.986460 -87.794225\n",
       "492  2011-09-07  19.0  41.986460 -87.794225\n",
       "493  2011-09-07  19.0  41.986460 -87.794225\n",
       "494  2011-09-07  19.0  41.986460 -87.794225\n",
       "495  2011-09-07  19.0  41.986460 -87.794225\n",
       "496  2011-09-07  19.0  41.986460 -87.794225\n",
       "497  2011-09-07  19.0  41.986460 -87.794225\n",
       "498  2011-09-07  19.0  41.986460 -87.794225"
      ]
     },
     "execution_count": 30,
     "metadata": {},
     "output_type": "execute_result"
    }
   ],
   "source": [
    "# view duplicates\n",
    "spray[spray.duplicated()].head(10)\n",
    "\n",
    "\n"
   ]
  },
  {
   "cell_type": "code",
   "execution_count": 31,
   "metadata": {},
   "outputs": [],
   "source": [
    "# seems like real duplicates, will drop these\n",
    "spray.drop_duplicates(inplace=True)"
   ]
  },
  {
   "cell_type": "code",
   "execution_count": 32,
   "metadata": {
    "scrolled": false
   },
   "outputs": [
    {
     "data": {
      "text/plain": [
       "2013-08-15    2668\n",
       "2013-08-29    2302\n",
       "2013-07-17    2202\n",
       "2013-07-25    1607\n",
       "2013-08-22    1587\n",
       "2011-09-07    1573\n",
       "2013-08-08    1195\n",
       "2013-09-05     924\n",
       "2013-08-16     141\n",
       "2011-08-29      95\n",
       "Name: Date, dtype: int64"
      ]
     },
     "execution_count": 32,
     "metadata": {},
     "output_type": "execute_result"
    }
   ],
   "source": [
    "spray['Date'].value_counts()"
   ]
  },
  {
   "cell_type": "code",
   "execution_count": 33,
   "metadata": {},
   "outputs": [
    {
     "name": "stdout",
     "output_type": "stream",
     "text": [
      "2011-08-29\n",
      "2013-09-05\n"
     ]
    }
   ],
   "source": [
    "print(spray['Date'].min())\n",
    "print(spray['Date'].max())"
   ]
  },
  {
   "cell_type": "code",
   "execution_count": 34,
   "metadata": {},
   "outputs": [
    {
     "data": {
      "text/html": [
       "<div>\n",
       "<style scoped>\n",
       "    .dataframe tbody tr th:only-of-type {\n",
       "        vertical-align: middle;\n",
       "    }\n",
       "\n",
       "    .dataframe tbody tr th {\n",
       "        vertical-align: top;\n",
       "    }\n",
       "\n",
       "    .dataframe thead th {\n",
       "        text-align: right;\n",
       "    }\n",
       "</style>\n",
       "<table border=\"1\" class=\"dataframe\">\n",
       "  <thead>\n",
       "    <tr style=\"text-align: right;\">\n",
       "      <th></th>\n",
       "      <th>Date</th>\n",
       "      <th>Time</th>\n",
       "      <th>Latitude</th>\n",
       "      <th>Longitude</th>\n",
       "    </tr>\n",
       "  </thead>\n",
       "  <tbody>\n",
       "    <tr>\n",
       "      <th>14830</th>\n",
       "      <td>NaN</td>\n",
       "      <td>NaN</td>\n",
       "      <td>NaN</td>\n",
       "      <td>NaN</td>\n",
       "    </tr>\n",
       "    <tr>\n",
       "      <th>14831</th>\n",
       "      <td>NaN</td>\n",
       "      <td>NaN</td>\n",
       "      <td>NaN</td>\n",
       "      <td>NaN</td>\n",
       "    </tr>\n",
       "    <tr>\n",
       "      <th>14832</th>\n",
       "      <td>NaN</td>\n",
       "      <td>NaN</td>\n",
       "      <td>NaN</td>\n",
       "      <td>NaN</td>\n",
       "    </tr>\n",
       "    <tr>\n",
       "      <th>14833</th>\n",
       "      <td>NaN</td>\n",
       "      <td>NaN</td>\n",
       "      <td>NaN</td>\n",
       "      <td>NaN</td>\n",
       "    </tr>\n",
       "    <tr>\n",
       "      <th>14834</th>\n",
       "      <td>NaN</td>\n",
       "      <td>NaN</td>\n",
       "      <td>NaN</td>\n",
       "      <td>NaN</td>\n",
       "    </tr>\n",
       "  </tbody>\n",
       "</table>\n",
       "</div>"
      ],
      "text/plain": [
       "      Date  Time  Latitude  Longitude\n",
       "14830  NaN   NaN       NaN        NaN\n",
       "14831  NaN   NaN       NaN        NaN\n",
       "14832  NaN   NaN       NaN        NaN\n",
       "14833  NaN   NaN       NaN        NaN\n",
       "14834  NaN   NaN       NaN        NaN"
      ]
     },
     "execution_count": 34,
     "metadata": {},
     "output_type": "execute_result"
    }
   ],
   "source": [
    "# check null values\n",
    "spray[spray.isnull()].tail()"
   ]
  },
  {
   "cell_type": "code",
   "execution_count": 35,
   "metadata": {},
   "outputs": [
    {
     "data": {
      "text/html": [
       "<div>\n",
       "<style scoped>\n",
       "    .dataframe tbody tr th:only-of-type {\n",
       "        vertical-align: middle;\n",
       "    }\n",
       "\n",
       "    .dataframe tbody tr th {\n",
       "        vertical-align: top;\n",
       "    }\n",
       "\n",
       "    .dataframe thead th {\n",
       "        text-align: right;\n",
       "    }\n",
       "</style>\n",
       "<table border=\"1\" class=\"dataframe\">\n",
       "  <thead>\n",
       "    <tr style=\"text-align: right;\">\n",
       "      <th></th>\n",
       "      <th>Date</th>\n",
       "      <th>Time</th>\n",
       "      <th>Latitude</th>\n",
       "      <th>Longitude</th>\n",
       "    </tr>\n",
       "  </thead>\n",
       "  <tbody>\n",
       "    <tr>\n",
       "      <th>0</th>\n",
       "      <td>2011-08-29</td>\n",
       "      <td>18.0</td>\n",
       "      <td>42.391623</td>\n",
       "      <td>-88.089163</td>\n",
       "    </tr>\n",
       "    <tr>\n",
       "      <th>1</th>\n",
       "      <td>2011-08-29</td>\n",
       "      <td>18.0</td>\n",
       "      <td>42.391348</td>\n",
       "      <td>-88.089163</td>\n",
       "    </tr>\n",
       "    <tr>\n",
       "      <th>2</th>\n",
       "      <td>2011-08-29</td>\n",
       "      <td>18.0</td>\n",
       "      <td>42.391022</td>\n",
       "      <td>-88.089157</td>\n",
       "    </tr>\n",
       "    <tr>\n",
       "      <th>3</th>\n",
       "      <td>2011-08-29</td>\n",
       "      <td>18.0</td>\n",
       "      <td>42.390637</td>\n",
       "      <td>-88.089158</td>\n",
       "    </tr>\n",
       "    <tr>\n",
       "      <th>4</th>\n",
       "      <td>2011-08-29</td>\n",
       "      <td>18.0</td>\n",
       "      <td>42.390410</td>\n",
       "      <td>-88.088858</td>\n",
       "    </tr>\n",
       "  </tbody>\n",
       "</table>\n",
       "</div>"
      ],
      "text/plain": [
       "         Date  Time   Latitude  Longitude\n",
       "0  2011-08-29  18.0  42.391623 -88.089163\n",
       "1  2011-08-29  18.0  42.391348 -88.089163\n",
       "2  2011-08-29  18.0  42.391022 -88.089157\n",
       "3  2011-08-29  18.0  42.390637 -88.089158\n",
       "4  2011-08-29  18.0  42.390410 -88.088858"
      ]
     },
     "execution_count": 35,
     "metadata": {},
     "output_type": "execute_result"
    }
   ],
   "source": [
    "spray.head()"
   ]
  },
  {
   "cell_type": "markdown",
   "metadata": {},
   "source": [
    "<div class=\"alert alert-block alert-info\">\n",
    "\n",
    "<b>Spray Dataset:</b>\n",
    "- 4 columns, 14835 rows\n",
    "- 541 duplicated values dropped\n",
    "- 584 null rows dropped\n",
    "- 'Time' changed to reflect hour in the day instead\n",
    "- date range : 2011-08-29 to 2013-09-05\n",
    "- unique date counts : 10 (i.e 10 spray dates in date range)\n",
    "\n",
    "</div>"
   ]
  },
  {
   "cell_type": "markdown",
   "metadata": {},
   "source": [
    "***"
   ]
  },
  {
   "cell_type": "markdown",
   "metadata": {},
   "source": [
    "## Edit formats"
   ]
  },
  {
   "cell_type": "code",
   "execution_count": 36,
   "metadata": {},
   "outputs": [],
   "source": [
    "# Map the lowering function to all column names\n",
    "train.columns = map(str.lower, train.columns)\n",
    "test.columns = map(str.lower, test.columns)\n",
    "weather.columns = map(str.lower, weather.columns)\n",
    "spray.columns = map(str.lower, spray.columns)"
   ]
  },
  {
   "cell_type": "code",
   "execution_count": 37,
   "metadata": {},
   "outputs": [],
   "source": [
    "# changes date to datetime formats\n",
    "train['date'] = pd.to_datetime(train['date'], infer_datetime_format=True)\n",
    "test['date'] = pd.to_datetime(test['date'], infer_datetime_format=True)\n",
    "weather['date'] = pd.to_datetime(weather['date'], infer_datetime_format=True)\n",
    "spray['date'] = pd.to_datetime(spray['date'], infer_datetime_format=True)\n"
   ]
  },
  {
   "cell_type": "code",
   "execution_count": null,
   "metadata": {
    "scrolled": true
   },
   "outputs": [],
   "source": [
    "\n"
   ]
  },
  {
   "cell_type": "code",
   "execution_count": null,
   "metadata": {},
   "outputs": [],
   "source": []
  },
  {
   "cell_type": "code",
   "execution_count": null,
   "metadata": {},
   "outputs": [],
   "source": []
  },
  {
   "cell_type": "markdown",
   "metadata": {},
   "source": [
    "## misc"
   ]
  },
  {
   "cell_type": "code",
   "execution_count": 38,
   "metadata": {},
   "outputs": [],
   "source": [
    "#ignore\n",
    "# train['Address'] = train['Address'].astype('category')\n",
    "# train['Species'] = train['Species'].astype('category')\n",
    "# train['Street'] = train['Street'].astype('category')\n",
    "# train['Trap'] = train['Trap'].astype('category')\n",
    "# train['AddressNumberAndStreet'] = train['AddressNumberAndStreet'].astype('category')"
   ]
  },
  {
   "cell_type": "code",
   "execution_count": null,
   "metadata": {
    "scrolled": false
   },
   "outputs": [],
   "source": [
    "# print(\"Original Number rows in Train Dataset: \", len(train))\n",
    "# print(\"Original Number of post in Weather Dataset: \", len(weather))\n",
    "# print(\"Original Number of post in Spray Dataset: \", len(spray))\n",
    "# print('')\n",
    "\n",
    "# print(\"Original Number Duplicates in Train Dataset: \", train.duplicated().sum())\n",
    "# print(\"Original Number Duplicates in Weather Dataset: \", weather.duplicated().sum())\n",
    "# print(\"Original Number Duplicates in Spray Dataset: \", spray.duplicated().sum())\n",
    "# print('')\n",
    "\n",
    "# train.drop_duplicates(inplace = True)\n",
    "# weather.drop_duplicates(inplace = True)\n",
    "# spray.drop_duplicates(inplace = True)\n",
    "\n",
    "# print(\"Number of rows in train w/o duplicates: \", len(train))\n",
    "# print(\"Number of rows in Weather w/o duplicates: \", len(weather))\n",
    "# print(\"Number of rows in spray w/o duplicates: \", len(spray))"
   ]
  },
  {
   "cell_type": "markdown",
   "metadata": {},
   "source": [
    "***"
   ]
  },
  {
   "cell_type": "markdown",
   "metadata": {},
   "source": [
    "## <span style='background :yellow' > EDA</span>"
   ]
  },
  {
   "cell_type": "code",
   "execution_count": null,
   "metadata": {},
   "outputs": [],
   "source": [
    "train['species'].value_counts(normalize = True)"
   ]
  },
  {
   "cell_type": "code",
   "execution_count": null,
   "metadata": {
    "scrolled": false
   },
   "outputs": [],
   "source": [
    "train['species'].value_counts().plot(kind = 'barh', color='Green', figsize=(12,5))\n",
    "plt.title('Total Number of Mosquite Collected (Species)', fontsize=15);"
   ]
  },
  {
   "cell_type": "markdown",
   "metadata": {},
   "source": [
    "##### There are a total of 7 species with culiex pipiens/restuans being the most."
   ]
  },
  {
   "cell_type": "code",
   "execution_count": null,
   "metadata": {},
   "outputs": [],
   "source": [
    "# species and WNV count df\n",
    "species_wnv = pd.DataFrame(train['species'].value_counts()).reset_index()\n",
    "\n",
    "species_wnv = pd.merge(species_wnv, pd.DataFrame(train[train['wnvpresent']==1]['species'].value_counts()).reset_index(), how='left', on='index')\n",
    "\n",
    "species_wnv.columns = ['species', 'num_observations', 'obs_w_wnv']"
   ]
  },
  {
   "cell_type": "code",
   "execution_count": null,
   "metadata": {},
   "outputs": [],
   "source": [
    "species_wnv"
   ]
  },
  {
   "cell_type": "code",
   "execution_count": null,
   "metadata": {},
   "outputs": [],
   "source": [
    "# consider deleting this\n",
    "plt.figure(figsize=(15,5))\n",
    "sns.stripplot(x=\"species\", y=\"num_observations\", data=species_wnv)\n",
    "sns.stripplot(x=\"species\", y=\"obs_w_wnv\", data=species_wnv);"
   ]
  },
  {
   "cell_type": "code",
   "execution_count": null,
   "metadata": {},
   "outputs": [],
   "source": []
  },
  {
   "cell_type": "code",
   "execution_count": null,
   "metadata": {},
   "outputs": [],
   "source": []
  },
  {
   "cell_type": "code",
   "execution_count": null,
   "metadata": {
    "scrolled": true
   },
   "outputs": [],
   "source": [
    "# train['Trap'].value_counts().plot(kind = 'hist')\n",
    "# plt.tight_layout();"
   ]
  },
  {
   "cell_type": "markdown",
   "metadata": {},
   "source": [
    "##### Unbalance data"
   ]
  },
  {
   "cell_type": "code",
   "execution_count": null,
   "metadata": {
    "scrolled": true
   },
   "outputs": [],
   "source": [
    "train.wnvpresent.value_counts()"
   ]
  },
  {
   "cell_type": "code",
   "execution_count": null,
   "metadata": {
    "scrolled": false
   },
   "outputs": [],
   "source": [
    "plt.figure(figsize=(15,5))\n",
    "ax = sns.countplot(x=\"wnvpresent\", palette='Set1_r', data=train)\n",
    "plt.title('Frequency of WNV', fontsize=15)\n",
    "plt.xlabel('Presence of WNV',fontsize=10)\n",
    "plt.ylabel('Occurance of WNV',fontsize=10);"
   ]
  },
  {
   "cell_type": "code",
   "execution_count": null,
   "metadata": {},
   "outputs": [],
   "source": [
    "# Looking at the Frequency of MNV in difference mosquito species\n",
    "plt.figure(figsize=(12,6))\n",
    "sns.barplot(y='species', x='nummosquitos', hue='wnvpresent', data=train, palette='Set1_r', ci=None)\n",
    "plt.title('Presence of WNV and Different Mosquito Species')\n",
    "plt.xlabel('Frequency WNV Present');"
   ]
  },
  {
   "cell_type": "code",
   "execution_count": null,
   "metadata": {
    "scrolled": true
   },
   "outputs": [],
   "source": [
    "# duplicate of above\n",
    "plt.figure(figsize=(15,5))\n",
    "sns.countplot(x='species', hue='wnvpresent', data=train)\n",
    "plt.xticks(rotation=0)\n",
    "plt.legend(['West Nile Virus not present', 'West Nile Virus present'], loc=1)\n",
    "plt.ylabel('Number of Traps with Species')\n",
    "plt.title('Species Collected with WNV', fontsize=15);"
   ]
  },
  {
   "cell_type": "code",
   "execution_count": null,
   "metadata": {},
   "outputs": [],
   "source": [
    "train[train['wnvpresent'] == 1]['species'].unique()"
   ]
  },
  {
   "cell_type": "markdown",
   "metadata": {},
   "source": [
    "##### WNV is only present in the following 3 species of Mosquitos (In train Dataset):\n",
    "- CULEX PIPIENS/RESTUANS\n",
    "- CULEX PIPIENS\n",
    "- CULEX RESTUANS"
   ]
  },
  {
   "cell_type": "code",
   "execution_count": null,
   "metadata": {
    "scrolled": false
   },
   "outputs": [],
   "source": [
    "fig, ax = plt.subplots(figsize=(15,6))\n",
    "ax = sns.violinplot(y= 'wnvpresent', \n",
    "                    x='nummosquitos',\n",
    "                    data=train, \n",
    "                    orient='h', \n",
    "                    hue='wnvpresent',\n",
    "                    palette='Set1_r')\n",
    "\n",
    "ax.set_title('Box Plot of Title Length',fontsize=20)\n",
    "ax.set_xlabel(\"nummosquitos\",fontsize=15)\n",
    "ax.set_ylabel(\"wnvpresent\",fontsize=15)\n",
    "ax.tick_params(labelsize=15)"
   ]
  },
  {
   "cell_type": "markdown",
   "metadata": {},
   "source": [
    "##### With WnvPresent==0, there is quite a number of outliers"
   ]
  },
  {
   "cell_type": "markdown",
   "metadata": {},
   "source": [
    "## <span style='background :yellow' > Feature Engineering </span>"
   ]
  },
  {
   "cell_type": "code",
   "execution_count": null,
   "metadata": {},
   "outputs": [],
   "source": [
    "split_date(train)\n",
    "split_date(test)\n",
    "split_date(weather)\n",
    "split_date(spray)"
   ]
  },
  {
   "cell_type": "code",
   "execution_count": null,
   "metadata": {},
   "outputs": [],
   "source": [
    "plt.subplots(figsize=(20,5))\n",
    "plt.subplot(1,2,1)\n",
    "_=sns.barplot('month','nummosquitos',data=train,hue='wnvpresent')\n",
    "_.set(xticklabels=['May', 'June', 'July', 'August', 'September', 'October'])\n",
    "plt.subplot(1,2,2)\n",
    "sns.barplot('year','nummosquitos',data=train,hue='wnvpresent');"
   ]
  },
  {
   "cell_type": "code",
   "execution_count": null,
   "metadata": {},
   "outputs": [],
   "source": [
    "# add title\n",
    "plt.figure(figsize=(15,5))\n",
    "_ = sns.pointplot(x='month', y=\"nummosquitos\", hue='species', data=train[train['species'].isin(['CULEX PIPIENS', 'CULEX PIPIENS/RESTUANS', 'CULEX RESTUANS'])].groupby(['month', 'species'], as_index=False)['nummosquitos'].mean(),)\n",
    "_.set(xticklabels=['May', 'June', 'July', 'August', 'September', 'October'])\n",
    "plt.ylabel('Average Number of Mosquitos in Trap')\n",
    "#plt.legend(['Culex Pipiens', 'Culex Pipiens/Restuans', 'Culex Restuans'])"
   ]
  },
  {
   "cell_type": "code",
   "execution_count": null,
   "metadata": {},
   "outputs": [],
   "source": [
    "# combining mosquitoes maxed at 50, total mosquitoes\n",
    "train[train.nummosquitos == 50]\n",
    "train.groupby(['date', 'trap', 'species'], as_index=False)['nummosquitos'].sum().sort_values('nummosquitos', ascending=False).head(15)"
   ]
  },
  {
   "cell_type": "code",
   "execution_count": null,
   "metadata": {
    "scrolled": true
   },
   "outputs": [],
   "source": [
    "#merging total mosquitoes with train \n",
    "train = pd.merge(train, train.groupby(['date', 'trap', 'species'], as_index=False)['nummosquitos'].sum(), how='left', on=['date', 'trap', 'species'])\n",
    "train.columns = ['date', 'address', 'species', 'block', 'street', 'trap',\n",
    "       'addressnumberandstreet', 'latitude', 'longitude', 'addressaccuracy',\n",
    "       'nummosquitos', 'wnvpresent', 'year', 'month', 'total_mos']"
   ]
  },
  {
   "cell_type": "code",
   "execution_count": null,
   "metadata": {},
   "outputs": [],
   "source": [
    "train.head()"
   ]
  },
  {
   "cell_type": "markdown",
   "metadata": {},
   "source": [
    "***"
   ]
  },
  {
   "cell_type": "code",
   "execution_count": null,
   "metadata": {},
   "outputs": [],
   "source": [
    "rate = train.groupby(['addressnumberandstreet', 'trap'], as_index=False)['wnvpresent', 'nummosquitos'].sum().sort_values('wnvpresent')"
   ]
  },
  {
   "cell_type": "code",
   "execution_count": null,
   "metadata": {},
   "outputs": [],
   "source": [
    "rate.tail()"
   ]
  },
  {
   "cell_type": "code",
   "execution_count": null,
   "metadata": {},
   "outputs": [],
   "source": [
    "rate['rate_virus'] = rate['wnvpresent']/rate['nummosquitos']"
   ]
  },
  {
   "cell_type": "code",
   "execution_count": null,
   "metadata": {},
   "outputs": [],
   "source": [
    "\n",
    "rate.sort_values('wnvpresent', ascending=False).head(10)"
   ]
  },
  {
   "cell_type": "code",
   "execution_count": null,
   "metadata": {},
   "outputs": [],
   "source": [
    "rate.sort_values('rate_virus', ascending=False).head(25)"
   ]
  },
  {
   "cell_type": "code",
   "execution_count": null,
   "metadata": {},
   "outputs": [],
   "source": [
    "# plot Average Mosquitoes in Trap by Month and Year\n",
    "plt.figure(figsize=(15,5))\n",
    "_ = sns.pointplot(x='month', y=\"nummosquitos\", hue=\"year\", data=train.groupby(['year', 'month'], as_index=False)['nummosquitos'].mean(),)\n",
    "_.set(xticklabels=['May', 'June', 'July', 'August', 'September', 'October'])\n",
    "plt.ylabel('Average Number of Mosquitos in Trap')\n",
    "plt.title('Average Mosquitoes in Trap by Month and Year');"
   ]
  },
  {
   "cell_type": "code",
   "execution_count": null,
   "metadata": {},
   "outputs": [],
   "source": [
    "# plot Average WNV Mosquitoes in Trap by Month and Year\n",
    "plt.figure(figsize=(15,5))\n",
    "_ = sns.pointplot(x='month', y=\"wnvpresent\", hue=\"year\", data=train.groupby(['year', 'month'], as_index=False)['wnvpresent'].mean(),)\n",
    "_.set(xticklabels=['May', 'June', 'July', 'August', 'September', 'October'])\n",
    "plt.ylabel('Average Number of Mosquitos in Trap')\n",
    "plt.title('Average WNV Mosquitoes in Trap by Month and Year');"
   ]
  },
  {
   "cell_type": "code",
   "execution_count": null,
   "metadata": {},
   "outputs": [],
   "source": [
    "# number of traps set by year\n",
    "train.groupby('year')['trap'].count()"
   ]
  },
  {
   "cell_type": "code",
   "execution_count": null,
   "metadata": {},
   "outputs": [],
   "source": [
    "sns.set(font_scale=0.8)\n",
    "fig = plt.figure(figsize=(15,5))\n",
    "ax1 = fig.add_subplot(111)\n",
    "ax1 = sns.pointplot(x='month', y=\"nummosquitos\", data=train.groupby(['month'], as_index=False)['nummosquitos'].mean(),)\n",
    "plt.ylabel('Average Number of Mosquitos in Trap')\n",
    "plt.legend(['Number of Mosquitos'], loc=2)\n",
    "ax2 = ax1.twinx()\n",
    "ax2 = sns.pointplot(x='month', y=\"wnvpresent\", linestyles='-.', color='r', data=train.groupby(['month'], as_index=False)['wnvpresent'].mean(),)\n",
    "ax1.set(xticklabels=['May', 'June', 'July', 'August', 'September', 'October'])\n",
    "plt.ylabel('Average Cases of WNV in Trap')\n",
    "plt.legend(['Cases of West Nile Virus'], loc=1);"
   ]
  },
  {
   "cell_type": "markdown",
   "metadata": {},
   "source": [
    "***"
   ]
  },
  {
   "cell_type": "code",
   "execution_count": null,
   "metadata": {},
   "outputs": [],
   "source": []
  },
  {
   "cell_type": "code",
   "execution_count": null,
   "metadata": {},
   "outputs": [],
   "source": []
  },
  {
   "cell_type": "code",
   "execution_count": null,
   "metadata": {},
   "outputs": [],
   "source": [
    "# split up species\n",
    "# def dummify_species (data):\n",
    "#     #Convert Date column to Date time object\n",
    "#     data['species'] = pd.get_dummies(data, columns = ['species'])   \n",
    "#     return"
   ]
  },
  {
   "cell_type": "code",
   "execution_count": null,
   "metadata": {},
   "outputs": [],
   "source": [
    "# dummify_species(train)\n",
    "# dummify_species(test)"
   ]
  },
  {
   "cell_type": "markdown",
   "metadata": {},
   "source": [
    "## after this point: full pasting of data from \n",
    "https://github.com/dale-wahl/West-Nile-Virus/blob/master/EDA-West%20Nile%20Virus%20-%20Dale.ipynb"
   ]
  },
  {
   "cell_type": "markdown",
   "metadata": {},
   "source": [
    "## WEATHER ED\n",
    "Aweather EDA needs a cleaned up data set - skipping first"
   ]
  },
  {
   "cell_type": "code",
   "execution_count": null,
   "metadata": {},
   "outputs": [],
   "source": [
    "weather.head()"
   ]
  },
  {
   "cell_type": "code",
   "execution_count": null,
   "metadata": {},
   "outputs": [],
   "source": [
    "\n",
    "weather['precip_avg'] = (weather['preciptotal_1'] + weather['preciptotal_2'])/2\n",
    "\n",
    "weather['precip_2w'] = weather['precip_avg'].rolling(14, min_periods=1).sum()\n",
    "\n",
    "weather['precip_4w'] = weather['precip_avg'].rolling(28, min_periods=1).sum()\n",
    "\n",
    "weather['precip_90d'] = weather['precip_avg'].rolling(90, min_periods=1).sum()"
   ]
  },
  {
   "cell_type": "code",
   "execution_count": null,
   "metadata": {},
   "outputs": [],
   "source": [
    "\n",
    "weather['temp_avg'] = (weather['tavg_1'] + weather['tavg_2'])/2\n",
    "\n",
    "weather['tavg_2w'] = weather['temp_avg'].rolling(14, min_periods=1).mean()\n",
    "\n",
    "weather['tavg_4w'] = weather['temp_avg'].rolling(28, min_periods=1).mean()\n",
    "\n",
    "weather['tavg_90d'] = weather['temp_avg'].rolling(90, min_periods=1).mean()"
   ]
  },
  {
   "cell_type": "code",
   "execution_count": null,
   "metadata": {},
   "outputs": [],
   "source": [
    "weather['tempmin_avg'] = (weather['tmin_1'] + weather['tmin_2'])/2\n",
    "\n",
    "weather['mintemp_2w'] = weather['tempmin_avg'].rolling(14, min_periods=1).min()\n",
    "\n",
    "weather['mintemp_4w'] = weather['tempmin_avg'].rolling(28, min_periods=1).min()"
   ]
  },
  {
   "cell_type": "code",
   "execution_count": null,
   "metadata": {},
   "outputs": [],
   "source": [
    "\n",
    "weather['dew_avg'] = (weather['dewpoint_1'] + weather['dewpoint_2'])/2\n",
    "\n",
    "weather['dew_2w'] = weather['dew_avg'].rolling(14, min_periods=1).mean()\n",
    "\n",
    "weather['dew_4w'] = weather['dew_avg'].rolling(28, min_periods=1).mean()"
   ]
  },
  {
   "cell_type": "code",
   "execution_count": null,
   "metadata": {},
   "outputs": [],
   "source": [
    "weather.head()"
   ]
  },
  {
   "cell_type": "code",
   "execution_count": null,
   "metadata": {},
   "outputs": [],
   "source": [
    "train = pd.merge(train, weather, how='left', on='date')"
   ]
  },
  {
   "cell_type": "code",
   "execution_count": null,
   "metadata": {},
   "outputs": [],
   "source": [
    "train.head()"
   ]
  },
  {
   "cell_type": "code",
   "execution_count": null,
   "metadata": {},
   "outputs": [],
   "source": []
  },
  {
   "cell_type": "code",
   "execution_count": null,
   "metadata": {},
   "outputs": [],
   "source": []
  },
  {
   "cell_type": "code",
   "execution_count": null,
   "metadata": {},
   "outputs": [],
   "source": []
  },
  {
   "cell_type": "code",
   "execution_count": null,
   "metadata": {},
   "outputs": [],
   "source": []
  },
  {
   "cell_type": "markdown",
   "metadata": {},
   "source": [
    "****"
   ]
  },
  {
   "cell_type": "markdown",
   "metadata": {},
   "source": [
    "## SPRAY EDA\n"
   ]
  },
  {
   "cell_type": "code",
   "execution_count": null,
   "metadata": {},
   "outputs": [],
   "source": [
    "\n",
    "final_df = pd.get_dummies(train, columns=['Species'])"
   ]
  },
  {
   "cell_type": "code",
   "execution_count": null,
   "metadata": {},
   "outputs": [],
   "source": [
    "#our two origins (the locations with the most WNV activity) are Chicago O'Hare and Doty Ave.\n",
    "#the following values are their latitudes and longitudes\n",
    "ohare_lon = -87.890615\n",
    "ohare_lat = 41.974689\n",
    "doty_lon =-87.599862\n",
    "doty_lat=41.673408"
   ]
  },
  {
   "cell_type": "code",
   "execution_count": null,
   "metadata": {},
   "outputs": [],
   "source": [
    "lat = train.Latitude\n",
    "lon = train.Longitude\n"
   ]
  },
  {
   "cell_type": "code",
   "execution_count": null,
   "metadata": {},
   "outputs": [],
   "source": [
    "\n",
    "#haversine takes two lat and longs and creates a distance, from the mean, in miles\n",
    "from math import radians, cos, sin, asin, sqrt\n",
    "def haversine(lon1, lat1, lon2, lat2):\n",
    "    \"\"\"\n",
    "    Calculate the great circle distance between two points \n",
    "    on the earth (specified in decimal degrees)\n",
    "    \"\"\"\n",
    "    # convert decimal degrees to radians \n",
    "    lon1, lat1, lon2, lat2 = map(radians, [lon1, lat1, lon2, lat2])\n",
    "    # haversine formula \n",
    "    dlon = lon2 - lon1 \n",
    "    dlat = lat2 - lat1 \n",
    "    a = sin(dlat/2)**2 + cos(lat1) * cos(lat2) * sin(dlon/2)**2\n",
    "    c = 2 * asin(sqrt(a)) \n",
    "    mi = 3956   * c #Radius of earth in miles. Use 6367 for kilometers\n",
    "    return mi, dlon, dlat"
   ]
  },
  {
   "cell_type": "code",
   "execution_count": null,
   "metadata": {},
   "outputs": [],
   "source": [
    "\n",
    "#apply haversine function to training dataset, creating a column called 'dist_from_ohare_MI'\n",
    "final_df['dist_from_ohare_MI'] = [haversine(y, x, ohare_lon, ohare_lat)[0] for y, x in zip(lon, lat)]\n",
    "#apply haversine function to training dataset, creating a column called 'dist_from_doty_MI'\n",
    "final_df['dist_from_doty_MI'] = [haversine(y, x, doty_lon, doty_lat)[0] for y, x in zip(lon, lat)]"
   ]
  },
  {
   "cell_type": "code",
   "execution_count": null,
   "metadata": {},
   "outputs": [],
   "source": [
    "# Get a lat and long for each trap\n",
    "trap_locs = train.groupby(['trap'], as_index=False)['latitude', 'longitude'].mean().dropna().reset_index().drop('index', 1)"
   ]
  },
  {
   "cell_type": "code",
   "execution_count": null,
   "metadata": {},
   "outputs": [],
   "source": [
    "trap_locs.head()"
   ]
  },
  {
   "cell_type": "code",
   "execution_count": null,
   "metadata": {},
   "outputs": [],
   "source": [
    "trap_name = np.array(trap_locs.trap)\n",
    "trap_lat = np.array(trap_locs.latitude)\n",
    "trap_lon = np.array(trap_locs.longitude)"
   ]
  },
  {
   "cell_type": "code",
   "execution_count": null,
   "metadata": {},
   "outputs": [],
   "source": [
    "# this should go through each trap and check to see if the spray truck is close\n",
    "def check_traps(row):\n",
    "    distance = [haversine(lon1=row['longitude'], lat1=row['Latitude'], lon2=trap_lon[i], lat2=trap_lat[i])[0] for i in range(len(trap_name))]\n",
    "    for a, b in enumerate(distance):\n",
    "        if b < 1:\n",
    "            spray.set_value(row.name,trap_name[a],1)\n",
    "            break \n",
    "        else:\n",
    "            spray.set_value(row.name,trap_name[a],0)"
   ]
  },
  {
   "cell_type": "code",
   "execution_count": null,
   "metadata": {},
   "outputs": [],
   "source": [
    "# create groupby on days and note if the truck was within a mile\n",
    "spray_days = spray.groupby('Date', as_index=False)[trap_name].max()"
   ]
  },
  {
   "cell_type": "code",
   "execution_count": null,
   "metadata": {},
   "outputs": [],
   "source": [
    "spray.Date.unique()"
   ]
  },
  {
   "cell_type": "code",
   "execution_count": null,
   "metadata": {},
   "outputs": [],
   "source": [
    "spray_days"
   ]
  },
  {
   "cell_type": "code",
   "execution_count": null,
   "metadata": {},
   "outputs": [],
   "source": [
    "from datetime import timedelta\n",
    "spray_weeks = []\n",
    "for i in spray.Date.unique():\n",
    "    spray_weeks.append([pd.to_datetime(i) + timedelta(days=a) for a in range(1,15)])"
   ]
  },
  {
   "cell_type": "code",
   "execution_count": null,
   "metadata": {},
   "outputs": [],
   "source": [
    "final_df[final_df['Date']=='2011-09-01'].head()"
   ]
  },
  {
   "cell_type": "code",
   "execution_count": null,
   "metadata": {},
   "outputs": [],
   "source": [
    "\n",
    "final_df['sprayed_14days'] = 0\n",
    "def spray_truck(row):\n",
    "    for num, i in enumerate(spray_weeks):\n",
    "        if row['Date'] not in i:\n",
    "            continue\n",
    "        else:\n",
    "            if spray_days.iloc[num][row['Trap']] == 1:\n",
    "                return 1\n",
    "            else:\n",
    "                continue"
   ]
  },
  {
   "cell_type": "code",
   "execution_count": null,
   "metadata": {},
   "outputs": [],
   "source": [
    "\n",
    "final_df['sprayed_14days'] = final_df.apply(spray_truck, axis=1)"
   ]
  },
  {
   "cell_type": "code",
   "execution_count": null,
   "metadata": {},
   "outputs": [],
   "source": [
    "final_df['sprayed_14days'] = final_df['sprayed_14days'].fillna(0)\n",
    "final_df['sprayed_14days'].value_counts()"
   ]
  },
  {
   "cell_type": "code",
   "execution_count": null,
   "metadata": {},
   "outputs": [],
   "source": [
    "#Spray was not a good predictor for WNV, but maybe mosquitoes?"
   ]
  },
  {
   "cell_type": "code",
   "execution_count": null,
   "metadata": {},
   "outputs": [],
   "source": [
    "# These are the days we're looking at:\n",
    "spray.Date.unique()"
   ]
  },
  {
   "cell_type": "code",
   "execution_count": null,
   "metadata": {},
   "outputs": [],
   "source": [
    "\n",
    "mosquitoes = train.groupby(['Date', 'Trap'], as_index=False)['NumMosquitos'].sum().dropna()"
   ]
  },
  {
   "cell_type": "code",
   "execution_count": null,
   "metadata": {},
   "outputs": [],
   "source": [
    "mosquitoes['sprayed_14days'] = mosquitoes.apply(spray_truck, axis=1).fillna(0)"
   ]
  },
  {
   "cell_type": "code",
   "execution_count": null,
   "metadata": {},
   "outputs": [],
   "source": [
    "# These two traps were sprayed in 2011\n",
    "mosquitoes[(mosquitoes['Date'] > '2011') & (mosquitoes['Date'] < '2012') & (mosquitoes['sprayed_14days']==1)]\n",
    "# T002 & T233"
   ]
  },
  {
   "cell_type": "code",
   "execution_count": null,
   "metadata": {},
   "outputs": [],
   "source": [
    "mosquitoes2011 = mosquitoes[(mosquitoes['Date'] > '2011') & (mosquitoes['Date'] < '2012')]"
   ]
  },
  {
   "cell_type": "code",
   "execution_count": null,
   "metadata": {},
   "outputs": [],
   "source": [
    "# Averages in all other traps; unfortunately it is hard to compare one trap to another\n",
    "mosquitoes2011[(mosquitoes2011['Trap'] != 'T002') | (mosquitoes2011['Trap'] != 'T233')].groupby('Date')['NumMosquitos'].mean()"
   ]
  },
  {
   "cell_type": "code",
   "execution_count": null,
   "metadata": {},
   "outputs": [],
   "source": [
    "\n",
    "#Averages of the two sprayed traps\n",
    "mosquitoes2011[(mosquitoes2011['Trap'] == 'T002') | (mosquitoes2011['Trap'] == 'T233')].groupby('Date')['NumMosquitos'].mean()"
   ]
  },
  {
   "cell_type": "code",
   "execution_count": null,
   "metadata": {},
   "outputs": [],
   "source": [
    "\n",
    "mosquitoes[(mosquitoes['Date'] > '2011') & (mosquitoes['Date'] < '2012') & (mosquitoes['Trap']=='T223')]"
   ]
  },
  {
   "cell_type": "code",
   "execution_count": null,
   "metadata": {},
   "outputs": [],
   "source": [
    "#traps spreadyed in 2013\n",
    "sprayed_2013=list(mosquitoes[(mosquitoes['Date'] > '2013') & (mosquitoes['Date'] < '2014') & (mosquitoes['sprayed_14days']==1)]['Trap'].unique())"
   ]
  },
  {
   "cell_type": "code",
   "execution_count": null,
   "metadata": {},
   "outputs": [],
   "source": [
    "mosquitoes2013 = mosquitoes[(mosquitoes['Date'] > '2013') & (mosquitoes['Date'] < '2014')]"
   ]
  },
  {
   "cell_type": "code",
   "execution_count": null,
   "metadata": {},
   "outputs": [],
   "source": [
    "\n",
    "spray.Date.unique()[2:]"
   ]
  },
  {
   "cell_type": "code",
   "execution_count": null,
   "metadata": {},
   "outputs": [],
   "source": [
    "unsprayed_traps_2013 = mosquitoes2013[mosquitoes2013['Trap'].isin(sprayed_2013)].groupby('Date')['NumMosquitos'].mean()\n",
    "unsprayed_traps_2013"
   ]
  },
  {
   "cell_type": "code",
   "execution_count": null,
   "metadata": {},
   "outputs": [],
   "source": [
    "sprayed_traps_2013 = mosquitoes2013[~mosquitoes2013['Trap'].isin(sprayed_2013)].groupby('Date')['NumMosquitos'].mean()\n",
    "sprayed_traps_2013"
   ]
  },
  {
   "cell_type": "code",
   "execution_count": null,
   "metadata": {},
   "outputs": [],
   "source": [
    "after_sprays = unsprayed_traps_2013.copy()\n",
    "for i in range(len(after_sprays)):\n",
    "    after_sprays[i]=0\n",
    "after_sprays[7] = 50\n",
    "after_sprays[8] = 50\n",
    "after_sprays[10] = 50\n",
    "after_sprays[12] = 50\n",
    "after_sprays[13] = 50\n",
    "after_sprays[14] = 50"
   ]
  },
  {
   "cell_type": "code",
   "execution_count": null,
   "metadata": {},
   "outputs": [],
   "source": [
    "after_sprays[[7,8,10,12,13,14]]"
   ]
  },
  {
   "cell_type": "code",
   "execution_count": null,
   "metadata": {},
   "outputs": [],
   "source": [
    "fig, ax = plt.subplots()\n",
    "import matplotlib.lines as mlines\n",
    "sns.pointplot(unsprayed_traps_2013.index, unsprayed_traps_2013.values, color='blue')\n",
    "sns.pointplot(sprayed_traps_2013.index, sprayed_traps_2013.values, color='r')\n",
    "sns.pointplot(after_sprays.index, after_sprays.values, linestyles='', color='black')\n",
    "\n",
    "plt.xticks(rotation=45)\n",
    "blue_line = mlines.Line2D([],[],color='blue', label='Unsprayed Traps')\n",
    "red_line = mlines.Line2D([],[],color='red', label='Sprayed Traps')\n",
    "black_line = mlines.Line2D([],[],color='black', label='Spray Days')\n",
    "plt.ylabel('Average Mosquitos in Trap')\n",
    "plt.legend(handles=[blue_line, red_line, black_line])"
   ]
  },
  {
   "cell_type": "code",
   "execution_count": null,
   "metadata": {},
   "outputs": [],
   "source": [
    "print(list(final_df.columns))"
   ]
  },
  {
   "cell_type": "markdown",
   "metadata": {},
   "source": [
    "## Test Model"
   ]
  },
  {
   "cell_type": "code",
   "execution_count": null,
   "metadata": {},
   "outputs": [],
   "source": [
    "from sklearn.model_selection import train_test_split, cross_val_score"
   ]
  },
  {
   "cell_type": "code",
   "execution_count": null,
   "metadata": {},
   "outputs": [],
   "source": [
    "df_train, df_test = train_test_split(final_df.drop(['Date', 'Address', 'Block', 'Street', 'AddressNumberAndStreet', 'NumMosquitos', 'st1_CodeSum', 'st2_CodeSum'], 1), test_size=0.3, random_state=42)"
   ]
  },
  {
   "cell_type": "code",
   "execution_count": null,
   "metadata": {},
   "outputs": [],
   "source": [
    "test_features = final_df[['sprayed_14days', 'Latitude', 'Longitude', 'WnvPresent', 'st1_Tmax', 'st1_Tmin', 'st1_Tavg', 'st1_DewPoint', 'st1_WetBulb', 'st1_SnowFall', 'st1_PrecipTotal', 'st1_StnPressure', 'st1_SeaLevel', 'st1_ResultSpeed', 'st1_ResultDir', 'st1_AvgSpeed', 'st2_Tmax', 'st2_Tmin', 'st2_Tavg', 'st2_DewPoint', 'st2_WetBulb', 'st2_SnowFall', 'st2_PrecipTotal', 'st2_StnPressure', 'st2_SeaLevel', 'st2_ResultSpeed', 'st2_ResultDir', 'st2_AvgSpeed', 'precip_avg', '2wk_precip', '4wk_precip', '90day_precip', 'temp_avg', '2wk_tavg', '4wk_tavg', '90day_tavg', 'tempmin_avg', '2wk_mintemp', '4wk_mintemp', 'dew_avg', '2wk_dew', '4wk_dew', 'Species_CULEX ERRATICUS', 'Species_CULEX PIPIENS', 'Species_CULEX PIPIENS/RESTUANS', 'Species_CULEX RESTUANS', 'Species_CULEX SALINARIUS', 'Species_CULEX TARSALIS', 'Species_CULEX TERRITANS', 'Month', 'Day', 'dist_from_ohare_MI', 'dist_from_doty_MI']]"
   ]
  },
  {
   "cell_type": "code",
   "execution_count": null,
   "metadata": {},
   "outputs": [],
   "source": [
    "\n",
    "df_train, df_test = train_test_split(test_features, test_size=0.3, random_state=42)"
   ]
  },
  {
   "cell_type": "code",
   "execution_count": null,
   "metadata": {},
   "outputs": [],
   "source": [
    "\n",
    "from sklearn.metrics import confusion_matrix, accuracy_score, precision_score, roc_auc_score\n",
    "\n",
    "def eval_sklearn_model(y_true, predictions, model=None, X=None):\n",
    "    \"\"\"This function takes the true values for y and the predictions made by the model and prints out the confusion matrix along with Accuracy, Precision, and, if model and X provided, Roc_Auc Scores.\"\"\"\n",
    "    cnf_matrix = confusion_matrix(y_true, predictions)\n",
    "\n",
    "    print('True Negative: ', cnf_matrix[0, 0], '| False Positive: ', cnf_matrix[0, 1])\n",
    "    print('False Negative: ', cnf_matrix[1, 0], '| True Positive: ', cnf_matrix[1, 1], '\\n')\n",
    "\n",
    "    sensitivity = cnf_matrix[1, 1]/ (cnf_matrix[1, 0] + cnf_matrix[1, 1])\n",
    "    specificity = cnf_matrix[0, 0]/ (cnf_matrix[0, 1] + cnf_matrix[0, 0])\n",
    "\n",
    "    print('Sensitivity (TP/ TP + FN): ', sensitivity)\n",
    "    print('Specificity (TN/ TN + FP): ', specificity, '\\n')\n",
    "\n",
    "    print('Accuracy: ', accuracy_score(y_true, predictions, normalize=True))\n",
    "    print('Precision: ', precision_score(y_true, predictions))\n",
    "    if model != None:\n",
    "        print('Roc-Auc: ', roc_auc_score(y_true, [x[1] for x in model.predict_proba(X)]))\n",
    "    else:\n",
    "        pass\n",
    "    print('\\n')"
   ]
  },
  {
   "cell_type": "code",
   "execution_count": null,
   "metadata": {},
   "outputs": [],
   "source": [
    "from xgboost import XGBClassifier"
   ]
  },
  {
   "cell_type": "code",
   "execution_count": null,
   "metadata": {},
   "outputs": [],
   "source": [
    "df_train.WnvPresent.value_counts()"
   ]
  },
  {
   "cell_type": "code",
   "execution_count": null,
   "metadata": {},
   "outputs": [],
   "source": [
    "\n",
    "xgb = XGBClassifier(scale_pos_weight=(6969/385), objective='binary:logistic')\n",
    "# make sure to pick the correct objective for the problem\n",
    "# scale_pos_weight is supposed to help with unbalanced classes; it recommended number of negative cases divided by positive\n",
    "xgb.fit(df_train.drop('WnvPresent', 1), df_train.WnvPresent)"
   ]
  },
  {
   "cell_type": "code",
   "execution_count": null,
   "metadata": {},
   "outputs": [],
   "source": [
    "test_predictions = xgb.predict(df_test.drop('WnvPresent', 1))\n",
    "eval_sklearn_model(df_test.WnvPresent, test_predictions)"
   ]
  },
  {
   "cell_type": "code",
   "execution_count": null,
   "metadata": {},
   "outputs": [],
   "source": [
    "feature_import = xgb.feature_importances_"
   ]
  },
  {
   "cell_type": "code",
   "execution_count": null,
   "metadata": {},
   "outputs": [],
   "source": [
    "\n",
    "features = df_test.drop('WnvPresent', 1).columns"
   ]
  },
  {
   "cell_type": "code",
   "execution_count": null,
   "metadata": {},
   "outputs": [],
   "source": [
    "pd.set_option('display.max_rows',60)"
   ]
  },
  {
   "cell_type": "code",
   "execution_count": null,
   "metadata": {},
   "outputs": [],
   "source": [
    "pd.DataFrame(columns=['feature', 'import'], data=list(zip(features, feature_import))).sort_values('import',ascending=False)"
   ]
  },
  {
   "cell_type": "code",
   "execution_count": null,
   "metadata": {},
   "outputs": [],
   "source": [
    "\n",
    "# Run on full data\n",
    "final_df.WnvPresent.value_counts()"
   ]
  },
  {
   "cell_type": "code",
   "execution_count": null,
   "metadata": {},
   "outputs": [],
   "source": [
    "\n",
    "xgb = XGBClassifier(scale_pos_weight=(9955/551), objective='binary:logistic')\n",
    "xgb.fit(test_features.drop('WnvPresent', 1), test_features.WnvPresent)"
   ]
  },
  {
   "cell_type": "markdown",
   "metadata": {},
   "source": [
    "## Prep test"
   ]
  },
  {
   "cell_type": "code",
   "execution_count": null,
   "metadata": {},
   "outputs": [],
   "source": [
    "test[\"Date\"] = pd.to_datetime(test[\"Date\"], infer_datetime_format=True)"
   ]
  },
  {
   "cell_type": "code",
   "execution_count": null,
   "metadata": {},
   "outputs": [],
   "source": [
    "test['Address'] = test['Address'].astype('category')\n",
    "test['Species'] = test['Species'].astype('category')\n",
    "test['Street'] = test['Street'].astype('category')\n",
    "test['Trap'] = test['Trap'].astype('category')\n",
    "test['AddressNumberAndStreet'] = test['AddressNumberAndStreet'].astype('category')"
   ]
  },
  {
   "cell_type": "code",
   "execution_count": null,
   "metadata": {},
   "outputs": [],
   "source": [
    "\n",
    "test = pd.merge(test, weather, how='left', on='Date')"
   ]
  },
  {
   "cell_type": "code",
   "execution_count": null,
   "metadata": {},
   "outputs": [],
   "source": [
    "\n",
    "test = pd.get_dummies(test, columns=['Species'])"
   ]
  },
  {
   "cell_type": "code",
   "execution_count": null,
   "metadata": {},
   "outputs": [],
   "source": [
    "test['Month'] = test['Date'].dt.month\n",
    "test[\"Day\"] = test['Date'].dt.dayofyear"
   ]
  },
  {
   "cell_type": "code",
   "execution_count": null,
   "metadata": {},
   "outputs": [],
   "source": [
    "lat = test.Latitude\n",
    "lon = test.Longitude"
   ]
  },
  {
   "cell_type": "code",
   "execution_count": null,
   "metadata": {},
   "outputs": [],
   "source": [
    "#apply haversine function to training dataset, creating a column called 'dist_from_ohare_MI'\n",
    "test['dist_from_ohare_MI'] = [haversine(y, x, ohare_lon, ohare_lat)[0] for y, x in zip(lon, lat)]\n",
    "#apply haversine function to training dataset, creating a column called 'dist_from_doty_MI'\n",
    "test['dist_from_doty_MI'] = [haversine(y, x, doty_lon, doty_lat)[0] for y, x in zip(lon, lat)]"
   ]
  },
  {
   "cell_type": "code",
   "execution_count": null,
   "metadata": {},
   "outputs": [],
   "source": [
    "#predictions = xgb.predict(test.drop(['Date', 'Address', 'Block', 'Street', 'AddressNumberAndStreet', 'st1_CodeSum', 'st2_CodeSum'], 1))\n",
    "# ValueError: test data apparently has more damn columns!"
   ]
  },
  {
   "cell_type": "code",
   "execution_count": null,
   "metadata": {},
   "outputs": [],
   "source": [
    "test.drop(['Date', 'Address', 'Block', 'Street', 'AddressNumberAndStreet', 'st1_CodeSum', 'st2_CodeSum'], 1).shape\n",
    "# 6 more columns!"
   ]
  },
  {
   "cell_type": "code",
   "execution_count": null,
   "metadata": {},
   "outputs": [],
   "source": [
    "\n",
    "for i in test.columns:\n",
    "    if i in final_df.columns:\n",
    "        pass\n",
    "    else:\n",
    "        print(i)"
   ]
  },
  {
   "cell_type": "code",
   "execution_count": null,
   "metadata": {},
   "outputs": [],
   "source": [
    "pred_features = test[['Latitude', 'Longitude', 'st1_Tmax', 'st1_Tmin', 'st1_Tavg', 'st1_DewPoint', 'st1_WetBulb', 'st1_SnowFall', 'st1_PrecipTotal', 'st1_StnPressure', 'st1_SeaLevel', 'st1_ResultSpeed', 'st1_ResultDir', 'st1_AvgSpeed', 'st2_Tmax', 'st2_Tmin', 'st2_Tavg', 'st2_DewPoint', 'st2_WetBulb', 'st2_SnowFall', 'st2_PrecipTotal', 'st2_StnPressure', 'st2_SeaLevel', 'st2_ResultSpeed', 'st2_ResultDir', 'st2_AvgSpeed', 'precip_avg', '2wk_precip', '4wk_precip', '90day_precip', 'temp_avg', '2wk_tavg', '4wk_tavg', '90day_tavg', 'tempmin_avg', '2wk_mintemp', '4wk_mintemp', 'dew_avg', '2wk_dew', '4wk_dew', 'Species_CULEX ERRATICUS', 'Species_CULEX PIPIENS', 'Species_CULEX PIPIENS/RESTUANS', 'Species_CULEX RESTUANS', 'Species_CULEX SALINARIUS', 'Species_CULEX TARSALIS', 'Species_CULEX TERRITANS', 'Month', 'Day', 'dist_from_ohare_MI', 'dist_from_doty_MI']]"
   ]
  },
  {
   "cell_type": "code",
   "execution_count": null,
   "metadata": {},
   "outputs": [],
   "source": [
    "# fuck it, drop them and sort it later!\n",
    "predictions = xgb.predict(pred_features)"
   ]
  },
  {
   "cell_type": "code",
   "execution_count": null,
   "metadata": {},
   "outputs": [],
   "source": [
    "submission = pd.DataFrame(columns=['Id', 'WnvPresent'], data=list(zip(test.Id, predictions)))"
   ]
  },
  {
   "cell_type": "code",
   "execution_count": null,
   "metadata": {},
   "outputs": [],
   "source": []
  },
  {
   "cell_type": "code",
   "execution_count": null,
   "metadata": {},
   "outputs": [],
   "source": []
  },
  {
   "cell_type": "code",
   "execution_count": null,
   "metadata": {},
   "outputs": [],
   "source": []
  },
  {
   "cell_type": "code",
   "execution_count": null,
   "metadata": {},
   "outputs": [],
   "source": []
  },
  {
   "cell_type": "code",
   "execution_count": null,
   "metadata": {},
   "outputs": [],
   "source": []
  },
  {
   "cell_type": "code",
   "execution_count": null,
   "metadata": {},
   "outputs": [],
   "source": []
  }
 ],
 "metadata": {
  "kernelspec": {
   "display_name": "Python 3",
   "language": "python",
   "name": "python3"
  },
  "language_info": {
   "codemirror_mode": {
    "name": "ipython",
    "version": 3
   },
   "file_extension": ".py",
   "mimetype": "text/x-python",
   "name": "python",
   "nbconvert_exporter": "python",
   "pygments_lexer": "ipython3",
   "version": "3.7.6"
  }
 },
 "nbformat": 4,
 "nbformat_minor": 4
}
