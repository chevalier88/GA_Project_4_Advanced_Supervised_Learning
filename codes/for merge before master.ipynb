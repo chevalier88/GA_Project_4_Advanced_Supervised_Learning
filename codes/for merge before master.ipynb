{
 "cells": [
  {
   "cell_type": "code",
   "execution_count": 1,
   "metadata": {},
   "outputs": [],
   "source": [
    "import pandas as pd \n",
    "import numpy as np\n",
    "import matplotlib.pyplot as plt \n",
    "import seaborn as sns \n",
    "\n",
    "sns.set_style('whitegrid')\n",
    "\n",
    "import warnings\n",
    "warnings.filterwarnings('ignore')\n",
    "\n",
    "%matplotlib inline"
   ]
  },
  {
   "cell_type": "code",
   "execution_count": 2,
   "metadata": {},
   "outputs": [],
   "source": [
    "# Importing Datasets (all)\n",
    "train = pd.read_csv('../assets/train.csv')\n",
    "test = pd.read_csv('../assets/test.csv', index_col='Id')\n",
    "weather = pd.read_csv('../assets/weather.csv')\n",
    "spray = pd.read_csv('../assets/spray.csv')"
   ]
  },
  {
   "cell_type": "code",
   "execution_count": 78,
   "metadata": {},
   "outputs": [],
   "source": [
    "# show all rows and columns\n",
    "pd.set_option('display.max_columns', None)\n",
    "pd.set_option('display.max_rows', None)"
   ]
  },
  {
   "cell_type": "markdown",
   "metadata": {},
   "source": [
    "#### Defined Functions"
   ]
  },
  {
   "cell_type": "code",
   "execution_count": 3,
   "metadata": {},
   "outputs": [],
   "source": [
    "def eda(dataframe):\n",
    "    \"\"\"Runs basic EDA on dataframe.\"\"\"\n",
    "    print(\"dataframe shape \\n\", dataframe.shape, '\\n')\n",
    "    print(\"dataframe types \\n\", dataframe.dtypes, '\\n')\n",
    "    print(\"dataframe describe \\n\", dataframe.describe(), '\\n')\n",
    "    print(\"dataframe describe \\n\", dataframe.describe(exclude=np.number).T, '\\n')\n",
    "    print(\"missing values \\n\", dataframe.isnull().sum(), '\\n')\n",
    "    print(\"duplicate values \\n\", dataframe.duplicated().sum(), '\\n')\n",
    "    print(\"dataframe columns \\n\", dataframe.columns, '\\n')\n",
    "    \n",
    "    #check if column is unique\n",
    "    for i in dataframe.columns:\n",
    "        print('{} is unique: {}'.format(i, dataframe[i].is_unique))"
   ]
  },
  {
   "cell_type": "code",
   "execution_count": 4,
   "metadata": {},
   "outputs": [],
   "source": [
    "def split_date (data):\n",
    "    \"\"\"split into year and month\"\"\"\n",
    "    data['year'] = data.date.dt.year\n",
    "    data['month'] = data.date.dt.month\n",
    "    return"
   ]
  },
  {
   "cell_type": "markdown",
   "metadata": {},
   "source": [
    "## <span style='background :yellow' > Train and Test Dataset </span>"
   ]
  },
  {
   "cell_type": "markdown",
   "metadata": {},
   "source": [
    "##### Notes: \n",
    "- train set has 12 columns, test set has 10 columns. 'NumMosquitos' and 'WnvPresent' not found in test set\n",
    "- 'WnvPresent' is our target column. \n",
    "- train has 10506 rows, test set has 116293 rows. \n",
    "- no nulls in both\n",
    "\n",
    "\n",
    "There is no mosquito information so our predictions have to be based on weather, location, time, and spraying\n",
    ".. to add on later"
   ]
  },
  {
   "cell_type": "code",
   "execution_count": 5,
   "metadata": {},
   "outputs": [
    {
     "data": {
      "text/html": [
       "<div>\n",
       "<style scoped>\n",
       "    .dataframe tbody tr th:only-of-type {\n",
       "        vertical-align: middle;\n",
       "    }\n",
       "\n",
       "    .dataframe tbody tr th {\n",
       "        vertical-align: top;\n",
       "    }\n",
       "\n",
       "    .dataframe thead th {\n",
       "        text-align: right;\n",
       "    }\n",
       "</style>\n",
       "<table border=\"1\" class=\"dataframe\">\n",
       "  <thead>\n",
       "    <tr style=\"text-align: right;\">\n",
       "      <th></th>\n",
       "      <th>Date</th>\n",
       "      <th>Address</th>\n",
       "      <th>Species</th>\n",
       "      <th>Block</th>\n",
       "      <th>Street</th>\n",
       "      <th>Trap</th>\n",
       "      <th>AddressNumberAndStreet</th>\n",
       "      <th>Latitude</th>\n",
       "      <th>Longitude</th>\n",
       "      <th>AddressAccuracy</th>\n",
       "      <th>NumMosquitos</th>\n",
       "      <th>WnvPresent</th>\n",
       "    </tr>\n",
       "  </thead>\n",
       "  <tbody>\n",
       "    <tr>\n",
       "      <th>0</th>\n",
       "      <td>2007-05-29</td>\n",
       "      <td>4100 North Oak Park Avenue, Chicago, IL 60634,...</td>\n",
       "      <td>CULEX PIPIENS/RESTUANS</td>\n",
       "      <td>41</td>\n",
       "      <td>N OAK PARK AVE</td>\n",
       "      <td>T002</td>\n",
       "      <td>4100  N OAK PARK AVE, Chicago, IL</td>\n",
       "      <td>41.954690</td>\n",
       "      <td>-87.800991</td>\n",
       "      <td>9</td>\n",
       "      <td>1</td>\n",
       "      <td>0</td>\n",
       "    </tr>\n",
       "    <tr>\n",
       "      <th>1</th>\n",
       "      <td>2007-05-29</td>\n",
       "      <td>4100 North Oak Park Avenue, Chicago, IL 60634,...</td>\n",
       "      <td>CULEX RESTUANS</td>\n",
       "      <td>41</td>\n",
       "      <td>N OAK PARK AVE</td>\n",
       "      <td>T002</td>\n",
       "      <td>4100  N OAK PARK AVE, Chicago, IL</td>\n",
       "      <td>41.954690</td>\n",
       "      <td>-87.800991</td>\n",
       "      <td>9</td>\n",
       "      <td>1</td>\n",
       "      <td>0</td>\n",
       "    </tr>\n",
       "    <tr>\n",
       "      <th>2</th>\n",
       "      <td>2007-05-29</td>\n",
       "      <td>6200 North Mandell Avenue, Chicago, IL 60646, USA</td>\n",
       "      <td>CULEX RESTUANS</td>\n",
       "      <td>62</td>\n",
       "      <td>N MANDELL AVE</td>\n",
       "      <td>T007</td>\n",
       "      <td>6200  N MANDELL AVE, Chicago, IL</td>\n",
       "      <td>41.994991</td>\n",
       "      <td>-87.769279</td>\n",
       "      <td>9</td>\n",
       "      <td>1</td>\n",
       "      <td>0</td>\n",
       "    </tr>\n",
       "    <tr>\n",
       "      <th>3</th>\n",
       "      <td>2007-05-29</td>\n",
       "      <td>7900 West Foster Avenue, Chicago, IL 60656, USA</td>\n",
       "      <td>CULEX PIPIENS/RESTUANS</td>\n",
       "      <td>79</td>\n",
       "      <td>W FOSTER AVE</td>\n",
       "      <td>T015</td>\n",
       "      <td>7900  W FOSTER AVE, Chicago, IL</td>\n",
       "      <td>41.974089</td>\n",
       "      <td>-87.824812</td>\n",
       "      <td>8</td>\n",
       "      <td>1</td>\n",
       "      <td>0</td>\n",
       "    </tr>\n",
       "    <tr>\n",
       "      <th>4</th>\n",
       "      <td>2007-05-29</td>\n",
       "      <td>7900 West Foster Avenue, Chicago, IL 60656, USA</td>\n",
       "      <td>CULEX RESTUANS</td>\n",
       "      <td>79</td>\n",
       "      <td>W FOSTER AVE</td>\n",
       "      <td>T015</td>\n",
       "      <td>7900  W FOSTER AVE, Chicago, IL</td>\n",
       "      <td>41.974089</td>\n",
       "      <td>-87.824812</td>\n",
       "      <td>8</td>\n",
       "      <td>4</td>\n",
       "      <td>0</td>\n",
       "    </tr>\n",
       "  </tbody>\n",
       "</table>\n",
       "</div>"
      ],
      "text/plain": [
       "         Date                                            Address  \\\n",
       "0  2007-05-29  4100 North Oak Park Avenue, Chicago, IL 60634,...   \n",
       "1  2007-05-29  4100 North Oak Park Avenue, Chicago, IL 60634,...   \n",
       "2  2007-05-29  6200 North Mandell Avenue, Chicago, IL 60646, USA   \n",
       "3  2007-05-29    7900 West Foster Avenue, Chicago, IL 60656, USA   \n",
       "4  2007-05-29    7900 West Foster Avenue, Chicago, IL 60656, USA   \n",
       "\n",
       "                  Species  Block           Street  Trap  \\\n",
       "0  CULEX PIPIENS/RESTUANS     41   N OAK PARK AVE  T002   \n",
       "1          CULEX RESTUANS     41   N OAK PARK AVE  T002   \n",
       "2          CULEX RESTUANS     62    N MANDELL AVE  T007   \n",
       "3  CULEX PIPIENS/RESTUANS     79     W FOSTER AVE  T015   \n",
       "4          CULEX RESTUANS     79     W FOSTER AVE  T015   \n",
       "\n",
       "              AddressNumberAndStreet   Latitude  Longitude  AddressAccuracy  \\\n",
       "0  4100  N OAK PARK AVE, Chicago, IL  41.954690 -87.800991                9   \n",
       "1  4100  N OAK PARK AVE, Chicago, IL  41.954690 -87.800991                9   \n",
       "2   6200  N MANDELL AVE, Chicago, IL  41.994991 -87.769279                9   \n",
       "3    7900  W FOSTER AVE, Chicago, IL  41.974089 -87.824812                8   \n",
       "4    7900  W FOSTER AVE, Chicago, IL  41.974089 -87.824812                8   \n",
       "\n",
       "   NumMosquitos  WnvPresent  \n",
       "0             1           0  \n",
       "1             1           0  \n",
       "2             1           0  \n",
       "3             1           0  \n",
       "4             4           0  "
      ]
     },
     "execution_count": 5,
     "metadata": {},
     "output_type": "execute_result"
    }
   ],
   "source": [
    "train.head()"
   ]
  },
  {
   "cell_type": "code",
   "execution_count": 6,
   "metadata": {},
   "outputs": [
    {
     "data": {
      "text/html": [
       "<div>\n",
       "<style scoped>\n",
       "    .dataframe tbody tr th:only-of-type {\n",
       "        vertical-align: middle;\n",
       "    }\n",
       "\n",
       "    .dataframe tbody tr th {\n",
       "        vertical-align: top;\n",
       "    }\n",
       "\n",
       "    .dataframe thead th {\n",
       "        text-align: right;\n",
       "    }\n",
       "</style>\n",
       "<table border=\"1\" class=\"dataframe\">\n",
       "  <thead>\n",
       "    <tr style=\"text-align: right;\">\n",
       "      <th></th>\n",
       "      <th>Date</th>\n",
       "      <th>Address</th>\n",
       "      <th>Species</th>\n",
       "      <th>Block</th>\n",
       "      <th>Street</th>\n",
       "      <th>Trap</th>\n",
       "      <th>AddressNumberAndStreet</th>\n",
       "      <th>Latitude</th>\n",
       "      <th>Longitude</th>\n",
       "      <th>AddressAccuracy</th>\n",
       "    </tr>\n",
       "    <tr>\n",
       "      <th>Id</th>\n",
       "      <th></th>\n",
       "      <th></th>\n",
       "      <th></th>\n",
       "      <th></th>\n",
       "      <th></th>\n",
       "      <th></th>\n",
       "      <th></th>\n",
       "      <th></th>\n",
       "      <th></th>\n",
       "      <th></th>\n",
       "    </tr>\n",
       "  </thead>\n",
       "  <tbody>\n",
       "    <tr>\n",
       "      <th>1</th>\n",
       "      <td>2008-06-11</td>\n",
       "      <td>4100 North Oak Park Avenue, Chicago, IL 60634,...</td>\n",
       "      <td>CULEX PIPIENS/RESTUANS</td>\n",
       "      <td>41</td>\n",
       "      <td>N OAK PARK AVE</td>\n",
       "      <td>T002</td>\n",
       "      <td>4100  N OAK PARK AVE, Chicago, IL</td>\n",
       "      <td>41.95469</td>\n",
       "      <td>-87.800991</td>\n",
       "      <td>9</td>\n",
       "    </tr>\n",
       "    <tr>\n",
       "      <th>2</th>\n",
       "      <td>2008-06-11</td>\n",
       "      <td>4100 North Oak Park Avenue, Chicago, IL 60634,...</td>\n",
       "      <td>CULEX RESTUANS</td>\n",
       "      <td>41</td>\n",
       "      <td>N OAK PARK AVE</td>\n",
       "      <td>T002</td>\n",
       "      <td>4100  N OAK PARK AVE, Chicago, IL</td>\n",
       "      <td>41.95469</td>\n",
       "      <td>-87.800991</td>\n",
       "      <td>9</td>\n",
       "    </tr>\n",
       "    <tr>\n",
       "      <th>3</th>\n",
       "      <td>2008-06-11</td>\n",
       "      <td>4100 North Oak Park Avenue, Chicago, IL 60634,...</td>\n",
       "      <td>CULEX PIPIENS</td>\n",
       "      <td>41</td>\n",
       "      <td>N OAK PARK AVE</td>\n",
       "      <td>T002</td>\n",
       "      <td>4100  N OAK PARK AVE, Chicago, IL</td>\n",
       "      <td>41.95469</td>\n",
       "      <td>-87.800991</td>\n",
       "      <td>9</td>\n",
       "    </tr>\n",
       "    <tr>\n",
       "      <th>4</th>\n",
       "      <td>2008-06-11</td>\n",
       "      <td>4100 North Oak Park Avenue, Chicago, IL 60634,...</td>\n",
       "      <td>CULEX SALINARIUS</td>\n",
       "      <td>41</td>\n",
       "      <td>N OAK PARK AVE</td>\n",
       "      <td>T002</td>\n",
       "      <td>4100  N OAK PARK AVE, Chicago, IL</td>\n",
       "      <td>41.95469</td>\n",
       "      <td>-87.800991</td>\n",
       "      <td>9</td>\n",
       "    </tr>\n",
       "    <tr>\n",
       "      <th>5</th>\n",
       "      <td>2008-06-11</td>\n",
       "      <td>4100 North Oak Park Avenue, Chicago, IL 60634,...</td>\n",
       "      <td>CULEX TERRITANS</td>\n",
       "      <td>41</td>\n",
       "      <td>N OAK PARK AVE</td>\n",
       "      <td>T002</td>\n",
       "      <td>4100  N OAK PARK AVE, Chicago, IL</td>\n",
       "      <td>41.95469</td>\n",
       "      <td>-87.800991</td>\n",
       "      <td>9</td>\n",
       "    </tr>\n",
       "  </tbody>\n",
       "</table>\n",
       "</div>"
      ],
      "text/plain": [
       "          Date                                            Address  \\\n",
       "Id                                                                  \n",
       "1   2008-06-11  4100 North Oak Park Avenue, Chicago, IL 60634,...   \n",
       "2   2008-06-11  4100 North Oak Park Avenue, Chicago, IL 60634,...   \n",
       "3   2008-06-11  4100 North Oak Park Avenue, Chicago, IL 60634,...   \n",
       "4   2008-06-11  4100 North Oak Park Avenue, Chicago, IL 60634,...   \n",
       "5   2008-06-11  4100 North Oak Park Avenue, Chicago, IL 60634,...   \n",
       "\n",
       "                   Species  Block           Street  Trap  \\\n",
       "Id                                                         \n",
       "1   CULEX PIPIENS/RESTUANS     41   N OAK PARK AVE  T002   \n",
       "2           CULEX RESTUANS     41   N OAK PARK AVE  T002   \n",
       "3            CULEX PIPIENS     41   N OAK PARK AVE  T002   \n",
       "4         CULEX SALINARIUS     41   N OAK PARK AVE  T002   \n",
       "5          CULEX TERRITANS     41   N OAK PARK AVE  T002   \n",
       "\n",
       "               AddressNumberAndStreet  Latitude  Longitude  AddressAccuracy  \n",
       "Id                                                                           \n",
       "1   4100  N OAK PARK AVE, Chicago, IL  41.95469 -87.800991                9  \n",
       "2   4100  N OAK PARK AVE, Chicago, IL  41.95469 -87.800991                9  \n",
       "3   4100  N OAK PARK AVE, Chicago, IL  41.95469 -87.800991                9  \n",
       "4   4100  N OAK PARK AVE, Chicago, IL  41.95469 -87.800991                9  \n",
       "5   4100  N OAK PARK AVE, Chicago, IL  41.95469 -87.800991                9  "
      ]
     },
     "execution_count": 6,
     "metadata": {},
     "output_type": "execute_result"
    }
   ],
   "source": [
    "test.head()"
   ]
  },
  {
   "cell_type": "code",
   "execution_count": 7,
   "metadata": {
    "scrolled": false
   },
   "outputs": [
    {
     "name": "stdout",
     "output_type": "stream",
     "text": [
      "dataframe shape \n",
      " (10506, 12) \n",
      "\n",
      "dataframe types \n",
      " Date                       object\n",
      "Address                    object\n",
      "Species                    object\n",
      "Block                       int64\n",
      "Street                     object\n",
      "Trap                       object\n",
      "AddressNumberAndStreet     object\n",
      "Latitude                  float64\n",
      "Longitude                 float64\n",
      "AddressAccuracy             int64\n",
      "NumMosquitos                int64\n",
      "WnvPresent                  int64\n",
      "dtype: object \n",
      "\n",
      "dataframe describe \n",
      "               Block      Latitude     Longitude  AddressAccuracy  \\\n",
      "count  10506.000000  10506.000000  10506.000000     10506.000000   \n",
      "mean      35.687797     41.841139    -87.699908         7.819532   \n",
      "std       24.339468      0.112742      0.096514         1.452921   \n",
      "min       10.000000     41.644612    -87.930995         3.000000   \n",
      "25%       12.000000     41.732984    -87.760070         8.000000   \n",
      "50%       33.000000     41.846283    -87.694991         8.000000   \n",
      "75%       52.000000     41.954690    -87.627796         9.000000   \n",
      "max       98.000000     42.017430    -87.531635         9.000000   \n",
      "\n",
      "       NumMosquitos    WnvPresent  \n",
      "count  10506.000000  10506.000000  \n",
      "mean      12.853512      0.052446  \n",
      "std       16.133816      0.222936  \n",
      "min        1.000000      0.000000  \n",
      "25%        2.000000      0.000000  \n",
      "50%        5.000000      0.000000  \n",
      "75%       17.000000      0.000000  \n",
      "max       50.000000      1.000000   \n",
      "\n",
      "dataframe describe \n",
      "                         count unique  \\\n",
      "Date                    10506     95   \n",
      "Address                 10506    138   \n",
      "Species                 10506      7   \n",
      "Street                  10506    128   \n",
      "Trap                    10506    136   \n",
      "AddressNumberAndStreet  10506    138   \n",
      "\n",
      "                                                                      top  \\\n",
      "Date                                                           2007-08-01   \n",
      "Address                 ORD Terminal 5, O'Hare International Airport, ...   \n",
      "Species                                            CULEX PIPIENS/RESTUANS   \n",
      "Street                                                    W OHARE AIRPORT   \n",
      "Trap                                                                 T900   \n",
      "AddressNumberAndStreet                 1000  W OHARE AIRPORT, Chicago, IL   \n",
      "\n",
      "                        freq  \n",
      "Date                     551  \n",
      "Address                  750  \n",
      "Species                 4752  \n",
      "Street                   750  \n",
      "Trap                     750  \n",
      "AddressNumberAndStreet   750   \n",
      "\n",
      "missing values \n",
      " Date                      0\n",
      "Address                   0\n",
      "Species                   0\n",
      "Block                     0\n",
      "Street                    0\n",
      "Trap                      0\n",
      "AddressNumberAndStreet    0\n",
      "Latitude                  0\n",
      "Longitude                 0\n",
      "AddressAccuracy           0\n",
      "NumMosquitos              0\n",
      "WnvPresent                0\n",
      "dtype: int64 \n",
      "\n",
      "duplicate values \n",
      " 813 \n",
      "\n",
      "dataframe columns \n",
      " Index(['Date', 'Address', 'Species', 'Block', 'Street', 'Trap',\n",
      "       'AddressNumberAndStreet', 'Latitude', 'Longitude', 'AddressAccuracy',\n",
      "       'NumMosquitos', 'WnvPresent'],\n",
      "      dtype='object') \n",
      "\n",
      "Date is unique: False\n",
      "Address is unique: False\n",
      "Species is unique: False\n",
      "Block is unique: False\n",
      "Street is unique: False\n",
      "Trap is unique: False\n",
      "AddressNumberAndStreet is unique: False\n",
      "Latitude is unique: False\n",
      "Longitude is unique: False\n",
      "AddressAccuracy is unique: False\n",
      "NumMosquitos is unique: False\n",
      "WnvPresent is unique: False\n"
     ]
    }
   ],
   "source": [
    "eda(train)"
   ]
  },
  {
   "cell_type": "code",
   "execution_count": 8,
   "metadata": {
    "scrolled": false
   },
   "outputs": [
    {
     "name": "stdout",
     "output_type": "stream",
     "text": [
      "dataframe shape \n",
      " (116293, 10) \n",
      "\n",
      "dataframe types \n",
      " Date                       object\n",
      "Address                    object\n",
      "Species                    object\n",
      "Block                       int64\n",
      "Street                     object\n",
      "Trap                       object\n",
      "AddressNumberAndStreet     object\n",
      "Latitude                  float64\n",
      "Longitude                 float64\n",
      "AddressAccuracy             int64\n",
      "dtype: object \n",
      "\n",
      "dataframe describe \n",
      "                Block       Latitude      Longitude  AddressAccuracy\n",
      "count  116293.000000  116293.000000  116293.000000    116293.000000\n",
      "mean       41.131100      41.849389     -87.693658         7.954357\n",
      "std        24.864726       0.106593       0.080699         1.252733\n",
      "min        10.000000      41.644612     -87.930995         3.000000\n",
      "25%        18.000000      41.753411     -87.750938         8.000000\n",
      "50%        39.000000      41.862292     -87.694991         8.000000\n",
      "75%        61.000000      41.951866     -87.648860         9.000000\n",
      "max        98.000000      42.017430     -87.531635         9.000000 \n",
      "\n",
      "dataframe describe \n",
      "                          count unique  \\\n",
      "Date                    116293     95   \n",
      "Address                 116293    151   \n",
      "Species                 116293      8   \n",
      "Street                  116293    139   \n",
      "Trap                    116293    149   \n",
      "AddressNumberAndStreet  116293    151   \n",
      "\n",
      "                                                                      top  \\\n",
      "Date                                                           2012-07-09   \n",
      "Address                 ORD Terminal 5, O'Hare International Airport, ...   \n",
      "Species                                            CULEX PIPIENS/RESTUANS   \n",
      "Street                                                     N OAK PARK AVE   \n",
      "Trap                                                                 T009   \n",
      "AddressNumberAndStreet                 1000  W OHARE AIRPORT, Chicago, IL   \n",
      "\n",
      "                         freq  \n",
      "Date                     1293  \n",
      "Address                  1468  \n",
      "Species                 15359  \n",
      "Street                   1617  \n",
      "Trap                     1528  \n",
      "AddressNumberAndStreet   1468   \n",
      "\n",
      "missing values \n",
      " Date                      0\n",
      "Address                   0\n",
      "Species                   0\n",
      "Block                     0\n",
      "Street                    0\n",
      "Trap                      0\n",
      "AddressNumberAndStreet    0\n",
      "Latitude                  0\n",
      "Longitude                 0\n",
      "AddressAccuracy           0\n",
      "dtype: int64 \n",
      "\n",
      "duplicate values \n",
      " 1533 \n",
      "\n",
      "dataframe columns \n",
      " Index(['Date', 'Address', 'Species', 'Block', 'Street', 'Trap',\n",
      "       'AddressNumberAndStreet', 'Latitude', 'Longitude', 'AddressAccuracy'],\n",
      "      dtype='object') \n",
      "\n",
      "Date is unique: False\n",
      "Address is unique: False\n",
      "Species is unique: False\n",
      "Block is unique: False\n",
      "Street is unique: False\n",
      "Trap is unique: False\n",
      "AddressNumberAndStreet is unique: False\n",
      "Latitude is unique: False\n",
      "Longitude is unique: False\n",
      "AddressAccuracy is unique: False\n"
     ]
    }
   ],
   "source": [
    "eda(test)"
   ]
  },
  {
   "cell_type": "markdown",
   "metadata": {},
   "source": [
    "## <span style='background :yellow' > Weather Dataset </span>\n",
    "- Station 1: CHICAGO O'HARE INTERNATIONAL AIRPORT Lat: 41.995 Lon: -87.933 Elev: 662 ft. above sea level\n",
    "- Station 2: CHICAGO MIDWAY INTL ARPT Lat: 41.786 Lon: -87.752 Elev: 612 ft. above sea level"
   ]
  },
  {
   "cell_type": "code",
   "execution_count": 79,
   "metadata": {
    "scrolled": true
   },
   "outputs": [
    {
     "data": {
      "text/html": [
       "<div>\n",
       "<style scoped>\n",
       "    .dataframe tbody tr th:only-of-type {\n",
       "        vertical-align: middle;\n",
       "    }\n",
       "\n",
       "    .dataframe tbody tr th {\n",
       "        vertical-align: top;\n",
       "    }\n",
       "\n",
       "    .dataframe thead th {\n",
       "        text-align: right;\n",
       "    }\n",
       "</style>\n",
       "<table border=\"1\" class=\"dataframe\">\n",
       "  <thead>\n",
       "    <tr style=\"text-align: right;\">\n",
       "      <th></th>\n",
       "      <th>station</th>\n",
       "      <th>date</th>\n",
       "      <th>tmax</th>\n",
       "      <th>tmin</th>\n",
       "      <th>tavg</th>\n",
       "      <th>depart</th>\n",
       "      <th>dewpoint</th>\n",
       "      <th>wetbulb</th>\n",
       "      <th>heat</th>\n",
       "      <th>cool</th>\n",
       "      <th>sunrise</th>\n",
       "      <th>sunset</th>\n",
       "      <th>codesum</th>\n",
       "      <th>depth</th>\n",
       "      <th>water1</th>\n",
       "      <th>snowfall</th>\n",
       "      <th>preciptotal</th>\n",
       "      <th>stnpressure</th>\n",
       "      <th>sealevel</th>\n",
       "      <th>resultspeed</th>\n",
       "      <th>resultdir</th>\n",
       "      <th>avgspeed</th>\n",
       "      <th>year</th>\n",
       "      <th>month</th>\n",
       "    </tr>\n",
       "  </thead>\n",
       "  <tbody>\n",
       "    <tr>\n",
       "      <th>0</th>\n",
       "      <td>1</td>\n",
       "      <td>2007-05-01</td>\n",
       "      <td>83</td>\n",
       "      <td>50</td>\n",
       "      <td>67</td>\n",
       "      <td>14</td>\n",
       "      <td>51</td>\n",
       "      <td>56</td>\n",
       "      <td>0</td>\n",
       "      <td>2</td>\n",
       "      <td>0448</td>\n",
       "      <td>1849</td>\n",
       "      <td></td>\n",
       "      <td>0</td>\n",
       "      <td>M</td>\n",
       "      <td>0.0</td>\n",
       "      <td>0.00</td>\n",
       "      <td>29.10</td>\n",
       "      <td>29.82</td>\n",
       "      <td>1.7</td>\n",
       "      <td>27</td>\n",
       "      <td>9.2</td>\n",
       "      <td>2007</td>\n",
       "      <td>5</td>\n",
       "    </tr>\n",
       "    <tr>\n",
       "      <th>1</th>\n",
       "      <td>2</td>\n",
       "      <td>2007-05-01</td>\n",
       "      <td>84</td>\n",
       "      <td>52</td>\n",
       "      <td>68</td>\n",
       "      <td>M</td>\n",
       "      <td>51</td>\n",
       "      <td>57</td>\n",
       "      <td>0</td>\n",
       "      <td>3</td>\n",
       "      <td>-</td>\n",
       "      <td>-</td>\n",
       "      <td></td>\n",
       "      <td>M</td>\n",
       "      <td>M</td>\n",
       "      <td>M</td>\n",
       "      <td>0.00</td>\n",
       "      <td>29.18</td>\n",
       "      <td>29.82</td>\n",
       "      <td>2.7</td>\n",
       "      <td>25</td>\n",
       "      <td>9.6</td>\n",
       "      <td>2007</td>\n",
       "      <td>5</td>\n",
       "    </tr>\n",
       "    <tr>\n",
       "      <th>2</th>\n",
       "      <td>1</td>\n",
       "      <td>2007-05-02</td>\n",
       "      <td>59</td>\n",
       "      <td>42</td>\n",
       "      <td>51</td>\n",
       "      <td>-3</td>\n",
       "      <td>42</td>\n",
       "      <td>47</td>\n",
       "      <td>14</td>\n",
       "      <td>0</td>\n",
       "      <td>0447</td>\n",
       "      <td>1850</td>\n",
       "      <td>BR</td>\n",
       "      <td>0</td>\n",
       "      <td>M</td>\n",
       "      <td>0.0</td>\n",
       "      <td>0.00</td>\n",
       "      <td>29.38</td>\n",
       "      <td>30.09</td>\n",
       "      <td>13.0</td>\n",
       "      <td>4</td>\n",
       "      <td>13.4</td>\n",
       "      <td>2007</td>\n",
       "      <td>5</td>\n",
       "    </tr>\n",
       "    <tr>\n",
       "      <th>3</th>\n",
       "      <td>2</td>\n",
       "      <td>2007-05-02</td>\n",
       "      <td>60</td>\n",
       "      <td>43</td>\n",
       "      <td>52</td>\n",
       "      <td>M</td>\n",
       "      <td>42</td>\n",
       "      <td>47</td>\n",
       "      <td>13</td>\n",
       "      <td>0</td>\n",
       "      <td>-</td>\n",
       "      <td>-</td>\n",
       "      <td>BR HZ</td>\n",
       "      <td>M</td>\n",
       "      <td>M</td>\n",
       "      <td>M</td>\n",
       "      <td>0.00</td>\n",
       "      <td>29.44</td>\n",
       "      <td>30.08</td>\n",
       "      <td>13.3</td>\n",
       "      <td>2</td>\n",
       "      <td>13.4</td>\n",
       "      <td>2007</td>\n",
       "      <td>5</td>\n",
       "    </tr>\n",
       "    <tr>\n",
       "      <th>4</th>\n",
       "      <td>1</td>\n",
       "      <td>2007-05-03</td>\n",
       "      <td>66</td>\n",
       "      <td>46</td>\n",
       "      <td>56</td>\n",
       "      <td>2</td>\n",
       "      <td>40</td>\n",
       "      <td>48</td>\n",
       "      <td>9</td>\n",
       "      <td>0</td>\n",
       "      <td>0446</td>\n",
       "      <td>1851</td>\n",
       "      <td></td>\n",
       "      <td>0</td>\n",
       "      <td>M</td>\n",
       "      <td>0.0</td>\n",
       "      <td>0.00</td>\n",
       "      <td>29.39</td>\n",
       "      <td>30.12</td>\n",
       "      <td>11.7</td>\n",
       "      <td>7</td>\n",
       "      <td>11.9</td>\n",
       "      <td>2007</td>\n",
       "      <td>5</td>\n",
       "    </tr>\n",
       "  </tbody>\n",
       "</table>\n",
       "</div>"
      ],
      "text/plain": [
       "   station       date  tmax  tmin tavg depart  dewpoint wetbulb heat cool  \\\n",
       "0        1 2007-05-01    83    50   67     14        51      56    0    2   \n",
       "1        2 2007-05-01    84    52   68      M        51      57    0    3   \n",
       "2        1 2007-05-02    59    42   51     -3        42      47   14    0   \n",
       "3        2 2007-05-02    60    43   52      M        42      47   13    0   \n",
       "4        1 2007-05-03    66    46   56      2        40      48    9    0   \n",
       "\n",
       "  sunrise sunset codesum depth water1 snowfall preciptotal stnpressure  \\\n",
       "0    0448   1849             0      M      0.0        0.00       29.10   \n",
       "1       -      -             M      M        M        0.00       29.18   \n",
       "2    0447   1850      BR     0      M      0.0        0.00       29.38   \n",
       "3       -      -   BR HZ     M      M        M        0.00       29.44   \n",
       "4    0446   1851             0      M      0.0        0.00       29.39   \n",
       "\n",
       "  sealevel  resultspeed  resultdir avgspeed  year  month  \n",
       "0    29.82          1.7         27      9.2  2007      5  \n",
       "1    29.82          2.7         25      9.6  2007      5  \n",
       "2    30.09         13.0          4     13.4  2007      5  \n",
       "3    30.08         13.3          2     13.4  2007      5  \n",
       "4    30.12         11.7          7     11.9  2007      5  "
      ]
     },
     "execution_count": 79,
     "metadata": {},
     "output_type": "execute_result"
    }
   ],
   "source": [
    "weather.head()"
   ]
  },
  {
   "cell_type": "code",
   "execution_count": 10,
   "metadata": {
    "scrolled": false
   },
   "outputs": [
    {
     "name": "stdout",
     "output_type": "stream",
     "text": [
      "dataframe shape \n",
      " (2944, 22) \n",
      "\n",
      "dataframe types \n",
      " Station          int64\n",
      "Date            object\n",
      "Tmax             int64\n",
      "Tmin             int64\n",
      "Tavg            object\n",
      "Depart          object\n",
      "DewPoint         int64\n",
      "WetBulb         object\n",
      "Heat            object\n",
      "Cool            object\n",
      "Sunrise         object\n",
      "Sunset          object\n",
      "CodeSum         object\n",
      "Depth           object\n",
      "Water1          object\n",
      "SnowFall        object\n",
      "PrecipTotal     object\n",
      "StnPressure     object\n",
      "SeaLevel        object\n",
      "ResultSpeed    float64\n",
      "ResultDir        int64\n",
      "AvgSpeed        object\n",
      "dtype: object \n",
      "\n",
      "dataframe describe \n",
      "            Station         Tmax         Tmin     DewPoint  ResultSpeed  \\\n",
      "count  2944.000000  2944.000000  2944.000000  2944.000000  2944.000000   \n",
      "mean      1.500000    76.166101    57.810462    53.457880     6.960666   \n",
      "std       0.500085    11.461970    10.381939    10.675181     3.587527   \n",
      "min       1.000000    41.000000    29.000000    22.000000     0.100000   \n",
      "25%       1.000000    69.000000    50.000000    46.000000     4.300000   \n",
      "50%       1.500000    78.000000    59.000000    54.000000     6.400000   \n",
      "75%       2.000000    85.000000    66.000000    62.000000     9.200000   \n",
      "max       2.000000   104.000000    83.000000    75.000000    24.100000   \n",
      "\n",
      "         ResultDir  \n",
      "count  2944.000000  \n",
      "mean     17.494905  \n",
      "std      10.063609  \n",
      "min       1.000000  \n",
      "25%       7.000000  \n",
      "50%      19.000000  \n",
      "75%      25.000000  \n",
      "max      36.000000   \n",
      "\n",
      "dataframe describe \n",
      "             count unique         top  freq\n",
      "Date         2944   1472  2010-07-30     2\n",
      "Tavg         2944     60          73   138\n",
      "Depart       2944     42           M  1472\n",
      "WetBulb      2944     48          63   135\n",
      "Heat         2944     31           0  1870\n",
      "Cool         2944     31           0  1147\n",
      "Sunrise      2944    122           -  1472\n",
      "Sunset       2944    119           -  1472\n",
      "CodeSum      2944     98              1609\n",
      "Depth        2944      2           M  1472\n",
      "Water1       2944      1           M  2944\n",
      "SnowFall     2944      4           M  1472\n",
      "PrecipTotal  2944    168        0.00  1577\n",
      "StnPressure  2944    104       29.34   128\n",
      "SeaLevel     2944    102       30.00    96\n",
      "AvgSpeed     2944    178         6.9    63 \n",
      "\n",
      "missing values \n",
      " Station        0\n",
      "Date           0\n",
      "Tmax           0\n",
      "Tmin           0\n",
      "Tavg           0\n",
      "Depart         0\n",
      "DewPoint       0\n",
      "WetBulb        0\n",
      "Heat           0\n",
      "Cool           0\n",
      "Sunrise        0\n",
      "Sunset         0\n",
      "CodeSum        0\n",
      "Depth          0\n",
      "Water1         0\n",
      "SnowFall       0\n",
      "PrecipTotal    0\n",
      "StnPressure    0\n",
      "SeaLevel       0\n",
      "ResultSpeed    0\n",
      "ResultDir      0\n",
      "AvgSpeed       0\n",
      "dtype: int64 \n",
      "\n",
      "duplicate values \n",
      " 0 \n",
      "\n",
      "dataframe columns \n",
      " Index(['Station', 'Date', 'Tmax', 'Tmin', 'Tavg', 'Depart', 'DewPoint',\n",
      "       'WetBulb', 'Heat', 'Cool', 'Sunrise', 'Sunset', 'CodeSum', 'Depth',\n",
      "       'Water1', 'SnowFall', 'PrecipTotal', 'StnPressure', 'SeaLevel',\n",
      "       'ResultSpeed', 'ResultDir', 'AvgSpeed'],\n",
      "      dtype='object') \n",
      "\n",
      "Station is unique: False\n",
      "Date is unique: False\n",
      "Tmax is unique: False\n",
      "Tmin is unique: False\n",
      "Tavg is unique: False\n",
      "Depart is unique: False\n",
      "DewPoint is unique: False\n",
      "WetBulb is unique: False\n",
      "Heat is unique: False\n",
      "Cool is unique: False\n",
      "Sunrise is unique: False\n",
      "Sunset is unique: False\n",
      "CodeSum is unique: False\n",
      "Depth is unique: False\n",
      "Water1 is unique: False\n",
      "SnowFall is unique: False\n",
      "PrecipTotal is unique: False\n",
      "StnPressure is unique: False\n",
      "SeaLevel is unique: False\n",
      "ResultSpeed is unique: False\n",
      "ResultDir is unique: False\n",
      "AvgSpeed is unique: False\n"
     ]
    }
   ],
   "source": [
    "eda(weather)"
   ]
  },
  {
   "cell_type": "markdown",
   "metadata": {},
   "source": [
    "##### Even though data showed that there is no null value, there were missing values as it is stated as M or - Hence checking columns with object dtype that most likely are suppose to be int"
   ]
  },
  {
   "cell_type": "code",
   "execution_count": 11,
   "metadata": {
    "scrolled": false
   },
   "outputs": [
    {
     "name": "stdout",
     "output_type": "stream",
     "text": [
      "(2944, 22)\n",
      "\n",
      "Tavg(station 1): 0 missing values\n",
      "Tavg(station 2): 11 missing values\n",
      "**************\n",
      "Depart(station 1): 1271 missing values\n",
      "Depart(station 2): 1472 missing values\n",
      "**************\n",
      "WetBulb(station 1): 3 missing values\n",
      "WetBulb(station 2): 1 missing values\n",
      "**************\n",
      "Heat(station 1): 0 missing values\n",
      "Heat(station 2): 11 missing values\n",
      "**************\n",
      "Cool(station 1): 1096 missing values\n",
      "Cool(station 2): 1021 missing values\n",
      "**************\n",
      "Sunrise(station 1): 0 missing values\n",
      "Sunrise(station 2): 1472 missing values\n",
      "**************\n",
      "Sunset(station 1): 0 missing values\n",
      "Sunset(station 2): 1472 missing values\n",
      "**************\n",
      "Depth(station 1): 0 missing values\n",
      "Depth(station 2): 1472 missing values\n",
      "**************\n",
      "Water1(station 1): 1472 missing values\n",
      "Water1(station 2): 1472 missing values\n",
      "**************\n",
      "SnowFall(station 1): 1472 missing values\n",
      "SnowFall(station 2): 1472 missing values\n",
      "**************\n",
      "PrecipTotal(station 1): 1472 missing values\n",
      "PrecipTotal(station 2): 1472 missing values\n",
      "**************\n",
      "StnPressure(station 1): 1472 missing values\n",
      "StnPressure(station 2): 1472 missing values\n",
      "**************\n",
      "SeaLevel(station 1): 1472 missing values\n",
      "SeaLevel(station 2): 1472 missing values\n",
      "**************\n",
      "AvgSpeed(station 1): 1472 missing values\n",
      "AvgSpeed(station 2): 1472 missing values\n",
      "**************\n"
     ]
    }
   ],
   "source": [
    "check_col = ['Tavg', 'Depart','WetBulb','Heat','Cool',\n",
    "             'Sunrise','Sunset','Depth','Water1','SnowFall',\n",
    "            'PrecipTotal','StnPressure','SeaLevel','AvgSpeed']\n",
    "\n",
    "print(weather.shape)\n",
    "print('')\n",
    "\n",
    "for col in weather[check_col]:\n",
    "    station_1 = len(weather[(weather[col].str.contains('\\D')) & (weather['Station']==1)])\n",
    "    print(f\"{col}(station 1): {str(station_1)} missing values\")\n",
    "    \n",
    "    station_2 = len(weather[(weather[col].str.contains('\\D')) & (weather['Station']==2)])\n",
    "    print(f\"{col}(station 2): {str(station_2)} missing values\")\n",
    "    print('**************')"
   ]
  },
  {
   "cell_type": "markdown",
   "metadata": {},
   "source": [
    "##### Most missing values appear to be from station 2"
   ]
  },
  {
   "cell_type": "code",
   "execution_count": 12,
   "metadata": {},
   "outputs": [],
   "source": [
    "# Drop data from station 2? \n",
    "# imputate data from station 1 (replace to 0 or avg)"
   ]
  },
  {
   "cell_type": "markdown",
   "metadata": {},
   "source": [
    "## <span style='background :yellow' > Spray Dataset </span>"
   ]
  },
  {
   "cell_type": "code",
   "execution_count": 13,
   "metadata": {
    "scrolled": false
   },
   "outputs": [
    {
     "data": {
      "text/html": [
       "<div>\n",
       "<style scoped>\n",
       "    .dataframe tbody tr th:only-of-type {\n",
       "        vertical-align: middle;\n",
       "    }\n",
       "\n",
       "    .dataframe tbody tr th {\n",
       "        vertical-align: top;\n",
       "    }\n",
       "\n",
       "    .dataframe thead th {\n",
       "        text-align: right;\n",
       "    }\n",
       "</style>\n",
       "<table border=\"1\" class=\"dataframe\">\n",
       "  <thead>\n",
       "    <tr style=\"text-align: right;\">\n",
       "      <th></th>\n",
       "      <th>Date</th>\n",
       "      <th>Time</th>\n",
       "      <th>Latitude</th>\n",
       "      <th>Longitude</th>\n",
       "    </tr>\n",
       "  </thead>\n",
       "  <tbody>\n",
       "    <tr>\n",
       "      <th>0</th>\n",
       "      <td>2011-08-29</td>\n",
       "      <td>6:56:58 PM</td>\n",
       "      <td>42.391623</td>\n",
       "      <td>-88.089163</td>\n",
       "    </tr>\n",
       "    <tr>\n",
       "      <th>1</th>\n",
       "      <td>2011-08-29</td>\n",
       "      <td>6:57:08 PM</td>\n",
       "      <td>42.391348</td>\n",
       "      <td>-88.089163</td>\n",
       "    </tr>\n",
       "    <tr>\n",
       "      <th>2</th>\n",
       "      <td>2011-08-29</td>\n",
       "      <td>6:57:18 PM</td>\n",
       "      <td>42.391022</td>\n",
       "      <td>-88.089157</td>\n",
       "    </tr>\n",
       "    <tr>\n",
       "      <th>3</th>\n",
       "      <td>2011-08-29</td>\n",
       "      <td>6:57:28 PM</td>\n",
       "      <td>42.390637</td>\n",
       "      <td>-88.089158</td>\n",
       "    </tr>\n",
       "    <tr>\n",
       "      <th>4</th>\n",
       "      <td>2011-08-29</td>\n",
       "      <td>6:57:38 PM</td>\n",
       "      <td>42.390410</td>\n",
       "      <td>-88.088858</td>\n",
       "    </tr>\n",
       "  </tbody>\n",
       "</table>\n",
       "</div>"
      ],
      "text/plain": [
       "         Date        Time   Latitude  Longitude\n",
       "0  2011-08-29  6:56:58 PM  42.391623 -88.089163\n",
       "1  2011-08-29  6:57:08 PM  42.391348 -88.089163\n",
       "2  2011-08-29  6:57:18 PM  42.391022 -88.089157\n",
       "3  2011-08-29  6:57:28 PM  42.390637 -88.089158\n",
       "4  2011-08-29  6:57:38 PM  42.390410 -88.088858"
      ]
     },
     "execution_count": 13,
     "metadata": {},
     "output_type": "execute_result"
    }
   ],
   "source": [
    "spray.head()"
   ]
  },
  {
   "cell_type": "code",
   "execution_count": 14,
   "metadata": {
    "scrolled": false
   },
   "outputs": [
    {
     "name": "stdout",
     "output_type": "stream",
     "text": [
      "dataframe shape \n",
      " (14835, 4) \n",
      "\n",
      "dataframe types \n",
      " Date          object\n",
      "Time          object\n",
      "Latitude     float64\n",
      "Longitude    float64\n",
      "dtype: object \n",
      "\n",
      "dataframe describe \n",
      "            Latitude     Longitude\n",
      "count  14835.000000  14835.000000\n",
      "mean      41.904828    -87.736690\n",
      "std        0.104381      0.067292\n",
      "min       41.713925    -88.096468\n",
      "25%       41.785001    -87.794225\n",
      "50%       41.940075    -87.727853\n",
      "75%       41.980978    -87.694108\n",
      "max       42.395983    -87.586727 \n",
      "\n",
      "dataframe describe \n",
      "       count unique         top  freq\n",
      "Date  14835     10  2013-08-15  2668\n",
      "Time  14251   8583  7:44:32 PM   541 \n",
      "\n",
      "missing values \n",
      " Date           0\n",
      "Time         584\n",
      "Latitude       0\n",
      "Longitude      0\n",
      "dtype: int64 \n",
      "\n",
      "duplicate values \n",
      " 541 \n",
      "\n",
      "dataframe columns \n",
      " Index(['Date', 'Time', 'Latitude', 'Longitude'], dtype='object') \n",
      "\n",
      "Date is unique: False\n",
      "Time is unique: False\n",
      "Latitude is unique: False\n",
      "Longitude is unique: False\n"
     ]
    }
   ],
   "source": [
    "eda(spray)"
   ]
  },
  {
   "cell_type": "code",
   "execution_count": 15,
   "metadata": {},
   "outputs": [],
   "source": [
    "# Time is too specific and it's only available in Spray dataset \n",
    "# Consider dropping?"
   ]
  },
  {
   "cell_type": "markdown",
   "metadata": {},
   "source": [
    "## <span style='background :yellow' > Duplicates for Train, Weather, Spray Dataset </span>"
   ]
  },
  {
   "cell_type": "code",
   "execution_count": 16,
   "metadata": {
    "scrolled": false
   },
   "outputs": [
    {
     "name": "stdout",
     "output_type": "stream",
     "text": [
      "Original Number rows in Train Dataset:  10506\n",
      "Original Number of post in Weather Dataset:  2944\n",
      "Original Number of post in Spray Dataset:  14835\n",
      "\n",
      "Original Number Duplicates in Train Dataset:  813\n",
      "Original Number Duplicates in Weather Dataset:  0\n",
      "Original Number Duplicates in Spray Dataset:  541\n",
      "\n"
     ]
    }
   ],
   "source": [
    "print(\"Original Number rows in Train Dataset: \", len(train))\n",
    "print(\"Original Number of post in Weather Dataset: \", len(weather))\n",
    "print(\"Original Number of post in Spray Dataset: \", len(spray))\n",
    "print('')\n",
    "\n",
    "print(\"Original Number Duplicates in Train Dataset: \", train.duplicated().sum())\n",
    "print(\"Original Number Duplicates in Weather Dataset: \", weather.duplicated().sum())\n",
    "print(\"Original Number Duplicates in Spray Dataset: \", spray.duplicated().sum())\n",
    "print('')\n",
    "\n",
    "# train.drop_duplicates(inplace = True)\n",
    "# weather.drop_duplicates(inplace = True)\n",
    "# spray.drop_duplicates(inplace = True)\n",
    "\n",
    "# print(\"Number of rows in train w/o duplicates: \", len(train))\n",
    "# print(\"Number of rows in Weather w/o duplicates: \", len(weather))\n",
    "# print(\"Number of rows in spray w/o duplicates: \", len(spray))"
   ]
  },
  {
   "cell_type": "markdown",
   "metadata": {},
   "source": [
    "##### As stated, test results are organized in such a way that when the number of mosquitos exceed 50, they are split into another record (another row in the dataset), such that the number of mosquitos are capped at 50. Hence, will not be dropping the duplicates"
   ]
  },
  {
   "cell_type": "markdown",
   "metadata": {},
   "source": [
    "## Edit formats"
   ]
  },
  {
   "cell_type": "code",
   "execution_count": 17,
   "metadata": {},
   "outputs": [],
   "source": [
    "# Map the lowering function to all column names\n",
    "train.columns = map(str.lower, train.columns)\n",
    "test.columns = map(str.lower, test.columns)\n",
    "weather.columns = map(str.lower, weather.columns)\n",
    "spray.columns = map(str.lower, spray.columns)"
   ]
  },
  {
   "cell_type": "code",
   "execution_count": 18,
   "metadata": {},
   "outputs": [],
   "source": [
    "# changes date and time to datetime formats\n",
    "train['date'] = pd.to_datetime(train['date'], infer_datetime_format=True)\n",
    "test['date'] = pd.to_datetime(test['date'], infer_datetime_format=True)\n",
    "weather['date'] = pd.to_datetime(weather['date'], infer_datetime_format=True)\n",
    "spray['date'] = pd.to_datetime(spray['date'], infer_datetime_format=True)\n",
    "spray['time'] = pd.to_datetime(spray['time'], infer_datetime_format=True)"
   ]
  },
  {
   "cell_type": "code",
   "execution_count": 19,
   "metadata": {},
   "outputs": [],
   "source": [
    "# changes time to the hour of the day\n",
    "spray['time'] = spray['time'].dt.hour"
   ]
  },
  {
   "cell_type": "code",
   "execution_count": 20,
   "metadata": {
    "scrolled": true
   },
   "outputs": [
    {
     "data": {
      "text/html": [
       "<div>\n",
       "<style scoped>\n",
       "    .dataframe tbody tr th:only-of-type {\n",
       "        vertical-align: middle;\n",
       "    }\n",
       "\n",
       "    .dataframe tbody tr th {\n",
       "        vertical-align: top;\n",
       "    }\n",
       "\n",
       "    .dataframe thead th {\n",
       "        text-align: right;\n",
       "    }\n",
       "</style>\n",
       "<table border=\"1\" class=\"dataframe\">\n",
       "  <thead>\n",
       "    <tr style=\"text-align: right;\">\n",
       "      <th></th>\n",
       "      <th>date</th>\n",
       "      <th>time</th>\n",
       "      <th>latitude</th>\n",
       "      <th>longitude</th>\n",
       "    </tr>\n",
       "  </thead>\n",
       "  <tbody>\n",
       "    <tr>\n",
       "      <th>0</th>\n",
       "      <td>2011-08-29</td>\n",
       "      <td>18.0</td>\n",
       "      <td>42.391623</td>\n",
       "      <td>-88.089163</td>\n",
       "    </tr>\n",
       "    <tr>\n",
       "      <th>1</th>\n",
       "      <td>2011-08-29</td>\n",
       "      <td>18.0</td>\n",
       "      <td>42.391348</td>\n",
       "      <td>-88.089163</td>\n",
       "    </tr>\n",
       "    <tr>\n",
       "      <th>2</th>\n",
       "      <td>2011-08-29</td>\n",
       "      <td>18.0</td>\n",
       "      <td>42.391022</td>\n",
       "      <td>-88.089157</td>\n",
       "    </tr>\n",
       "    <tr>\n",
       "      <th>3</th>\n",
       "      <td>2011-08-29</td>\n",
       "      <td>18.0</td>\n",
       "      <td>42.390637</td>\n",
       "      <td>-88.089158</td>\n",
       "    </tr>\n",
       "    <tr>\n",
       "      <th>4</th>\n",
       "      <td>2011-08-29</td>\n",
       "      <td>18.0</td>\n",
       "      <td>42.390410</td>\n",
       "      <td>-88.088858</td>\n",
       "    </tr>\n",
       "  </tbody>\n",
       "</table>\n",
       "</div>"
      ],
      "text/plain": [
       "        date  time   latitude  longitude\n",
       "0 2011-08-29  18.0  42.391623 -88.089163\n",
       "1 2011-08-29  18.0  42.391348 -88.089163\n",
       "2 2011-08-29  18.0  42.391022 -88.089157\n",
       "3 2011-08-29  18.0  42.390637 -88.089158\n",
       "4 2011-08-29  18.0  42.390410 -88.088858"
      ]
     },
     "execution_count": 20,
     "metadata": {},
     "output_type": "execute_result"
    }
   ],
   "source": [
    "spray.head()\n"
   ]
  },
  {
   "cell_type": "code",
   "execution_count": 21,
   "metadata": {},
   "outputs": [],
   "source": [
    "#let me know if we want to do this makes EDA easier maybe?\n",
    "# train['Address'] = train['Address'].astype('category')\n",
    "# train['Species'] = train['Species'].astype('category')\n",
    "# train['Street'] = train['Street'].astype('category')\n",
    "# train['Trap'] = train['Trap'].astype('category')\n",
    "# train['AddressNumberAndStreet'] = train['AddressNumberAndStreet'].astype('category')"
   ]
  },
  {
   "cell_type": "code",
   "execution_count": null,
   "metadata": {},
   "outputs": [],
   "source": []
  },
  {
   "cell_type": "code",
   "execution_count": null,
   "metadata": {},
   "outputs": [],
   "source": []
  },
  {
   "cell_type": "markdown",
   "metadata": {},
   "source": [
    "## <span style='background :yellow' > EDA</span>"
   ]
  },
  {
   "cell_type": "code",
   "execution_count": 22,
   "metadata": {},
   "outputs": [
    {
     "data": {
      "text/plain": [
       "CULEX PIPIENS/RESTUANS    0.452313\n",
       "CULEX RESTUANS            0.260803\n",
       "CULEX PIPIENS             0.256901\n",
       "CULEX TERRITANS           0.021131\n",
       "CULEX SALINARIUS          0.008186\n",
       "CULEX TARSALIS            0.000571\n",
       "CULEX ERRATICUS           0.000095\n",
       "Name: species, dtype: float64"
      ]
     },
     "execution_count": 22,
     "metadata": {},
     "output_type": "execute_result"
    }
   ],
   "source": [
    "train['species'].value_counts(normalize = True)"
   ]
  },
  {
   "cell_type": "code",
   "execution_count": 23,
   "metadata": {
    "scrolled": false
   },
   "outputs": [
    {
     "data": {
      "image/png": "[encoded data removed]",
      "text/plain": [
       "<Figure size 864x360 with 1 Axes>"
      ]
     },
     "metadata": {
      "needs_background": "light"
     },
     "output_type": "display_data"
    }
   ],
   "source": [
    "train['species'].value_counts().plot(kind = 'barh', color='Green', figsize=(12,5))\n",
    "plt.title('Total Number of Mosquite Collected (Species)', fontsize=15);"
   ]
  },
  {
   "cell_type": "markdown",
   "metadata": {},
   "source": [
    "##### There are a total of 7 species with culiex pipiens/restuans being the most."
   ]
  },
  {
   "cell_type": "code",
   "execution_count": 24,
   "metadata": {},
   "outputs": [],
   "source": [
    "# species and WNV count df\n",
    "species_wnv = pd.DataFrame(train['species'].value_counts()).reset_index()\n",
    "\n",
    "species_wnv = pd.merge(species_wnv, pd.DataFrame(train[train['wnvpresent']==1]['species'].value_counts()).reset_index(), how='left', on='index')\n",
    "\n",
    "species_wnv.columns = ['species', 'num_observations', 'obs_w_wnv']"
   ]
  },
  {
   "cell_type": "code",
   "execution_count": 25,
   "metadata": {},
   "outputs": [
    {
     "data": {
      "text/html": [
       "<div>\n",
       "<style scoped>\n",
       "    .dataframe tbody tr th:only-of-type {\n",
       "        vertical-align: middle;\n",
       "    }\n",
       "\n",
       "    .dataframe tbody tr th {\n",
       "        vertical-align: top;\n",
       "    }\n",
       "\n",
       "    .dataframe thead th {\n",
       "        text-align: right;\n",
       "    }\n",
       "</style>\n",
       "<table border=\"1\" class=\"dataframe\">\n",
       "  <thead>\n",
       "    <tr style=\"text-align: right;\">\n",
       "      <th></th>\n",
       "      <th>species</th>\n",
       "      <th>num_observations</th>\n",
       "      <th>obs_w_wnv</th>\n",
       "    </tr>\n",
       "  </thead>\n",
       "  <tbody>\n",
       "    <tr>\n",
       "      <th>0</th>\n",
       "      <td>CULEX PIPIENS/RESTUANS</td>\n",
       "      <td>4752</td>\n",
       "      <td>262.0</td>\n",
       "    </tr>\n",
       "    <tr>\n",
       "      <th>1</th>\n",
       "      <td>CULEX RESTUANS</td>\n",
       "      <td>2740</td>\n",
       "      <td>49.0</td>\n",
       "    </tr>\n",
       "    <tr>\n",
       "      <th>2</th>\n",
       "      <td>CULEX PIPIENS</td>\n",
       "      <td>2699</td>\n",
       "      <td>240.0</td>\n",
       "    </tr>\n",
       "    <tr>\n",
       "      <th>3</th>\n",
       "      <td>CULEX TERRITANS</td>\n",
       "      <td>222</td>\n",
       "      <td>NaN</td>\n",
       "    </tr>\n",
       "    <tr>\n",
       "      <th>4</th>\n",
       "      <td>CULEX SALINARIUS</td>\n",
       "      <td>86</td>\n",
       "      <td>NaN</td>\n",
       "    </tr>\n",
       "    <tr>\n",
       "      <th>5</th>\n",
       "      <td>CULEX TARSALIS</td>\n",
       "      <td>6</td>\n",
       "      <td>NaN</td>\n",
       "    </tr>\n",
       "    <tr>\n",
       "      <th>6</th>\n",
       "      <td>CULEX ERRATICUS</td>\n",
       "      <td>1</td>\n",
       "      <td>NaN</td>\n",
       "    </tr>\n",
       "  </tbody>\n",
       "</table>\n",
       "</div>"
      ],
      "text/plain": [
       "                  species  num_observations  obs_w_wnv\n",
       "0  CULEX PIPIENS/RESTUANS              4752      262.0\n",
       "1          CULEX RESTUANS              2740       49.0\n",
       "2           CULEX PIPIENS              2699      240.0\n",
       "3         CULEX TERRITANS               222        NaN\n",
       "4        CULEX SALINARIUS                86        NaN\n",
       "5          CULEX TARSALIS                 6        NaN\n",
       "6         CULEX ERRATICUS                 1        NaN"
      ]
     },
     "execution_count": 25,
     "metadata": {},
     "output_type": "execute_result"
    }
   ],
   "source": [
    "species_wnv"
   ]
  },
  {
   "cell_type": "code",
   "execution_count": 26,
   "metadata": {},
   "outputs": [
    {
     "data": {
      "image/png": "[encoded data removed]",
      "text/plain": [
       "<Figure size 1080x360 with 1 Axes>"
      ]
     },
     "metadata": {
      "needs_background": "light"
     },
     "output_type": "display_data"
    }
   ],
   "source": [
    "# consider deleting this\n",
    "plt.figure(figsize=(15,5))\n",
    "sns.stripplot(x=\"species\", y=\"num_observations\", data=species_wnv)\n",
    "sns.stripplot(x=\"species\", y=\"obs_w_wnv\", data=species_wnv);"
   ]
  },
  {
   "cell_type": "code",
   "execution_count": null,
   "metadata": {},
   "outputs": [],
   "source": []
  },
  {
   "cell_type": "code",
   "execution_count": null,
   "metadata": {},
   "outputs": [],
   "source": []
  },
  {
   "cell_type": "code",
   "execution_count": 27,
   "metadata": {
    "scrolled": true
   },
   "outputs": [],
   "source": [
    "# train['Trap'].value_counts().plot(kind = 'hist')\n",
    "# plt.tight_layout();"
   ]
  },
  {
   "cell_type": "markdown",
   "metadata": {},
   "source": [
    "##### Unbalance data"
   ]
  },
  {
   "cell_type": "code",
   "execution_count": 28,
   "metadata": {
    "scrolled": true
   },
   "outputs": [
    {
     "data": {
      "text/plain": [
       "0    9955\n",
       "1     551\n",
       "Name: wnvpresent, dtype: int64"
      ]
     },
     "execution_count": 28,
     "metadata": {},
     "output_type": "execute_result"
    }
   ],
   "source": [
    "train.wnvpresent.value_counts()"
   ]
  },
  {
   "cell_type": "code",
   "execution_count": 29,
   "metadata": {
    "scrolled": false
   },
   "outputs": [
    {
     "data": {
      "image/png": "[encoded data removed]",
      "text/plain": [
       "<Figure size 1080x360 with 1 Axes>"
      ]
     },
     "metadata": {
      "needs_background": "light"
     },
     "output_type": "display_data"
    }
   ],
   "source": [
    "plt.figure(figsize=(15,5))\n",
    "ax = sns.countplot(x=\"wnvpresent\", palette='Set1_r', data=train)\n",
    "plt.title('Frequency of WNV', fontsize=15)\n",
    "plt.xlabel('Presence of WNV',fontsize=10)\n",
    "plt.ylabel('Occurance of WNV',fontsize=10);"
   ]
  },
  {
   "cell_type": "code",
   "execution_count": 30,
   "metadata": {},
   "outputs": [
    {
     "data": {
      "image/png": "[encoded data removed]",
      "text/plain": [
       "<Figure size 864x432 with 1 Axes>"
      ]
     },
     "metadata": {
      "needs_background": "light"
     },
     "output_type": "display_data"
    }
   ],
   "source": [
    "# Looking at the Frequency of MNV in difference mosquito species\n",
    "plt.figure(figsize=(12,6))\n",
    "sns.barplot(y='species', x='nummosquitos', hue='wnvpresent', data=train, palette='Set1_r', ci=None)\n",
    "plt.title('Presence of WNV and Different Mosquito Species')\n",
    "plt.xlabel('Frequency WNV Present');"
   ]
  },
  {
   "cell_type": "code",
   "execution_count": 31,
   "metadata": {
    "scrolled": true
   },
   "outputs": [
    {
     "data": {
      "image/png": "[encoded data removed]",
      "text/plain": [
       "<Figure size 1080x360 with 1 Axes>"
      ]
     },
     "metadata": {
      "needs_background": "light"
     },
     "output_type": "display_data"
    }
   ],
   "source": [
    "# duplicate of above\n",
    "plt.figure(figsize=(15,5))\n",
    "sns.countplot(x='species', hue='wnvpresent', data=train)\n",
    "plt.xticks(rotation=0)\n",
    "plt.legend(['West Nile Virus not present', 'West Nile Virus present'], loc=1)\n",
    "plt.ylabel('Number of Traps with Species')\n",
    "plt.title('Species Collected with WNV', fontsize=15);"
   ]
  },
  {
   "cell_type": "code",
   "execution_count": 32,
   "metadata": {},
   "outputs": [
    {
     "data": {
      "text/plain": [
       "array(['CULEX PIPIENS/RESTUANS', 'CULEX PIPIENS', 'CULEX RESTUANS'],\n",
       "      dtype=object)"
      ]
     },
     "execution_count": 32,
     "metadata": {},
     "output_type": "execute_result"
    }
   ],
   "source": [
    "train[train['wnvpresent'] == 1]['species'].unique()"
   ]
  },
  {
   "cell_type": "markdown",
   "metadata": {},
   "source": [
    "##### WNV is only present in the following 3 species of Mosquitos (In train Dataset):\n",
    "- CULEX PIPIENS/RESTUANS\n",
    "- CULEX PIPIENS\n",
    "- CULEX RESTUANS"
   ]
  },
  {
   "cell_type": "code",
   "execution_count": 33,
   "metadata": {
    "scrolled": false
   },
   "outputs": [
    {
     "data": {
      "image/png": "[encoded data removed]",
      "text/plain": [
       "<Figure size 1080x432 with 1 Axes>"
      ]
     },
     "metadata": {
      "needs_background": "light"
     },
     "output_type": "display_data"
    }
   ],
   "source": [
    "fig, ax = plt.subplots(figsize=(15,6))\n",
    "ax = sns.violinplot(y= 'wnvpresent', \n",
    "                    x='nummosquitos',\n",
    "                    data=train, \n",
    "                    orient='h', \n",
    "                    hue='wnvpresent',\n",
    "                    palette='Set1_r')\n",
    "\n",
    "ax.set_title('Box Plot of Title Length',fontsize=20)\n",
    "ax.set_xlabel(\"nummosquitos\",fontsize=15)\n",
    "ax.set_ylabel(\"wnvpresent\",fontsize=15)\n",
    "ax.tick_params(labelsize=15)"
   ]
  },
  {
   "cell_type": "markdown",
   "metadata": {},
   "source": [
    "##### With WnvPresent==0, there is quite a number of outliers"
   ]
  },
  {
   "cell_type": "markdown",
   "metadata": {},
   "source": [
    "## <span style='background :yellow' > Feature Engineering </span>"
   ]
  },
  {
   "cell_type": "code",
   "execution_count": 34,
   "metadata": {},
   "outputs": [],
   "source": [
    "split_date(train)\n",
    "split_date(test)\n",
    "split_date(weather)\n",
    "split_date(spray)"
   ]
  },
  {
   "cell_type": "code",
   "execution_count": 35,
   "metadata": {},
   "outputs": [
    {
     "data": {
      "text/plain": [
       "Text(0, 0.5, 'Average Number of Mosquitos in Trap')"
      ]
     },
     "execution_count": 35,
     "metadata": {},
     "output_type": "execute_result"
    },
    {
     "data": {
      "image/png": "[encoded data removed]",
      "text/plain": [
       "<Figure size 1080x360 with 1 Axes>"
      ]
     },
     "metadata": {
      "needs_background": "light"
     },
     "output_type": "display_data"
    }
   ],
   "source": [
    "# add title\n",
    "plt.figure(figsize=(15,5))\n",
    "_ = sns.pointplot(x='month', y=\"nummosquitos\", hue='species', data=train[train['species'].isin(['CULEX PIPIENS', 'CULEX PIPIENS/RESTUANS', 'CULEX RESTUANS'])].groupby(['month', 'species'], as_index=False)['nummosquitos'].mean(),)\n",
    "_.set(xticklabels=['May', 'June', 'July', 'August', 'September', 'October'])\n",
    "plt.ylabel('Average Number of Mosquitos in Trap')\n",
    "#plt.legend(['Culex Pipiens', 'Culex Pipiens/Restuans', 'Culex Restuans'])"
   ]
  },
  {
   "cell_type": "code",
   "execution_count": 36,
   "metadata": {},
   "outputs": [
    {
     "data": {
      "text/html": [
       "<div>\n",
       "<style scoped>\n",
       "    .dataframe tbody tr th:only-of-type {\n",
       "        vertical-align: middle;\n",
       "    }\n",
       "\n",
       "    .dataframe tbody tr th {\n",
       "        vertical-align: top;\n",
       "    }\n",
       "\n",
       "    .dataframe thead th {\n",
       "        text-align: right;\n",
       "    }\n",
       "</style>\n",
       "<table border=\"1\" class=\"dataframe\">\n",
       "  <thead>\n",
       "    <tr style=\"text-align: right;\">\n",
       "      <th></th>\n",
       "      <th>date</th>\n",
       "      <th>trap</th>\n",
       "      <th>species</th>\n",
       "      <th>nummosquitos</th>\n",
       "    </tr>\n",
       "  </thead>\n",
       "  <tbody>\n",
       "    <tr>\n",
       "      <th>1450</th>\n",
       "      <td>2007-08-16</td>\n",
       "      <td>T115</td>\n",
       "      <td>CULEX PIPIENS</td>\n",
       "      <td>2532</td>\n",
       "    </tr>\n",
       "    <tr>\n",
       "      <th>565</th>\n",
       "      <td>2007-07-25</td>\n",
       "      <td>T115</td>\n",
       "      <td>CULEX PIPIENS</td>\n",
       "      <td>2356</td>\n",
       "    </tr>\n",
       "    <tr>\n",
       "      <th>1901</th>\n",
       "      <td>2007-08-28</td>\n",
       "      <td>T115</td>\n",
       "      <td>CULEX PIPIENS</td>\n",
       "      <td>2207</td>\n",
       "    </tr>\n",
       "    <tr>\n",
       "      <th>1196</th>\n",
       "      <td>2007-08-08</td>\n",
       "      <td>T138</td>\n",
       "      <td>CULEX PIPIENS</td>\n",
       "      <td>1658</td>\n",
       "    </tr>\n",
       "    <tr>\n",
       "      <th>2055</th>\n",
       "      <td>2007-09-05</td>\n",
       "      <td>T115</td>\n",
       "      <td>CULEX PIPIENS</td>\n",
       "      <td>1648</td>\n",
       "    </tr>\n",
       "    <tr>\n",
       "      <th>1680</th>\n",
       "      <td>2007-08-22</td>\n",
       "      <td>T115</td>\n",
       "      <td>CULEX PIPIENS</td>\n",
       "      <td>1554</td>\n",
       "    </tr>\n",
       "    <tr>\n",
       "      <th>847</th>\n",
       "      <td>2007-08-01</td>\n",
       "      <td>T115</td>\n",
       "      <td>CULEX PIPIENS</td>\n",
       "      <td>1543</td>\n",
       "    </tr>\n",
       "    <tr>\n",
       "      <th>3197</th>\n",
       "      <td>2009-06-22</td>\n",
       "      <td>T900</td>\n",
       "      <td>CULEX PIPIENS/RESTUANS</td>\n",
       "      <td>1520</td>\n",
       "    </tr>\n",
       "    <tr>\n",
       "      <th>1191</th>\n",
       "      <td>2007-08-08</td>\n",
       "      <td>T115</td>\n",
       "      <td>CULEX PIPIENS</td>\n",
       "      <td>1310</td>\n",
       "    </tr>\n",
       "    <tr>\n",
       "      <th>1686</th>\n",
       "      <td>2007-08-22</td>\n",
       "      <td>T138</td>\n",
       "      <td>CULEX PIPIENS</td>\n",
       "      <td>1054</td>\n",
       "    </tr>\n",
       "    <tr>\n",
       "      <th>1454</th>\n",
       "      <td>2007-08-16</td>\n",
       "      <td>T138</td>\n",
       "      <td>CULEX PIPIENS</td>\n",
       "      <td>1000</td>\n",
       "    </tr>\n",
       "    <tr>\n",
       "      <th>7484</th>\n",
       "      <td>2013-08-01</td>\n",
       "      <td>T900</td>\n",
       "      <td>CULEX PIPIENS/RESTUANS</td>\n",
       "      <td>984</td>\n",
       "    </tr>\n",
       "    <tr>\n",
       "      <th>2369</th>\n",
       "      <td>2007-09-19</td>\n",
       "      <td>T115</td>\n",
       "      <td>CULEX PIPIENS</td>\n",
       "      <td>968</td>\n",
       "    </tr>\n",
       "    <tr>\n",
       "      <th>2071</th>\n",
       "      <td>2007-09-06</td>\n",
       "      <td>T115</td>\n",
       "      <td>CULEX PIPIENS/RESTUANS</td>\n",
       "      <td>914</td>\n",
       "    </tr>\n",
       "    <tr>\n",
       "      <th>3297</th>\n",
       "      <td>2009-06-29</td>\n",
       "      <td>T900</td>\n",
       "      <td>CULEX PIPIENS/RESTUANS</td>\n",
       "      <td>836</td>\n",
       "    </tr>\n",
       "  </tbody>\n",
       "</table>\n",
       "</div>"
      ],
      "text/plain": [
       "           date  trap                 species  nummosquitos\n",
       "1450 2007-08-16  T115           CULEX PIPIENS          2532\n",
       "565  2007-07-25  T115           CULEX PIPIENS          2356\n",
       "1901 2007-08-28  T115           CULEX PIPIENS          2207\n",
       "1196 2007-08-08  T138           CULEX PIPIENS          1658\n",
       "2055 2007-09-05  T115           CULEX PIPIENS          1648\n",
       "1680 2007-08-22  T115           CULEX PIPIENS          1554\n",
       "847  2007-08-01  T115           CULEX PIPIENS          1543\n",
       "3197 2009-06-22  T900  CULEX PIPIENS/RESTUANS          1520\n",
       "1191 2007-08-08  T115           CULEX PIPIENS          1310\n",
       "1686 2007-08-22  T138           CULEX PIPIENS          1054\n",
       "1454 2007-08-16  T138           CULEX PIPIENS          1000\n",
       "7484 2013-08-01  T900  CULEX PIPIENS/RESTUANS           984\n",
       "2369 2007-09-19  T115           CULEX PIPIENS           968\n",
       "2071 2007-09-06  T115  CULEX PIPIENS/RESTUANS           914\n",
       "3297 2009-06-29  T900  CULEX PIPIENS/RESTUANS           836"
      ]
     },
     "execution_count": 36,
     "metadata": {},
     "output_type": "execute_result"
    }
   ],
   "source": [
    "# combining mosquitoes maxed at 50, total mosquitoes\n",
    "train[train.nummosquitos == 50]\n",
    "train.groupby(['date', 'trap', 'species'], as_index=False)['nummosquitos'].sum().sort_values('nummosquitos', ascending=False).head(15)"
   ]
  },
  {
   "cell_type": "code",
   "execution_count": 37,
   "metadata": {
    "scrolled": true
   },
   "outputs": [],
   "source": [
    "#merging total mosquitoes with train \n",
    "train = pd.merge(train, train.groupby(['date', 'trap', 'species'], as_index=False)['nummosquitos'].sum(), how='left', on=['date', 'trap', 'species'])\n",
    "train.columns = ['date', 'address', 'species', 'block', 'street', 'trap',\n",
    "       'addressnumberandstreet', 'latitude', 'longitude', 'addressaccuracy',\n",
    "       'nummosquitos', 'wnvpresent', 'year', 'month', 'total_mos']"
   ]
  },
  {
   "cell_type": "code",
   "execution_count": 38,
   "metadata": {},
   "outputs": [
    {
     "data": {
      "text/html": [
       "<div>\n",
       "<style scoped>\n",
       "    .dataframe tbody tr th:only-of-type {\n",
       "        vertical-align: middle;\n",
       "    }\n",
       "\n",
       "    .dataframe tbody tr th {\n",
       "        vertical-align: top;\n",
       "    }\n",
       "\n",
       "    .dataframe thead th {\n",
       "        text-align: right;\n",
       "    }\n",
       "</style>\n",
       "<table border=\"1\" class=\"dataframe\">\n",
       "  <thead>\n",
       "    <tr style=\"text-align: right;\">\n",
       "      <th></th>\n",
       "      <th>date</th>\n",
       "      <th>address</th>\n",
       "      <th>species</th>\n",
       "      <th>block</th>\n",
       "      <th>street</th>\n",
       "      <th>trap</th>\n",
       "      <th>addressnumberandstreet</th>\n",
       "      <th>latitude</th>\n",
       "      <th>longitude</th>\n",
       "      <th>addressaccuracy</th>\n",
       "      <th>nummosquitos</th>\n",
       "      <th>wnvpresent</th>\n",
       "      <th>year</th>\n",
       "      <th>month</th>\n",
       "      <th>total_mos</th>\n",
       "    </tr>\n",
       "  </thead>\n",
       "  <tbody>\n",
       "    <tr>\n",
       "      <th>0</th>\n",
       "      <td>2007-05-29</td>\n",
       "      <td>4100 North Oak Park Avenue, Chicago, IL 60634,...</td>\n",
       "      <td>CULEX PIPIENS/RESTUANS</td>\n",
       "      <td>41</td>\n",
       "      <td>N OAK PARK AVE</td>\n",
       "      <td>T002</td>\n",
       "      <td>4100  N OAK PARK AVE, Chicago, IL</td>\n",
       "      <td>41.954690</td>\n",
       "      <td>-87.800991</td>\n",
       "      <td>9</td>\n",
       "      <td>1</td>\n",
       "      <td>0</td>\n",
       "      <td>2007</td>\n",
       "      <td>5</td>\n",
       "      <td>1</td>\n",
       "    </tr>\n",
       "    <tr>\n",
       "      <th>1</th>\n",
       "      <td>2007-05-29</td>\n",
       "      <td>4100 North Oak Park Avenue, Chicago, IL 60634,...</td>\n",
       "      <td>CULEX RESTUANS</td>\n",
       "      <td>41</td>\n",
       "      <td>N OAK PARK AVE</td>\n",
       "      <td>T002</td>\n",
       "      <td>4100  N OAK PARK AVE, Chicago, IL</td>\n",
       "      <td>41.954690</td>\n",
       "      <td>-87.800991</td>\n",
       "      <td>9</td>\n",
       "      <td>1</td>\n",
       "      <td>0</td>\n",
       "      <td>2007</td>\n",
       "      <td>5</td>\n",
       "      <td>1</td>\n",
       "    </tr>\n",
       "    <tr>\n",
       "      <th>2</th>\n",
       "      <td>2007-05-29</td>\n",
       "      <td>6200 North Mandell Avenue, Chicago, IL 60646, USA</td>\n",
       "      <td>CULEX RESTUANS</td>\n",
       "      <td>62</td>\n",
       "      <td>N MANDELL AVE</td>\n",
       "      <td>T007</td>\n",
       "      <td>6200  N MANDELL AVE, Chicago, IL</td>\n",
       "      <td>41.994991</td>\n",
       "      <td>-87.769279</td>\n",
       "      <td>9</td>\n",
       "      <td>1</td>\n",
       "      <td>0</td>\n",
       "      <td>2007</td>\n",
       "      <td>5</td>\n",
       "      <td>1</td>\n",
       "    </tr>\n",
       "    <tr>\n",
       "      <th>3</th>\n",
       "      <td>2007-05-29</td>\n",
       "      <td>7900 West Foster Avenue, Chicago, IL 60656, USA</td>\n",
       "      <td>CULEX PIPIENS/RESTUANS</td>\n",
       "      <td>79</td>\n",
       "      <td>W FOSTER AVE</td>\n",
       "      <td>T015</td>\n",
       "      <td>7900  W FOSTER AVE, Chicago, IL</td>\n",
       "      <td>41.974089</td>\n",
       "      <td>-87.824812</td>\n",
       "      <td>8</td>\n",
       "      <td>1</td>\n",
       "      <td>0</td>\n",
       "      <td>2007</td>\n",
       "      <td>5</td>\n",
       "      <td>1</td>\n",
       "    </tr>\n",
       "    <tr>\n",
       "      <th>4</th>\n",
       "      <td>2007-05-29</td>\n",
       "      <td>7900 West Foster Avenue, Chicago, IL 60656, USA</td>\n",
       "      <td>CULEX RESTUANS</td>\n",
       "      <td>79</td>\n",
       "      <td>W FOSTER AVE</td>\n",
       "      <td>T015</td>\n",
       "      <td>7900  W FOSTER AVE, Chicago, IL</td>\n",
       "      <td>41.974089</td>\n",
       "      <td>-87.824812</td>\n",
       "      <td>8</td>\n",
       "      <td>4</td>\n",
       "      <td>0</td>\n",
       "      <td>2007</td>\n",
       "      <td>5</td>\n",
       "      <td>4</td>\n",
       "    </tr>\n",
       "  </tbody>\n",
       "</table>\n",
       "</div>"
      ],
      "text/plain": [
       "        date                                            address  \\\n",
       "0 2007-05-29  4100 North Oak Park Avenue, Chicago, IL 60634,...   \n",
       "1 2007-05-29  4100 North Oak Park Avenue, Chicago, IL 60634,...   \n",
       "2 2007-05-29  6200 North Mandell Avenue, Chicago, IL 60646, USA   \n",
       "3 2007-05-29    7900 West Foster Avenue, Chicago, IL 60656, USA   \n",
       "4 2007-05-29    7900 West Foster Avenue, Chicago, IL 60656, USA   \n",
       "\n",
       "                  species  block           street  trap  \\\n",
       "0  CULEX PIPIENS/RESTUANS     41   N OAK PARK AVE  T002   \n",
       "1          CULEX RESTUANS     41   N OAK PARK AVE  T002   \n",
       "2          CULEX RESTUANS     62    N MANDELL AVE  T007   \n",
       "3  CULEX PIPIENS/RESTUANS     79     W FOSTER AVE  T015   \n",
       "4          CULEX RESTUANS     79     W FOSTER AVE  T015   \n",
       "\n",
       "              addressnumberandstreet   latitude  longitude  addressaccuracy  \\\n",
       "0  4100  N OAK PARK AVE, Chicago, IL  41.954690 -87.800991                9   \n",
       "1  4100  N OAK PARK AVE, Chicago, IL  41.954690 -87.800991                9   \n",
       "2   6200  N MANDELL AVE, Chicago, IL  41.994991 -87.769279                9   \n",
       "3    7900  W FOSTER AVE, Chicago, IL  41.974089 -87.824812                8   \n",
       "4    7900  W FOSTER AVE, Chicago, IL  41.974089 -87.824812                8   \n",
       "\n",
       "   nummosquitos  wnvpresent  year  month  total_mos  \n",
       "0             1           0  2007      5          1  \n",
       "1             1           0  2007      5          1  \n",
       "2             1           0  2007      5          1  \n",
       "3             1           0  2007      5          1  \n",
       "4             4           0  2007      5          4  "
      ]
     },
     "execution_count": 38,
     "metadata": {},
     "output_type": "execute_result"
    }
   ],
   "source": [
    "train.head()"
   ]
  },
  {
   "cell_type": "markdown",
   "metadata": {},
   "source": [
    "***"
   ]
  },
  {
   "cell_type": "code",
   "execution_count": 40,
   "metadata": {},
   "outputs": [],
   "source": [
    "rate = train.groupby(['addressnumberandstreet', 'trap'], as_index=False)['wnvpresent', 'nummosquitos'].sum().sort_values('wnvpresent')"
   ]
  },
  {
   "cell_type": "code",
   "execution_count": 43,
   "metadata": {},
   "outputs": [
    {
     "data": {
      "text/html": [
       "<div>\n",
       "<style scoped>\n",
       "    .dataframe tbody tr th:only-of-type {\n",
       "        vertical-align: middle;\n",
       "    }\n",
       "\n",
       "    .dataframe tbody tr th {\n",
       "        vertical-align: top;\n",
       "    }\n",
       "\n",
       "    .dataframe thead th {\n",
       "        text-align: right;\n",
       "    }\n",
       "</style>\n",
       "<table border=\"1\" class=\"dataframe\">\n",
       "  <thead>\n",
       "    <tr style=\"text-align: right;\">\n",
       "      <th></th>\n",
       "      <th>addressnumberandstreet</th>\n",
       "      <th>trap</th>\n",
       "      <th>wnvpresent</th>\n",
       "      <th>nummosquitos</th>\n",
       "    </tr>\n",
       "  </thead>\n",
       "  <tbody>\n",
       "    <tr>\n",
       "      <th>79</th>\n",
       "      <td>4600  N MILWAUKEE AVE, Chicago, IL</td>\n",
       "      <td>T003</td>\n",
       "      <td>14</td>\n",
       "      <td>1346</td>\n",
       "    </tr>\n",
       "    <tr>\n",
       "      <th>4</th>\n",
       "      <td>1000  S STONY ISLAND AVE, Chicago, IL</td>\n",
       "      <td>T138</td>\n",
       "      <td>16</td>\n",
       "      <td>9936</td>\n",
       "    </tr>\n",
       "    <tr>\n",
       "      <th>72</th>\n",
       "      <td>4100  N OAK PARK AVE, Chicago, IL</td>\n",
       "      <td>T002</td>\n",
       "      <td>18</td>\n",
       "      <td>3710</td>\n",
       "    </tr>\n",
       "    <tr>\n",
       "      <th>18</th>\n",
       "      <td>1200  S DOTY AVE, Chicago, IL</td>\n",
       "      <td>T115</td>\n",
       "      <td>41</td>\n",
       "      <td>21668</td>\n",
       "    </tr>\n",
       "    <tr>\n",
       "      <th>7</th>\n",
       "      <td>1000  W OHARE AIRPORT, Chicago, IL</td>\n",
       "      <td>T900</td>\n",
       "      <td>66</td>\n",
       "      <td>15386</td>\n",
       "    </tr>\n",
       "  </tbody>\n",
       "</table>\n",
       "</div>"
      ],
      "text/plain": [
       "                   addressnumberandstreet  trap  wnvpresent  nummosquitos\n",
       "79     4600  N MILWAUKEE AVE, Chicago, IL  T003          14          1346\n",
       "4   1000  S STONY ISLAND AVE, Chicago, IL  T138          16          9936\n",
       "72      4100  N OAK PARK AVE, Chicago, IL  T002          18          3710\n",
       "18          1200  S DOTY AVE, Chicago, IL  T115          41         21668\n",
       "7      1000  W OHARE AIRPORT, Chicago, IL  T900          66         15386"
      ]
     },
     "execution_count": 43,
     "metadata": {},
     "output_type": "execute_result"
    }
   ],
   "source": [
    "rate.tail()"
   ]
  },
  {
   "cell_type": "code",
   "execution_count": 44,
   "metadata": {},
   "outputs": [],
   "source": [
    "rate['rate_virus'] = rate['wnvpresent']/rate['nummosquitos']"
   ]
  },
  {
   "cell_type": "code",
   "execution_count": 45,
   "metadata": {},
   "outputs": [
    {
     "data": {
      "text/html": [
       "<div>\n",
       "<style scoped>\n",
       "    .dataframe tbody tr th:only-of-type {\n",
       "        vertical-align: middle;\n",
       "    }\n",
       "\n",
       "    .dataframe tbody tr th {\n",
       "        vertical-align: top;\n",
       "    }\n",
       "\n",
       "    .dataframe thead th {\n",
       "        text-align: right;\n",
       "    }\n",
       "</style>\n",
       "<table border=\"1\" class=\"dataframe\">\n",
       "  <thead>\n",
       "    <tr style=\"text-align: right;\">\n",
       "      <th></th>\n",
       "      <th>addressnumberandstreet</th>\n",
       "      <th>trap</th>\n",
       "      <th>wnvpresent</th>\n",
       "      <th>nummosquitos</th>\n",
       "      <th>rate_virus</th>\n",
       "    </tr>\n",
       "  </thead>\n",
       "  <tbody>\n",
       "    <tr>\n",
       "      <th>7</th>\n",
       "      <td>1000  W OHARE AIRPORT, Chicago, IL</td>\n",
       "      <td>T900</td>\n",
       "      <td>66</td>\n",
       "      <td>15386</td>\n",
       "      <td>0.004290</td>\n",
       "    </tr>\n",
       "    <tr>\n",
       "      <th>18</th>\n",
       "      <td>1200  S DOTY AVE, Chicago, IL</td>\n",
       "      <td>T115</td>\n",
       "      <td>41</td>\n",
       "      <td>21668</td>\n",
       "      <td>0.001892</td>\n",
       "    </tr>\n",
       "    <tr>\n",
       "      <th>72</th>\n",
       "      <td>4100  N OAK PARK AVE, Chicago, IL</td>\n",
       "      <td>T002</td>\n",
       "      <td>18</td>\n",
       "      <td>3710</td>\n",
       "      <td>0.004852</td>\n",
       "    </tr>\n",
       "    <tr>\n",
       "      <th>4</th>\n",
       "      <td>1000  S STONY ISLAND AVE, Chicago, IL</td>\n",
       "      <td>T138</td>\n",
       "      <td>16</td>\n",
       "      <td>9936</td>\n",
       "      <td>0.001610</td>\n",
       "    </tr>\n",
       "    <tr>\n",
       "      <th>79</th>\n",
       "      <td>4600  N MILWAUKEE AVE, Chicago, IL</td>\n",
       "      <td>T003</td>\n",
       "      <td>14</td>\n",
       "      <td>1346</td>\n",
       "      <td>0.010401</td>\n",
       "    </tr>\n",
       "    <tr>\n",
       "      <th>128</th>\n",
       "      <td>8200  S KOSTNER AVE, Chicago, IL</td>\n",
       "      <td>T225</td>\n",
       "      <td>11</td>\n",
       "      <td>2014</td>\n",
       "      <td>0.005462</td>\n",
       "    </tr>\n",
       "    <tr>\n",
       "      <th>60</th>\n",
       "      <td>3600  N PITTSBURGH AVE, Chicago, IL</td>\n",
       "      <td>T011</td>\n",
       "      <td>11</td>\n",
       "      <td>1311</td>\n",
       "      <td>0.008391</td>\n",
       "    </tr>\n",
       "    <tr>\n",
       "      <th>45</th>\n",
       "      <td>2400  E 105TH ST, Chicago, IL</td>\n",
       "      <td>T128</td>\n",
       "      <td>11</td>\n",
       "      <td>3315</td>\n",
       "      <td>0.003318</td>\n",
       "    </tr>\n",
       "    <tr>\n",
       "      <th>115</th>\n",
       "      <td>7000  N MOSELL AVE, Chicago, IL</td>\n",
       "      <td>T008</td>\n",
       "      <td>10</td>\n",
       "      <td>2668</td>\n",
       "      <td>0.003748</td>\n",
       "    </tr>\n",
       "    <tr>\n",
       "      <th>8</th>\n",
       "      <td>1000  W OHARE, Chicago, IL</td>\n",
       "      <td>T903</td>\n",
       "      <td>10</td>\n",
       "      <td>2327</td>\n",
       "      <td>0.004297</td>\n",
       "    </tr>\n",
       "  </tbody>\n",
       "</table>\n",
       "</div>"
      ],
      "text/plain": [
       "                    addressnumberandstreet  trap  wnvpresent  nummosquitos  \\\n",
       "7       1000  W OHARE AIRPORT, Chicago, IL  T900          66         15386   \n",
       "18           1200  S DOTY AVE, Chicago, IL  T115          41         21668   \n",
       "72       4100  N OAK PARK AVE, Chicago, IL  T002          18          3710   \n",
       "4    1000  S STONY ISLAND AVE, Chicago, IL  T138          16          9936   \n",
       "79      4600  N MILWAUKEE AVE, Chicago, IL  T003          14          1346   \n",
       "128       8200  S KOSTNER AVE, Chicago, IL  T225          11          2014   \n",
       "60     3600  N PITTSBURGH AVE, Chicago, IL  T011          11          1311   \n",
       "45           2400  E 105TH ST, Chicago, IL  T128          11          3315   \n",
       "115        7000  N MOSELL AVE, Chicago, IL  T008          10          2668   \n",
       "8               1000  W OHARE, Chicago, IL  T903          10          2327   \n",
       "\n",
       "     rate_virus  \n",
       "7      0.004290  \n",
       "18     0.001892  \n",
       "72     0.004852  \n",
       "4      0.001610  \n",
       "79     0.010401  \n",
       "128    0.005462  \n",
       "60     0.008391  \n",
       "45     0.003318  \n",
       "115    0.003748  \n",
       "8      0.004297  "
      ]
     },
     "execution_count": 45,
     "metadata": {},
     "output_type": "execute_result"
    }
   ],
   "source": [
    "\n",
    "rate.sort_values('wnvpresent', ascending=False).head(10)"
   ]
  },
  {
   "cell_type": "code",
   "execution_count": 47,
   "metadata": {},
   "outputs": [
    {
     "data": {
      "text/html": [
       "<div>\n",
       "<style scoped>\n",
       "    .dataframe tbody tr th:only-of-type {\n",
       "        vertical-align: middle;\n",
       "    }\n",
       "\n",
       "    .dataframe tbody tr th {\n",
       "        vertical-align: top;\n",
       "    }\n",
       "\n",
       "    .dataframe thead th {\n",
       "        text-align: right;\n",
       "    }\n",
       "</style>\n",
       "<table border=\"1\" class=\"dataframe\">\n",
       "  <thead>\n",
       "    <tr style=\"text-align: right;\">\n",
       "      <th></th>\n",
       "      <th>addressnumberandstreet</th>\n",
       "      <th>trap</th>\n",
       "      <th>wnvpresent</th>\n",
       "      <th>nummosquitos</th>\n",
       "      <th>rate_virus</th>\n",
       "    </tr>\n",
       "  </thead>\n",
       "  <tbody>\n",
       "    <tr>\n",
       "      <th>99</th>\n",
       "      <td>6000  W ROSCOE ST, Chicago, IL</td>\n",
       "      <td>T005</td>\n",
       "      <td>2</td>\n",
       "      <td>50</td>\n",
       "      <td>0.040000</td>\n",
       "    </tr>\n",
       "    <tr>\n",
       "      <th>97</th>\n",
       "      <td>6000  N AVONDALE AVE, Chicago, IL</td>\n",
       "      <td>T006</td>\n",
       "      <td>4</td>\n",
       "      <td>107</td>\n",
       "      <td>0.037383</td>\n",
       "    </tr>\n",
       "    <tr>\n",
       "      <th>109</th>\n",
       "      <td>6500  N OAK PARK AVE, Chicago, IL</td>\n",
       "      <td>T143</td>\n",
       "      <td>6</td>\n",
       "      <td>230</td>\n",
       "      <td>0.026087</td>\n",
       "    </tr>\n",
       "    <tr>\n",
       "      <th>123</th>\n",
       "      <td>7900  W FOSTER AVE, Chicago, IL</td>\n",
       "      <td>T015</td>\n",
       "      <td>4</td>\n",
       "      <td>169</td>\n",
       "      <td>0.023669</td>\n",
       "    </tr>\n",
       "    <tr>\n",
       "      <th>125</th>\n",
       "      <td>8100  E 91ST ST, Chicago, IL</td>\n",
       "      <td>T107</td>\n",
       "      <td>2</td>\n",
       "      <td>86</td>\n",
       "      <td>0.023256</td>\n",
       "    </tr>\n",
       "    <tr>\n",
       "      <th>89</th>\n",
       "      <td>5200  S NORDICA, Chicago, IL</td>\n",
       "      <td>T070</td>\n",
       "      <td>2</td>\n",
       "      <td>90</td>\n",
       "      <td>0.022222</td>\n",
       "    </tr>\n",
       "    <tr>\n",
       "      <th>75</th>\n",
       "      <td>4200  W 31ST ST, Chicago, IL</td>\n",
       "      <td>T036</td>\n",
       "      <td>1</td>\n",
       "      <td>52</td>\n",
       "      <td>0.019231</td>\n",
       "    </tr>\n",
       "    <tr>\n",
       "      <th>69</th>\n",
       "      <td>4000  N AUSTIN AVE, Chicago, IL</td>\n",
       "      <td>T142</td>\n",
       "      <td>1</td>\n",
       "      <td>58</td>\n",
       "      <td>0.017241</td>\n",
       "    </tr>\n",
       "    <tr>\n",
       "      <th>111</th>\n",
       "      <td>6600  S KILPATRICK AVE, Chicago, IL</td>\n",
       "      <td>T156</td>\n",
       "      <td>1</td>\n",
       "      <td>61</td>\n",
       "      <td>0.016393</td>\n",
       "    </tr>\n",
       "    <tr>\n",
       "      <th>71</th>\n",
       "      <td>4000  S DEARBORN ST, Chicago, IL</td>\n",
       "      <td>T081</td>\n",
       "      <td>3</td>\n",
       "      <td>207</td>\n",
       "      <td>0.014493</td>\n",
       "    </tr>\n",
       "    <tr>\n",
       "      <th>106</th>\n",
       "      <td>6400  S STONY ISLAND AVE, Chicago, IL</td>\n",
       "      <td>T077</td>\n",
       "      <td>1</td>\n",
       "      <td>70</td>\n",
       "      <td>0.014286</td>\n",
       "    </tr>\n",
       "    <tr>\n",
       "      <th>134</th>\n",
       "      <td>9300  S DR MARTIN LUTHER KING JR DR, Chicago, IL</td>\n",
       "      <td>T162</td>\n",
       "      <td>1</td>\n",
       "      <td>70</td>\n",
       "      <td>0.014286</td>\n",
       "    </tr>\n",
       "    <tr>\n",
       "      <th>76</th>\n",
       "      <td>4200  W 65TH ST, Chicago, IL</td>\n",
       "      <td>T235</td>\n",
       "      <td>7</td>\n",
       "      <td>557</td>\n",
       "      <td>0.012567</td>\n",
       "    </tr>\n",
       "    <tr>\n",
       "      <th>105</th>\n",
       "      <td>6300  W 64TH ST, Chicago, IL</td>\n",
       "      <td>T155</td>\n",
       "      <td>6</td>\n",
       "      <td>530</td>\n",
       "      <td>0.011321</td>\n",
       "    </tr>\n",
       "    <tr>\n",
       "      <th>34</th>\n",
       "      <td>2000  E 111TH ST, Chicago, IL</td>\n",
       "      <td>T084</td>\n",
       "      <td>1</td>\n",
       "      <td>91</td>\n",
       "      <td>0.010989</td>\n",
       "    </tr>\n",
       "    <tr>\n",
       "      <th>107</th>\n",
       "      <td>6400  W STRONG ST, Chicago, IL</td>\n",
       "      <td>T014</td>\n",
       "      <td>4</td>\n",
       "      <td>364</td>\n",
       "      <td>0.010989</td>\n",
       "    </tr>\n",
       "    <tr>\n",
       "      <th>20</th>\n",
       "      <td>1300  N LARAMIE AVE, Chicago, IL</td>\n",
       "      <td>T230</td>\n",
       "      <td>7</td>\n",
       "      <td>644</td>\n",
       "      <td>0.010870</td>\n",
       "    </tr>\n",
       "    <tr>\n",
       "      <th>5</th>\n",
       "      <td>1000  S VINCENNES, Chicago, IL</td>\n",
       "      <td>T089</td>\n",
       "      <td>4</td>\n",
       "      <td>374</td>\n",
       "      <td>0.010695</td>\n",
       "    </tr>\n",
       "    <tr>\n",
       "      <th>36</th>\n",
       "      <td>2100  N LAWLER AVE, Chicago, IL</td>\n",
       "      <td>T154</td>\n",
       "      <td>2</td>\n",
       "      <td>188</td>\n",
       "      <td>0.010638</td>\n",
       "    </tr>\n",
       "    <tr>\n",
       "      <th>52</th>\n",
       "      <td>3000  S HOYNE AVE, Chicago, IL</td>\n",
       "      <td>T035</td>\n",
       "      <td>1</td>\n",
       "      <td>94</td>\n",
       "      <td>0.010638</td>\n",
       "    </tr>\n",
       "    <tr>\n",
       "      <th>94</th>\n",
       "      <td>5800  N PULASKI RD, Chicago, IL</td>\n",
       "      <td>T027</td>\n",
       "      <td>7</td>\n",
       "      <td>666</td>\n",
       "      <td>0.010511</td>\n",
       "    </tr>\n",
       "    <tr>\n",
       "      <th>79</th>\n",
       "      <td>4600  N MILWAUKEE AVE, Chicago, IL</td>\n",
       "      <td>T003</td>\n",
       "      <td>14</td>\n",
       "      <td>1346</td>\n",
       "      <td>0.010401</td>\n",
       "    </tr>\n",
       "    <tr>\n",
       "      <th>43</th>\n",
       "      <td>2200  W 89TH ST, Chicago, IL</td>\n",
       "      <td>T096</td>\n",
       "      <td>6</td>\n",
       "      <td>578</td>\n",
       "      <td>0.010381</td>\n",
       "    </tr>\n",
       "    <tr>\n",
       "      <th>29</th>\n",
       "      <td>1700  N PULASKI RD, Chicago, IL</td>\n",
       "      <td>T039</td>\n",
       "      <td>4</td>\n",
       "      <td>404</td>\n",
       "      <td>0.009901</td>\n",
       "    </tr>\n",
       "    <tr>\n",
       "      <th>41</th>\n",
       "      <td>2200  W 51ST ST, Chicago, IL</td>\n",
       "      <td>T061</td>\n",
       "      <td>8</td>\n",
       "      <td>840</td>\n",
       "      <td>0.009524</td>\n",
       "    </tr>\n",
       "  </tbody>\n",
       "</table>\n",
       "</div>"
      ],
      "text/plain": [
       "                               addressnumberandstreet  trap  wnvpresent  \\\n",
       "99                     6000  W ROSCOE ST, Chicago, IL  T005           2   \n",
       "97                  6000  N AVONDALE AVE, Chicago, IL  T006           4   \n",
       "109                 6500  N OAK PARK AVE, Chicago, IL  T143           6   \n",
       "123                   7900  W FOSTER AVE, Chicago, IL  T015           4   \n",
       "125                      8100  E 91ST ST, Chicago, IL  T107           2   \n",
       "89                       5200  S NORDICA, Chicago, IL  T070           2   \n",
       "75                       4200  W 31ST ST, Chicago, IL  T036           1   \n",
       "69                    4000  N AUSTIN AVE, Chicago, IL  T142           1   \n",
       "111               6600  S KILPATRICK AVE, Chicago, IL  T156           1   \n",
       "71                   4000  S DEARBORN ST, Chicago, IL  T081           3   \n",
       "106             6400  S STONY ISLAND AVE, Chicago, IL  T077           1   \n",
       "134  9300  S DR MARTIN LUTHER KING JR DR, Chicago, IL  T162           1   \n",
       "76                       4200  W 65TH ST, Chicago, IL  T235           7   \n",
       "105                      6300  W 64TH ST, Chicago, IL  T155           6   \n",
       "34                      2000  E 111TH ST, Chicago, IL  T084           1   \n",
       "107                    6400  W STRONG ST, Chicago, IL  T014           4   \n",
       "20                   1300  N LARAMIE AVE, Chicago, IL  T230           7   \n",
       "5                      1000  S VINCENNES, Chicago, IL  T089           4   \n",
       "36                    2100  N LAWLER AVE, Chicago, IL  T154           2   \n",
       "52                     3000  S HOYNE AVE, Chicago, IL  T035           1   \n",
       "94                    5800  N PULASKI RD, Chicago, IL  T027           7   \n",
       "79                 4600  N MILWAUKEE AVE, Chicago, IL  T003          14   \n",
       "43                       2200  W 89TH ST, Chicago, IL  T096           6   \n",
       "29                    1700  N PULASKI RD, Chicago, IL  T039           4   \n",
       "41                       2200  W 51ST ST, Chicago, IL  T061           8   \n",
       "\n",
       "     nummosquitos  rate_virus  \n",
       "99             50    0.040000  \n",
       "97            107    0.037383  \n",
       "109           230    0.026087  \n",
       "123           169    0.023669  \n",
       "125            86    0.023256  \n",
       "89             90    0.022222  \n",
       "75             52    0.019231  \n",
       "69             58    0.017241  \n",
       "111            61    0.016393  \n",
       "71            207    0.014493  \n",
       "106            70    0.014286  \n",
       "134            70    0.014286  \n",
       "76            557    0.012567  \n",
       "105           530    0.011321  \n",
       "34             91    0.010989  \n",
       "107           364    0.010989  \n",
       "20            644    0.010870  \n",
       "5             374    0.010695  \n",
       "36            188    0.010638  \n",
       "52             94    0.010638  \n",
       "94            666    0.010511  \n",
       "79           1346    0.010401  \n",
       "43            578    0.010381  \n",
       "29            404    0.009901  \n",
       "41            840    0.009524  "
      ]
     },
     "execution_count": 47,
     "metadata": {},
     "output_type": "execute_result"
    }
   ],
   "source": [
    "rate.sort_values('rate_virus', ascending=False).head(25)"
   ]
  },
  {
   "cell_type": "code",
   "execution_count": 70,
   "metadata": {},
   "outputs": [
    {
     "data": {
      "text/plain": [
       "Text(0.5, 1.0, 'Average Mosquitoes in Trap by Month and Year')"
      ]
     },
     "execution_count": 70,
     "metadata": {},
     "output_type": "execute_result"
    },
    {
     "data": {
      "image/png": "[encoded data removed]",
      "text/plain": [
       "<Figure size 1080x360 with 1 Axes>"
      ]
     },
     "metadata": {},
     "output_type": "display_data"
    }
   ],
   "source": [
    "# plot Average Mosquitoes in Trap by Month and Year\n",
    "plt.figure(figsize=(15,5))\n",
    "_ = sns.pointplot(x='month', y=\"nummosquitos\", hue=\"year\", data=train.groupby(['year', 'month'], as_index=False)['nummosquitos'].mean(),)\n",
    "_.set(xticklabels=['May', 'June', 'July', 'August', 'September', 'October'])\n",
    "plt.ylabel('Average Number of Mosquitos in Trap')\n",
    "plt.title('Average Mosquitoes in Trap by Month and Year');"
   ]
  },
  {
   "cell_type": "code",
   "execution_count": 69,
   "metadata": {},
   "outputs": [
    {
     "data": {
      "image/png": "[encoded data removed]",
      "text/plain": [
       "<Figure size 1080x360 with 1 Axes>"
      ]
     },
     "metadata": {},
     "output_type": "display_data"
    }
   ],
   "source": [
    "# plot Average WNV Mosquitoes in Trap by Month and Year\n",
    "plt.figure(figsize=(15,5))\n",
    "_ = sns.pointplot(x='month', y=\"wnvpresent\", hue=\"year\", data=train.groupby(['year', 'month'], as_index=False)['wnvpresent'].mean(),)\n",
    "_.set(xticklabels=['May', 'June', 'July', 'August', 'September', 'October'])\n",
    "plt.ylabel('Average Number of Mosquitos in Trap')\n",
    "plt.title('Average WNV Mosquitoes in Trap by Month and Year');"
   ]
  },
  {
   "cell_type": "code",
   "execution_count": 55,
   "metadata": {},
   "outputs": [
    {
     "data": {
      "text/plain": [
       "year\n",
       "2007    3811\n",
       "2009    2249\n",
       "2011    2054\n",
       "2013    2392\n",
       "Name: trap, dtype: int64"
      ]
     },
     "execution_count": 55,
     "metadata": {},
     "output_type": "execute_result"
    }
   ],
   "source": [
    "# number of traps set by year\n",
    "train.groupby('year')['trap'].count()"
   ]
  },
  {
   "cell_type": "code",
   "execution_count": 67,
   "metadata": {},
   "outputs": [
    {
     "data": {
      "image/png": "[encoded data removed]",
      "text/plain": [
       "<Figure size 1080x360 with 2 Axes>"
      ]
     },
     "metadata": {},
     "output_type": "display_data"
    }
   ],
   "source": [
    "sns.set(font_scale=0.8)\n",
    "fig = plt.figure(figsize=(15,5))\n",
    "ax1 = fig.add_subplot(111)\n",
    "ax1 = sns.pointplot(x='month', y=\"nummosquitos\", data=train.groupby(['month'], as_index=False)['nummosquitos'].mean(),)\n",
    "plt.ylabel('Average Number of Mosquitos in Trap')\n",
    "plt.legend(['Number of Mosquitos'], loc=2)\n",
    "ax2 = ax1.twinx()\n",
    "ax2 = sns.pointplot(x='month', y=\"wnvpresent\", linestyles='-.', color='r', data=train.groupby(['month'], as_index=False)['wnvpresent'].mean(),)\n",
    "ax1.set(xticklabels=['May', 'June', 'July', 'August', 'September', 'October'])\n",
    "plt.ylabel('Average Cases of WNV in Trap')\n",
    "plt.legend(['Cases of West Nile Virus'], loc=1);"
   ]
  },
  {
   "attachments": {},
   "cell_type": "markdown",
   "metadata": {},
   "source": [
    "***"
   ]
  },
  {
   "cell_type": "code",
   "execution_count": null,
   "metadata": {},
   "outputs": [],
   "source": []
  },
  {
   "cell_type": "code",
   "execution_count": null,
   "metadata": {},
   "outputs": [],
   "source": []
  },
  {
   "cell_type": "code",
   "execution_count": null,
   "metadata": {},
   "outputs": [],
   "source": [
    "# split up species\n",
    "# def dummify_species (data):\n",
    "#     #Convert Date column to Date time object\n",
    "#     data['species'] = pd.get_dummies(data, columns = ['species'])   \n",
    "#     return"
   ]
  },
  {
   "cell_type": "code",
   "execution_count": null,
   "metadata": {},
   "outputs": [],
   "source": [
    "# dummify_species(train)\n",
    "# dummify_species(test)"
   ]
  },
  {
   "cell_type": "markdown",
   "metadata": {},
   "source": [
    "## after this point: full pasting of data from \n",
    "https://github.com/dale-wahl/West-Nile-Virus/blob/master/EDA-West%20Nile%20Virus%20-%20Dale.ipynb"
   ]
  },
  {
   "cell_type": "markdown",
   "metadata": {},
   "source": [
    "## WEATHER ED\n",
    "Aweather EDA needs a cleaned up data set - skipping first"
   ]
  },
  {
   "cell_type": "code",
   "execution_count": 84,
   "metadata": {},
   "outputs": [
    {
     "data": {
      "text/html": [
       "<div>\n",
       "<style scoped>\n",
       "    .dataframe tbody tr th:only-of-type {\n",
       "        vertical-align: middle;\n",
       "    }\n",
       "\n",
       "    .dataframe tbody tr th {\n",
       "        vertical-align: top;\n",
       "    }\n",
       "\n",
       "    .dataframe thead th {\n",
       "        text-align: right;\n",
       "    }\n",
       "</style>\n",
       "<table border=\"1\" class=\"dataframe\">\n",
       "  <thead>\n",
       "    <tr style=\"text-align: right;\">\n",
       "      <th></th>\n",
       "      <th>station</th>\n",
       "      <th>date</th>\n",
       "      <th>tmax</th>\n",
       "      <th>tmin</th>\n",
       "      <th>tavg</th>\n",
       "      <th>depart</th>\n",
       "      <th>dewpoint</th>\n",
       "      <th>wetbulb</th>\n",
       "      <th>heat</th>\n",
       "      <th>cool</th>\n",
       "      <th>sunrise</th>\n",
       "      <th>sunset</th>\n",
       "      <th>codesum</th>\n",
       "      <th>depth</th>\n",
       "      <th>water1</th>\n",
       "      <th>snowfall</th>\n",
       "      <th>preciptotal</th>\n",
       "      <th>stnpressure</th>\n",
       "      <th>sealevel</th>\n",
       "      <th>resultspeed</th>\n",
       "      <th>resultdir</th>\n",
       "      <th>avgspeed</th>\n",
       "      <th>year</th>\n",
       "      <th>month</th>\n",
       "    </tr>\n",
       "  </thead>\n",
       "  <tbody>\n",
       "    <tr>\n",
       "      <th>0</th>\n",
       "      <td>1</td>\n",
       "      <td>2007-05-01</td>\n",
       "      <td>83</td>\n",
       "      <td>50</td>\n",
       "      <td>67</td>\n",
       "      <td>14</td>\n",
       "      <td>51</td>\n",
       "      <td>56</td>\n",
       "      <td>0</td>\n",
       "      <td>2</td>\n",
       "      <td>0448</td>\n",
       "      <td>1849</td>\n",
       "      <td></td>\n",
       "      <td>0</td>\n",
       "      <td>M</td>\n",
       "      <td>0.0</td>\n",
       "      <td>0.00</td>\n",
       "      <td>29.10</td>\n",
       "      <td>29.82</td>\n",
       "      <td>1.7</td>\n",
       "      <td>27</td>\n",
       "      <td>9.2</td>\n",
       "      <td>2007</td>\n",
       "      <td>5</td>\n",
       "    </tr>\n",
       "    <tr>\n",
       "      <th>1</th>\n",
       "      <td>2</td>\n",
       "      <td>2007-05-01</td>\n",
       "      <td>84</td>\n",
       "      <td>52</td>\n",
       "      <td>68</td>\n",
       "      <td>M</td>\n",
       "      <td>51</td>\n",
       "      <td>57</td>\n",
       "      <td>0</td>\n",
       "      <td>3</td>\n",
       "      <td>-</td>\n",
       "      <td>-</td>\n",
       "      <td></td>\n",
       "      <td>M</td>\n",
       "      <td>M</td>\n",
       "      <td>M</td>\n",
       "      <td>0.00</td>\n",
       "      <td>29.18</td>\n",
       "      <td>29.82</td>\n",
       "      <td>2.7</td>\n",
       "      <td>25</td>\n",
       "      <td>9.6</td>\n",
       "      <td>2007</td>\n",
       "      <td>5</td>\n",
       "    </tr>\n",
       "    <tr>\n",
       "      <th>2</th>\n",
       "      <td>1</td>\n",
       "      <td>2007-05-02</td>\n",
       "      <td>59</td>\n",
       "      <td>42</td>\n",
       "      <td>51</td>\n",
       "      <td>-3</td>\n",
       "      <td>42</td>\n",
       "      <td>47</td>\n",
       "      <td>14</td>\n",
       "      <td>0</td>\n",
       "      <td>0447</td>\n",
       "      <td>1850</td>\n",
       "      <td>BR</td>\n",
       "      <td>0</td>\n",
       "      <td>M</td>\n",
       "      <td>0.0</td>\n",
       "      <td>0.00</td>\n",
       "      <td>29.38</td>\n",
       "      <td>30.09</td>\n",
       "      <td>13.0</td>\n",
       "      <td>4</td>\n",
       "      <td>13.4</td>\n",
       "      <td>2007</td>\n",
       "      <td>5</td>\n",
       "    </tr>\n",
       "    <tr>\n",
       "      <th>3</th>\n",
       "      <td>2</td>\n",
       "      <td>2007-05-02</td>\n",
       "      <td>60</td>\n",
       "      <td>43</td>\n",
       "      <td>52</td>\n",
       "      <td>M</td>\n",
       "      <td>42</td>\n",
       "      <td>47</td>\n",
       "      <td>13</td>\n",
       "      <td>0</td>\n",
       "      <td>-</td>\n",
       "      <td>-</td>\n",
       "      <td>BR HZ</td>\n",
       "      <td>M</td>\n",
       "      <td>M</td>\n",
       "      <td>M</td>\n",
       "      <td>0.00</td>\n",
       "      <td>29.44</td>\n",
       "      <td>30.08</td>\n",
       "      <td>13.3</td>\n",
       "      <td>2</td>\n",
       "      <td>13.4</td>\n",
       "      <td>2007</td>\n",
       "      <td>5</td>\n",
       "    </tr>\n",
       "    <tr>\n",
       "      <th>4</th>\n",
       "      <td>1</td>\n",
       "      <td>2007-05-03</td>\n",
       "      <td>66</td>\n",
       "      <td>46</td>\n",
       "      <td>56</td>\n",
       "      <td>2</td>\n",
       "      <td>40</td>\n",
       "      <td>48</td>\n",
       "      <td>9</td>\n",
       "      <td>0</td>\n",
       "      <td>0446</td>\n",
       "      <td>1851</td>\n",
       "      <td></td>\n",
       "      <td>0</td>\n",
       "      <td>M</td>\n",
       "      <td>0.0</td>\n",
       "      <td>0.00</td>\n",
       "      <td>29.39</td>\n",
       "      <td>30.12</td>\n",
       "      <td>11.7</td>\n",
       "      <td>7</td>\n",
       "      <td>11.9</td>\n",
       "      <td>2007</td>\n",
       "      <td>5</td>\n",
       "    </tr>\n",
       "  </tbody>\n",
       "</table>\n",
       "</div>"
      ],
      "text/plain": [
       "   station       date  tmax  tmin tavg depart  dewpoint wetbulb heat cool  \\\n",
       "0        1 2007-05-01    83    50   67     14        51      56    0    2   \n",
       "1        2 2007-05-01    84    52   68      M        51      57    0    3   \n",
       "2        1 2007-05-02    59    42   51     -3        42      47   14    0   \n",
       "3        2 2007-05-02    60    43   52      M        42      47   13    0   \n",
       "4        1 2007-05-03    66    46   56      2        40      48    9    0   \n",
       "\n",
       "  sunrise sunset codesum depth water1 snowfall preciptotal stnpressure  \\\n",
       "0    0448   1849             0      M      0.0        0.00       29.10   \n",
       "1       -      -             M      M        M        0.00       29.18   \n",
       "2    0447   1850      BR     0      M      0.0        0.00       29.38   \n",
       "3       -      -   BR HZ     M      M        M        0.00       29.44   \n",
       "4    0446   1851             0      M      0.0        0.00       29.39   \n",
       "\n",
       "  sealevel  resultspeed  resultdir avgspeed  year  month  \n",
       "0    29.82          1.7         27      9.2  2007      5  \n",
       "1    29.82          2.7         25      9.6  2007      5  \n",
       "2    30.09         13.0          4     13.4  2007      5  \n",
       "3    30.08         13.3          2     13.4  2007      5  \n",
       "4    30.12         11.7          7     11.9  2007      5  "
      ]
     },
     "execution_count": 84,
     "metadata": {},
     "output_type": "execute_result"
    }
   ],
   "source": [
    "weather.head()"
   ]
  },
  {
   "cell_type": "code",
   "execution_count": null,
   "metadata": {},
   "outputs": [],
   "source": [
    "drop depart\n",
    "drop heat cool sunrise sunset, depth water1\n",
    "add lat long \n",
    "\n",
    "Station 1:  Lat: 41.995 Lon: -87.933 \n",
    "Station 2:  Lat: 41.786 Lon: -87.752 "
   ]
  },
  {
   "cell_type": "code",
   "execution_count": null,
   "metadata": {},
   "outputs": [],
   "source": []
  },
  {
   "cell_type": "code",
   "execution_count": null,
   "metadata": {},
   "outputs": [],
   "source": []
  },
  {
   "cell_type": "code",
   "execution_count": null,
   "metadata": {},
   "outputs": [],
   "source": []
  },
  {
   "cell_type": "code",
   "execution_count": null,
   "metadata": {},
   "outputs": [],
   "source": []
  },
  {
   "cell_type": "code",
   "execution_count": 71,
   "metadata": {},
   "outputs": [],
   "source": [
    "\n",
    "# We need to create one line per date:\n",
    "station1 = weather[weather['station']==1]\n",
    "station2 = weather[weather['station']==2]\n",
    "station1 = station1.drop('station', axis=1)\n",
    "station2 = station2.drop('station', axis=1)"
   ]
  },
  {
   "cell_type": "code",
   "execution_count": 77,
   "metadata": {},
   "outputs": [
    {
     "data": {
      "text/plain": [
       "Index(['date', 'tmax', 'tmin', 'tavg', 'depart', 'dewpoint', 'wetbulb', 'heat',\n",
       "       'cool', 'sunrise', 'sunset', 'codesum', 'depth', 'water1', 'snowfall',\n",
       "       'preciptotal', 'stnpressure', 'sealevel', 'resultspeed', 'resultdir',\n",
       "       'avgspeed', 'year', 'month'],\n",
       "      dtype='object')"
      ]
     },
     "execution_count": 77,
     "metadata": {},
     "output_type": "execute_result"
    }
   ],
   "source": [
    "station2.columns"
   ]
  },
  {
   "cell_type": "code",
   "execution_count": null,
   "metadata": {},
   "outputs": [],
   "source": [
    "station1.columns = ['date', 'st1_tmax', 'st1_tmin', 'st1_tavg', 'st1_dewpoint', 'st1_wetbulb', 'st1_codesum',\n",
    "       'st1_snowfall', 'st1_preciptotal', 'st1_stnpressure', 'st1_sealevel', 'st1_resultspeed',\n",
    "       'st1_resultdir', 'st1_avgspeed', 'st1_year', 'st1_month']\n",
    "station2.columns = ['date', 'st2_tmax', 'st2_tmin', 'st2_tavg', 'st2_dewpoint', 'st2_wetbulb', 'st2_codesum',\n",
    "       'st2_snowfall', 'st2_preciptotal', 'st2_stnpressure', 'st2_sealevel', 'st2_resultspeed',\n",
    "       'st2_resultdir', 'st2_avgspeed', 'st2_year', 'st2_month']"
   ]
  },
  {
   "cell_type": "code",
   "execution_count": null,
   "metadata": {},
   "outputs": [],
   "source": [
    "train = pd.merge(train, weather, how='left', on='Date')"
   ]
  },
  {
   "cell_type": "code",
   "execution_count": null,
   "metadata": {},
   "outputs": [],
   "source": []
  },
  {
   "cell_type": "code",
   "execution_count": null,
   "metadata": {},
   "outputs": [],
   "source": []
  },
  {
   "cell_type": "markdown",
   "metadata": {},
   "source": [
    "****"
   ]
  },
  {
   "cell_type": "markdown",
   "metadata": {},
   "source": [
    "## SPRAY EDA\n"
   ]
  },
  {
   "cell_type": "code",
   "execution_count": null,
   "metadata": {},
   "outputs": [],
   "source": [
    "\n",
    "final_df = pd.get_dummies(train, columns=['Species'])"
   ]
  },
  {
   "cell_type": "code",
   "execution_count": null,
   "metadata": {},
   "outputs": [],
   "source": [
    "#our two origins (the locations with the most WNV activity) are Chicago O'Hare and Doty Ave.\n",
    "#the following values are their latitudes and longitudes\n",
    "ohare_lon = -87.890615\n",
    "ohare_lat = 41.974689\n",
    "doty_lon =-87.599862\n",
    "doty_lat=41.673408"
   ]
  },
  {
   "cell_type": "code",
   "execution_count": null,
   "metadata": {},
   "outputs": [],
   "source": [
    "lat = train.Latitude\n",
    "lon = train.Longitude\n"
   ]
  },
  {
   "cell_type": "code",
   "execution_count": null,
   "metadata": {},
   "outputs": [],
   "source": [
    "\n",
    "#haversine takes two lat and longs and creates a distance, from the mean, in miles\n",
    "from math import radians, cos, sin, asin, sqrt\n",
    "def haversine(lon1, lat1, lon2, lat2):\n",
    "    \"\"\"\n",
    "    Calculate the great circle distance between two points \n",
    "    on the earth (specified in decimal degrees)\n",
    "    \"\"\"\n",
    "    # convert decimal degrees to radians \n",
    "    lon1, lat1, lon2, lat2 = map(radians, [lon1, lat1, lon2, lat2])\n",
    "    # haversine formula \n",
    "    dlon = lon2 - lon1 \n",
    "    dlat = lat2 - lat1 \n",
    "    a = sin(dlat/2)**2 + cos(lat1) * cos(lat2) * sin(dlon/2)**2\n",
    "    c = 2 * asin(sqrt(a)) \n",
    "    mi = 3956   * c #Radius of earth in miles. Use 6367 for kilometers\n",
    "    return mi, dlon, dlat"
   ]
  },
  {
   "cell_type": "code",
   "execution_count": null,
   "metadata": {},
   "outputs": [],
   "source": [
    "\n",
    "#apply haversine function to training dataset, creating a column called 'dist_from_ohare_MI'\n",
    "final_df['dist_from_ohare_MI'] = [haversine(y, x, ohare_lon, ohare_lat)[0] for y, x in zip(lon, lat)]\n",
    "#apply haversine function to training dataset, creating a column called 'dist_from_doty_MI'\n",
    "final_df['dist_from_doty_MI'] = [haversine(y, x, doty_lon, doty_lat)[0] for y, x in zip(lon, lat)]"
   ]
  },
  {
   "cell_type": "code",
   "execution_count": 80,
   "metadata": {},
   "outputs": [],
   "source": [
    "# Get a lat and long for each trap\n",
    "trap_locs = train.groupby(['trap'], as_index=False)['latitude', 'longitude'].mean().dropna().reset_index().drop('index', 1)"
   ]
  },
  {
   "cell_type": "code",
   "execution_count": 82,
   "metadata": {},
   "outputs": [
    {
     "data": {
      "text/html": [
       "<div>\n",
       "<style scoped>\n",
       "    .dataframe tbody tr th:only-of-type {\n",
       "        vertical-align: middle;\n",
       "    }\n",
       "\n",
       "    .dataframe tbody tr th {\n",
       "        vertical-align: top;\n",
       "    }\n",
       "\n",
       "    .dataframe thead th {\n",
       "        text-align: right;\n",
       "    }\n",
       "</style>\n",
       "<table border=\"1\" class=\"dataframe\">\n",
       "  <thead>\n",
       "    <tr style=\"text-align: right;\">\n",
       "      <th></th>\n",
       "      <th>trap</th>\n",
       "      <th>latitude</th>\n",
       "      <th>longitude</th>\n",
       "    </tr>\n",
       "  </thead>\n",
       "  <tbody>\n",
       "    <tr>\n",
       "      <th>0</th>\n",
       "      <td>T001</td>\n",
       "      <td>41.953705</td>\n",
       "      <td>-87.733974</td>\n",
       "    </tr>\n",
       "    <tr>\n",
       "      <th>1</th>\n",
       "      <td>T002</td>\n",
       "      <td>41.954690</td>\n",
       "      <td>-87.800991</td>\n",
       "    </tr>\n",
       "    <tr>\n",
       "      <th>2</th>\n",
       "      <td>T003</td>\n",
       "      <td>41.964242</td>\n",
       "      <td>-87.757639</td>\n",
       "    </tr>\n",
       "    <tr>\n",
       "      <th>3</th>\n",
       "      <td>T004</td>\n",
       "      <td>41.962728</td>\n",
       "      <td>-87.748367</td>\n",
       "    </tr>\n",
       "    <tr>\n",
       "      <th>4</th>\n",
       "      <td>T005</td>\n",
       "      <td>41.942114</td>\n",
       "      <td>-87.776385</td>\n",
       "    </tr>\n",
       "  </tbody>\n",
       "</table>\n",
       "</div>"
      ],
      "text/plain": [
       "   trap   latitude  longitude\n",
       "0  T001  41.953705 -87.733974\n",
       "1  T002  41.954690 -87.800991\n",
       "2  T003  41.964242 -87.757639\n",
       "3  T004  41.962728 -87.748367\n",
       "4  T005  41.942114 -87.776385"
      ]
     },
     "execution_count": 82,
     "metadata": {},
     "output_type": "execute_result"
    }
   ],
   "source": [
    "trap_locs.head()"
   ]
  },
  {
   "cell_type": "code",
   "execution_count": 83,
   "metadata": {},
   "outputs": [],
   "source": [
    "trap_name = np.array(trap_locs.trap)\n",
    "trap_lat = np.array(trap_locs.latitude)\n",
    "trap_lon = np.array(trap_locs.longitude)"
   ]
  },
  {
   "cell_type": "code",
   "execution_count": null,
   "metadata": {},
   "outputs": [],
   "source": [
    "# this should go through each trap and check to see if the spray truck is close\n",
    "def check_traps(row):\n",
    "    distance = [haversine(lon1=row['longitude'], lat1=row['Latitude'], lon2=trap_lon[i], lat2=trap_lat[i])[0] for i in range(len(trap_name))]\n",
    "    for a, b in enumerate(distance):\n",
    "        if b < 1:\n",
    "            spray.set_value(row.name,trap_name[a],1)\n",
    "            break \n",
    "        else:\n",
    "            spray.set_value(row.name,trap_name[a],0)"
   ]
  },
  {
   "cell_type": "code",
   "execution_count": null,
   "metadata": {},
   "outputs": [],
   "source": [
    "# create groupby on days and note if the truck was within a mile\n",
    "spray_days = spray.groupby('Date', as_index=False)[trap_name].max()"
   ]
  },
  {
   "cell_type": "code",
   "execution_count": null,
   "metadata": {},
   "outputs": [],
   "source": [
    "spray.Date.unique()"
   ]
  },
  {
   "cell_type": "code",
   "execution_count": null,
   "metadata": {},
   "outputs": [],
   "source": [
    "spray_days"
   ]
  },
  {
   "cell_type": "code",
   "execution_count": null,
   "metadata": {},
   "outputs": [],
   "source": [
    "from datetime import timedelta\n",
    "spray_weeks = []\n",
    "for i in spray.Date.unique():\n",
    "    spray_weeks.append([pd.to_datetime(i) + timedelta(days=a) for a in range(1,15)])"
   ]
  },
  {
   "cell_type": "code",
   "execution_count": null,
   "metadata": {},
   "outputs": [],
   "source": [
    "final_df[final_df['Date']=='2011-09-01'].head()"
   ]
  },
  {
   "cell_type": "code",
   "execution_count": null,
   "metadata": {},
   "outputs": [],
   "source": [
    "\n",
    "final_df['sprayed_14days'] = 0\n",
    "def spray_truck(row):\n",
    "    for num, i in enumerate(spray_weeks):\n",
    "        if row['Date'] not in i:\n",
    "            continue\n",
    "        else:\n",
    "            if spray_days.iloc[num][row['Trap']] == 1:\n",
    "                return 1\n",
    "            else:\n",
    "                continue"
   ]
  },
  {
   "cell_type": "code",
   "execution_count": null,
   "metadata": {},
   "outputs": [],
   "source": [
    "\n",
    "final_df['sprayed_14days'] = final_df.apply(spray_truck, axis=1)"
   ]
  },
  {
   "cell_type": "code",
   "execution_count": null,
   "metadata": {},
   "outputs": [],
   "source": [
    "final_df['sprayed_14days'] = final_df['sprayed_14days'].fillna(0)\n",
    "final_df['sprayed_14days'].value_counts()"
   ]
  },
  {
   "cell_type": "code",
   "execution_count": null,
   "metadata": {},
   "outputs": [],
   "source": [
    "#Spray was not a good predictor for WNV, but maybe mosquitoes?"
   ]
  },
  {
   "cell_type": "code",
   "execution_count": null,
   "metadata": {},
   "outputs": [],
   "source": [
    "# These are the days we're looking at:\n",
    "spray.Date.unique()"
   ]
  },
  {
   "cell_type": "code",
   "execution_count": null,
   "metadata": {},
   "outputs": [],
   "source": [
    "\n",
    "mosquitoes = train.groupby(['Date', 'Trap'], as_index=False)['NumMosquitos'].sum().dropna()"
   ]
  },
  {
   "cell_type": "code",
   "execution_count": null,
   "metadata": {},
   "outputs": [],
   "source": [
    "mosquitoes['sprayed_14days'] = mosquitoes.apply(spray_truck, axis=1).fillna(0)"
   ]
  },
  {
   "cell_type": "code",
   "execution_count": null,
   "metadata": {},
   "outputs": [],
   "source": [
    "# These two traps were sprayed in 2011\n",
    "mosquitoes[(mosquitoes['Date'] > '2011') & (mosquitoes['Date'] < '2012') & (mosquitoes['sprayed_14days']==1)]\n",
    "# T002 & T233"
   ]
  },
  {
   "cell_type": "code",
   "execution_count": null,
   "metadata": {},
   "outputs": [],
   "source": [
    "mosquitoes2011 = mosquitoes[(mosquitoes['Date'] > '2011') & (mosquitoes['Date'] < '2012')]"
   ]
  },
  {
   "cell_type": "code",
   "execution_count": null,
   "metadata": {},
   "outputs": [],
   "source": [
    "# Averages in all other traps; unfortunately it is hard to compare one trap to another\n",
    "mosquitoes2011[(mosquitoes2011['Trap'] != 'T002') | (mosquitoes2011['Trap'] != 'T233')].groupby('Date')['NumMosquitos'].mean()"
   ]
  },
  {
   "cell_type": "code",
   "execution_count": null,
   "metadata": {},
   "outputs": [],
   "source": [
    "\n",
    "#Averages of the two sprayed traps\n",
    "mosquitoes2011[(mosquitoes2011['Trap'] == 'T002') | (mosquitoes2011['Trap'] == 'T233')].groupby('Date')['NumMosquitos'].mean()"
   ]
  },
  {
   "cell_type": "code",
   "execution_count": null,
   "metadata": {},
   "outputs": [],
   "source": [
    "\n",
    "mosquitoes[(mosquitoes['Date'] > '2011') & (mosquitoes['Date'] < '2012') & (mosquitoes['Trap']=='T223')]"
   ]
  },
  {
   "cell_type": "code",
   "execution_count": null,
   "metadata": {},
   "outputs": [],
   "source": [
    "#traps spreadyed in 2013\n",
    "sprayed_2013=list(mosquitoes[(mosquitoes['Date'] > '2013') & (mosquitoes['Date'] < '2014') & (mosquitoes['sprayed_14days']==1)]['Trap'].unique())"
   ]
  },
  {
   "cell_type": "code",
   "execution_count": null,
   "metadata": {},
   "outputs": [],
   "source": [
    "mosquitoes2013 = mosquitoes[(mosquitoes['Date'] > '2013') & (mosquitoes['Date'] < '2014')]"
   ]
  },
  {
   "cell_type": "code",
   "execution_count": null,
   "metadata": {},
   "outputs": [],
   "source": [
    "\n",
    "spray.Date.unique()[2:]"
   ]
  },
  {
   "cell_type": "code",
   "execution_count": null,
   "metadata": {},
   "outputs": [],
   "source": [
    "unsprayed_traps_2013 = mosquitoes2013[mosquitoes2013['Trap'].isin(sprayed_2013)].groupby('Date')['NumMosquitos'].mean()\n",
    "unsprayed_traps_2013"
   ]
  },
  {
   "cell_type": "code",
   "execution_count": null,
   "metadata": {},
   "outputs": [],
   "source": [
    "sprayed_traps_2013 = mosquitoes2013[~mosquitoes2013['Trap'].isin(sprayed_2013)].groupby('Date')['NumMosquitos'].mean()\n",
    "sprayed_traps_2013"
   ]
  },
  {
   "cell_type": "code",
   "execution_count": null,
   "metadata": {},
   "outputs": [],
   "source": [
    "after_sprays = unsprayed_traps_2013.copy()\n",
    "for i in range(len(after_sprays)):\n",
    "    after_sprays[i]=0\n",
    "after_sprays[7] = 50\n",
    "after_sprays[8] = 50\n",
    "after_sprays[10] = 50\n",
    "after_sprays[12] = 50\n",
    "after_sprays[13] = 50\n",
    "after_sprays[14] = 50"
   ]
  },
  {
   "cell_type": "code",
   "execution_count": null,
   "metadata": {},
   "outputs": [],
   "source": [
    "after_sprays[[7,8,10,12,13,14]]"
   ]
  },
  {
   "cell_type": "code",
   "execution_count": null,
   "metadata": {},
   "outputs": [],
   "source": [
    "fig, ax = plt.subplots()\n",
    "import matplotlib.lines as mlines\n",
    "sns.pointplot(unsprayed_traps_2013.index, unsprayed_traps_2013.values, color='blue')\n",
    "sns.pointplot(sprayed_traps_2013.index, sprayed_traps_2013.values, color='r')\n",
    "sns.pointplot(after_sprays.index, after_sprays.values, linestyles='', color='black')\n",
    "\n",
    "plt.xticks(rotation=45)\n",
    "blue_line = mlines.Line2D([],[],color='blue', label='Unsprayed Traps')\n",
    "red_line = mlines.Line2D([],[],color='red', label='Sprayed Traps')\n",
    "black_line = mlines.Line2D([],[],color='black', label='Spray Days')\n",
    "plt.ylabel('Average Mosquitos in Trap')\n",
    "plt.legend(handles=[blue_line, red_line, black_line])"
   ]
  },
  {
   "cell_type": "code",
   "execution_count": null,
   "metadata": {},
   "outputs": [],
   "source": [
    "print(list(final_df.columns))"
   ]
  },
  {
   "cell_type": "markdown",
   "metadata": {},
   "source": [
    "## Test Model"
   ]
  },
  {
   "cell_type": "code",
   "execution_count": null,
   "metadata": {},
   "outputs": [],
   "source": [
    "from sklearn.model_selection import train_test_split, cross_val_score"
   ]
  },
  {
   "cell_type": "code",
   "execution_count": null,
   "metadata": {},
   "outputs": [],
   "source": [
    "df_train, df_test = train_test_split(final_df.drop(['Date', 'Address', 'Block', 'Street', 'AddressNumberAndStreet', 'NumMosquitos', 'st1_CodeSum', 'st2_CodeSum'], 1), test_size=0.3, random_state=42)"
   ]
  },
  {
   "cell_type": "code",
   "execution_count": null,
   "metadata": {},
   "outputs": [],
   "source": [
    "test_features = final_df[['sprayed_14days', 'Latitude', 'Longitude', 'WnvPresent', 'st1_Tmax', 'st1_Tmin', 'st1_Tavg', 'st1_DewPoint', 'st1_WetBulb', 'st1_SnowFall', 'st1_PrecipTotal', 'st1_StnPressure', 'st1_SeaLevel', 'st1_ResultSpeed', 'st1_ResultDir', 'st1_AvgSpeed', 'st2_Tmax', 'st2_Tmin', 'st2_Tavg', 'st2_DewPoint', 'st2_WetBulb', 'st2_SnowFall', 'st2_PrecipTotal', 'st2_StnPressure', 'st2_SeaLevel', 'st2_ResultSpeed', 'st2_ResultDir', 'st2_AvgSpeed', 'precip_avg', '2wk_precip', '4wk_precip', '90day_precip', 'temp_avg', '2wk_tavg', '4wk_tavg', '90day_tavg', 'tempmin_avg', '2wk_mintemp', '4wk_mintemp', 'dew_avg', '2wk_dew', '4wk_dew', 'Species_CULEX ERRATICUS', 'Species_CULEX PIPIENS', 'Species_CULEX PIPIENS/RESTUANS', 'Species_CULEX RESTUANS', 'Species_CULEX SALINARIUS', 'Species_CULEX TARSALIS', 'Species_CULEX TERRITANS', 'Month', 'Day', 'dist_from_ohare_MI', 'dist_from_doty_MI']]"
   ]
  },
  {
   "cell_type": "code",
   "execution_count": null,
   "metadata": {},
   "outputs": [],
   "source": [
    "\n",
    "df_train, df_test = train_test_split(test_features, test_size=0.3, random_state=42)"
   ]
  },
  {
   "cell_type": "code",
   "execution_count": null,
   "metadata": {},
   "outputs": [],
   "source": [
    "\n",
    "from sklearn.metrics import confusion_matrix, accuracy_score, precision_score, roc_auc_score\n",
    "\n",
    "def eval_sklearn_model(y_true, predictions, model=None, X=None):\n",
    "    \"\"\"This function takes the true values for y and the predictions made by the model and prints out the confusion matrix along with Accuracy, Precision, and, if model and X provided, Roc_Auc Scores.\"\"\"\n",
    "    cnf_matrix = confusion_matrix(y_true, predictions)\n",
    "\n",
    "    print('True Negative: ', cnf_matrix[0, 0], '| False Positive: ', cnf_matrix[0, 1])\n",
    "    print('False Negative: ', cnf_matrix[1, 0], '| True Positive: ', cnf_matrix[1, 1], '\\n')\n",
    "\n",
    "    sensitivity = cnf_matrix[1, 1]/ (cnf_matrix[1, 0] + cnf_matrix[1, 1])\n",
    "    specificity = cnf_matrix[0, 0]/ (cnf_matrix[0, 1] + cnf_matrix[0, 0])\n",
    "\n",
    "    print('Sensitivity (TP/ TP + FN): ', sensitivity)\n",
    "    print('Specificity (TN/ TN + FP): ', specificity, '\\n')\n",
    "\n",
    "    print('Accuracy: ', accuracy_score(y_true, predictions, normalize=True))\n",
    "    print('Precision: ', precision_score(y_true, predictions))\n",
    "    if model != None:\n",
    "        print('Roc-Auc: ', roc_auc_score(y_true, [x[1] for x in model.predict_proba(X)]))\n",
    "    else:\n",
    "        pass\n",
    "    print('\\n')"
   ]
  },
  {
   "cell_type": "code",
   "execution_count": null,
   "metadata": {},
   "outputs": [],
   "source": [
    "from xgboost import XGBClassifier"
   ]
  },
  {
   "cell_type": "code",
   "execution_count": null,
   "metadata": {},
   "outputs": [],
   "source": [
    "df_train.WnvPresent.value_counts()"
   ]
  },
  {
   "cell_type": "code",
   "execution_count": null,
   "metadata": {},
   "outputs": [],
   "source": [
    "\n",
    "xgb = XGBClassifier(scale_pos_weight=(6969/385), objective='binary:logistic')\n",
    "# make sure to pick the correct objective for the problem\n",
    "# scale_pos_weight is supposed to help with unbalanced classes; it recommended number of negative cases divided by positive\n",
    "xgb.fit(df_train.drop('WnvPresent', 1), df_train.WnvPresent)"
   ]
  },
  {
   "cell_type": "code",
   "execution_count": null,
   "metadata": {},
   "outputs": [],
   "source": [
    "test_predictions = xgb.predict(df_test.drop('WnvPresent', 1))\n",
    "eval_sklearn_model(df_test.WnvPresent, test_predictions)"
   ]
  },
  {
   "cell_type": "code",
   "execution_count": null,
   "metadata": {},
   "outputs": [],
   "source": [
    "feature_import = xgb.feature_importances_"
   ]
  },
  {
   "cell_type": "code",
   "execution_count": null,
   "metadata": {},
   "outputs": [],
   "source": [
    "\n",
    "features = df_test.drop('WnvPresent', 1).columns"
   ]
  },
  {
   "cell_type": "code",
   "execution_count": null,
   "metadata": {},
   "outputs": [],
   "source": [
    "pd.set_option('display.max_rows',60)"
   ]
  },
  {
   "cell_type": "code",
   "execution_count": null,
   "metadata": {},
   "outputs": [],
   "source": [
    "pd.DataFrame(columns=['feature', 'import'], data=list(zip(features, feature_import))).sort_values('import',ascending=False)"
   ]
  },
  {
   "cell_type": "code",
   "execution_count": null,
   "metadata": {},
   "outputs": [],
   "source": [
    "\n",
    "# Run on full data\n",
    "final_df.WnvPresent.value_counts()"
   ]
  },
  {
   "cell_type": "code",
   "execution_count": null,
   "metadata": {},
   "outputs": [],
   "source": [
    "\n",
    "xgb = XGBClassifier(scale_pos_weight=(9955/551), objective='binary:logistic')\n",
    "xgb.fit(test_features.drop('WnvPresent', 1), test_features.WnvPresent)"
   ]
  },
  {
   "cell_type": "markdown",
   "metadata": {},
   "source": [
    "## Prep test"
   ]
  },
  {
   "cell_type": "code",
   "execution_count": null,
   "metadata": {},
   "outputs": [],
   "source": [
    "test[\"Date\"] = pd.to_datetime(test[\"Date\"], infer_datetime_format=True)"
   ]
  },
  {
   "cell_type": "code",
   "execution_count": null,
   "metadata": {},
   "outputs": [],
   "source": [
    "test['Address'] = test['Address'].astype('category')\n",
    "test['Species'] = test['Species'].astype('category')\n",
    "test['Street'] = test['Street'].astype('category')\n",
    "test['Trap'] = test['Trap'].astype('category')\n",
    "test['AddressNumberAndStreet'] = test['AddressNumberAndStreet'].astype('category')"
   ]
  },
  {
   "cell_type": "code",
   "execution_count": null,
   "metadata": {},
   "outputs": [],
   "source": [
    "\n",
    "test = pd.merge(test, weather, how='left', on='Date')"
   ]
  },
  {
   "cell_type": "code",
   "execution_count": null,
   "metadata": {},
   "outputs": [],
   "source": [
    "\n",
    "test = pd.get_dummies(test, columns=['Species'])"
   ]
  },
  {
   "cell_type": "code",
   "execution_count": null,
   "metadata": {},
   "outputs": [],
   "source": [
    "test['Month'] = test['Date'].dt.month\n",
    "test[\"Day\"] = test['Date'].dt.dayofyear"
   ]
  },
  {
   "cell_type": "code",
   "execution_count": null,
   "metadata": {},
   "outputs": [],
   "source": [
    "lat = test.Latitude\n",
    "lon = test.Longitude"
   ]
  },
  {
   "cell_type": "code",
   "execution_count": null,
   "metadata": {},
   "outputs": [],
   "source": [
    "#apply haversine function to training dataset, creating a column called 'dist_from_ohare_MI'\n",
    "test['dist_from_ohare_MI'] = [haversine(y, x, ohare_lon, ohare_lat)[0] for y, x in zip(lon, lat)]\n",
    "#apply haversine function to training dataset, creating a column called 'dist_from_doty_MI'\n",
    "test['dist_from_doty_MI'] = [haversine(y, x, doty_lon, doty_lat)[0] for y, x in zip(lon, lat)]"
   ]
  },
  {
   "cell_type": "code",
   "execution_count": null,
   "metadata": {},
   "outputs": [],
   "source": [
    "#predictions = xgb.predict(test.drop(['Date', 'Address', 'Block', 'Street', 'AddressNumberAndStreet', 'st1_CodeSum', 'st2_CodeSum'], 1))\n",
    "# ValueError: test data apparently has more damn columns!"
   ]
  },
  {
   "cell_type": "code",
   "execution_count": null,
   "metadata": {},
   "outputs": [],
   "source": [
    "test.drop(['Date', 'Address', 'Block', 'Street', 'AddressNumberAndStreet', 'st1_CodeSum', 'st2_CodeSum'], 1).shape\n",
    "# 6 more columns!"
   ]
  },
  {
   "cell_type": "code",
   "execution_count": null,
   "metadata": {},
   "outputs": [],
   "source": [
    "\n",
    "for i in test.columns:\n",
    "    if i in final_df.columns:\n",
    "        pass\n",
    "    else:\n",
    "        print(i)"
   ]
  },
  {
   "cell_type": "code",
   "execution_count": null,
   "metadata": {},
   "outputs": [],
   "source": [
    "pred_features = test[['Latitude', 'Longitude', 'st1_Tmax', 'st1_Tmin', 'st1_Tavg', 'st1_DewPoint', 'st1_WetBulb', 'st1_SnowFall', 'st1_PrecipTotal', 'st1_StnPressure', 'st1_SeaLevel', 'st1_ResultSpeed', 'st1_ResultDir', 'st1_AvgSpeed', 'st2_Tmax', 'st2_Tmin', 'st2_Tavg', 'st2_DewPoint', 'st2_WetBulb', 'st2_SnowFall', 'st2_PrecipTotal', 'st2_StnPressure', 'st2_SeaLevel', 'st2_ResultSpeed', 'st2_ResultDir', 'st2_AvgSpeed', 'precip_avg', '2wk_precip', '4wk_precip', '90day_precip', 'temp_avg', '2wk_tavg', '4wk_tavg', '90day_tavg', 'tempmin_avg', '2wk_mintemp', '4wk_mintemp', 'dew_avg', '2wk_dew', '4wk_dew', 'Species_CULEX ERRATICUS', 'Species_CULEX PIPIENS', 'Species_CULEX PIPIENS/RESTUANS', 'Species_CULEX RESTUANS', 'Species_CULEX SALINARIUS', 'Species_CULEX TARSALIS', 'Species_CULEX TERRITANS', 'Month', 'Day', 'dist_from_ohare_MI', 'dist_from_doty_MI']]"
   ]
  },
  {
   "cell_type": "code",
   "execution_count": null,
   "metadata": {},
   "outputs": [],
   "source": [
    "# fuck it, drop them and sort it later!\n",
    "predictions = xgb.predict(pred_features)"
   ]
  },
  {
   "cell_type": "code",
   "execution_count": null,
   "metadata": {},
   "outputs": [],
   "source": [
    "submission = pd.DataFrame(columns=['Id', 'WnvPresent'], data=list(zip(test.Id, predictions)))"
   ]
  },
  {
   "cell_type": "code",
   "execution_count": null,
   "metadata": {},
   "outputs": [],
   "source": []
  },
  {
   "cell_type": "code",
   "execution_count": null,
   "metadata": {},
   "outputs": [],
   "source": []
  },
  {
   "cell_type": "code",
   "execution_count": null,
   "metadata": {},
   "outputs": [],
   "source": []
  },
  {
   "cell_type": "code",
   "execution_count": null,
   "metadata": {},
   "outputs": [],
   "source": []
  },
  {
   "cell_type": "code",
   "execution_count": null,
   "metadata": {},
   "outputs": [],
   "source": []
  },
  {
   "cell_type": "code",
   "execution_count": null,
   "metadata": {},
   "outputs": [],
   "source": []
  }
 ],
 "metadata": {
  "kernelspec": {
   "display_name": "Python 3",
   "language": "python",
   "name": "python3"
  },
  "language_info": {
   "codemirror_mode": {
    "name": "ipython",
    "version": 3
   },
   "file_extension": ".py",
   "mimetype": "text/x-python",
   "name": "python",
   "nbconvert_exporter": "python",
   "pygments_lexer": "ipython3",
   "version": "3.7.6"
  }
 },
 "nbformat": 4,
 "nbformat_minor": 4
}
